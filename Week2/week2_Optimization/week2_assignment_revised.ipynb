{
 "cells": [
  {
   "cell_type": "markdown",
   "metadata": {},
   "source": [
    "# Tobig's 15기 2주차 Optimization 과제"
   ]
  },
  {
   "cell_type": "markdown",
   "metadata": {},
   "source": [
    "# Gradient Descent 구현하기\n",
    "\n",
    "### 1)\"...\"표시되어 있는 빈 칸을 채워주세요\n",
    "### 2)강의내용과 코드에 대해 공부한 내용을 마크마운 또는 주석으로 설명해주세요"
   ]
  },
  {
   "cell_type": "markdown",
   "metadata": {},
   "source": [
    "## 데이터"
   ]
  },
  {
   "cell_type": "code",
   "execution_count": 34,
   "metadata": {},
   "outputs": [],
   "source": [
    "import pandas as pd\n",
    "import numpy as np\n",
    "import random"
   ]
  },
  {
   "cell_type": "code",
   "execution_count": 35,
   "metadata": {},
   "outputs": [
    {
     "output_type": "execute_result",
     "data": {
      "text/plain": [
       "   Label  bias  experience  salary\n",
       "0      1     1         0.7   48000\n",
       "1      0     1         1.9   48000\n",
       "2      1     1         2.5   60000\n",
       "3      0     1         4.2   63000\n",
       "4      0     1         6.0   76000"
      ],
      "text/html": "<div>\n<style scoped>\n    .dataframe tbody tr th:only-of-type {\n        vertical-align: middle;\n    }\n\n    .dataframe tbody tr th {\n        vertical-align: top;\n    }\n\n    .dataframe thead th {\n        text-align: right;\n    }\n</style>\n<table border=\"1\" class=\"dataframe\">\n  <thead>\n    <tr style=\"text-align: right;\">\n      <th></th>\n      <th>Label</th>\n      <th>bias</th>\n      <th>experience</th>\n      <th>salary</th>\n    </tr>\n  </thead>\n  <tbody>\n    <tr>\n      <th>0</th>\n      <td>1</td>\n      <td>1</td>\n      <td>0.7</td>\n      <td>48000</td>\n    </tr>\n    <tr>\n      <th>1</th>\n      <td>0</td>\n      <td>1</td>\n      <td>1.9</td>\n      <td>48000</td>\n    </tr>\n    <tr>\n      <th>2</th>\n      <td>1</td>\n      <td>1</td>\n      <td>2.5</td>\n      <td>60000</td>\n    </tr>\n    <tr>\n      <th>3</th>\n      <td>0</td>\n      <td>1</td>\n      <td>4.2</td>\n      <td>63000</td>\n    </tr>\n    <tr>\n      <th>4</th>\n      <td>0</td>\n      <td>1</td>\n      <td>6.0</td>\n      <td>76000</td>\n    </tr>\n  </tbody>\n</table>\n</div>"
     },
     "metadata": {},
     "execution_count": 35
    }
   ],
   "source": [
    "data = pd.read_csv('assignment_2.csv')\n",
    "data.head()"
   ]
  },
  {
   "cell_type": "code",
   "execution_count": 36,
   "metadata": {},
   "outputs": [
    {
     "output_type": "execute_result",
     "data": {
      "text/plain": [
       "            Label   bias  experience         salary\n",
       "count  200.000000  200.0  200.000000     200.000000\n",
       "mean     0.260000    1.0    4.998000   66700.000000\n",
       "std      0.439735    0.0    2.847373   15536.955459\n",
       "min      0.000000    1.0    0.100000   30000.000000\n",
       "25%      0.000000    1.0    2.500000   56000.000000\n",
       "50%      0.000000    1.0    5.100000   65000.000000\n",
       "75%      1.000000    1.0    7.425000   77250.000000\n",
       "max      1.000000    1.0   10.000000  107000.000000"
      ],
      "text/html": "<div>\n<style scoped>\n    .dataframe tbody tr th:only-of-type {\n        vertical-align: middle;\n    }\n\n    .dataframe tbody tr th {\n        vertical-align: top;\n    }\n\n    .dataframe thead th {\n        text-align: right;\n    }\n</style>\n<table border=\"1\" class=\"dataframe\">\n  <thead>\n    <tr style=\"text-align: right;\">\n      <th></th>\n      <th>Label</th>\n      <th>bias</th>\n      <th>experience</th>\n      <th>salary</th>\n    </tr>\n  </thead>\n  <tbody>\n    <tr>\n      <th>count</th>\n      <td>200.000000</td>\n      <td>200.0</td>\n      <td>200.000000</td>\n      <td>200.000000</td>\n    </tr>\n    <tr>\n      <th>mean</th>\n      <td>0.260000</td>\n      <td>1.0</td>\n      <td>4.998000</td>\n      <td>66700.000000</td>\n    </tr>\n    <tr>\n      <th>std</th>\n      <td>0.439735</td>\n      <td>0.0</td>\n      <td>2.847373</td>\n      <td>15536.955459</td>\n    </tr>\n    <tr>\n      <th>min</th>\n      <td>0.000000</td>\n      <td>1.0</td>\n      <td>0.100000</td>\n      <td>30000.000000</td>\n    </tr>\n    <tr>\n      <th>25%</th>\n      <td>0.000000</td>\n      <td>1.0</td>\n      <td>2.500000</td>\n      <td>56000.000000</td>\n    </tr>\n    <tr>\n      <th>50%</th>\n      <td>0.000000</td>\n      <td>1.0</td>\n      <td>5.100000</td>\n      <td>65000.000000</td>\n    </tr>\n    <tr>\n      <th>75%</th>\n      <td>1.000000</td>\n      <td>1.0</td>\n      <td>7.425000</td>\n      <td>77250.000000</td>\n    </tr>\n    <tr>\n      <th>max</th>\n      <td>1.000000</td>\n      <td>1.0</td>\n      <td>10.000000</td>\n      <td>107000.000000</td>\n    </tr>\n  </tbody>\n</table>\n</div>"
     },
     "metadata": {},
     "execution_count": 36
    }
   ],
   "source": [
    "data.describe() #데이터 각 변수별 통계량 살펴보기"
   ]
  },
  {
   "cell_type": "markdown",
   "metadata": {},
   "source": [
    "## Train Test 데이터 나누기"
   ]
  },
  {
   "cell_type": "code",
   "execution_count": 37,
   "metadata": {},
   "outputs": [],
   "source": [
    "from sklearn.model_selection import train_test_split"
   ]
  },
  {
   "cell_type": "code",
   "execution_count": 38,
   "metadata": {},
   "outputs": [],
   "source": [
    "X_train, X_test, y_train, y_test = train_test_split(data.iloc[:, 1:], data.iloc[:, 0], test_size = 0.25, random_state = 0)"
   ]
  },
  {
   "cell_type": "code",
   "execution_count": 39,
   "metadata": {},
   "outputs": [
    {
     "output_type": "execute_result",
     "data": {
      "text/plain": [
       "((150, 3), (50, 3), (150,), (50,))"
      ]
     },
     "metadata": {},
     "execution_count": 39
    }
   ],
   "source": [
    "X_train.shape, X_test.shape, y_train.shape, y_test.shape"
   ]
  },
  {
   "cell_type": "markdown",
   "metadata": {},
   "source": [
    "## Scaling\n",
    "\n",
    "experience와 salary의 단위, 평균, 분산이 크게 차이나므로 scaler를 사용해 단위를 맞춰줍니다. "
   ]
  },
  {
   "cell_type": "code",
   "execution_count": 40,
   "metadata": {},
   "outputs": [
    {
     "output_type": "execute_result",
     "data": {
      "text/plain": [
       "   bias  experience    salary\n",
       "0     1    0.187893 -1.143335\n",
       "1     1    1.185555  0.043974\n",
       "2     1   -0.310938 -0.351795\n",
       "3     1   -1.629277 -1.341220\n",
       "4     1   -1.308600  0.043974"
      ],
      "text/html": "<div>\n<style scoped>\n    .dataframe tbody tr th:only-of-type {\n        vertical-align: middle;\n    }\n\n    .dataframe tbody tr th {\n        vertical-align: top;\n    }\n\n    .dataframe thead th {\n        text-align: right;\n    }\n</style>\n<table border=\"1\" class=\"dataframe\">\n  <thead>\n    <tr style=\"text-align: right;\">\n      <th></th>\n      <th>bias</th>\n      <th>experience</th>\n      <th>salary</th>\n    </tr>\n  </thead>\n  <tbody>\n    <tr>\n      <th>0</th>\n      <td>1</td>\n      <td>0.187893</td>\n      <td>-1.143335</td>\n    </tr>\n    <tr>\n      <th>1</th>\n      <td>1</td>\n      <td>1.185555</td>\n      <td>0.043974</td>\n    </tr>\n    <tr>\n      <th>2</th>\n      <td>1</td>\n      <td>-0.310938</td>\n      <td>-0.351795</td>\n    </tr>\n    <tr>\n      <th>3</th>\n      <td>1</td>\n      <td>-1.629277</td>\n      <td>-1.341220</td>\n    </tr>\n    <tr>\n      <th>4</th>\n      <td>1</td>\n      <td>-1.308600</td>\n      <td>0.043974</td>\n    </tr>\n  </tbody>\n</table>\n</div>"
     },
     "metadata": {},
     "execution_count": 40
    }
   ],
   "source": [
    "from sklearn.preprocessing import StandardScaler\n",
    "scaler = StandardScaler()\n",
    "bias_train = X_train[\"bias\"]\n",
    "bias_train = bias_train.reset_index()[\"bias\"]\n",
    "X_train = pd.DataFrame(scaler.fit_transform(X_train), columns = X_train.columns)\n",
    "X_train[\"bias\"] = bias_train\n",
    "X_train.head()"
   ]
  },
  {
   "source": [
    "이때 scaler는 X_train에 fit 해주시고, fit한 scaler를 X_test에 적용시켜줍니다.  \n",
    "똑같이 X_test에다 fit하면 안돼요!"
   ],
   "cell_type": "markdown",
   "metadata": {}
  },
  {
   "cell_type": "code",
   "execution_count": 41,
   "metadata": {},
   "outputs": [
    {
     "output_type": "execute_result",
     "data": {
      "text/plain": [
       "   bias  experience    salary\n",
       "0     1   -1.344231 -0.615642\n",
       "1     1    0.508570  0.307821\n",
       "2     1   -0.310938  0.571667\n",
       "3     1    1.363709  1.956862\n",
       "4     1   -0.987923 -0.747565"
      ],
      "text/html": "<div>\n<style scoped>\n    .dataframe tbody tr th:only-of-type {\n        vertical-align: middle;\n    }\n\n    .dataframe tbody tr th {\n        vertical-align: top;\n    }\n\n    .dataframe thead th {\n        text-align: right;\n    }\n</style>\n<table border=\"1\" class=\"dataframe\">\n  <thead>\n    <tr style=\"text-align: right;\">\n      <th></th>\n      <th>bias</th>\n      <th>experience</th>\n      <th>salary</th>\n    </tr>\n  </thead>\n  <tbody>\n    <tr>\n      <th>0</th>\n      <td>1</td>\n      <td>-1.344231</td>\n      <td>-0.615642</td>\n    </tr>\n    <tr>\n      <th>1</th>\n      <td>1</td>\n      <td>0.508570</td>\n      <td>0.307821</td>\n    </tr>\n    <tr>\n      <th>2</th>\n      <td>1</td>\n      <td>-0.310938</td>\n      <td>0.571667</td>\n    </tr>\n    <tr>\n      <th>3</th>\n      <td>1</td>\n      <td>1.363709</td>\n      <td>1.956862</td>\n    </tr>\n    <tr>\n      <th>4</th>\n      <td>1</td>\n      <td>-0.987923</td>\n      <td>-0.747565</td>\n    </tr>\n  </tbody>\n</table>\n</div>"
     },
     "metadata": {},
     "execution_count": 41
    }
   ],
   "source": [
    "bias_test = X_test[\"bias\"]\n",
    "bias_test = bias_test.reset_index()[\"bias\"]\n",
    "X_test = pd.DataFrame(scaler.transform(X_test), columns = X_test.columns)\n",
    "X_test[\"bias\"] = bias_test\n",
    "X_test.head()"
   ]
  },
  {
   "cell_type": "code",
   "execution_count": 42,
   "metadata": {},
   "outputs": [],
   "source": [
    "# parameter 개수\n",
    "N = len(X_train.loc[0])"
   ]
  },
  {
   "cell_type": "code",
   "execution_count": 43,
   "metadata": {},
   "outputs": [
    {
     "output_type": "execute_result",
     "data": {
      "text/plain": [
       "array([0.05585964, 0.92317507, 0.90192345])"
      ]
     },
     "metadata": {},
     "execution_count": 43
    }
   ],
   "source": [
    "# 초기 parameter들을 임의로 설정해줍니다.\n",
    "parameters = np.array([random.random() for i in range(N)])\n",
    "random_parameters = parameters.copy()\n",
    "parameters"
   ]
  },
  {
   "cell_type": "markdown",
   "metadata": {},
   "source": [
    "### * LaTeX   \n",
    "\n",
    "Jupyter Notebook은 LaTeX 문법으로 수식 입력을 지원하고 있습니다.  \n",
    "LaTeX문법으로 아래의 수식을 완성해주세요  \n",
    "http://triki.net/apps/3466  \n",
    "https://jjycjnmath.tistory.com/117"
   ]
  },
  {
   "cell_type": "markdown",
   "metadata": {},
   "source": [
    "## Dot product\n",
    "## $z = X_i \\theta$"
   ]
  },
  {
   "cell_type": "code",
   "execution_count": 44,
   "metadata": {},
   "outputs": [],
   "source": [
    "def dot_product(X, parameters):\n",
    "    z = 0\n",
    "    for i in range(len(parameters)):\n",
    "        z += np.dot(np.transpose(parameters),X)\n",
    "    return z"
   ]
  },
  {
   "cell_type": "markdown",
   "metadata": {},
   "source": [
    "## Logistic Function\n",
    "\n",
    "## $p = 1/(1+e^{-z})$\n",
    "\n"
   ]
  },
  {
   "cell_type": "code",
   "execution_count": 45,
   "metadata": {},
   "outputs": [],
   "source": [
    "def logistic(X, parameters):\n",
    "    z = dot_product(X, parameters)\n",
    "    p = 1/(1+np.exp(-z))    \n",
    "    return p"
   ]
  },
  {
   "cell_type": "code",
   "execution_count": 46,
   "metadata": {},
   "outputs": [
    {
     "output_type": "execute_result",
     "data": {
      "text/plain": [
       "0.9726148861793968"
      ]
     },
     "metadata": {},
     "execution_count": 46
    }
   ],
   "source": [
    "logistic(X_train.iloc[1], parameters)"
   ]
  },
  {
   "cell_type": "markdown",
   "metadata": {},
   "source": [
    "## Object function\n",
    "\n",
    "Object Function : 목적함수는 Gradient Descent를 통해 최적화 하고자 하는 함수입니다.  \n",
    "<br>\n",
    "선형 회귀의 목적함수\n",
    "## $l(\\theta) = \\frac{1}{2}\\Sigma(y_i - \\theta^{T}X_i)^2$  \n",
    "참고) $\\hat{y_i} = \\theta^{T}X_i$\n",
    "  \n",
    "로지스틱 회귀의 목적함수를 작성해주세요  \n",
    "(선형 회귀의 목적함수처럼 강의에 나온대로 작성해주세요. 평균을 고려하는 것은 뒤에 코드에서 수행합니다)\n",
    "\n",
    "Logistic Reression의 목적함수 Negative Log Likelihood = binary Cross Entropy = logistic regression cost function  \n",
    "## $l(p) = -\\Sigma \\begin{Bmatrix}y_{i}log p( X_{i} )+(1-y_{i})log(1-p(X_{i}))\\end{Bmatrix} $  \n"
   ]
  },
  {
   "cell_type": "code",
   "execution_count": 47,
   "metadata": {},
   "outputs": [],
   "source": [
    "def minus_log_cross_entropy_i(X, y, parameters):\n",
    "    p = logistic(X, parameters)\n",
    "    loss = -np.sum(y * np.log(logistic(X, parameters)/(1-logistic(X, parameters)))+np.log(1-logistic(X, parameters)))\n",
    "    return loss"
   ]
  },
  {
   "cell_type": "code",
   "execution_count": 48,
   "metadata": {},
   "outputs": [],
   "source": [
    "def mse_i(X, y, parameters):\n",
    "    y_hat = np.dot(np.transpose(parameters),X) \n",
    "    loss = (1/2)*np.sum((y-y_hat)**2)\n",
    "    return loss"
   ]
  },
  {
   "cell_type": "code",
   "execution_count": 49,
   "metadata": {},
   "outputs": [],
   "source": [
    "def batch_loss(X_set, y_set, parameters, loss_function, n): #n:현재 배치의 데이터 수\n",
    "    loss = 0\n",
    "    for i in range(X_set.shape[0]): #데이터 개수만큼 반복\n",
    "        X = X_set.iloc[i,:] #i번째 row의 데이터 (보든 column)\n",
    "        y = y_set.iloc[i]   #i번째 row\n",
    "        loss += loss_function(X,y,parameters) #loss function -> minus_log_cross_entropy_i\n",
    "    loss = loss/n #loss 평균값으로 계산\n",
    "    return loss"
   ]
  },
  {
   "cell_type": "code",
   "execution_count": 50,
   "metadata": {},
   "outputs": [
    {
     "output_type": "execute_result",
     "data": {
      "text/plain": [
       "3.062613271036209"
      ]
     },
     "metadata": {},
     "execution_count": 50
    }
   ],
   "source": [
    "batch_loss(X_test, y_test, parameters, minus_log_cross_entropy_i, len(X_test))"
   ]
  },
  {
   "cell_type": "markdown",
   "metadata": {},
   "source": [
    "## Gradient\n",
    "위의 선형회귀의 목적함수 $l(\\theta)$와 로지스틱회귀의 목적함수 $l(p)$의 gradient를 작성해주세요  \n",
    "(위의 목적함수를 참고해서 작성해주세요 = 평균을 고려하는 것은 뒤에 코드에서 수행합니다)"
   ]
  },
  {
   "cell_type": "markdown",
   "metadata": {},
   "source": [
    "## ${\\partial\\over{\\partial \\theta_j}}l(\\theta)= -\\Sigma(y_i- \\theta^{T}X_i)X_{ij} $\n",
    "\n",
    "## ${\\partial\\over{\\partial \\theta_j}}l(p)= -\\Sigma  \\begin{pmatrix}y_{i}-p{i}\\end{pmatrix}x_{ij} $"
   ]
  },
  {
   "cell_type": "code",
   "execution_count": 51,
   "metadata": {},
   "outputs": [],
   "source": [
    "def get_gradient_ij(X, y, parameters, j, model):\n",
    "    # model -> logistic: 1/(1+np.exp(-z))  \n",
    "    if model == 'linear':\n",
    "        y_hat = np.dot(np.transpose(parameters),X) \n",
    "        gradient = -np.sum(y - y_hat)*X[j] #y_hat = theta transformed * X\n",
    "    else:\n",
    "        p = logistic(X, parameters)\n",
    "        gradient = -np.sum(y-p)*X[j]\n",
    "    return gradient"
   ]
  },
  {
   "cell_type": "code",
   "execution_count": 52,
   "metadata": {},
   "outputs": [
    {
     "output_type": "execute_result",
     "data": {
      "text/plain": [
       "-0.17234620863399006"
      ]
     },
     "metadata": {},
     "execution_count": 52
    }
   ],
   "source": [
    "get_gradient_ij(X_train.iloc[0,:], y_train.iloc[0], parameters, 1, 'logistic')"
   ]
  },
  {
   "cell_type": "markdown",
   "metadata": {},
   "source": [
    "## Batch Gradient\n",
    "하나의 배치 (X_set, y_set)에 대해 기울기를 구하는 코드를 작성해주세요"
   ]
  },
  {
   "cell_type": "code",
   "execution_count": 53,
   "metadata": {},
   "outputs": [],
   "source": [
    "#batch gradient -> 학습 한 번에 모든 데이터셋에 대해 기울기 구함\n",
    "def batch_gradient(X_set, y_set, parameters, model):\n",
    "    gradients = [0 for _ in range(len(parameters))]\n",
    "    \n",
    "    for i in range(len(X_set)):\n",
    "        X = X_set.iloc[i,:]\n",
    "        y = y_set.iloc[i]\n",
    "        for j in range(len(parameters)):\n",
    "            gradients[j] += get_gradient_ij(X,y,parameters,j,model)\n",
    "    \n",
    "    return gradients"
   ]
  },
  {
   "cell_type": "code",
   "execution_count": 54,
   "metadata": {},
   "outputs": [
    {
     "output_type": "execute_result",
     "data": {
      "text/plain": [
       "[32.409317602326254, 40.81927318929602, 67.87179952100348]"
      ]
     },
     "metadata": {},
     "execution_count": 54
    }
   ],
   "source": [
    "gradients1 = batch_gradient(X_train, y_train, parameters, 'logistic')\n",
    "gradients1"
   ]
  },
  {
   "cell_type": "markdown",
   "metadata": {},
   "source": [
    "## mini-batch\n",
    "인덱스로 미니 배치 나누기"
   ]
  },
  {
   "cell_type": "code",
   "execution_count": 55,
   "metadata": {},
   "outputs": [],
   "source": [
    "def batch_idx(X_train, batch_size):\n",
    "    N = len(X_train)\n",
    "    nb = (N // batch_size)+1 #number of batch\n",
    "    idx = np.array([i for i in range(N)])\n",
    "    idx_list = [idx[i*batch_size:(i+1)*batch_size] for i in range(nb) if len(idx[i*batch_size:(i+1)*batch_size]) != 0]\n",
    "    return idx_list"
   ]
  },
  {
   "cell_type": "markdown",
   "metadata": {},
   "source": [
    "batch_idx 함수에 대한 설명을 batch_size와 함께 간략하게 작성해주세요  \n",
    "### 설명: \n",
    "    전체 데이터셋을 mini-batch size로 지정된 batch_size만큼의 크기의 작은 단위로 나누어 학습에 사용될 때 사용되는 함수이다. \n",
    "    모든 데이터에 대해 가중치 평균을 구하는 것이 아닌, 전체 데이터에서 batch_size만큼의 일부 데이터를 묶음으로 학습을 진행시키기 위해 데이터를 batch 단위로 나누는 함수이다. "
   ]
  },
  {
   "cell_type": "markdown",
   "metadata": {},
   "source": [
    "## Update Parameters\n",
    "기울기를 갱신하는 코드를 작성해주세요  \n",
    "(loss와 마찬가지로 기울기를 갱신할 때 배치 사이즈를 고려해 평균으로 갱신해주세요)"
   ]
  },
  {
   "cell_type": "code",
   "execution_count": 56,
   "metadata": {},
   "outputs": [],
   "source": [
    "def step(parameters, gradients, learning_rate, n): #n:현재 배치의 데이터 수\n",
    "    for i in range(len(parameters)):\n",
    "        gradients[i] *= (1/n)*learning_rate\n",
    "    \n",
    "    parameters -= gradients\n",
    "    return parameters"
   ]
  },
  {
   "cell_type": "code",
   "execution_count": 57,
   "metadata": {},
   "outputs": [
    {
     "output_type": "execute_result",
     "data": {
      "text/plain": [
       "array([0.05369902, 0.92045378, 0.89739867])"
      ]
     },
     "metadata": {},
     "execution_count": 57
    }
   ],
   "source": [
    "step(parameters, gradients1, 0.01, len(X_train))"
   ]
  },
  {
   "cell_type": "markdown",
   "metadata": {},
   "source": [
    "## Gradient Descent\n",
    "위에서 작성한 함수들을 조합해서 경사하강법 함수를 완성해주세요\n",
    "\n",
    "- learning_rate: 학습률  \n",
    "- tolerance: Step이 너무 작아서 더 이상의 학습이 무의미할 때 학습을 멈추는 조건  \n",
    "- batch: 기울기를 1번 갱신할 때 사용하는 데이터셋  \n",
    "- epoch:  \n",
    "- num_epoch:\n",
    "<br>\n",
    "\n",
    "BGD: (Batch Gradient Descent) 학습 한 번에 모든 데이터셋에 대해 기울기를 구한다. Loss function을 미분하여 가중치 업데이트시 개별 데이터로 하기 보다 모든 데이터에 대한 Loss function의 평균을 기준으로 업데이트가 수행된다  \n",
    "SGD: (Stochastic Gradient Descent) 학습 한 번에 임의의 데이터에 대해서만 기울기를 구한다. 입력 데이터를 하나씩만 처리하면서 가중치를 업데이트 한다  \n",
    "MGD: (Mini Batch Gradient Descent) 학습 한 번에 데이터셋의 일부에 대해서만 기울기를 구한다. 전체 데이터에서 일부 데이터를 묶음방식으로 하여 해당 batch의 평균 가중치를 업데이트 한다\n",
    "<br>\n",
    "batch_size에 따른 경사하강법의 종류를 적어주세요  \n",
    "batch_size=1 -> SGD     \n",
    "batch_size=k -> MGD     \n",
    "batch_size=whole -> BGD     "
   ]
  },
  {
   "cell_type": "code",
   "execution_count": 58,
   "metadata": {},
   "outputs": [],
   "source": [
    "def gradient_descent(X_train, y_train, learning_rate = 0.1, num_epoch = 1000, tolerance = 0.00001, model = 'logistic', batch_size = 16):\n",
    "    stopper = False\n",
    "    \n",
    "    N = len(X_train.iloc[0])    #row 길이\n",
    "    parameters = np.random.rand(N)  #parameter 랜덤 값으로 초기화\n",
    "    loss_function = minus_log_cross_entropy_i if model == 'logistic' else mse_i\n",
    "    # linear/logistic 모델에 따라 loss function 다르게 설정\n",
    "    loss = 999\n",
    "    batch_idx_list = batch_idx(X_train, batch_size)\n",
    "    \n",
    "    for epoch in range(num_epoch):\n",
    "        if stopper:\n",
    "            break\n",
    "        for idx in batch_idx_list:  #batch 데이터의 개수만큼 반복\n",
    "            X_batch = X_train.iloc[idx,]\n",
    "            y_batch = y_train.iloc[idx]\n",
    "            gradients = batch_gradient(X_batch, y_batch, parameters, model)       #기울기 저장\n",
    "            parameters = step(parameters, gradients, learning_rate, len(X_batch))      #parameter 업데이트\n",
    "            new_loss = batch_loss(X_batch, y_batch, parameters, minus_log_cross_entropy_i, len(X_batch))     #loss 업데이트\n",
    "\n",
    "            #중단 조건\n",
    "            if abs(new_loss - loss) < tolerance:\n",
    "                stopper = True\n",
    "                break\n",
    "            loss = new_loss\n",
    "        \n",
    "        #100epoch마다 학습 상태 출력\n",
    "        if epoch%100 == 0: #출력이 길게 나오면 check point를 수정해도 됩니다.\n",
    "            print(f\"epoch: {epoch}  loss: {new_loss}  params: {parameters}  gradients: {gradients}\")\n",
    "    \n",
    "    return parameters"
   ]
  },
  {
   "cell_type": "markdown",
   "metadata": {},
   "source": [
    "## Implement\n",
    "경사하강법 함수를 이용해 최적의 모수 찾아보세요. 학습을 진행할 때, Hyper Parameter를 바꿔가면서 학습시켜보세요."
   ]
  },
  {
   "cell_type": "markdown",
   "metadata": {},
   "source": [
    "## Logistic Regression"
   ]
  },
  {
   "cell_type": "code",
   "execution_count": 61,
   "metadata": {},
   "outputs": [
    {
     "output_type": "stream",
     "name": "stdout",
     "text": [
      "epoch: 0  loss: 1.8988746216748913  params: [0.32164354 0.0750525  0.94828708]  gradients: [0.03170510779513442, 0.015174891517344991, 0.04287604620875602]\n",
      "epoch: 100  loss: 0.3897784714500641  params: [-0.35328632  0.47489174 -0.44660145]  gradients: [0.0009596116960751381, -0.004461506041916102, 0.004370722657027324]\n",
      "epoch: 200  loss: 0.3315900168676095  params: [-0.42989736  0.77994972 -0.74219609]  gradients: [0.0006004506052356381, -0.0021513545121483826, 0.002063078238829935]\n",
      "epoch: 300  loss: 0.3143279301756451  params: [-0.47842727  0.94850187 -0.90289816]  gradients: [0.00039329128383916944, -0.0013343239947423225, 0.0012649653319070843]\n",
      "epoch: 400  loss: 0.3070002327861253  params: [-0.51133937  1.05901022 -1.00726769]  gradients: [0.0002761593436564889, -0.0009192372706763417, 0.0008649838645981665]\n",
      "epoch: 500  loss: 0.30333898300070816  params: [-0.53500882  1.13741292 -1.08084972]  gradients: [0.00020316349754720167, -0.000670042384031891, 0.0006272396937059448]\n",
      "epoch: 600  loss: 0.3013325103566079  params: [-0.5526998   1.1955953  -1.13521177]  gradients: [0.0001541446337964344, -0.0005056505357344582, 0.00047157366605036236]\n"
     ]
    },
    {
     "output_type": "execute_result",
     "data": {
      "text/plain": [
       "array([-0.56357156,  1.23120657, -1.16838507])"
      ]
     },
     "metadata": {},
     "execution_count": 61
    }
   ],
   "source": [
    "# Batch Gradient Descent\n",
    "new_param_bgd = gradient_descent(X_train, y_train, batch_size = len(X_train))\n",
    "new_param_bgd"
   ]
  },
  {
   "cell_type": "code",
   "execution_count": 63,
   "metadata": {},
   "outputs": [
    {
     "output_type": "stream",
     "name": "stdout",
     "text": [
      "epoch: 0  loss: 0.15757541155612953  params: [-0.37396718  0.62214332 -0.78731398]  gradients: [0.015658121007633138, 0.008521164428847015, 0.01101690897479158]\n",
      "epoch: 100  loss: 0.05846954349463161  params: [-0.68128582  1.36653016 -1.41986693]  gradients: [0.005850062365430355, 0.0031836095346651633, 0.0041160497192084386]\n",
      "epoch: 200  loss: 0.058469543494588175  params: [-0.68128582  1.36653016 -1.41986693]  gradients: [0.005850062365426006, 0.003183609534662797, 0.0041160497192053785]\n",
      "epoch: 300  loss: 0.058469543494588175  params: [-0.68128582  1.36653016 -1.41986693]  gradients: [0.005850062365426006, 0.003183609534662797, 0.0041160497192053785]\n",
      "epoch: 400  loss: 0.058469543494588175  params: [-0.68128582  1.36653016 -1.41986693]  gradients: [0.005850062365426006, 0.003183609534662797, 0.0041160497192053785]\n",
      "epoch: 500  loss: 0.058469543494588175  params: [-0.68128582  1.36653016 -1.41986693]  gradients: [0.005850062365426006, 0.003183609534662797, 0.0041160497192053785]\n",
      "epoch: 600  loss: 0.058469543494588175  params: [-0.68128582  1.36653016 -1.41986693]  gradients: [0.005850062365426006, 0.003183609534662797, 0.0041160497192053785]\n",
      "epoch: 700  loss: 0.058469543494588175  params: [-0.68128582  1.36653016 -1.41986693]  gradients: [0.005850062365426006, 0.003183609534662797, 0.0041160497192053785]\n",
      "epoch: 800  loss: 0.058469543494588175  params: [-0.68128582  1.36653016 -1.41986693]  gradients: [0.005850062365426006, 0.003183609534662797, 0.0041160497192053785]\n",
      "epoch: 900  loss: 0.058469543494588175  params: [-0.68128582  1.36653016 -1.41986693]  gradients: [0.005850062365426006, 0.003183609534662797, 0.0041160497192053785]\n"
     ]
    },
    {
     "output_type": "execute_result",
     "data": {
      "text/plain": [
       "array([-0.68128582,  1.36653016, -1.41986693])"
      ]
     },
     "metadata": {},
     "execution_count": 63
    }
   ],
   "source": [
    "# Stochastic Gradient Descent\n",
    "new_param_sgd = gradient_descent(X_train, y_train, batch_size = 1)\n",
    "new_param_sgd"
   ]
  },
  {
   "cell_type": "code",
   "execution_count": 64,
   "metadata": {},
   "outputs": [
    {
     "output_type": "stream",
     "name": "stdout",
     "text": [
      "epoch: 0  loss: 1.2634999320415223  params: [-0.06844804  0.72972146 -0.18227234]  gradients: [0.06171819452085411, 0.06020619857500733, 0.0709548748855422]\n",
      "epoch: 100  loss: 0.15169696374853542  params: [-0.63171493  1.35408205 -1.32718229]  gradients: [0.006992382415647316, 0.010641338096005511, 0.012688986477009142]\n",
      "epoch: 200  loss: 0.14404136926813677  params: [-0.65762408  1.43391527 -1.40130044]  gradients: [0.00690923670557903, 0.010543281306378893, 0.012307594692033949]\n",
      "epoch: 300  loss: 0.14284061972152745  params: [-0.66193322  1.44715727 -1.41356826]  gradients: [0.006897353414241918, 0.010528184870634819, 0.012248017128181299]\n",
      "epoch: 400  loss: 0.14263127980334897  params: [-0.66269181  1.44948746 -1.41572626]  gradients: [0.006895313778302591, 0.010525560627029125, 0.012237636982785145]\n",
      "epoch: 500  loss: 0.14259414046022298  params: [-0.66282662  1.44990153 -1.41610971]  gradients: [0.00689495291828965, 0.010525095292721595, 0.012235795630330499]\n",
      "epoch: 600  loss: 0.1425875312496361  params: [-0.66285062  1.44997524 -1.41617797]  gradients: [0.006894888732111561, 0.010525012490650562, 0.012235467955065856]\n",
      "epoch: 700  loss: 0.14258635445185658  params: [-0.66285489  1.44998837 -1.41619012]  gradients: [0.0068948773044882295, 0.01052499774763019, 0.012235409611311511]\n",
      "epoch: 800  loss: 0.14258614489771118  params: [-0.66285565  1.44999071 -1.41619229]  gradients: [0.006894875269585763, 0.010524995122325931, 0.012235399221958206]\n",
      "epoch: 900  loss: 0.14258610758144538  params: [-0.66285579  1.44999112 -1.41619267]  gradients: [0.006894874907222368, 0.010524994654826224, 0.01223539737187872]\n"
     ]
    },
    {
     "output_type": "execute_result",
     "data": {
      "text/plain": [
       "array([-0.66285581,  1.4499912 , -1.41619274])"
      ]
     },
     "metadata": {},
     "execution_count": 64
    }
   ],
   "source": [
    "# Mini Batch Gradient Descent\n",
    "new_param_mgd = gradient_descent(X_train, y_train, batch_size = 16)\n",
    "new_param_mgd"
   ]
  },
  {
   "cell_type": "markdown",
   "metadata": {},
   "source": [
    "### Predict Label"
   ]
  },
  {
   "cell_type": "code",
   "execution_count": 65,
   "metadata": {},
   "outputs": [],
   "source": [
    "y_predict = []\n",
    "for i in range(len(y_test)):\n",
    "    p = logistic(X_test.iloc[i,:], new_param_bgd)\n",
    "    if p> 0.5 :\n",
    "        y_predict.append(1)\n",
    "    else :\n",
    "        y_predict.append(0)\n",
    "y_predict_random = []\n",
    "for i in range(len(y_test)):\n",
    "    p = logistic(X_test.iloc[i,:], random_parameters)\n",
    "    if p> 0.5 :\n",
    "        y_predict_random.append(1)\n",
    "    else :\n",
    "        y_predict_random.append(0)"
   ]
  },
  {
   "cell_type": "markdown",
   "metadata": {},
   "source": [
    "### Confusion Matrix"
   ]
  },
  {
   "cell_type": "code",
   "execution_count": 66,
   "metadata": {},
   "outputs": [],
   "source": [
    "from sklearn.metrics import *"
   ]
  },
  {
   "cell_type": "code",
   "execution_count": 67,
   "metadata": {},
   "outputs": [
    {
     "output_type": "execute_result",
     "data": {
      "text/plain": [
       "array([[38,  2],\n",
       "       [ 2,  8]], dtype=int64)"
      ]
     },
     "metadata": {},
     "execution_count": 67
    }
   ],
   "source": [
    "tn, fp, fn, tp = confusion_matrix(y_test, y_predict).ravel()\n",
    "confusion_matrix(y_test, y_predict)"
   ]
  },
  {
   "cell_type": "code",
   "execution_count": 68,
   "metadata": {},
   "outputs": [
    {
     "output_type": "stream",
     "name": "stdout",
     "text": [
      "accuracy: 0.92\n"
     ]
    }
   ],
   "source": [
    "accuracy = (tp+tn) / (tp+fn+fp+tn)\n",
    "print(\"accuracy:\",accuracy)"
   ]
  },
  {
   "cell_type": "markdown",
   "metadata": {},
   "source": [
    "## Linear regression\n",
    "### $y = 0.5 + 2.7x$"
   ]
  },
  {
   "cell_type": "markdown",
   "metadata": {},
   "source": [
    "### Data"
   ]
  },
  {
   "cell_type": "code",
   "execution_count": 69,
   "metadata": {},
   "outputs": [],
   "source": [
    "raw_X = np.random.rand(150)\n",
    "y = 2.7*raw_X + 0.5 + np.random.randn(150)"
   ]
  },
  {
   "cell_type": "code",
   "execution_count": 70,
   "metadata": {},
   "outputs": [],
   "source": [
    "tmp = np.array([1 for _ in range(150)])\n",
    "X = np.vstack((tmp, raw_X)).T\n",
    "X = pd.DataFrame(X)\n",
    "y = pd.Series(y)"
   ]
  },
  {
   "cell_type": "markdown",
   "metadata": {},
   "source": [
    "### Estimation"
   ]
  },
  {
   "cell_type": "code",
   "execution_count": 71,
   "metadata": {},
   "outputs": [
    {
     "output_type": "execute_result",
     "data": {
      "text/plain": [
       "array([0.23811068, 2.90582633])"
      ]
     },
     "metadata": {},
     "execution_count": 71
    }
   ],
   "source": [
    "#정규방정식\n",
    "theta = np.linalg.inv(np.dot(X.T,X)).dot(X.T).dot(y)\n",
    "theta"
   ]
  },
  {
   "cell_type": "code",
   "execution_count": 76,
   "metadata": {},
   "outputs": [
    {
     "output_type": "stream",
     "name": "stdout",
     "text": [
      "epoch: 0  loss: -2.818876138890803  params: [0.83894324 1.24489043]  gradients: [-0.04512587423619804, -0.010679323279913725]\n",
      "epoch: 100  loss: -3.2536049188717624  params: [0.32964135 2.70105265]  gradients: [-0.003070132535655386, 0.022678109410877466]\n",
      "epoch: 200  loss: -3.25337983899413  params: [0.32867545 2.7027896 ]  gradients: [-0.003061434563230758, 0.02269304483429887]\n",
      "epoch: 300  loss: -3.253379545248911  params: [0.32867419 2.70279186]  gradients: [-0.0030614232128437723, 0.022693064324224452]\n",
      "epoch: 400  loss: -3.253379544865588  params: [0.32867419 2.70279187]  gradients: [-0.0030614231980321317, 0.022693064349657767]\n",
      "epoch: 500  loss: -3.2533795448650853  params: [0.32867419 2.70279187]  gradients: [-0.0030614231980128433, 0.02269306434969091]\n",
      "epoch: 600  loss: -3.2533795448650875  params: [0.32867419 2.70279187]  gradients: [-0.0030614231980128285, 0.022693064349690945]\n",
      "epoch: 700  loss: -3.2533795448650875  params: [0.32867419 2.70279187]  gradients: [-0.0030614231980128285, 0.022693064349690945]\n",
      "epoch: 800  loss: -3.2533795448650875  params: [0.32867419 2.70279187]  gradients: [-0.0030614231980128285, 0.022693064349690945]\n",
      "epoch: 900  loss: -3.2533795448650875  params: [0.32867419 2.70279187]  gradients: [-0.0030614231980128285, 0.022693064349690945]\n"
     ]
    },
    {
     "output_type": "execute_result",
     "data": {
      "text/plain": [
       "array([0.32867419, 2.70279187])"
      ]
     },
     "metadata": {},
     "execution_count": 76
    }
   ],
   "source": [
    "#경사하강법\n",
    "new_param = gradient_descent(X, y, learning_rate = 0.1, num_epoch = 1000, tolerance = 0.00001, model = 'linear', batch_size = 16)\n",
    "new_param"
   ]
  },
  {
   "cell_type": "code",
   "execution_count": 77,
   "metadata": {},
   "outputs": [],
   "source": [
    "y_hat_NE = theta.dot(X.T)\n",
    "y_hat_GD = new_param.dot(X.T)"
   ]
  },
  {
   "cell_type": "markdown",
   "metadata": {},
   "source": [
    "### Visualization\n",
    "시각화를 통해 정규방정식과 경사하강법을 통한 선형회귀를 비교해보세요  \n",
    "(밑의 코드를 실행만 시키면 됩니다. 추가 코드 x)"
   ]
  },
  {
   "cell_type": "code",
   "execution_count": 78,
   "metadata": {},
   "outputs": [
    {
     "output_type": "display_data",
     "data": {
      "text/plain": "<Figure size 432x288 with 1 Axes>",
      "image/svg+xml": "<?xml version=\"1.0\" encoding=\"utf-8\" standalone=\"no\"?>\r\n<!DOCTYPE svg PUBLIC \"-//W3C//DTD SVG 1.1//EN\"\r\n  \"http://www.w3.org/Graphics/SVG/1.1/DTD/svg11.dtd\">\r\n<!-- Created with matplotlib (https://matplotlib.org/) -->\r\n<svg height=\"248.518125pt\" version=\"1.1\" viewBox=\"0 0 370.942187 248.518125\" width=\"370.942187pt\" xmlns=\"http://www.w3.org/2000/svg\" xmlns:xlink=\"http://www.w3.org/1999/xlink\">\r\n <metadata>\r\n  <rdf:RDF xmlns:cc=\"http://creativecommons.org/ns#\" xmlns:dc=\"http://purl.org/dc/elements/1.1/\" xmlns:rdf=\"http://www.w3.org/1999/02/22-rdf-syntax-ns#\">\r\n   <cc:Work>\r\n    <dc:type rdf:resource=\"http://purl.org/dc/dcmitype/StillImage\"/>\r\n    <dc:date>2021-02-12T21:21:48.382038</dc:date>\r\n    <dc:format>image/svg+xml</dc:format>\r\n    <dc:creator>\r\n     <cc:Agent>\r\n      <dc:title>Matplotlib v3.3.2, https://matplotlib.org/</dc:title>\r\n     </cc:Agent>\r\n    </dc:creator>\r\n   </cc:Work>\r\n  </rdf:RDF>\r\n </metadata>\r\n <defs>\r\n  <style type=\"text/css\">*{stroke-linecap:butt;stroke-linejoin:round;}</style>\r\n </defs>\r\n <g id=\"figure_1\">\r\n  <g id=\"patch_1\">\r\n   <path d=\"M 0 248.518125 \r\nL 370.942187 248.518125 \r\nL 370.942187 0 \r\nL 0 0 \r\nz\r\n\" style=\"fill:none;\"/>\r\n  </g>\r\n  <g id=\"axes_1\">\r\n   <g id=\"patch_2\">\r\n    <path d=\"M 28.942188 224.64 \r\nL 363.742188 224.64 \r\nL 363.742188 7.2 \r\nL 28.942188 7.2 \r\nz\r\n\" style=\"fill:#ffffff;\"/>\r\n   </g>\r\n   <g id=\"matplotlib.axis_1\">\r\n    <g id=\"xtick_1\">\r\n     <g id=\"line2d_1\">\r\n      <defs>\r\n       <path d=\"M 0 0 \r\nL 0 3.5 \r\n\" id=\"m9c18fe4d94\" style=\"stroke:#000000;stroke-width:0.8;\"/>\r\n      </defs>\r\n      <g>\r\n       <use style=\"stroke:#000000;stroke-width:0.8;\" x=\"42.853295\" xlink:href=\"#m9c18fe4d94\" y=\"224.64\"/>\r\n      </g>\r\n     </g>\r\n     <g id=\"text_1\">\r\n      <!-- 0.0 -->\r\n      <g transform=\"translate(34.901732 239.238438)scale(0.1 -0.1)\">\r\n       <defs>\r\n        <path d=\"M 31.78125 66.40625 \r\nQ 24.171875 66.40625 20.328125 58.90625 \r\nQ 16.5 51.421875 16.5 36.375 \r\nQ 16.5 21.390625 20.328125 13.890625 \r\nQ 24.171875 6.390625 31.78125 6.390625 \r\nQ 39.453125 6.390625 43.28125 13.890625 \r\nQ 47.125 21.390625 47.125 36.375 \r\nQ 47.125 51.421875 43.28125 58.90625 \r\nQ 39.453125 66.40625 31.78125 66.40625 \r\nz\r\nM 31.78125 74.21875 \r\nQ 44.046875 74.21875 50.515625 64.515625 \r\nQ 56.984375 54.828125 56.984375 36.375 \r\nQ 56.984375 17.96875 50.515625 8.265625 \r\nQ 44.046875 -1.421875 31.78125 -1.421875 \r\nQ 19.53125 -1.421875 13.0625 8.265625 \r\nQ 6.59375 17.96875 6.59375 36.375 \r\nQ 6.59375 54.828125 13.0625 64.515625 \r\nQ 19.53125 74.21875 31.78125 74.21875 \r\nz\r\n\" id=\"DejaVuSans-48\"/>\r\n        <path d=\"M 10.6875 12.40625 \r\nL 21 12.40625 \r\nL 21 0 \r\nL 10.6875 0 \r\nz\r\n\" id=\"DejaVuSans-46\"/>\r\n       </defs>\r\n       <use xlink:href=\"#DejaVuSans-48\"/>\r\n       <use x=\"63.623047\" xlink:href=\"#DejaVuSans-46\"/>\r\n       <use x=\"95.410156\" xlink:href=\"#DejaVuSans-48\"/>\r\n      </g>\r\n     </g>\r\n    </g>\r\n    <g id=\"xtick_2\">\r\n     <g id=\"line2d_2\">\r\n      <g>\r\n       <use style=\"stroke:#000000;stroke-width:0.8;\" x=\"104.408701\" xlink:href=\"#m9c18fe4d94\" y=\"224.64\"/>\r\n      </g>\r\n     </g>\r\n     <g id=\"text_2\">\r\n      <!-- 0.2 -->\r\n      <g transform=\"translate(96.457139 239.238438)scale(0.1 -0.1)\">\r\n       <defs>\r\n        <path d=\"M 19.1875 8.296875 \r\nL 53.609375 8.296875 \r\nL 53.609375 0 \r\nL 7.328125 0 \r\nL 7.328125 8.296875 \r\nQ 12.9375 14.109375 22.625 23.890625 \r\nQ 32.328125 33.6875 34.8125 36.53125 \r\nQ 39.546875 41.84375 41.421875 45.53125 \r\nQ 43.3125 49.21875 43.3125 52.78125 \r\nQ 43.3125 58.59375 39.234375 62.25 \r\nQ 35.15625 65.921875 28.609375 65.921875 \r\nQ 23.96875 65.921875 18.8125 64.3125 \r\nQ 13.671875 62.703125 7.8125 59.421875 \r\nL 7.8125 69.390625 \r\nQ 13.765625 71.78125 18.9375 73 \r\nQ 24.125 74.21875 28.421875 74.21875 \r\nQ 39.75 74.21875 46.484375 68.546875 \r\nQ 53.21875 62.890625 53.21875 53.421875 \r\nQ 53.21875 48.921875 51.53125 44.890625 \r\nQ 49.859375 40.875 45.40625 35.40625 \r\nQ 44.1875 33.984375 37.640625 27.21875 \r\nQ 31.109375 20.453125 19.1875 8.296875 \r\nz\r\n\" id=\"DejaVuSans-50\"/>\r\n       </defs>\r\n       <use xlink:href=\"#DejaVuSans-48\"/>\r\n       <use x=\"63.623047\" xlink:href=\"#DejaVuSans-46\"/>\r\n       <use x=\"95.410156\" xlink:href=\"#DejaVuSans-50\"/>\r\n      </g>\r\n     </g>\r\n    </g>\r\n    <g id=\"xtick_3\">\r\n     <g id=\"line2d_3\">\r\n      <g>\r\n       <use style=\"stroke:#000000;stroke-width:0.8;\" x=\"165.964107\" xlink:href=\"#m9c18fe4d94\" y=\"224.64\"/>\r\n      </g>\r\n     </g>\r\n     <g id=\"text_3\">\r\n      <!-- 0.4 -->\r\n      <g transform=\"translate(158.012545 239.238438)scale(0.1 -0.1)\">\r\n       <defs>\r\n        <path d=\"M 37.796875 64.3125 \r\nL 12.890625 25.390625 \r\nL 37.796875 25.390625 \r\nz\r\nM 35.203125 72.90625 \r\nL 47.609375 72.90625 \r\nL 47.609375 25.390625 \r\nL 58.015625 25.390625 \r\nL 58.015625 17.1875 \r\nL 47.609375 17.1875 \r\nL 47.609375 0 \r\nL 37.796875 0 \r\nL 37.796875 17.1875 \r\nL 4.890625 17.1875 \r\nL 4.890625 26.703125 \r\nz\r\n\" id=\"DejaVuSans-52\"/>\r\n       </defs>\r\n       <use xlink:href=\"#DejaVuSans-48\"/>\r\n       <use x=\"63.623047\" xlink:href=\"#DejaVuSans-46\"/>\r\n       <use x=\"95.410156\" xlink:href=\"#DejaVuSans-52\"/>\r\n      </g>\r\n     </g>\r\n    </g>\r\n    <g id=\"xtick_4\">\r\n     <g id=\"line2d_4\">\r\n      <g>\r\n       <use style=\"stroke:#000000;stroke-width:0.8;\" x=\"227.519514\" xlink:href=\"#m9c18fe4d94\" y=\"224.64\"/>\r\n      </g>\r\n     </g>\r\n     <g id=\"text_4\">\r\n      <!-- 0.6 -->\r\n      <g transform=\"translate(219.567951 239.238438)scale(0.1 -0.1)\">\r\n       <defs>\r\n        <path d=\"M 33.015625 40.375 \r\nQ 26.375 40.375 22.484375 35.828125 \r\nQ 18.609375 31.296875 18.609375 23.390625 \r\nQ 18.609375 15.53125 22.484375 10.953125 \r\nQ 26.375 6.390625 33.015625 6.390625 \r\nQ 39.65625 6.390625 43.53125 10.953125 \r\nQ 47.40625 15.53125 47.40625 23.390625 \r\nQ 47.40625 31.296875 43.53125 35.828125 \r\nQ 39.65625 40.375 33.015625 40.375 \r\nz\r\nM 52.59375 71.296875 \r\nL 52.59375 62.3125 \r\nQ 48.875 64.0625 45.09375 64.984375 \r\nQ 41.3125 65.921875 37.59375 65.921875 \r\nQ 27.828125 65.921875 22.671875 59.328125 \r\nQ 17.53125 52.734375 16.796875 39.40625 \r\nQ 19.671875 43.65625 24.015625 45.921875 \r\nQ 28.375 48.1875 33.59375 48.1875 \r\nQ 44.578125 48.1875 50.953125 41.515625 \r\nQ 57.328125 34.859375 57.328125 23.390625 \r\nQ 57.328125 12.15625 50.6875 5.359375 \r\nQ 44.046875 -1.421875 33.015625 -1.421875 \r\nQ 20.359375 -1.421875 13.671875 8.265625 \r\nQ 6.984375 17.96875 6.984375 36.375 \r\nQ 6.984375 53.65625 15.1875 63.9375 \r\nQ 23.390625 74.21875 37.203125 74.21875 \r\nQ 40.921875 74.21875 44.703125 73.484375 \r\nQ 48.484375 72.75 52.59375 71.296875 \r\nz\r\n\" id=\"DejaVuSans-54\"/>\r\n       </defs>\r\n       <use xlink:href=\"#DejaVuSans-48\"/>\r\n       <use x=\"63.623047\" xlink:href=\"#DejaVuSans-46\"/>\r\n       <use x=\"95.410156\" xlink:href=\"#DejaVuSans-54\"/>\r\n      </g>\r\n     </g>\r\n    </g>\r\n    <g id=\"xtick_5\">\r\n     <g id=\"line2d_5\">\r\n      <g>\r\n       <use style=\"stroke:#000000;stroke-width:0.8;\" x=\"289.07492\" xlink:href=\"#m9c18fe4d94\" y=\"224.64\"/>\r\n      </g>\r\n     </g>\r\n     <g id=\"text_5\">\r\n      <!-- 0.8 -->\r\n      <g transform=\"translate(281.123358 239.238438)scale(0.1 -0.1)\">\r\n       <defs>\r\n        <path d=\"M 31.78125 34.625 \r\nQ 24.75 34.625 20.71875 30.859375 \r\nQ 16.703125 27.09375 16.703125 20.515625 \r\nQ 16.703125 13.921875 20.71875 10.15625 \r\nQ 24.75 6.390625 31.78125 6.390625 \r\nQ 38.8125 6.390625 42.859375 10.171875 \r\nQ 46.921875 13.96875 46.921875 20.515625 \r\nQ 46.921875 27.09375 42.890625 30.859375 \r\nQ 38.875 34.625 31.78125 34.625 \r\nz\r\nM 21.921875 38.8125 \r\nQ 15.578125 40.375 12.03125 44.71875 \r\nQ 8.5 49.078125 8.5 55.328125 \r\nQ 8.5 64.0625 14.71875 69.140625 \r\nQ 20.953125 74.21875 31.78125 74.21875 \r\nQ 42.671875 74.21875 48.875 69.140625 \r\nQ 55.078125 64.0625 55.078125 55.328125 \r\nQ 55.078125 49.078125 51.53125 44.71875 \r\nQ 48 40.375 41.703125 38.8125 \r\nQ 48.828125 37.15625 52.796875 32.3125 \r\nQ 56.78125 27.484375 56.78125 20.515625 \r\nQ 56.78125 9.90625 50.3125 4.234375 \r\nQ 43.84375 -1.421875 31.78125 -1.421875 \r\nQ 19.734375 -1.421875 13.25 4.234375 \r\nQ 6.78125 9.90625 6.78125 20.515625 \r\nQ 6.78125 27.484375 10.78125 32.3125 \r\nQ 14.796875 37.15625 21.921875 38.8125 \r\nz\r\nM 18.3125 54.390625 \r\nQ 18.3125 48.734375 21.84375 45.5625 \r\nQ 25.390625 42.390625 31.78125 42.390625 \r\nQ 38.140625 42.390625 41.71875 45.5625 \r\nQ 45.3125 48.734375 45.3125 54.390625 \r\nQ 45.3125 60.0625 41.71875 63.234375 \r\nQ 38.140625 66.40625 31.78125 66.40625 \r\nQ 25.390625 66.40625 21.84375 63.234375 \r\nQ 18.3125 60.0625 18.3125 54.390625 \r\nz\r\n\" id=\"DejaVuSans-56\"/>\r\n       </defs>\r\n       <use xlink:href=\"#DejaVuSans-48\"/>\r\n       <use x=\"63.623047\" xlink:href=\"#DejaVuSans-46\"/>\r\n       <use x=\"95.410156\" xlink:href=\"#DejaVuSans-56\"/>\r\n      </g>\r\n     </g>\r\n    </g>\r\n    <g id=\"xtick_6\">\r\n     <g id=\"line2d_6\">\r\n      <g>\r\n       <use style=\"stroke:#000000;stroke-width:0.8;\" x=\"350.630326\" xlink:href=\"#m9c18fe4d94\" y=\"224.64\"/>\r\n      </g>\r\n     </g>\r\n     <g id=\"text_6\">\r\n      <!-- 1.0 -->\r\n      <g transform=\"translate(342.678764 239.238438)scale(0.1 -0.1)\">\r\n       <defs>\r\n        <path d=\"M 12.40625 8.296875 \r\nL 28.515625 8.296875 \r\nL 28.515625 63.921875 \r\nL 10.984375 60.40625 \r\nL 10.984375 69.390625 \r\nL 28.421875 72.90625 \r\nL 38.28125 72.90625 \r\nL 38.28125 8.296875 \r\nL 54.390625 8.296875 \r\nL 54.390625 0 \r\nL 12.40625 0 \r\nz\r\n\" id=\"DejaVuSans-49\"/>\r\n       </defs>\r\n       <use xlink:href=\"#DejaVuSans-49\"/>\r\n       <use x=\"63.623047\" xlink:href=\"#DejaVuSans-46\"/>\r\n       <use x=\"95.410156\" xlink:href=\"#DejaVuSans-48\"/>\r\n      </g>\r\n     </g>\r\n    </g>\r\n   </g>\r\n   <g id=\"matplotlib.axis_2\">\r\n    <g id=\"ytick_1\">\r\n     <g id=\"line2d_7\">\r\n      <defs>\r\n       <path d=\"M 0 0 \r\nL -3.5 0 \r\n\" id=\"me36b2f5449\" style=\"stroke:#000000;stroke-width:0.8;\"/>\r\n      </defs>\r\n      <g>\r\n       <use style=\"stroke:#000000;stroke-width:0.8;\" x=\"28.942188\" xlink:href=\"#me36b2f5449\" y=\"207.381543\"/>\r\n      </g>\r\n     </g>\r\n     <g id=\"text_7\">\r\n      <!-- −1 -->\r\n      <g transform=\"translate(7.2 211.180761)scale(0.1 -0.1)\">\r\n       <defs>\r\n        <path d=\"M 10.59375 35.5 \r\nL 73.1875 35.5 \r\nL 73.1875 27.203125 \r\nL 10.59375 27.203125 \r\nz\r\n\" id=\"DejaVuSans-8722\"/>\r\n       </defs>\r\n       <use xlink:href=\"#DejaVuSans-8722\"/>\r\n       <use x=\"83.789062\" xlink:href=\"#DejaVuSans-49\"/>\r\n      </g>\r\n     </g>\r\n    </g>\r\n    <g id=\"ytick_2\">\r\n     <g id=\"line2d_8\">\r\n      <g>\r\n       <use style=\"stroke:#000000;stroke-width:0.8;\" x=\"28.942188\" xlink:href=\"#me36b2f5449\" y=\"177.4313\"/>\r\n      </g>\r\n     </g>\r\n     <g id=\"text_8\">\r\n      <!-- 0 -->\r\n      <g transform=\"translate(15.579688 181.230518)scale(0.1 -0.1)\">\r\n       <use xlink:href=\"#DejaVuSans-48\"/>\r\n      </g>\r\n     </g>\r\n    </g>\r\n    <g id=\"ytick_3\">\r\n     <g id=\"line2d_9\">\r\n      <g>\r\n       <use style=\"stroke:#000000;stroke-width:0.8;\" x=\"28.942188\" xlink:href=\"#me36b2f5449\" y=\"147.481057\"/>\r\n      </g>\r\n     </g>\r\n     <g id=\"text_9\">\r\n      <!-- 1 -->\r\n      <g transform=\"translate(15.579688 151.280276)scale(0.1 -0.1)\">\r\n       <use xlink:href=\"#DejaVuSans-49\"/>\r\n      </g>\r\n     </g>\r\n    </g>\r\n    <g id=\"ytick_4\">\r\n     <g id=\"line2d_10\">\r\n      <g>\r\n       <use style=\"stroke:#000000;stroke-width:0.8;\" x=\"28.942188\" xlink:href=\"#me36b2f5449\" y=\"117.530814\"/>\r\n      </g>\r\n     </g>\r\n     <g id=\"text_10\">\r\n      <!-- 2 -->\r\n      <g transform=\"translate(15.579688 121.330033)scale(0.1 -0.1)\">\r\n       <use xlink:href=\"#DejaVuSans-50\"/>\r\n      </g>\r\n     </g>\r\n    </g>\r\n    <g id=\"ytick_5\">\r\n     <g id=\"line2d_11\">\r\n      <g>\r\n       <use style=\"stroke:#000000;stroke-width:0.8;\" x=\"28.942188\" xlink:href=\"#me36b2f5449\" y=\"87.580571\"/>\r\n      </g>\r\n     </g>\r\n     <g id=\"text_11\">\r\n      <!-- 3 -->\r\n      <g transform=\"translate(15.579688 91.37979)scale(0.1 -0.1)\">\r\n       <defs>\r\n        <path d=\"M 40.578125 39.3125 \r\nQ 47.65625 37.796875 51.625 33 \r\nQ 55.609375 28.21875 55.609375 21.1875 \r\nQ 55.609375 10.40625 48.1875 4.484375 \r\nQ 40.765625 -1.421875 27.09375 -1.421875 \r\nQ 22.515625 -1.421875 17.65625 -0.515625 \r\nQ 12.796875 0.390625 7.625 2.203125 \r\nL 7.625 11.71875 \r\nQ 11.71875 9.328125 16.59375 8.109375 \r\nQ 21.484375 6.890625 26.8125 6.890625 \r\nQ 36.078125 6.890625 40.9375 10.546875 \r\nQ 45.796875 14.203125 45.796875 21.1875 \r\nQ 45.796875 27.640625 41.28125 31.265625 \r\nQ 36.765625 34.90625 28.71875 34.90625 \r\nL 20.21875 34.90625 \r\nL 20.21875 43.015625 \r\nL 29.109375 43.015625 \r\nQ 36.375 43.015625 40.234375 45.921875 \r\nQ 44.09375 48.828125 44.09375 54.296875 \r\nQ 44.09375 59.90625 40.109375 62.90625 \r\nQ 36.140625 65.921875 28.71875 65.921875 \r\nQ 24.65625 65.921875 20.015625 65.03125 \r\nQ 15.375 64.15625 9.8125 62.3125 \r\nL 9.8125 71.09375 \r\nQ 15.4375 72.65625 20.34375 73.4375 \r\nQ 25.25 74.21875 29.59375 74.21875 \r\nQ 40.828125 74.21875 47.359375 69.109375 \r\nQ 53.90625 64.015625 53.90625 55.328125 \r\nQ 53.90625 49.265625 50.4375 45.09375 \r\nQ 46.96875 40.921875 40.578125 39.3125 \r\nz\r\n\" id=\"DejaVuSans-51\"/>\r\n       </defs>\r\n       <use xlink:href=\"#DejaVuSans-51\"/>\r\n      </g>\r\n     </g>\r\n    </g>\r\n    <g id=\"ytick_6\">\r\n     <g id=\"line2d_12\">\r\n      <g>\r\n       <use style=\"stroke:#000000;stroke-width:0.8;\" x=\"28.942188\" xlink:href=\"#me36b2f5449\" y=\"57.630328\"/>\r\n      </g>\r\n     </g>\r\n     <g id=\"text_12\">\r\n      <!-- 4 -->\r\n      <g transform=\"translate(15.579688 61.429547)scale(0.1 -0.1)\">\r\n       <use xlink:href=\"#DejaVuSans-52\"/>\r\n      </g>\r\n     </g>\r\n    </g>\r\n    <g id=\"ytick_7\">\r\n     <g id=\"line2d_13\">\r\n      <g>\r\n       <use style=\"stroke:#000000;stroke-width:0.8;\" x=\"28.942188\" xlink:href=\"#me36b2f5449\" y=\"27.680085\"/>\r\n      </g>\r\n     </g>\r\n     <g id=\"text_13\">\r\n      <!-- 5 -->\r\n      <g transform=\"translate(15.579688 31.479304)scale(0.1 -0.1)\">\r\n       <defs>\r\n        <path d=\"M 10.796875 72.90625 \r\nL 49.515625 72.90625 \r\nL 49.515625 64.59375 \r\nL 19.828125 64.59375 \r\nL 19.828125 46.734375 \r\nQ 21.96875 47.46875 24.109375 47.828125 \r\nQ 26.265625 48.1875 28.421875 48.1875 \r\nQ 40.625 48.1875 47.75 41.5 \r\nQ 54.890625 34.8125 54.890625 23.390625 \r\nQ 54.890625 11.625 47.5625 5.09375 \r\nQ 40.234375 -1.421875 26.90625 -1.421875 \r\nQ 22.3125 -1.421875 17.546875 -0.640625 \r\nQ 12.796875 0.140625 7.71875 1.703125 \r\nL 7.71875 11.625 \r\nQ 12.109375 9.234375 16.796875 8.0625 \r\nQ 21.484375 6.890625 26.703125 6.890625 \r\nQ 35.15625 6.890625 40.078125 11.328125 \r\nQ 45.015625 15.765625 45.015625 23.390625 \r\nQ 45.015625 31 40.078125 35.4375 \r\nQ 35.15625 39.890625 26.703125 39.890625 \r\nQ 22.75 39.890625 18.8125 39.015625 \r\nQ 14.890625 38.140625 10.796875 36.28125 \r\nz\r\n\" id=\"DejaVuSans-53\"/>\r\n       </defs>\r\n       <use xlink:href=\"#DejaVuSans-53\"/>\r\n      </g>\r\n     </g>\r\n    </g>\r\n   </g>\r\n   <g id=\"line2d_14\">\r\n    <defs>\r\n     <path d=\"M 0 1.5 \r\nC 0.397805 1.5 0.77937 1.341951 1.06066 1.06066 \r\nC 1.341951 0.77937 1.5 0.397805 1.5 0 \r\nC 1.5 -0.397805 1.341951 -0.77937 1.06066 -1.06066 \r\nC 0.77937 -1.341951 0.397805 -1.5 0 -1.5 \r\nC -0.397805 -1.5 -0.77937 -1.341951 -1.06066 -1.06066 \r\nC -1.341951 -0.77937 -1.5 -0.397805 -1.5 0 \r\nC -1.5 0.397805 -1.341951 0.77937 -1.06066 1.06066 \r\nC -0.77937 1.341951 -0.397805 1.5 0 1.5 \r\nz\r\n\" id=\"mc963cbbbe9\" style=\"stroke:#000000;\"/>\r\n    </defs>\r\n    <g clip-path=\"url(#p8b999adfc5)\">\r\n     <use style=\"stroke:#000000;\" x=\"105.393211\" xlink:href=\"#mc963cbbbe9\" y=\"189.115927\"/>\r\n     <use style=\"stroke:#000000;\" x=\"346.776252\" xlink:href=\"#mc963cbbbe9\" y=\"77.015353\"/>\r\n     <use style=\"stroke:#000000;\" x=\"150.873881\" xlink:href=\"#mc963cbbbe9\" y=\"188.743755\"/>\r\n     <use style=\"stroke:#000000;\" x=\"223.44937\" xlink:href=\"#mc963cbbbe9\" y=\"76.104273\"/>\r\n     <use style=\"stroke:#000000;\" x=\"220.252101\" xlink:href=\"#mc963cbbbe9\" y=\"100.614944\"/>\r\n     <use style=\"stroke:#000000;\" x=\"238.271278\" xlink:href=\"#mc963cbbbe9\" y=\"80.948002\"/>\r\n     <use style=\"stroke:#000000;\" x=\"106.270991\" xlink:href=\"#mc963cbbbe9\" y=\"183.49852\"/>\r\n     <use style=\"stroke:#000000;\" x=\"169.328008\" xlink:href=\"#mc963cbbbe9\" y=\"189.187687\"/>\r\n     <use style=\"stroke:#000000;\" x=\"117.550386\" xlink:href=\"#mc963cbbbe9\" y=\"160.778984\"/>\r\n     <use style=\"stroke:#000000;\" x=\"275.056042\" xlink:href=\"#mc963cbbbe9\" y=\"117.723711\"/>\r\n     <use style=\"stroke:#000000;\" x=\"327.624449\" xlink:href=\"#mc963cbbbe9\" y=\"54.471517\"/>\r\n     <use style=\"stroke:#000000;\" x=\"288.794814\" xlink:href=\"#mc963cbbbe9\" y=\"83.389779\"/>\r\n     <use style=\"stroke:#000000;\" x=\"64.581572\" xlink:href=\"#mc963cbbbe9\" y=\"183.041597\"/>\r\n     <use style=\"stroke:#000000;\" x=\"292.939922\" xlink:href=\"#mc963cbbbe9\" y=\"137.052992\"/>\r\n     <use style=\"stroke:#000000;\" x=\"276.145347\" xlink:href=\"#mc963cbbbe9\" y=\"109.169895\"/>\r\n     <use style=\"stroke:#000000;\" x=\"64.319111\" xlink:href=\"#mc963cbbbe9\" y=\"139.556703\"/>\r\n     <use style=\"stroke:#000000;\" x=\"56.62544\" xlink:href=\"#mc963cbbbe9\" y=\"182.203075\"/>\r\n     <use style=\"stroke:#000000;\" x=\"300.674904\" xlink:href=\"#mc963cbbbe9\" y=\"38.159306\"/>\r\n     <use style=\"stroke:#000000;\" x=\"63.850132\" xlink:href=\"#mc963cbbbe9\" y=\"148.979532\"/>\r\n     <use style=\"stroke:#000000;\" x=\"88.092441\" xlink:href=\"#mc963cbbbe9\" y=\"214.250116\"/>\r\n     <use style=\"stroke:#000000;\" x=\"295.749738\" xlink:href=\"#mc963cbbbe9\" y=\"127.419257\"/>\r\n     <use style=\"stroke:#000000;\" x=\"71.470352\" xlink:href=\"#mc963cbbbe9\" y=\"133.153886\"/>\r\n     <use style=\"stroke:#000000;\" x=\"61.033872\" xlink:href=\"#mc963cbbbe9\" y=\"129.334489\"/>\r\n     <use style=\"stroke:#000000;\" x=\"229.051057\" xlink:href=\"#mc963cbbbe9\" y=\"93.709478\"/>\r\n     <use style=\"stroke:#000000;\" x=\"82.757013\" xlink:href=\"#mc963cbbbe9\" y=\"143.771396\"/>\r\n     <use style=\"stroke:#000000;\" x=\"341.981787\" xlink:href=\"#mc963cbbbe9\" y=\"64.148164\"/>\r\n     <use style=\"stroke:#000000;\" x=\"307.68427\" xlink:href=\"#mc963cbbbe9\" y=\"101.260825\"/>\r\n     <use style=\"stroke:#000000;\" x=\"210.683612\" xlink:href=\"#mc963cbbbe9\" y=\"110.039908\"/>\r\n     <use style=\"stroke:#000000;\" x=\"225.25898\" xlink:href=\"#mc963cbbbe9\" y=\"117.666723\"/>\r\n     <use style=\"stroke:#000000;\" x=\"107.374593\" xlink:href=\"#mc963cbbbe9\" y=\"68.255178\"/>\r\n     <use style=\"stroke:#000000;\" x=\"316.768475\" xlink:href=\"#mc963cbbbe9\" y=\"93.330426\"/>\r\n     <use style=\"stroke:#000000;\" x=\"70.351225\" xlink:href=\"#mc963cbbbe9\" y=\"175.026301\"/>\r\n     <use style=\"stroke:#000000;\" x=\"274.635938\" xlink:href=\"#mc963cbbbe9\" y=\"136.137741\"/>\r\n     <use style=\"stroke:#000000;\" x=\"270.225146\" xlink:href=\"#mc963cbbbe9\" y=\"155.389714\"/>\r\n     <use style=\"stroke:#000000;\" x=\"197.887532\" xlink:href=\"#mc963cbbbe9\" y=\"141.460116\"/>\r\n     <use style=\"stroke:#000000;\" x=\"96.463272\" xlink:href=\"#mc963cbbbe9\" y=\"153.936952\"/>\r\n     <use style=\"stroke:#000000;\" x=\"108.274132\" xlink:href=\"#mc963cbbbe9\" y=\"130.350211\"/>\r\n     <use style=\"stroke:#000000;\" x=\"347.811511\" xlink:href=\"#mc963cbbbe9\" y=\"17.083636\"/>\r\n     <use style=\"stroke:#000000;\" x=\"198.479755\" xlink:href=\"#mc963cbbbe9\" y=\"131.407648\"/>\r\n     <use style=\"stroke:#000000;\" x=\"63.568665\" xlink:href=\"#mc963cbbbe9\" y=\"213.949226\"/>\r\n     <use style=\"stroke:#000000;\" x=\"261.717624\" xlink:href=\"#mc963cbbbe9\" y=\"103.016189\"/>\r\n     <use style=\"stroke:#000000;\" x=\"307.014454\" xlink:href=\"#mc963cbbbe9\" y=\"75.809564\"/>\r\n     <use style=\"stroke:#000000;\" x=\"165.100672\" xlink:href=\"#mc963cbbbe9\" y=\"154.009838\"/>\r\n     <use style=\"stroke:#000000;\" x=\"225.720905\" xlink:href=\"#mc963cbbbe9\" y=\"110.721164\"/>\r\n     <use style=\"stroke:#000000;\" x=\"260.46284\" xlink:href=\"#mc963cbbbe9\" y=\"125.378001\"/>\r\n     <use style=\"stroke:#000000;\" x=\"176.526323\" xlink:href=\"#mc963cbbbe9\" y=\"133.941768\"/>\r\n     <use style=\"stroke:#000000;\" x=\"257.715939\" xlink:href=\"#mc963cbbbe9\" y=\"102.386886\"/>\r\n     <use style=\"stroke:#000000;\" x=\"342.104915\" xlink:href=\"#mc963cbbbe9\" y=\"135.626823\"/>\r\n     <use style=\"stroke:#000000;\" x=\"267.376268\" xlink:href=\"#mc963cbbbe9\" y=\"87.748431\"/>\r\n     <use style=\"stroke:#000000;\" x=\"283.151309\" xlink:href=\"#mc963cbbbe9\" y=\"113.923517\"/>\r\n     <use style=\"stroke:#000000;\" x=\"66.279221\" xlink:href=\"#mc963cbbbe9\" y=\"173.666473\"/>\r\n     <use style=\"stroke:#000000;\" x=\"184.325341\" xlink:href=\"#mc963cbbbe9\" y=\"106.800938\"/>\r\n     <use style=\"stroke:#000000;\" x=\"198.11579\" xlink:href=\"#mc963cbbbe9\" y=\"158.590645\"/>\r\n     <use style=\"stroke:#000000;\" x=\"183.616348\" xlink:href=\"#mc963cbbbe9\" y=\"170.009115\"/>\r\n     <use style=\"stroke:#000000;\" x=\"307.357925\" xlink:href=\"#mc963cbbbe9\" y=\"145.824667\"/>\r\n     <use style=\"stroke:#000000;\" x=\"77.933074\" xlink:href=\"#mc963cbbbe9\" y=\"104.008474\"/>\r\n     <use style=\"stroke:#000000;\" x=\"105.613121\" xlink:href=\"#mc963cbbbe9\" y=\"130.482476\"/>\r\n     <use style=\"stroke:#000000;\" x=\"70.350569\" xlink:href=\"#mc963cbbbe9\" y=\"127.666248\"/>\r\n     <use style=\"stroke:#000000;\" x=\"44.160369\" xlink:href=\"#mc963cbbbe9\" y=\"100.121318\"/>\r\n     <use style=\"stroke:#000000;\" x=\"78.698005\" xlink:href=\"#mc963cbbbe9\" y=\"193.811053\"/>\r\n     <use style=\"stroke:#000000;\" x=\"55.286786\" xlink:href=\"#mc963cbbbe9\" y=\"214.756364\"/>\r\n     <use style=\"stroke:#000000;\" x=\"116.34321\" xlink:href=\"#mc963cbbbe9\" y=\"173.311956\"/>\r\n     <use style=\"stroke:#000000;\" x=\"136.840478\" xlink:href=\"#mc963cbbbe9\" y=\"131.342815\"/>\r\n     <use style=\"stroke:#000000;\" x=\"117.133105\" xlink:href=\"#mc963cbbbe9\" y=\"164.783632\"/>\r\n     <use style=\"stroke:#000000;\" x=\"334.550741\" xlink:href=\"#mc963cbbbe9\" y=\"64.582399\"/>\r\n     <use style=\"stroke:#000000;\" x=\"203.792581\" xlink:href=\"#mc963cbbbe9\" y=\"84.037685\"/>\r\n     <use style=\"stroke:#000000;\" x=\"343.318108\" xlink:href=\"#mc963cbbbe9\" y=\"85.106101\"/>\r\n     <use style=\"stroke:#000000;\" x=\"47.528704\" xlink:href=\"#mc963cbbbe9\" y=\"149.418479\"/>\r\n     <use style=\"stroke:#000000;\" x=\"302.364201\" xlink:href=\"#mc963cbbbe9\" y=\"41.355434\"/>\r\n     <use style=\"stroke:#000000;\" x=\"127.531873\" xlink:href=\"#mc963cbbbe9\" y=\"100.018945\"/>\r\n     <use style=\"stroke:#000000;\" x=\"173.512815\" xlink:href=\"#mc963cbbbe9\" y=\"145.909284\"/>\r\n     <use style=\"stroke:#000000;\" x=\"260.393106\" xlink:href=\"#mc963cbbbe9\" y=\"187.613915\"/>\r\n     <use style=\"stroke:#000000;\" x=\"78.315656\" xlink:href=\"#mc963cbbbe9\" y=\"183.849069\"/>\r\n     <use style=\"stroke:#000000;\" x=\"123.859452\" xlink:href=\"#mc963cbbbe9\" y=\"108.261124\"/>\r\n     <use style=\"stroke:#000000;\" x=\"135.932817\" xlink:href=\"#mc963cbbbe9\" y=\"150.301782\"/>\r\n     <use style=\"stroke:#000000;\" x=\"193.484063\" xlink:href=\"#mc963cbbbe9\" y=\"139.29746\"/>\r\n     <use style=\"stroke:#000000;\" x=\"327.485402\" xlink:href=\"#mc963cbbbe9\" y=\"88.55483\"/>\r\n     <use style=\"stroke:#000000;\" x=\"332.613009\" xlink:href=\"#mc963cbbbe9\" y=\"102.34363\"/>\r\n     <use style=\"stroke:#000000;\" x=\"298.288291\" xlink:href=\"#mc963cbbbe9\" y=\"132.62483\"/>\r\n     <use style=\"stroke:#000000;\" x=\"180.74502\" xlink:href=\"#mc963cbbbe9\" y=\"167.509067\"/>\r\n     <use style=\"stroke:#000000;\" x=\"167.657592\" xlink:href=\"#mc963cbbbe9\" y=\"140.298196\"/>\r\n     <use style=\"stroke:#000000;\" x=\"112.31069\" xlink:href=\"#mc963cbbbe9\" y=\"141.872149\"/>\r\n     <use style=\"stroke:#000000;\" x=\"135.425779\" xlink:href=\"#mc963cbbbe9\" y=\"178.921922\"/>\r\n     <use style=\"stroke:#000000;\" x=\"238.28975\" xlink:href=\"#mc963cbbbe9\" y=\"95.904374\"/>\r\n     <use style=\"stroke:#000000;\" x=\"151.510311\" xlink:href=\"#mc963cbbbe9\" y=\"142.166996\"/>\r\n     <use style=\"stroke:#000000;\" x=\"252.961866\" xlink:href=\"#mc963cbbbe9\" y=\"88.489842\"/>\r\n     <use style=\"stroke:#000000;\" x=\"309.654346\" xlink:href=\"#mc963cbbbe9\" y=\"69.020533\"/>\r\n     <use style=\"stroke:#000000;\" x=\"185.060198\" xlink:href=\"#mc963cbbbe9\" y=\"167.239225\"/>\r\n     <use style=\"stroke:#000000;\" x=\"164.160551\" xlink:href=\"#mc963cbbbe9\" y=\"89.229372\"/>\r\n     <use style=\"stroke:#000000;\" x=\"108.799777\" xlink:href=\"#mc963cbbbe9\" y=\"142.982858\"/>\r\n     <use style=\"stroke:#000000;\" x=\"59.137964\" xlink:href=\"#mc963cbbbe9\" y=\"158.299776\"/>\r\n     <use style=\"stroke:#000000;\" x=\"273.451641\" xlink:href=\"#mc963cbbbe9\" y=\"107.988202\"/>\r\n     <use style=\"stroke:#000000;\" x=\"331.193577\" xlink:href=\"#mc963cbbbe9\" y=\"112.752956\"/>\r\n     <use style=\"stroke:#000000;\" x=\"309.516934\" xlink:href=\"#mc963cbbbe9\" y=\"99.848097\"/>\r\n     <use style=\"stroke:#000000;\" x=\"188.99569\" xlink:href=\"#mc963cbbbe9\" y=\"95.46348\"/>\r\n     <use style=\"stroke:#000000;\" x=\"302.690911\" xlink:href=\"#mc963cbbbe9\" y=\"30.774842\"/>\r\n     <use style=\"stroke:#000000;\" x=\"251.409516\" xlink:href=\"#mc963cbbbe9\" y=\"165.660628\"/>\r\n     <use style=\"stroke:#000000;\" x=\"334.040608\" xlink:href=\"#mc963cbbbe9\" y=\"80.391155\"/>\r\n     <use style=\"stroke:#000000;\" x=\"324.876734\" xlink:href=\"#mc963cbbbe9\" y=\"108.018767\"/>\r\n     <use style=\"stroke:#000000;\" x=\"160.840598\" xlink:href=\"#mc963cbbbe9\" y=\"137.660825\"/>\r\n     <use style=\"stroke:#000000;\" x=\"312.519032\" xlink:href=\"#mc963cbbbe9\" y=\"46.691104\"/>\r\n     <use style=\"stroke:#000000;\" x=\"119.356845\" xlink:href=\"#mc963cbbbe9\" y=\"126.430353\"/>\r\n     <use style=\"stroke:#000000;\" x=\"53.2611\" xlink:href=\"#mc963cbbbe9\" y=\"190.52074\"/>\r\n     <use style=\"stroke:#000000;\" x=\"60.956049\" xlink:href=\"#mc963cbbbe9\" y=\"199.906886\"/>\r\n     <use style=\"stroke:#000000;\" x=\"179.485096\" xlink:href=\"#mc963cbbbe9\" y=\"102.911593\"/>\r\n     <use style=\"stroke:#000000;\" x=\"208.248964\" xlink:href=\"#mc963cbbbe9\" y=\"107.653255\"/>\r\n     <use style=\"stroke:#000000;\" x=\"296.17004\" xlink:href=\"#mc963cbbbe9\" y=\"61.388004\"/>\r\n     <use style=\"stroke:#000000;\" x=\"156.134403\" xlink:href=\"#mc963cbbbe9\" y=\"193.956666\"/>\r\n     <use style=\"stroke:#000000;\" x=\"116.119461\" xlink:href=\"#mc963cbbbe9\" y=\"124.634947\"/>\r\n     <use style=\"stroke:#000000;\" x=\"266.208878\" xlink:href=\"#mc963cbbbe9\" y=\"56.85013\"/>\r\n     <use style=\"stroke:#000000;\" x=\"321.460212\" xlink:href=\"#mc963cbbbe9\" y=\"88.74904\"/>\r\n     <use style=\"stroke:#000000;\" x=\"315.381674\" xlink:href=\"#mc963cbbbe9\" y=\"66.827195\"/>\r\n     <use style=\"stroke:#000000;\" x=\"163.715719\" xlink:href=\"#mc963cbbbe9\" y=\"144.790144\"/>\r\n     <use style=\"stroke:#000000;\" x=\"93.281221\" xlink:href=\"#mc963cbbbe9\" y=\"153.931579\"/>\r\n     <use style=\"stroke:#000000;\" x=\"172.42736\" xlink:href=\"#mc963cbbbe9\" y=\"166.123874\"/>\r\n     <use style=\"stroke:#000000;\" x=\"197.260735\" xlink:href=\"#mc963cbbbe9\" y=\"168.164691\"/>\r\n     <use style=\"stroke:#000000;\" x=\"50.778125\" xlink:href=\"#mc963cbbbe9\" y=\"154.847795\"/>\r\n     <use style=\"stroke:#000000;\" x=\"225.287016\" xlink:href=\"#mc963cbbbe9\" y=\"118.601921\"/>\r\n     <use style=\"stroke:#000000;\" x=\"323.667829\" xlink:href=\"#mc963cbbbe9\" y=\"130.75201\"/>\r\n     <use style=\"stroke:#000000;\" x=\"226.839435\" xlink:href=\"#mc963cbbbe9\" y=\"99.388532\"/>\r\n     <use style=\"stroke:#000000;\" x=\"151.341464\" xlink:href=\"#mc963cbbbe9\" y=\"151.549208\"/>\r\n     <use style=\"stroke:#000000;\" x=\"185.324221\" xlink:href=\"#mc963cbbbe9\" y=\"170.625889\"/>\r\n     <use style=\"stroke:#000000;\" x=\"160.436968\" xlink:href=\"#mc963cbbbe9\" y=\"171.976247\"/>\r\n     <use style=\"stroke:#000000;\" x=\"263.527241\" xlink:href=\"#mc963cbbbe9\" y=\"126.571115\"/>\r\n     <use style=\"stroke:#000000;\" x=\"128.48817\" xlink:href=\"#mc963cbbbe9\" y=\"106.235186\"/>\r\n     <use style=\"stroke:#000000;\" x=\"193.921355\" xlink:href=\"#mc963cbbbe9\" y=\"128.315922\"/>\r\n     <use style=\"stroke:#000000;\" x=\"88.168546\" xlink:href=\"#mc963cbbbe9\" y=\"152.823592\"/>\r\n     <use style=\"stroke:#000000;\" x=\"217.252411\" xlink:href=\"#mc963cbbbe9\" y=\"161.027738\"/>\r\n     <use style=\"stroke:#000000;\" x=\"243.892909\" xlink:href=\"#mc963cbbbe9\" y=\"112.036943\"/>\r\n     <use style=\"stroke:#000000;\" x=\"215.110291\" xlink:href=\"#mc963cbbbe9\" y=\"138.458405\"/>\r\n     <use style=\"stroke:#000000;\" x=\"274.488567\" xlink:href=\"#mc963cbbbe9\" y=\"43.95236\"/>\r\n     <use style=\"stroke:#000000;\" x=\"213.914574\" xlink:href=\"#mc963cbbbe9\" y=\"172.548755\"/>\r\n     <use style=\"stroke:#000000;\" x=\"214.610549\" xlink:href=\"#mc963cbbbe9\" y=\"95.276248\"/>\r\n     <use style=\"stroke:#000000;\" x=\"150.704484\" xlink:href=\"#mc963cbbbe9\" y=\"125.127565\"/>\r\n     <use style=\"stroke:#000000;\" x=\"174.249642\" xlink:href=\"#mc963cbbbe9\" y=\"121.215933\"/>\r\n     <use style=\"stroke:#000000;\" x=\"105.186104\" xlink:href=\"#mc963cbbbe9\" y=\"169.932894\"/>\r\n     <use style=\"stroke:#000000;\" x=\"320.909324\" xlink:href=\"#mc963cbbbe9\" y=\"86.767174\"/>\r\n     <use style=\"stroke:#000000;\" x=\"205.538702\" xlink:href=\"#mc963cbbbe9\" y=\"77.225073\"/>\r\n     <use style=\"stroke:#000000;\" x=\"153.833358\" xlink:href=\"#mc963cbbbe9\" y=\"115.42309\"/>\r\n     <use style=\"stroke:#000000;\" x=\"147.330401\" xlink:href=\"#mc963cbbbe9\" y=\"154.017998\"/>\r\n     <use style=\"stroke:#000000;\" x=\"263.334449\" xlink:href=\"#mc963cbbbe9\" y=\"144.653791\"/>\r\n     <use style=\"stroke:#000000;\" x=\"64.454513\" xlink:href=\"#mc963cbbbe9\" y=\"185.187762\"/>\r\n     <use style=\"stroke:#000000;\" x=\"348.524006\" xlink:href=\"#mc963cbbbe9\" y=\"107.35166\"/>\r\n     <use style=\"stroke:#000000;\" x=\"317.926213\" xlink:href=\"#mc963cbbbe9\" y=\"97.085382\"/>\r\n     <use style=\"stroke:#000000;\" x=\"276.240511\" xlink:href=\"#mc963cbbbe9\" y=\"119.768708\"/>\r\n     <use style=\"stroke:#000000;\" x=\"240.932358\" xlink:href=\"#mc963cbbbe9\" y=\"122.735713\"/>\r\n     <use style=\"stroke:#000000;\" x=\"315.18368\" xlink:href=\"#mc963cbbbe9\" y=\"134.889537\"/>\r\n     <use style=\"stroke:#000000;\" x=\"260.665456\" xlink:href=\"#mc963cbbbe9\" y=\"126.405967\"/>\r\n     <use style=\"stroke:#000000;\" x=\"99.173776\" xlink:href=\"#mc963cbbbe9\" y=\"97.955715\"/>\r\n     <use style=\"stroke:#000000;\" x=\"165.596458\" xlink:href=\"#mc963cbbbe9\" y=\"106.896182\"/>\r\n    </g>\r\n   </g>\r\n   <g id=\"line2d_15\">\r\n    <path clip-path=\"url(#p8b999adfc5)\" d=\"M 105.393211 152.615396 \r\nL 348.524006 83.865228 \r\nL 44.160369 169.930225 \r\nL 165.596458 135.591706 \r\n\" style=\"fill:none;stroke:#0000ff;stroke-linecap:square;stroke-width:1.5;\"/>\r\n   </g>\r\n   <g id=\"line2d_16\">\r\n    <path clip-path=\"url(#p8b999adfc5)\" d=\"M 105.393211 151.138635 \r\nL 348.524006 87.192144 \r\nL 44.160369 167.243651 \r\nL 165.596458 135.304415 \r\n\" style=\"fill:none;stroke:#ff0000;stroke-linecap:square;stroke-width:1.5;\"/>\r\n   </g>\r\n   <g id=\"patch_3\">\r\n    <path d=\"M 28.942188 224.64 \r\nL 28.942188 7.2 \r\n\" style=\"fill:none;stroke:#000000;stroke-linecap:square;stroke-linejoin:miter;stroke-width:0.8;\"/>\r\n   </g>\r\n   <g id=\"patch_4\">\r\n    <path d=\"M 363.742188 224.64 \r\nL 363.742188 7.2 \r\n\" style=\"fill:none;stroke:#000000;stroke-linecap:square;stroke-linejoin:miter;stroke-width:0.8;\"/>\r\n   </g>\r\n   <g id=\"patch_5\">\r\n    <path d=\"M 28.942188 224.64 \r\nL 363.742188 224.64 \r\n\" style=\"fill:none;stroke:#000000;stroke-linecap:square;stroke-linejoin:miter;stroke-width:0.8;\"/>\r\n   </g>\r\n   <g id=\"patch_6\">\r\n    <path d=\"M 28.942188 7.2 \r\nL 363.742188 7.2 \r\n\" style=\"fill:none;stroke:#000000;stroke-linecap:square;stroke-linejoin:miter;stroke-width:0.8;\"/>\r\n   </g>\r\n   <g id=\"legend_1\">\r\n    <g id=\"patch_7\">\r\n     <path d=\"M 35.942188 44.55625 \r\nL 83.390625 44.55625 \r\nQ 85.390625 44.55625 85.390625 42.55625 \r\nL 85.390625 14.2 \r\nQ 85.390625 12.2 83.390625 12.2 \r\nL 35.942188 12.2 \r\nQ 33.942188 12.2 33.942188 14.2 \r\nL 33.942188 42.55625 \r\nQ 33.942188 44.55625 35.942188 44.55625 \r\nz\r\n\" style=\"fill:#ffffff;opacity:0.8;stroke:#cccccc;stroke-linejoin:miter;\"/>\r\n    </g>\r\n    <g id=\"line2d_17\">\r\n     <path d=\"M 37.942188 20.298437 \r\nL 57.942188 20.298437 \r\n\" style=\"fill:none;stroke:#0000ff;stroke-linecap:square;stroke-width:1.5;\"/>\r\n    </g>\r\n    <g id=\"line2d_18\"/>\r\n    <g id=\"text_14\">\r\n     <!-- NE -->\r\n     <g transform=\"translate(65.942188 23.798437)scale(0.1 -0.1)\">\r\n      <defs>\r\n       <path d=\"M 9.8125 72.90625 \r\nL 23.09375 72.90625 \r\nL 55.421875 11.921875 \r\nL 55.421875 72.90625 \r\nL 64.984375 72.90625 \r\nL 64.984375 0 \r\nL 51.703125 0 \r\nL 19.390625 60.984375 \r\nL 19.390625 0 \r\nL 9.8125 0 \r\nz\r\n\" id=\"DejaVuSans-78\"/>\r\n       <path d=\"M 9.8125 72.90625 \r\nL 55.90625 72.90625 \r\nL 55.90625 64.59375 \r\nL 19.671875 64.59375 \r\nL 19.671875 43.015625 \r\nL 54.390625 43.015625 \r\nL 54.390625 34.71875 \r\nL 19.671875 34.71875 \r\nL 19.671875 8.296875 \r\nL 56.78125 8.296875 \r\nL 56.78125 0 \r\nL 9.8125 0 \r\nz\r\n\" id=\"DejaVuSans-69\"/>\r\n      </defs>\r\n      <use xlink:href=\"#DejaVuSans-78\"/>\r\n      <use x=\"74.804688\" xlink:href=\"#DejaVuSans-69\"/>\r\n     </g>\r\n    </g>\r\n    <g id=\"line2d_19\">\r\n     <path d=\"M 37.942188 34.976562 \r\nL 57.942188 34.976562 \r\n\" style=\"fill:none;stroke:#ff0000;stroke-linecap:square;stroke-width:1.5;\"/>\r\n    </g>\r\n    <g id=\"line2d_20\"/>\r\n    <g id=\"text_15\">\r\n     <!-- GD -->\r\n     <g transform=\"translate(65.942188 38.476562)scale(0.1 -0.1)\">\r\n      <defs>\r\n       <path d=\"M 59.515625 10.40625 \r\nL 59.515625 29.984375 \r\nL 43.40625 29.984375 \r\nL 43.40625 38.09375 \r\nL 69.28125 38.09375 \r\nL 69.28125 6.78125 \r\nQ 63.578125 2.734375 56.6875 0.65625 \r\nQ 49.8125 -1.421875 42 -1.421875 \r\nQ 24.90625 -1.421875 15.25 8.5625 \r\nQ 5.609375 18.5625 5.609375 36.375 \r\nQ 5.609375 54.25 15.25 64.234375 \r\nQ 24.90625 74.21875 42 74.21875 \r\nQ 49.125 74.21875 55.546875 72.453125 \r\nQ 61.96875 70.703125 67.390625 67.28125 \r\nL 67.390625 56.78125 \r\nQ 61.921875 61.421875 55.765625 63.765625 \r\nQ 49.609375 66.109375 42.828125 66.109375 \r\nQ 29.4375 66.109375 22.71875 58.640625 \r\nQ 16.015625 51.171875 16.015625 36.375 \r\nQ 16.015625 21.625 22.71875 14.15625 \r\nQ 29.4375 6.6875 42.828125 6.6875 \r\nQ 48.046875 6.6875 52.140625 7.59375 \r\nQ 56.25 8.5 59.515625 10.40625 \r\nz\r\n\" id=\"DejaVuSans-71\"/>\r\n       <path d=\"M 19.671875 64.796875 \r\nL 19.671875 8.109375 \r\nL 31.59375 8.109375 \r\nQ 46.6875 8.109375 53.6875 14.9375 \r\nQ 60.6875 21.78125 60.6875 36.53125 \r\nQ 60.6875 51.171875 53.6875 57.984375 \r\nQ 46.6875 64.796875 31.59375 64.796875 \r\nz\r\nM 9.8125 72.90625 \r\nL 30.078125 72.90625 \r\nQ 51.265625 72.90625 61.171875 64.09375 \r\nQ 71.09375 55.28125 71.09375 36.53125 \r\nQ 71.09375 17.671875 61.125 8.828125 \r\nQ 51.171875 0 30.078125 0 \r\nL 9.8125 0 \r\nz\r\n\" id=\"DejaVuSans-68\"/>\r\n      </defs>\r\n      <use xlink:href=\"#DejaVuSans-71\"/>\r\n      <use x=\"77.490234\" xlink:href=\"#DejaVuSans-68\"/>\r\n     </g>\r\n    </g>\r\n   </g>\r\n  </g>\r\n </g>\r\n <defs>\r\n  <clipPath id=\"p8b999adfc5\">\r\n   <rect height=\"217.44\" width=\"334.8\" x=\"28.942188\" y=\"7.2\"/>\r\n  </clipPath>\r\n </defs>\r\n</svg>\r\n",
      "image/png": "[encoded data removed]"
     },
     "metadata": {
      "needs_background": "light"
     }
    }
   ],
   "source": [
    "import matplotlib.pyplot as plt\n",
    "plt.plot(X.iloc[:,1], y, '.k') #산점도\n",
    "plt.plot(X.iloc[:,1], y_hat_NE, '-b', label = 'NE') #정규방정식\n",
    "plt.plot(X.iloc[:,1], y_hat_GD, '-r', label = 'GD') #경사하강법\n",
    "plt.legend()\n",
    "plt.show()"
   ]
  },
  {
   "cell_type": "code",
   "execution_count": null,
   "metadata": {},
   "outputs": [],
   "source": []
  }
 ],
 "metadata": {
  "kernelspec": {
   "display_name": "Python 3",
   "language": "python",
   "name": "python3"
  },
  "language_info": {
   "codemirror_mode": {
    "name": "ipython",
    "version": 3
   },
   "file_extension": ".py",
   "mimetype": "text/x-python",
   "name": "python",
   "nbconvert_exporter": "python",
   "pygments_lexer": "ipython3",
   "version": "3.8.5-final"
  }
 },
 "nbformat": 4,
 "nbformat_minor": 2
}
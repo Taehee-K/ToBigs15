{
 "cells": [
  {
   "cell_type": "markdown",
   "metadata": {},
   "source": [
    "# Tobig's 15기 2주차 Optimization 과제"
   ]
  },
  {
   "cell_type": "markdown",
   "metadata": {},
   "source": [
    "# Gradient Descent 구현하기\n",
    "\n",
    "### 1)\"...\"표시되어 있는 빈 칸을 채워주세요\n",
    "### 2)강의내용과 코드에 대해 공부한 내용을 마크마운 또는 주석으로 설명해주세요"
   ]
  },
  {
   "cell_type": "markdown",
   "metadata": {},
   "source": [
    "## 데이터"
   ]
  },
  {
   "cell_type": "code",
   "execution_count": 1,
   "metadata": {},
   "outputs": [],
   "source": [
    "import pandas as pd\n",
    "import numpy as np\n",
    "import random"
   ]
  },
  {
   "cell_type": "code",
   "execution_count": 2,
   "metadata": {},
   "outputs": [
    {
     "output_type": "execute_result",
     "data": {
      "text/plain": [
       "   Label  bias  experience  salary\n",
       "0      1     1         0.7   48000\n",
       "1      0     1         1.9   48000\n",
       "2      1     1         2.5   60000\n",
       "3      0     1         4.2   63000\n",
       "4      0     1         6.0   76000"
      ],
      "text/html": "<div>\n<style scoped>\n    .dataframe tbody tr th:only-of-type {\n        vertical-align: middle;\n    }\n\n    .dataframe tbody tr th {\n        vertical-align: top;\n    }\n\n    .dataframe thead th {\n        text-align: right;\n    }\n</style>\n<table border=\"1\" class=\"dataframe\">\n  <thead>\n    <tr style=\"text-align: right;\">\n      <th></th>\n      <th>Label</th>\n      <th>bias</th>\n      <th>experience</th>\n      <th>salary</th>\n    </tr>\n  </thead>\n  <tbody>\n    <tr>\n      <th>0</th>\n      <td>1</td>\n      <td>1</td>\n      <td>0.7</td>\n      <td>48000</td>\n    </tr>\n    <tr>\n      <th>1</th>\n      <td>0</td>\n      <td>1</td>\n      <td>1.9</td>\n      <td>48000</td>\n    </tr>\n    <tr>\n      <th>2</th>\n      <td>1</td>\n      <td>1</td>\n      <td>2.5</td>\n      <td>60000</td>\n    </tr>\n    <tr>\n      <th>3</th>\n      <td>0</td>\n      <td>1</td>\n      <td>4.2</td>\n      <td>63000</td>\n    </tr>\n    <tr>\n      <th>4</th>\n      <td>0</td>\n      <td>1</td>\n      <td>6.0</td>\n      <td>76000</td>\n    </tr>\n  </tbody>\n</table>\n</div>"
     },
     "metadata": {},
     "execution_count": 2
    }
   ],
   "source": [
    "data = pd.read_csv('assignment_2.csv')\n",
    "data.head()"
   ]
  },
  {
   "cell_type": "code",
   "execution_count": 3,
   "metadata": {},
   "outputs": [
    {
     "output_type": "execute_result",
     "data": {
      "text/plain": [
       "            Label   bias  experience         salary\n",
       "count  200.000000  200.0  200.000000     200.000000\n",
       "mean     0.260000    1.0    4.998000   66700.000000\n",
       "std      0.439735    0.0    2.847373   15536.955459\n",
       "min      0.000000    1.0    0.100000   30000.000000\n",
       "25%      0.000000    1.0    2.500000   56000.000000\n",
       "50%      0.000000    1.0    5.100000   65000.000000\n",
       "75%      1.000000    1.0    7.425000   77250.000000\n",
       "max      1.000000    1.0   10.000000  107000.000000"
      ],
      "text/html": "<div>\n<style scoped>\n    .dataframe tbody tr th:only-of-type {\n        vertical-align: middle;\n    }\n\n    .dataframe tbody tr th {\n        vertical-align: top;\n    }\n\n    .dataframe thead th {\n        text-align: right;\n    }\n</style>\n<table border=\"1\" class=\"dataframe\">\n  <thead>\n    <tr style=\"text-align: right;\">\n      <th></th>\n      <th>Label</th>\n      <th>bias</th>\n      <th>experience</th>\n      <th>salary</th>\n    </tr>\n  </thead>\n  <tbody>\n    <tr>\n      <th>count</th>\n      <td>200.000000</td>\n      <td>200.0</td>\n      <td>200.000000</td>\n      <td>200.000000</td>\n    </tr>\n    <tr>\n      <th>mean</th>\n      <td>0.260000</td>\n      <td>1.0</td>\n      <td>4.998000</td>\n      <td>66700.000000</td>\n    </tr>\n    <tr>\n      <th>std</th>\n      <td>0.439735</td>\n      <td>0.0</td>\n      <td>2.847373</td>\n      <td>15536.955459</td>\n    </tr>\n    <tr>\n      <th>min</th>\n      <td>0.000000</td>\n      <td>1.0</td>\n      <td>0.100000</td>\n      <td>30000.000000</td>\n    </tr>\n    <tr>\n      <th>25%</th>\n      <td>0.000000</td>\n      <td>1.0</td>\n      <td>2.500000</td>\n      <td>56000.000000</td>\n    </tr>\n    <tr>\n      <th>50%</th>\n      <td>0.000000</td>\n      <td>1.0</td>\n      <td>5.100000</td>\n      <td>65000.000000</td>\n    </tr>\n    <tr>\n      <th>75%</th>\n      <td>1.000000</td>\n      <td>1.0</td>\n      <td>7.425000</td>\n      <td>77250.000000</td>\n    </tr>\n    <tr>\n      <th>max</th>\n      <td>1.000000</td>\n      <td>1.0</td>\n      <td>10.000000</td>\n      <td>107000.000000</td>\n    </tr>\n  </tbody>\n</table>\n</div>"
     },
     "metadata": {},
     "execution_count": 3
    }
   ],
   "source": [
    "data.describe() #데이터 각 변수별 통계량 살펴보기"
   ]
  },
  {
   "cell_type": "markdown",
   "metadata": {},
   "source": [
    "## Train Test 데이터 나누기"
   ]
  },
  {
   "cell_type": "code",
   "execution_count": 4,
   "metadata": {},
   "outputs": [],
   "source": [
    "from sklearn.model_selection import train_test_split"
   ]
  },
  {
   "cell_type": "code",
   "execution_count": 5,
   "metadata": {},
   "outputs": [],
   "source": [
    "X_train, X_test, y_train, y_test = train_test_split(data.iloc[:, 1:], data.iloc[:, 0], test_size = 0.25, random_state = 0)"
   ]
  },
  {
   "cell_type": "code",
   "execution_count": 6,
   "metadata": {},
   "outputs": [
    {
     "output_type": "execute_result",
     "data": {
      "text/plain": [
       "((150, 3), (50, 3), (150,), (50,))"
      ]
     },
     "metadata": {},
     "execution_count": 6
    }
   ],
   "source": [
    "X_train.shape, X_test.shape, y_train.shape, y_test.shape"
   ]
  },
  {
   "cell_type": "markdown",
   "metadata": {},
   "source": [
    "## Scaling\n",
    "\n",
    "experience와 salary의 단위, 평균, 분산이 크게 차이나므로 scaler를 사용해 단위를 맞춰줍니다. "
   ]
  },
  {
   "cell_type": "code",
   "execution_count": 7,
   "metadata": {},
   "outputs": [
    {
     "output_type": "execute_result",
     "data": {
      "text/plain": [
       "   bias  experience    salary\n",
       "0     1    0.187893 -1.143335\n",
       "1     1    1.185555  0.043974\n",
       "2     1   -0.310938 -0.351795\n",
       "3     1   -1.629277 -1.341220\n",
       "4     1   -1.308600  0.043974"
      ],
      "text/html": "<div>\n<style scoped>\n    .dataframe tbody tr th:only-of-type {\n        vertical-align: middle;\n    }\n\n    .dataframe tbody tr th {\n        vertical-align: top;\n    }\n\n    .dataframe thead th {\n        text-align: right;\n    }\n</style>\n<table border=\"1\" class=\"dataframe\">\n  <thead>\n    <tr style=\"text-align: right;\">\n      <th></th>\n      <th>bias</th>\n      <th>experience</th>\n      <th>salary</th>\n    </tr>\n  </thead>\n  <tbody>\n    <tr>\n      <th>0</th>\n      <td>1</td>\n      <td>0.187893</td>\n      <td>-1.143335</td>\n    </tr>\n    <tr>\n      <th>1</th>\n      <td>1</td>\n      <td>1.185555</td>\n      <td>0.043974</td>\n    </tr>\n    <tr>\n      <th>2</th>\n      <td>1</td>\n      <td>-0.310938</td>\n      <td>-0.351795</td>\n    </tr>\n    <tr>\n      <th>3</th>\n      <td>1</td>\n      <td>-1.629277</td>\n      <td>-1.341220</td>\n    </tr>\n    <tr>\n      <th>4</th>\n      <td>1</td>\n      <td>-1.308600</td>\n      <td>0.043974</td>\n    </tr>\n  </tbody>\n</table>\n</div>"
     },
     "metadata": {},
     "execution_count": 7
    }
   ],
   "source": [
    "from sklearn.preprocessing import StandardScaler\n",
    "scaler = StandardScaler()\n",
    "bias_train = X_train[\"bias\"]\n",
    "bias_train = bias_train.reset_index()[\"bias\"]\n",
    "X_train = pd.DataFrame(scaler.fit_transform(X_train), columns = X_train.columns)\n",
    "X_train[\"bias\"] = bias_train\n",
    "X_train.head()"
   ]
  },
  {
   "source": [
    "이때 scaler는 X_train에 fit 해주시고, fit한 scaler를 X_test에 적용시켜줍니다.  \n",
    "똑같이 X_test에다 fit하면 안돼요!"
   ],
   "cell_type": "markdown",
   "metadata": {}
  },
  {
   "cell_type": "code",
   "execution_count": 8,
   "metadata": {},
   "outputs": [
    {
     "output_type": "execute_result",
     "data": {
      "text/plain": [
       "   bias  experience    salary\n",
       "0     1   -1.344231 -0.615642\n",
       "1     1    0.508570  0.307821\n",
       "2     1   -0.310938  0.571667\n",
       "3     1    1.363709  1.956862\n",
       "4     1   -0.987923 -0.747565"
      ],
      "text/html": "<div>\n<style scoped>\n    .dataframe tbody tr th:only-of-type {\n        vertical-align: middle;\n    }\n\n    .dataframe tbody tr th {\n        vertical-align: top;\n    }\n\n    .dataframe thead th {\n        text-align: right;\n    }\n</style>\n<table border=\"1\" class=\"dataframe\">\n  <thead>\n    <tr style=\"text-align: right;\">\n      <th></th>\n      <th>bias</th>\n      <th>experience</th>\n      <th>salary</th>\n    </tr>\n  </thead>\n  <tbody>\n    <tr>\n      <th>0</th>\n      <td>1</td>\n      <td>-1.344231</td>\n      <td>-0.615642</td>\n    </tr>\n    <tr>\n      <th>1</th>\n      <td>1</td>\n      <td>0.508570</td>\n      <td>0.307821</td>\n    </tr>\n    <tr>\n      <th>2</th>\n      <td>1</td>\n      <td>-0.310938</td>\n      <td>0.571667</td>\n    </tr>\n    <tr>\n      <th>3</th>\n      <td>1</td>\n      <td>1.363709</td>\n      <td>1.956862</td>\n    </tr>\n    <tr>\n      <th>4</th>\n      <td>1</td>\n      <td>-0.987923</td>\n      <td>-0.747565</td>\n    </tr>\n  </tbody>\n</table>\n</div>"
     },
     "metadata": {},
     "execution_count": 8
    }
   ],
   "source": [
    "bias_test = X_test[\"bias\"]\n",
    "bias_test = bias_test.reset_index()[\"bias\"]\n",
    "X_test = pd.DataFrame(scaler.transform(X_test), columns = X_test.columns)\n",
    "X_test[\"bias\"] = bias_test\n",
    "X_test.head()"
   ]
  },
  {
   "cell_type": "code",
   "execution_count": 9,
   "metadata": {},
   "outputs": [],
   "source": [
    "# parameter 개수\n",
    "N = len(X_train.loc[0])"
   ]
  },
  {
   "cell_type": "code",
   "execution_count": 10,
   "metadata": {},
   "outputs": [
    {
     "output_type": "execute_result",
     "data": {
      "text/plain": [
       "array([0.32876547, 0.76681066, 0.52472679])"
      ]
     },
     "metadata": {},
     "execution_count": 10
    }
   ],
   "source": [
    "# 초기 parameter들을 임의로 설정해줍니다.\n",
    "parameters = np.array([random.random() for i in range(N)])\n",
    "random_parameters = parameters.copy()\n",
    "parameters"
   ]
  },
  {
   "cell_type": "markdown",
   "metadata": {},
   "source": [
    "### * LaTeX   \n",
    "\n",
    "Jupyter Notebook은 LaTeX 문법으로 수식 입력을 지원하고 있습니다.  \n",
    "LaTeX문법으로 아래의 수식을 완성해주세요  \n",
    "http://triki.net/apps/3466  \n",
    "https://jjycjnmath.tistory.com/117"
   ]
  },
  {
   "cell_type": "markdown",
   "metadata": {},
   "source": [
    "## Dot product\n",
    "## $z = X_i \\theta$"
   ]
  },
  {
   "cell_type": "code",
   "execution_count": 11,
   "metadata": {},
   "outputs": [],
   "source": [
    "def dot_product(X, parameters):\n",
    "    z = 0\n",
    "    for i in range(len(parameters)):\n",
    "        z += np.dot(np.transpose(parameters),X)\n",
    "    return z"
   ]
  },
  {
   "cell_type": "markdown",
   "metadata": {},
   "source": [
    "## Logistic Function\n",
    "\n",
    "## $p = 1/(1+e^{-z})$\n",
    "\n"
   ]
  },
  {
   "cell_type": "code",
   "execution_count": 12,
   "metadata": {},
   "outputs": [],
   "source": [
    "def logistic(X, parameters):\n",
    "    z = dot_product(X, parameters)\n",
    "    p = 1/(1+np.exp(-z))    \n",
    "    return p"
   ]
  },
  {
   "cell_type": "code",
   "execution_count": 13,
   "metadata": {},
   "outputs": [
    {
     "output_type": "execute_result",
     "data": {
      "text/plain": [
       "0.9777477633385436"
      ]
     },
     "metadata": {},
     "execution_count": 13
    }
   ],
   "source": [
    "logistic(X_train.iloc[1], parameters)"
   ]
  },
  {
   "cell_type": "markdown",
   "metadata": {},
   "source": [
    "## Object function\n",
    "\n",
    "Object Function : 목적함수는 Gradient Descent를 통해 최적화 하고자 하는 함수입니다.  \n",
    "<br>\n",
    "선형 회귀의 목적함수\n",
    "## $l(\\theta) = \\frac{1}{2}\\Sigma(y_i - \\theta^{T}X_i)^2$  \n",
    "참고) $\\hat{y_i} = \\theta^{T}X_i$\n",
    "  \n",
    "로지스틱 회귀의 목적함수를 작성해주세요  \n",
    "(선형 회귀의 목적함수처럼 강의에 나온대로 작성해주세요. 평균을 고려하는 것은 뒤에 코드에서 수행합니다)\n",
    "\n",
    "Logistic Reression의 목적함수 Negative Log Likelihood = binary Cross Entropy = logistic regression cost function  \n",
    "## $l(p) = -\\Sigma \\begin{Bmatrix}y_{i}log p( X_{i} )+(1-y_{i})log(1-p(X_{i}))\\end{Bmatrix} $  \n"
   ]
  },
  {
   "cell_type": "code",
   "execution_count": 14,
   "metadata": {},
   "outputs": [],
   "source": [
    "def minus_log_cross_entropy_i(X, y, parameters):\n",
    "    p = logistic(X, parameters)\n",
    "    loss = -np.sum(y * np.log(logistic(X, parameters)/(1-logistic(X, parameters)))+np.log(1-logistic(X, parameters)))\n",
    "    return loss"
   ]
  },
  {
   "cell_type": "code",
   "execution_count": 15,
   "metadata": {},
   "outputs": [],
   "source": [
    "def mse_i(X, y, parameters):\n",
    "    y_hat = np.dot(np.transpose(parameters),X) \n",
    "    loss = (1/2)*np.sum((y-y_hat)**2)\n",
    "    return loss"
   ]
  },
  {
   "cell_type": "code",
   "execution_count": 16,
   "metadata": {},
   "outputs": [],
   "source": [
    "def batch_loss(X_set, y_set, parameters, loss_function, n): #n:현재 배치의 데이터 수\n",
    "    loss = 0\n",
    "    for i in range(X_set.shape[0]): #데이터 개수만큼 반복\n",
    "        X = X_set.iloc[i,:] #i번째 row의 데이터 (보든 column)\n",
    "        y = y_set.iloc[i]   #i번째 row\n",
    "        loss += loss_function(X,y,parameters) #loss function -> minus_log_cross_entropy_i\n",
    "    loss = loss/n #loss 평균값으로 계산\n",
    "    return loss"
   ]
  },
  {
   "cell_type": "code",
   "execution_count": 17,
   "metadata": {},
   "outputs": [
    {
     "output_type": "execute_result",
     "data": {
      "text/plain": [
       "2.5860836399663465"
      ]
     },
     "metadata": {},
     "execution_count": 17
    }
   ],
   "source": [
    "batch_loss(X_test, y_test, parameters, minus_log_cross_entropy_i, len(X_test))"
   ]
  },
  {
   "cell_type": "markdown",
   "metadata": {},
   "source": [
    "## Gradient\n",
    "위의 선형회귀의 목적함수 $l(\\theta)$와 로지스틱회귀의 목적함수 $l(p)$의 gradient를 작성해주세요  \n",
    "(위의 목적함수를 참고해서 작성해주세요 = 평균을 고려하는 것은 뒤에 코드에서 수행합니다)"
   ]
  },
  {
   "cell_type": "markdown",
   "metadata": {},
   "source": [
    "## ${\\partial\\over{\\partial \\theta_j}}l(\\theta)= -\\Sigma(y_i- \\theta^{T}X_i)X_{ij} $\n",
    "\n",
    "## ${\\partial\\over{\\partial \\theta_j}}l(p)= -\\Sigma  \\begin{pmatrix}y_{i}-p{i}\\end{pmatrix}x_{ij} $"
   ]
  },
  {
   "cell_type": "code",
   "execution_count": 18,
   "metadata": {},
   "outputs": [],
   "source": [
    "def get_gradient_ij(X, y, parameters, j, model):\n",
    "    # model -> logistic: 1/(1+np.exp(-z))  \n",
    "    if model == 'linear':\n",
    "        y_hat = np.dot(np.transpose(parameters),X) \n",
    "        gradient = -np.sum(y - y_hat)*X[j] #y_hat = theta transformed * X\n",
    "    else:\n",
    "        p = logistic(X, parameters)\n",
    "        gradient = -np.sum(y-p)*X[j]\n",
    "    return gradient"
   ]
  },
  {
   "cell_type": "code",
   "execution_count": 19,
   "metadata": {},
   "outputs": [
    {
     "output_type": "execute_result",
     "data": {
      "text/plain": [
       "-0.11164279710408523"
      ]
     },
     "metadata": {},
     "execution_count": 19
    }
   ],
   "source": [
    "get_gradient_ij(X_train.iloc[0,:], y_train.iloc[0], parameters, 1, 'logistic')"
   ]
  },
  {
   "cell_type": "markdown",
   "metadata": {},
   "source": [
    "## Batch Gradient\n",
    "하나의 배치 (X_set, y_set)에 대해 기울기를 구하는 코드를 작성해주세요"
   ]
  },
  {
   "cell_type": "code",
   "execution_count": 20,
   "metadata": {},
   "outputs": [],
   "source": [
    "#batch gradient -> 학습 한 번에 모든 데이터셋에 대해 기울기 구함\n",
    "def batch_gradient(X_set, y_set, parameters, model):\n",
    "    gradients = [0 for _ in range(len(parameters))]\n",
    "    \n",
    "    for i in range(len(X_set)):\n",
    "        X = X_set.iloc[i,:]\n",
    "        y = y_set.iloc[i]\n",
    "        for j in range(len(parameters)):\n",
    "            gradients[j] += get_gradient_ij(X,y,parameters,j,model)\n",
    "    \n",
    "    return gradients"
   ]
  },
  {
   "cell_type": "code",
   "execution_count": 21,
   "metadata": {},
   "outputs": [
    {
     "output_type": "execute_result",
     "data": {
      "text/plain": [
       "[43.32037458567106, 37.36425235825169, 62.973745833266044]"
      ]
     },
     "metadata": {},
     "execution_count": 21
    }
   ],
   "source": [
    "gradients1 = batch_gradient(X_train, y_train, parameters, 'logistic')\n",
    "gradients1"
   ]
  },
  {
   "cell_type": "markdown",
   "metadata": {},
   "source": [
    "## mini-batch\n",
    "인덱스로 미니 배치 나누기"
   ]
  },
  {
   "cell_type": "code",
   "execution_count": 22,
   "metadata": {},
   "outputs": [],
   "source": [
    "def batch_idx(X_train, batch_size):\n",
    "    N = len(X_train)\n",
    "    nb = (N // batch_size)+1 #number of batch\n",
    "    idx = np.array([i for i in range(N)])\n",
    "    idx_list = [idx[i*batch_size:(i+1)*batch_size] for i in range(nb) if len(idx[i*batch_size:(i+1)*batch_size]) != 0]\n",
    "    return idx_list"
   ]
  },
  {
   "cell_type": "markdown",
   "metadata": {},
   "source": [
    "batch_idx 함수에 대한 설명을 batch_size와 함께 간략하게 작성해주세요  \n",
    "### 설명: \n",
    "    전체 데이터셋을 mini-batch size로 지정된 batch_size만큼의 크기의 작은 단위로 나누어 학습에 사용될 때 사용되는 함수이다. \n",
    "    모든 데이터에 대해 가중치 평균을 구하는 것이 아닌, 전체 데이터에서 batch_size만큼의 일부 데이터를 묶음으로 학습을 진행시키기 위해 데이터를 batch 단위로 나누는 함수이다. "
   ]
  },
  {
   "cell_type": "markdown",
   "metadata": {},
   "source": [
    "## Update Parameters\n",
    "기울기를 갱신하는 코드를 작성해주세요  \n",
    "(loss와 마찬가지로 기울기를 갱신할 때 배치 사이즈를 고려해 평균으로 갱신해주세요)"
   ]
  },
  {
   "cell_type": "code",
   "execution_count": 23,
   "metadata": {},
   "outputs": [],
   "source": [
    "def step(parameters, gradients, learning_rate, n): #n:현재 배치의 데이터 수\n",
    "    for i in range(len(parameters)):\n",
    "        gradients[i] *= (1/n)*learning_rate\n",
    "    \n",
    "    parameters -= gradients\n",
    "    return parameters"
   ]
  },
  {
   "cell_type": "code",
   "execution_count": 24,
   "metadata": {},
   "outputs": [
    {
     "output_type": "execute_result",
     "data": {
      "text/plain": [
       "array([0.32587745, 0.76431971, 0.52052854])"
      ]
     },
     "metadata": {},
     "execution_count": 24
    }
   ],
   "source": [
    "step(parameters, gradients1, 0.01, len(X_train))"
   ]
  },
  {
   "cell_type": "markdown",
   "metadata": {},
   "source": [
    "## Gradient Descent\n",
    "위에서 작성한 함수들을 조합해서 경사하강법 함수를 완성해주세요\n",
    "\n",
    "- learning_rate: 학습률  \n",
    "- tolerance: Step이 너무 작아서 더 이상의 학습이 무의미할 때 학습을 멈추는 조건  \n",
    "- batch: 기울기를 1번 갱신할 때 사용하는 데이터셋  \n",
    "- epoch:  \n",
    "- num_epoch:\n",
    "<br>\n",
    "\n",
    "BGD: (Batch Gradient Descent) 학습 한 번에 모든 데이터셋에 대해 기울기를 구한다. Loss function을 미분하여 가중치 업데이트시 개별 데이터로 하기 보다 모든 데이터에 대한 Loss function의 평균을 기준으로 업데이트가 수행된다  \n",
    "SGD: (Stochastic Gradient Descent) 학습 한 번에 임의의 데이터에 대해서만 기울기를 구한다. 입력 데이터를 하나씩만 처리하면서 가중치를 업데이트 한다  \n",
    "MGD: (Mini Batch Gradient Descent) 학습 한 번에 데이터셋의 일부에 대해서만 기울기를 구한다. 전체 데이터에서 일부 데이터를 묶음방식으로 하여 해당 batch의 평균 가중치를 업데이트 한다\n",
    "<br>\n",
    "batch_size에 따른 경사하강법의 종류를 적어주세요  \n",
    "batch_size=1 -> SGD     \n",
    "batch_size=k -> MGD     \n",
    "batch_size=whole -> BGD     "
   ]
  },
  {
   "cell_type": "code",
   "execution_count": 25,
   "metadata": {},
   "outputs": [],
   "source": [
    "def gradient_descent(X_train, y_train, learning_rate = 0.1, num_epoch = 1000, tolerance = 0.00001, model = 'logistic', batch_size = 16):\n",
    "    stopper = False\n",
    "    \n",
    "    N = len(X_train.iloc[0])    #row 길이\n",
    "    parameters = np.random.rand(N)  #parameter 랜덤 값으로 초기화\n",
    "    loss_function = minus_log_cross_entropy_i if model == 'logistic' else mse_i\n",
    "    # linear/logistic 모델에 따라 loss function 다르게 설정\n",
    "    loss = 999\n",
    "    batch_idx_list = batch_idx(X_train, batch_size)\n",
    "    \n",
    "    for epoch in range(num_epoch):\n",
    "        if stopper:\n",
    "            break\n",
    "        for idx in batch_idx_list:  #batch 데이터의 개수만큼 반복\n",
    "            X_batch = X_train.iloc[idx,]\n",
    "            y_batch = y_train.iloc[idx]\n",
    "            gradients = batch_gradient(X_batch, y_batch, parameters, model)       #기울기 저장\n",
    "            parameters = step(parameters, gradients, learning_rate, len(X_batch))      #parameter 업데이트\n",
    "            new_loss = batch_loss(X_batch, y_batch, parameters, loss_function, len(X_batch))     #loss 업데이트\n",
    "\n",
    "            #중단 조건\n",
    "            if abs(new_loss - loss) < tolerance:\n",
    "                stopper = True\n",
    "                break\n",
    "            loss = new_loss\n",
    "        \n",
    "        #100epoch마다 학습 상태 출력\n",
    "        if epoch%100 == 0: #출력이 길게 나오면 check point를 수정해도 됩니다.\n",
    "            print(f\"epoch: {epoch}  loss: {new_loss}  params: {parameters}  gradients: {gradients}\")\n",
    "    \n",
    "    return parameters"
   ]
  },
  {
   "cell_type": "markdown",
   "metadata": {},
   "source": [
    "## Implement\n",
    "경사하강법 함수를 이용해 최적의 모수 찾아보세요. 학습을 진행할 때, Hyper Parameter를 바꿔가면서 학습시켜보세요."
   ]
  },
  {
   "cell_type": "markdown",
   "metadata": {},
   "source": [
    "## Logistic Regression"
   ]
  },
  {
   "cell_type": "code",
   "execution_count": 26,
   "metadata": {},
   "outputs": [
    {
     "output_type": "stream",
     "name": "stdout",
     "text": [
      "epoch: 0  loss: 2.318852877653708  params: [0.83100134 0.23173461 0.73196511]  gradients: [0.04926106486485194, 0.00862634175070132, 0.033216020066534825]\n",
      "epoch: 100  loss: 0.37863512023808277  params: [-0.36104461  0.51909881 -0.48989114]  gradients: [0.001024081186520662, -0.0040325498999503285, 0.003934051027611604]\n",
      "epoch: 200  loss: 0.32888860270005876  params: [-0.43596556  0.80163701 -0.76297674]  gradients: [0.0005731728148073762, -0.0020313885821684106, 0.001945152961472871]\n",
      "epoch: 300  loss: 0.313277245297891  params: [-0.48243017  0.96206209 -0.91574702]  gradients: [0.00037803209813107064, -0.001278868206059307, 0.0012112763203636387]\n",
      "epoch: 400  loss: 0.30649980072182104  params: [-0.51415929  1.06839028 -1.01609112]  gradients: [0.0002669905779285945, -0.0008876025862654395, 0.0008346940262582733]\n",
      "epoch: 500  loss: 0.30307275619224977  params: [-0.53708772  1.14426661 -1.08726403]  gradients: [0.00019716779310021069, -0.00064982031546808, 0.0006080376748652209]\n",
      "epoch: 600  loss: 0.3011808245359714  params: [-0.55427934  1.20077554 -1.14004203]  gradients: [0.00014998223537537734, -0.0004917841780848305, 0.00045849020127356995]\n"
     ]
    },
    {
     "output_type": "execute_result",
     "data": {
      "text/plain": [
       "array([-0.56362217,  1.23137214, -1.16853914])"
      ]
     },
     "metadata": {},
     "execution_count": 26
    }
   ],
   "source": [
    "# Batch Gradient Descent\n",
    "new_param_bgd = gradient_descent(X_train, y_train, batch_size = len(X_train))\n",
    "new_param_bgd"
   ]
  },
  {
   "cell_type": "code",
   "execution_count": 27,
   "metadata": {},
   "outputs": [
    {
     "output_type": "stream",
     "name": "stdout",
     "text": [
      "epoch: 0  loss: 0.15468395442987615  params: [-0.38002917  0.63833548 -0.80069905]  gradients: [0.015376024929281668, 0.008367647473192246, 0.010818428785768337]\n",
      "epoch: 100  loss: 0.05846954349463102  params: [-0.68128582  1.36653016 -1.41986693]  gradients: [0.00585006236543029, 0.003183609534665128, 0.004116049719208393]\n",
      "epoch: 200  loss: 0.058469543494588175  params: [-0.68128582  1.36653016 -1.41986693]  gradients: [0.005850062365426006, 0.003183609534662797, 0.0041160497192053785]\n",
      "epoch: 300  loss: 0.058469543494588175  params: [-0.68128582  1.36653016 -1.41986693]  gradients: [0.005850062365426006, 0.003183609534662797, 0.0041160497192053785]\n",
      "epoch: 400  loss: 0.058469543494588175  params: [-0.68128582  1.36653016 -1.41986693]  gradients: [0.005850062365426006, 0.003183609534662797, 0.0041160497192053785]\n",
      "epoch: 500  loss: 0.058469543494588175  params: [-0.68128582  1.36653016 -1.41986693]  gradients: [0.005850062365426006, 0.003183609534662797, 0.0041160497192053785]\n",
      "epoch: 600  loss: 0.058469543494588175  params: [-0.68128582  1.36653016 -1.41986693]  gradients: [0.005850062365426006, 0.003183609534662797, 0.0041160497192053785]\n",
      "epoch: 700  loss: 0.058469543494588175  params: [-0.68128582  1.36653016 -1.41986693]  gradients: [0.005850062365426006, 0.003183609534662797, 0.0041160497192053785]\n",
      "epoch: 800  loss: 0.058469543494588175  params: [-0.68128582  1.36653016 -1.41986693]  gradients: [0.005850062365426006, 0.003183609534662797, 0.0041160497192053785]\n",
      "epoch: 900  loss: 0.058469543494588175  params: [-0.68128582  1.36653016 -1.41986693]  gradients: [0.005850062365426006, 0.003183609534662797, 0.0041160497192053785]\n"
     ]
    },
    {
     "output_type": "execute_result",
     "data": {
      "text/plain": [
       "array([-0.68128582,  1.36653016, -1.41986693])"
      ]
     },
     "metadata": {},
     "execution_count": 27
    }
   ],
   "source": [
    "# Stochastic Gradient Descent\n",
    "new_param_sgd = gradient_descent(X_train, y_train, batch_size = 1)\n",
    "new_param_sgd"
   ]
  },
  {
   "cell_type": "code",
   "execution_count": 28,
   "metadata": {},
   "outputs": [
    {
     "output_type": "stream",
     "name": "stdout",
     "text": [
      "epoch: 0  loss: 1.873976425848945  params: [0.02596483 0.58202489 0.1489912 ]  gradients: [0.07037003042461486, 0.06445037336604187, 0.07842279165799576]\n",
      "epoch: 100  loss: 0.152453068779068  params: [-0.62929192  1.34659562 -1.32021775]  gradients: [0.00700128549509006, 0.010651194927941315, 0.012726800155854001]\n",
      "epoch: 200  loss: 0.1441486322398108  params: [-0.65724259  1.43274247 -1.40021357]  gradients: [0.0069103135092341604, 0.010544633541940893, 0.012312919932171174]\n",
      "epoch: 300  loss: 0.14285901965802306  params: [-0.66186664  1.44695277 -1.41337886]  gradients: [0.00689753314369868, 0.010528415637227695, 0.012248929585798799]\n",
      "epoch: 400  loss: 0.14263453492082856  params: [-0.66267999  1.44945117 -1.41569266]  gradients: [0.0068953454205583145, 0.010525601415155994, 0.012237798373055888]\n",
      "epoch: 500  loss: 0.1425947194399025  params: [-0.66282452  1.44989508 -1.41610373]  gradients: [0.006894958541575856, 0.010525102546451455, 0.01223582433541367]\n",
      "epoch: 600  loss: 0.14258763433016622  params: [-0.66285024  1.44997409 -1.41617691]  gradients: [0.006894889733118159, 0.010525013782055415, 0.012235473065636864]\n",
      "epoch: 700  loss: 0.14258637280726807  params: [-0.66285482  1.44998816 -1.41618993]  gradients: [0.006894877482731252, 0.010524997977587743, 0.012235410521343004]\n",
      "epoch: 800  loss: 0.1425861481663344  params: [-0.66285564  1.44999067 -1.41619225]  gradients: [0.006894875301326088, 0.010524995163275399, 0.012235399384011218]\n",
      "epoch: 900  loss: 0.14258610816350556  params: [-0.66285578  1.44999112 -1.41619267]  gradients: [0.006894874912874529, 0.010524994662118307, 0.012235397400736314]\n"
     ]
    },
    {
     "output_type": "execute_result",
     "data": {
      "text/plain": [
       "array([-0.66285581,  1.4499912 , -1.41619274])"
      ]
     },
     "metadata": {},
     "execution_count": 28
    }
   ],
   "source": [
    "# Mini Batch Gradient Descent\n",
    "new_param_mgd = gradient_descent(X_train, y_train, batch_size = 16)\n",
    "new_param_mgd"
   ]
  },
  {
   "cell_type": "markdown",
   "metadata": {},
   "source": [
    "### Predict Label"
   ]
  },
  {
   "cell_type": "code",
   "execution_count": 29,
   "metadata": {},
   "outputs": [],
   "source": [
    "y_predict = []\n",
    "for i in range(len(y_test)):\n",
    "    p = logistic(X_test.iloc[i,:], new_param_bgd)\n",
    "    if p> 0.5 :\n",
    "        y_predict.append(1)\n",
    "    else :\n",
    "        y_predict.append(0)\n",
    "y_predict_random = []\n",
    "for i in range(len(y_test)):\n",
    "    p = logistic(X_test.iloc[i,:], random_parameters)\n",
    "    if p> 0.5 :\n",
    "        y_predict_random.append(1)\n",
    "    else :\n",
    "        y_predict_random.append(0)"
   ]
  },
  {
   "cell_type": "markdown",
   "metadata": {},
   "source": [
    "### Confusion Matrix"
   ]
  },
  {
   "cell_type": "code",
   "execution_count": 30,
   "metadata": {},
   "outputs": [],
   "source": [
    "from sklearn.metrics import *"
   ]
  },
  {
   "cell_type": "code",
   "execution_count": 31,
   "metadata": {},
   "outputs": [
    {
     "output_type": "execute_result",
     "data": {
      "text/plain": [
       "array([[38,  2],\n",
       "       [ 2,  8]], dtype=int64)"
      ]
     },
     "metadata": {},
     "execution_count": 31
    }
   ],
   "source": [
    "tn, fp, fn, tp = confusion_matrix(y_test, y_predict).ravel()\n",
    "confusion_matrix(y_test, y_predict)"
   ]
  },
  {
   "cell_type": "code",
   "execution_count": 32,
   "metadata": {},
   "outputs": [
    {
     "output_type": "stream",
     "name": "stdout",
     "text": [
      "accuracy: 0.92\n"
     ]
    }
   ],
   "source": [
    "accuracy = (tp+tn) / (tp+fn+fp+tn)\n",
    "print(\"accuracy:\",accuracy)"
   ]
  },
  {
   "cell_type": "markdown",
   "metadata": {},
   "source": [
    "## Linear regression\n",
    "### $y = 0.5 + 2.7x$"
   ]
  },
  {
   "cell_type": "markdown",
   "metadata": {},
   "source": [
    "### Data"
   ]
  },
  {
   "cell_type": "code",
   "execution_count": 33,
   "metadata": {},
   "outputs": [],
   "source": [
    "raw_X = np.random.rand(150)\n",
    "y = 2.7*raw_X + 0.5 + np.random.randn(150)"
   ]
  },
  {
   "cell_type": "code",
   "execution_count": 34,
   "metadata": {},
   "outputs": [],
   "source": [
    "tmp = np.array([1 for _ in range(150)])\n",
    "X = np.vstack((tmp, raw_X)).T\n",
    "X = pd.DataFrame(X)\n",
    "y = pd.Series(y)"
   ]
  },
  {
   "cell_type": "markdown",
   "metadata": {},
   "source": [
    "### Estimation"
   ]
  },
  {
   "cell_type": "code",
   "execution_count": 35,
   "metadata": {},
   "outputs": [
    {
     "output_type": "execute_result",
     "data": {
      "text/plain": [
       "array([0.46619612, 3.09313148])"
      ]
     },
     "metadata": {},
     "execution_count": 35
    }
   ],
   "source": [
    "#정규방정식\n",
    "theta = np.linalg.inv(np.dot(X.T,X)).dot(X.T).dot(y)\n",
    "theta"
   ]
  },
  {
   "cell_type": "code",
   "execution_count": 36,
   "metadata": {},
   "outputs": [
    {
     "output_type": "stream",
     "name": "stdout",
     "text": [
      "epoch: 0  loss: 0.2940606940732295  params: [1.32748497 0.63382212]  gradients: [-0.015783191879843735, -0.00801551486726638]\n",
      "epoch: 100  loss: 0.5234868467811921  params: [0.51208544 2.91395821]  gradients: [0.04745797115151742, 0.04083782358643666]\n",
      "epoch: 200  loss: 0.5241120989840011  params: [0.50977179 2.91823804]  gradients: [0.0474860852776656, 0.04087540487336841]\n",
      "epoch: 300  loss: 0.5241133686974542  params: [0.5097671  2.91824673]  gradients: [0.047486142326738444, 0.040875481133166205]\n",
      "epoch: 400  loss: 0.5241133712739551  params: [0.50976709 2.91824674]  gradients: [0.047486142442502155, 0.040875481287912255]\n",
      "epoch: 500  loss: 0.5241133712791836  params: [0.50976709 2.91824674]  gradients: [0.047486142442737064, 0.04087548128822627]\n",
      "epoch: 600  loss: 0.5241133712791926  params: [0.50976709 2.91824674]  gradients: [0.047486142442737446, 0.0408754812882268]\n",
      "epoch: 700  loss: 0.5241133712791926  params: [0.50976709 2.91824674]  gradients: [0.047486142442737446, 0.0408754812882268]\n",
      "epoch: 800  loss: 0.5241133712791926  params: [0.50976709 2.91824674]  gradients: [0.047486142442737446, 0.0408754812882268]\n",
      "epoch: 900  loss: 0.5241133712791926  params: [0.50976709 2.91824674]  gradients: [0.047486142442737446, 0.0408754812882268]\n"
     ]
    },
    {
     "output_type": "execute_result",
     "data": {
      "text/plain": [
       "array([0.50976709, 2.91824674])"
      ]
     },
     "metadata": {},
     "execution_count": 36
    }
   ],
   "source": [
    "#경사하강법\n",
    "new_param = gradient_descent(X, y, learning_rate = 0.1, num_epoch = 1000, tolerance = 0.00001, model = 'linear', batch_size = 16)\n",
    "new_param"
   ]
  },
  {
   "cell_type": "code",
   "execution_count": 37,
   "metadata": {},
   "outputs": [],
   "source": [
    "y_hat_NE = theta.dot(X.T)\n",
    "y_hat_GD = new_param.dot(X.T)"
   ]
  },
  {
   "cell_type": "markdown",
   "metadata": {},
   "source": [
    "### Visualization\n",
    "시각화를 통해 정규방정식과 경사하강법을 통한 선형회귀를 비교해보세요  \n",
    "(밑의 코드를 실행만 시키면 됩니다. 추가 코드 x)"
   ]
  },
  {
   "cell_type": "code",
   "execution_count": 39,
   "metadata": {},
   "outputs": [
    {
     "output_type": "display_data",
     "data": {
      "text/plain": "<Figure size 432x288 with 1 Axes>",
      "image/svg+xml": "<?xml version=\"1.0\" encoding=\"utf-8\" standalone=\"no\"?>\r\n<!DOCTYPE svg PUBLIC \"-//W3C//DTD SVG 1.1//EN\"\r\n  \"http://www.w3.org/Graphics/SVG/1.1/DTD/svg11.dtd\">\r\n<!-- Created with matplotlib (https://matplotlib.org/) -->\r\n<svg height=\"248.518125pt\" version=\"1.1\" viewBox=\"0 0 375.081777 248.518125\" width=\"375.081777pt\" xmlns=\"http://www.w3.org/2000/svg\" xmlns:xlink=\"http://www.w3.org/1999/xlink\">\r\n <metadata>\r\n  <rdf:RDF xmlns:cc=\"http://creativecommons.org/ns#\" xmlns:dc=\"http://purl.org/dc/elements/1.1/\" xmlns:rdf=\"http://www.w3.org/1999/02/22-rdf-syntax-ns#\">\r\n   <cc:Work>\r\n    <dc:type rdf:resource=\"http://purl.org/dc/dcmitype/StillImage\"/>\r\n    <dc:date>2021-02-13T19:16:40.579786</dc:date>\r\n    <dc:format>image/svg+xml</dc:format>\r\n    <dc:creator>\r\n     <cc:Agent>\r\n      <dc:title>Matplotlib v3.3.2, https://matplotlib.org/</dc:title>\r\n     </cc:Agent>\r\n    </dc:creator>\r\n   </cc:Work>\r\n  </rdf:RDF>\r\n </metadata>\r\n <defs>\r\n  <style type=\"text/css\">*{stroke-linecap:butt;stroke-linejoin:round;}</style>\r\n </defs>\r\n <g id=\"figure_1\">\r\n  <g id=\"patch_1\">\r\n   <path d=\"M 0 248.518125 \r\nL 375.081777 248.518125 \r\nL 375.081777 0 \r\nL 0 0 \r\nz\r\n\" style=\"fill:none;\"/>\r\n  </g>\r\n  <g id=\"axes_1\">\r\n   <g id=\"patch_2\">\r\n    <path d=\"M 28.942188 224.64 \r\nL 363.742188 224.64 \r\nL 363.742188 7.2 \r\nL 28.942188 7.2 \r\nz\r\n\" style=\"fill:#ffffff;\"/>\r\n   </g>\r\n   <g id=\"matplotlib.axis_1\">\r\n    <g id=\"xtick_1\">\r\n     <g id=\"line2d_1\">\r\n      <defs>\r\n       <path d=\"M 0 0 \r\nL 0 3.5 \r\n\" id=\"m80ed352fd7\" style=\"stroke:#000000;stroke-width:0.8;\"/>\r\n      </defs>\r\n      <g>\r\n       <use style=\"stroke:#000000;stroke-width:0.8;\" x=\"34.585534\" xlink:href=\"#m80ed352fd7\" y=\"224.64\"/>\r\n      </g>\r\n     </g>\r\n     <g id=\"text_1\">\r\n      <!-- 0.0 -->\r\n      <g transform=\"translate(26.633972 239.238437)scale(0.1 -0.1)\">\r\n       <defs>\r\n        <path d=\"M 31.78125 66.40625 \r\nQ 24.171875 66.40625 20.328125 58.90625 \r\nQ 16.5 51.421875 16.5 36.375 \r\nQ 16.5 21.390625 20.328125 13.890625 \r\nQ 24.171875 6.390625 31.78125 6.390625 \r\nQ 39.453125 6.390625 43.28125 13.890625 \r\nQ 47.125 21.390625 47.125 36.375 \r\nQ 47.125 51.421875 43.28125 58.90625 \r\nQ 39.453125 66.40625 31.78125 66.40625 \r\nz\r\nM 31.78125 74.21875 \r\nQ 44.046875 74.21875 50.515625 64.515625 \r\nQ 56.984375 54.828125 56.984375 36.375 \r\nQ 56.984375 17.96875 50.515625 8.265625 \r\nQ 44.046875 -1.421875 31.78125 -1.421875 \r\nQ 19.53125 -1.421875 13.0625 8.265625 \r\nQ 6.59375 17.96875 6.59375 36.375 \r\nQ 6.59375 54.828125 13.0625 64.515625 \r\nQ 19.53125 74.21875 31.78125 74.21875 \r\nz\r\n\" id=\"DejaVuSans-48\"/>\r\n        <path d=\"M 10.6875 12.40625 \r\nL 21 12.40625 \r\nL 21 0 \r\nL 10.6875 0 \r\nz\r\n\" id=\"DejaVuSans-46\"/>\r\n       </defs>\r\n       <use xlink:href=\"#DejaVuSans-48\"/>\r\n       <use x=\"63.623047\" xlink:href=\"#DejaVuSans-46\"/>\r\n       <use x=\"95.410156\" xlink:href=\"#DejaVuSans-48\"/>\r\n      </g>\r\n     </g>\r\n    </g>\r\n    <g id=\"xtick_2\">\r\n     <g id=\"line2d_2\">\r\n      <g>\r\n       <use style=\"stroke:#000000;stroke-width:0.8;\" x=\"99.65447\" xlink:href=\"#m80ed352fd7\" y=\"224.64\"/>\r\n      </g>\r\n     </g>\r\n     <g id=\"text_2\">\r\n      <!-- 0.2 -->\r\n      <g transform=\"translate(91.702908 239.238437)scale(0.1 -0.1)\">\r\n       <defs>\r\n        <path d=\"M 19.1875 8.296875 \r\nL 53.609375 8.296875 \r\nL 53.609375 0 \r\nL 7.328125 0 \r\nL 7.328125 8.296875 \r\nQ 12.9375 14.109375 22.625 23.890625 \r\nQ 32.328125 33.6875 34.8125 36.53125 \r\nQ 39.546875 41.84375 41.421875 45.53125 \r\nQ 43.3125 49.21875 43.3125 52.78125 \r\nQ 43.3125 58.59375 39.234375 62.25 \r\nQ 35.15625 65.921875 28.609375 65.921875 \r\nQ 23.96875 65.921875 18.8125 64.3125 \r\nQ 13.671875 62.703125 7.8125 59.421875 \r\nL 7.8125 69.390625 \r\nQ 13.765625 71.78125 18.9375 73 \r\nQ 24.125 74.21875 28.421875 74.21875 \r\nQ 39.75 74.21875 46.484375 68.546875 \r\nQ 53.21875 62.890625 53.21875 53.421875 \r\nQ 53.21875 48.921875 51.53125 44.890625 \r\nQ 49.859375 40.875 45.40625 35.40625 \r\nQ 44.1875 33.984375 37.640625 27.21875 \r\nQ 31.109375 20.453125 19.1875 8.296875 \r\nz\r\n\" id=\"DejaVuSans-50\"/>\r\n       </defs>\r\n       <use xlink:href=\"#DejaVuSans-48\"/>\r\n       <use x=\"63.623047\" xlink:href=\"#DejaVuSans-46\"/>\r\n       <use x=\"95.410156\" xlink:href=\"#DejaVuSans-50\"/>\r\n      </g>\r\n     </g>\r\n    </g>\r\n    <g id=\"xtick_3\">\r\n     <g id=\"line2d_3\">\r\n      <g>\r\n       <use style=\"stroke:#000000;stroke-width:0.8;\" x=\"164.723406\" xlink:href=\"#m80ed352fd7\" y=\"224.64\"/>\r\n      </g>\r\n     </g>\r\n     <g id=\"text_3\">\r\n      <!-- 0.4 -->\r\n      <g transform=\"translate(156.771844 239.238437)scale(0.1 -0.1)\">\r\n       <defs>\r\n        <path d=\"M 37.796875 64.3125 \r\nL 12.890625 25.390625 \r\nL 37.796875 25.390625 \r\nz\r\nM 35.203125 72.90625 \r\nL 47.609375 72.90625 \r\nL 47.609375 25.390625 \r\nL 58.015625 25.390625 \r\nL 58.015625 17.1875 \r\nL 47.609375 17.1875 \r\nL 47.609375 0 \r\nL 37.796875 0 \r\nL 37.796875 17.1875 \r\nL 4.890625 17.1875 \r\nL 4.890625 26.703125 \r\nz\r\n\" id=\"DejaVuSans-52\"/>\r\n       </defs>\r\n       <use xlink:href=\"#DejaVuSans-48\"/>\r\n       <use x=\"63.623047\" xlink:href=\"#DejaVuSans-46\"/>\r\n       <use x=\"95.410156\" xlink:href=\"#DejaVuSans-52\"/>\r\n      </g>\r\n     </g>\r\n    </g>\r\n    <g id=\"xtick_4\">\r\n     <g id=\"line2d_4\">\r\n      <g>\r\n       <use style=\"stroke:#000000;stroke-width:0.8;\" x=\"229.792342\" xlink:href=\"#m80ed352fd7\" y=\"224.64\"/>\r\n      </g>\r\n     </g>\r\n     <g id=\"text_4\">\r\n      <!-- 0.6 -->\r\n      <g transform=\"translate(221.84078 239.238437)scale(0.1 -0.1)\">\r\n       <defs>\r\n        <path d=\"M 33.015625 40.375 \r\nQ 26.375 40.375 22.484375 35.828125 \r\nQ 18.609375 31.296875 18.609375 23.390625 \r\nQ 18.609375 15.53125 22.484375 10.953125 \r\nQ 26.375 6.390625 33.015625 6.390625 \r\nQ 39.65625 6.390625 43.53125 10.953125 \r\nQ 47.40625 15.53125 47.40625 23.390625 \r\nQ 47.40625 31.296875 43.53125 35.828125 \r\nQ 39.65625 40.375 33.015625 40.375 \r\nz\r\nM 52.59375 71.296875 \r\nL 52.59375 62.3125 \r\nQ 48.875 64.0625 45.09375 64.984375 \r\nQ 41.3125 65.921875 37.59375 65.921875 \r\nQ 27.828125 65.921875 22.671875 59.328125 \r\nQ 17.53125 52.734375 16.796875 39.40625 \r\nQ 19.671875 43.65625 24.015625 45.921875 \r\nQ 28.375 48.1875 33.59375 48.1875 \r\nQ 44.578125 48.1875 50.953125 41.515625 \r\nQ 57.328125 34.859375 57.328125 23.390625 \r\nQ 57.328125 12.15625 50.6875 5.359375 \r\nQ 44.046875 -1.421875 33.015625 -1.421875 \r\nQ 20.359375 -1.421875 13.671875 8.265625 \r\nQ 6.984375 17.96875 6.984375 36.375 \r\nQ 6.984375 53.65625 15.1875 63.9375 \r\nQ 23.390625 74.21875 37.203125 74.21875 \r\nQ 40.921875 74.21875 44.703125 73.484375 \r\nQ 48.484375 72.75 52.59375 71.296875 \r\nz\r\n\" id=\"DejaVuSans-54\"/>\r\n       </defs>\r\n       <use xlink:href=\"#DejaVuSans-48\"/>\r\n       <use x=\"63.623047\" xlink:href=\"#DejaVuSans-46\"/>\r\n       <use x=\"95.410156\" xlink:href=\"#DejaVuSans-54\"/>\r\n      </g>\r\n     </g>\r\n    </g>\r\n    <g id=\"xtick_5\">\r\n     <g id=\"line2d_5\">\r\n      <g>\r\n       <use style=\"stroke:#000000;stroke-width:0.8;\" x=\"294.861278\" xlink:href=\"#m80ed352fd7\" y=\"224.64\"/>\r\n      </g>\r\n     </g>\r\n     <g id=\"text_5\">\r\n      <!-- 0.8 -->\r\n      <g transform=\"translate(286.909716 239.238437)scale(0.1 -0.1)\">\r\n       <defs>\r\n        <path d=\"M 31.78125 34.625 \r\nQ 24.75 34.625 20.71875 30.859375 \r\nQ 16.703125 27.09375 16.703125 20.515625 \r\nQ 16.703125 13.921875 20.71875 10.15625 \r\nQ 24.75 6.390625 31.78125 6.390625 \r\nQ 38.8125 6.390625 42.859375 10.171875 \r\nQ 46.921875 13.96875 46.921875 20.515625 \r\nQ 46.921875 27.09375 42.890625 30.859375 \r\nQ 38.875 34.625 31.78125 34.625 \r\nz\r\nM 21.921875 38.8125 \r\nQ 15.578125 40.375 12.03125 44.71875 \r\nQ 8.5 49.078125 8.5 55.328125 \r\nQ 8.5 64.0625 14.71875 69.140625 \r\nQ 20.953125 74.21875 31.78125 74.21875 \r\nQ 42.671875 74.21875 48.875 69.140625 \r\nQ 55.078125 64.0625 55.078125 55.328125 \r\nQ 55.078125 49.078125 51.53125 44.71875 \r\nQ 48 40.375 41.703125 38.8125 \r\nQ 48.828125 37.15625 52.796875 32.3125 \r\nQ 56.78125 27.484375 56.78125 20.515625 \r\nQ 56.78125 9.90625 50.3125 4.234375 \r\nQ 43.84375 -1.421875 31.78125 -1.421875 \r\nQ 19.734375 -1.421875 13.25 4.234375 \r\nQ 6.78125 9.90625 6.78125 20.515625 \r\nQ 6.78125 27.484375 10.78125 32.3125 \r\nQ 14.796875 37.15625 21.921875 38.8125 \r\nz\r\nM 18.3125 54.390625 \r\nQ 18.3125 48.734375 21.84375 45.5625 \r\nQ 25.390625 42.390625 31.78125 42.390625 \r\nQ 38.140625 42.390625 41.71875 45.5625 \r\nQ 45.3125 48.734375 45.3125 54.390625 \r\nQ 45.3125 60.0625 41.71875 63.234375 \r\nQ 38.140625 66.40625 31.78125 66.40625 \r\nQ 25.390625 66.40625 21.84375 63.234375 \r\nQ 18.3125 60.0625 18.3125 54.390625 \r\nz\r\n\" id=\"DejaVuSans-56\"/>\r\n       </defs>\r\n       <use xlink:href=\"#DejaVuSans-48\"/>\r\n       <use x=\"63.623047\" xlink:href=\"#DejaVuSans-46\"/>\r\n       <use x=\"95.410156\" xlink:href=\"#DejaVuSans-56\"/>\r\n      </g>\r\n     </g>\r\n    </g>\r\n    <g id=\"xtick_6\">\r\n     <g id=\"line2d_6\">\r\n      <g>\r\n       <use style=\"stroke:#000000;stroke-width:0.8;\" x=\"359.930214\" xlink:href=\"#m80ed352fd7\" y=\"224.64\"/>\r\n      </g>\r\n     </g>\r\n     <g id=\"text_6\">\r\n      <!-- 1.0 -->\r\n      <g transform=\"translate(351.978652 239.238437)scale(0.1 -0.1)\">\r\n       <defs>\r\n        <path d=\"M 12.40625 8.296875 \r\nL 28.515625 8.296875 \r\nL 28.515625 63.921875 \r\nL 10.984375 60.40625 \r\nL 10.984375 69.390625 \r\nL 28.421875 72.90625 \r\nL 38.28125 72.90625 \r\nL 38.28125 8.296875 \r\nL 54.390625 8.296875 \r\nL 54.390625 0 \r\nL 12.40625 0 \r\nz\r\n\" id=\"DejaVuSans-49\"/>\r\n       </defs>\r\n       <use xlink:href=\"#DejaVuSans-49\"/>\r\n       <use x=\"63.623047\" xlink:href=\"#DejaVuSans-46\"/>\r\n       <use x=\"95.410156\" xlink:href=\"#DejaVuSans-48\"/>\r\n      </g>\r\n     </g>\r\n    </g>\r\n   </g>\r\n   <g id=\"matplotlib.axis_2\">\r\n    <g id=\"ytick_1\">\r\n     <g id=\"line2d_7\">\r\n      <defs>\r\n       <path d=\"M 0 0 \r\nL -3.5 0 \r\n\" id=\"m86a0328d9c\" style=\"stroke:#000000;stroke-width:0.8;\"/>\r\n      </defs>\r\n      <g>\r\n       <use style=\"stroke:#000000;stroke-width:0.8;\" x=\"28.942188\" xlink:href=\"#m86a0328d9c\" y=\"220.586906\"/>\r\n      </g>\r\n     </g>\r\n     <g id=\"text_7\">\r\n      <!-- −2 -->\r\n      <g transform=\"translate(7.2 224.386125)scale(0.1 -0.1)\">\r\n       <defs>\r\n        <path d=\"M 10.59375 35.5 \r\nL 73.1875 35.5 \r\nL 73.1875 27.203125 \r\nL 10.59375 27.203125 \r\nz\r\n\" id=\"DejaVuSans-8722\"/>\r\n       </defs>\r\n       <use xlink:href=\"#DejaVuSans-8722\"/>\r\n       <use x=\"83.789062\" xlink:href=\"#DejaVuSans-50\"/>\r\n      </g>\r\n     </g>\r\n    </g>\r\n    <g id=\"ytick_2\">\r\n     <g id=\"line2d_8\">\r\n      <g>\r\n       <use style=\"stroke:#000000;stroke-width:0.8;\" x=\"28.942188\" xlink:href=\"#m86a0328d9c\" y=\"173.676644\"/>\r\n      </g>\r\n     </g>\r\n     <g id=\"text_8\">\r\n      <!-- 0 -->\r\n      <g transform=\"translate(15.579688 177.475863)scale(0.1 -0.1)\">\r\n       <use xlink:href=\"#DejaVuSans-48\"/>\r\n      </g>\r\n     </g>\r\n    </g>\r\n    <g id=\"ytick_3\">\r\n     <g id=\"line2d_9\">\r\n      <g>\r\n       <use style=\"stroke:#000000;stroke-width:0.8;\" x=\"28.942188\" xlink:href=\"#m86a0328d9c\" y=\"126.766382\"/>\r\n      </g>\r\n     </g>\r\n     <g id=\"text_9\">\r\n      <!-- 2 -->\r\n      <g transform=\"translate(15.579688 130.5656)scale(0.1 -0.1)\">\r\n       <use xlink:href=\"#DejaVuSans-50\"/>\r\n      </g>\r\n     </g>\r\n    </g>\r\n    <g id=\"ytick_4\">\r\n     <g id=\"line2d_10\">\r\n      <g>\r\n       <use style=\"stroke:#000000;stroke-width:0.8;\" x=\"28.942188\" xlink:href=\"#m86a0328d9c\" y=\"79.856119\"/>\r\n      </g>\r\n     </g>\r\n     <g id=\"text_10\">\r\n      <!-- 4 -->\r\n      <g transform=\"translate(15.579688 83.655338)scale(0.1 -0.1)\">\r\n       <use xlink:href=\"#DejaVuSans-52\"/>\r\n      </g>\r\n     </g>\r\n    </g>\r\n    <g id=\"ytick_5\">\r\n     <g id=\"line2d_11\">\r\n      <g>\r\n       <use style=\"stroke:#000000;stroke-width:0.8;\" x=\"28.942188\" xlink:href=\"#m86a0328d9c\" y=\"32.945857\"/>\r\n      </g>\r\n     </g>\r\n     <g id=\"text_11\">\r\n      <!-- 6 -->\r\n      <g transform=\"translate(15.579688 36.745075)scale(0.1 -0.1)\">\r\n       <use xlink:href=\"#DejaVuSans-54\"/>\r\n      </g>\r\n     </g>\r\n    </g>\r\n   </g>\r\n   <g id=\"line2d_12\">\r\n    <defs>\r\n     <path d=\"M 0 1.5 \r\nC 0.397805 1.5 0.77937 1.341951 1.06066 1.06066 \r\nC 1.341951 0.77937 1.5 0.397805 1.5 0 \r\nC 1.5 -0.397805 1.341951 -0.77937 1.06066 -1.06066 \r\nC 0.77937 -1.341951 0.397805 -1.5 0 -1.5 \r\nC -0.397805 -1.5 -0.77937 -1.341951 -1.06066 -1.06066 \r\nC -1.341951 -0.77937 -1.5 -0.397805 -1.5 0 \r\nC -1.5 0.397805 -1.341951 0.77937 -1.06066 1.06066 \r\nC -0.77937 1.341951 -0.397805 1.5 0 1.5 \r\nz\r\n\" id=\"m6cf1b6da6f\" style=\"stroke:#000000;\"/>\r\n    </defs>\r\n    <g clip-path=\"url(#p8311e5a727)\">\r\n     <use style=\"stroke:#000000;\" x=\"58.627049\" xlink:href=\"#m6cf1b6da6f\" y=\"154.801683\"/>\r\n     <use style=\"stroke:#000000;\" x=\"68.597393\" xlink:href=\"#m6cf1b6da6f\" y=\"175.044252\"/>\r\n     <use style=\"stroke:#000000;\" x=\"162.722094\" xlink:href=\"#m6cf1b6da6f\" y=\"117.5149\"/>\r\n     <use style=\"stroke:#000000;\" x=\"165.385224\" xlink:href=\"#m6cf1b6da6f\" y=\"124.708941\"/>\r\n     <use style=\"stroke:#000000;\" x=\"246.16122\" xlink:href=\"#m6cf1b6da6f\" y=\"118.491817\"/>\r\n     <use style=\"stroke:#000000;\" x=\"332.327595\" xlink:href=\"#m6cf1b6da6f\" y=\"130.096432\"/>\r\n     <use style=\"stroke:#000000;\" x=\"128.292543\" xlink:href=\"#m6cf1b6da6f\" y=\"131.09603\"/>\r\n     <use style=\"stroke:#000000;\" x=\"163.740701\" xlink:href=\"#m6cf1b6da6f\" y=\"99.613745\"/>\r\n     <use style=\"stroke:#000000;\" x=\"335.885291\" xlink:href=\"#m6cf1b6da6f\" y=\"77.660539\"/>\r\n     <use style=\"stroke:#000000;\" x=\"263.353243\" xlink:href=\"#m6cf1b6da6f\" y=\"130.020341\"/>\r\n     <use style=\"stroke:#000000;\" x=\"263.477148\" xlink:href=\"#m6cf1b6da6f\" y=\"123.89819\"/>\r\n     <use style=\"stroke:#000000;\" x=\"71.193082\" xlink:href=\"#m6cf1b6da6f\" y=\"185.307887\"/>\r\n     <use style=\"stroke:#000000;\" x=\"348.524006\" xlink:href=\"#m6cf1b6da6f\" y=\"115.728142\"/>\r\n     <use style=\"stroke:#000000;\" x=\"281.362429\" xlink:href=\"#m6cf1b6da6f\" y=\"79.720554\"/>\r\n     <use style=\"stroke:#000000;\" x=\"337.548901\" xlink:href=\"#m6cf1b6da6f\" y=\"97.242825\"/>\r\n     <use style=\"stroke:#000000;\" x=\"144.57389\" xlink:href=\"#m6cf1b6da6f\" y=\"189.113168\"/>\r\n     <use style=\"stroke:#000000;\" x=\"153.235281\" xlink:href=\"#m6cf1b6da6f\" y=\"156.227891\"/>\r\n     <use style=\"stroke:#000000;\" x=\"104.880032\" xlink:href=\"#m6cf1b6da6f\" y=\"163.511433\"/>\r\n     <use style=\"stroke:#000000;\" x=\"245.975031\" xlink:href=\"#m6cf1b6da6f\" y=\"132.464564\"/>\r\n     <use style=\"stroke:#000000;\" x=\"90.086112\" xlink:href=\"#m6cf1b6da6f\" y=\"164.955261\"/>\r\n     <use style=\"stroke:#000000;\" x=\"185.2256\" xlink:href=\"#m6cf1b6da6f\" y=\"122.820435\"/>\r\n     <use style=\"stroke:#000000;\" x=\"88.321621\" xlink:href=\"#m6cf1b6da6f\" y=\"159.14452\"/>\r\n     <use style=\"stroke:#000000;\" x=\"269.076318\" xlink:href=\"#m6cf1b6da6f\" y=\"98.361577\"/>\r\n     <use style=\"stroke:#000000;\" x=\"318.638059\" xlink:href=\"#m6cf1b6da6f\" y=\"94.56801\"/>\r\n     <use style=\"stroke:#000000;\" x=\"301.506768\" xlink:href=\"#m6cf1b6da6f\" y=\"114.182157\"/>\r\n     <use style=\"stroke:#000000;\" x=\"112.01633\" xlink:href=\"#m6cf1b6da6f\" y=\"147.260719\"/>\r\n     <use style=\"stroke:#000000;\" x=\"80.093605\" xlink:href=\"#m6cf1b6da6f\" y=\"127.873394\"/>\r\n     <use style=\"stroke:#000000;\" x=\"229.455472\" xlink:href=\"#m6cf1b6da6f\" y=\"137.111153\"/>\r\n     <use style=\"stroke:#000000;\" x=\"193.170959\" xlink:href=\"#m6cf1b6da6f\" y=\"139.593622\"/>\r\n     <use style=\"stroke:#000000;\" x=\"178.952442\" xlink:href=\"#m6cf1b6da6f\" y=\"158.237757\"/>\r\n     <use style=\"stroke:#000000;\" x=\"67.621663\" xlink:href=\"#m6cf1b6da6f\" y=\"133.354318\"/>\r\n     <use style=\"stroke:#000000;\" x=\"151.669691\" xlink:href=\"#m6cf1b6da6f\" y=\"114.172735\"/>\r\n     <use style=\"stroke:#000000;\" x=\"248.121323\" xlink:href=\"#m6cf1b6da6f\" y=\"179.358767\"/>\r\n     <use style=\"stroke:#000000;\" x=\"297.435774\" xlink:href=\"#m6cf1b6da6f\" y=\"123.402589\"/>\r\n     <use style=\"stroke:#000000;\" x=\"200.76492\" xlink:href=\"#m6cf1b6da6f\" y=\"95.928529\"/>\r\n     <use style=\"stroke:#000000;\" x=\"84.327403\" xlink:href=\"#m6cf1b6da6f\" y=\"148.522517\"/>\r\n     <use style=\"stroke:#000000;\" x=\"251.208649\" xlink:href=\"#m6cf1b6da6f\" y=\"92.442421\"/>\r\n     <use style=\"stroke:#000000;\" x=\"213.915594\" xlink:href=\"#m6cf1b6da6f\" y=\"89.417323\"/>\r\n     <use style=\"stroke:#000000;\" x=\"332.038314\" xlink:href=\"#m6cf1b6da6f\" y=\"95.150872\"/>\r\n     <use style=\"stroke:#000000;\" x=\"244.177805\" xlink:href=\"#m6cf1b6da6f\" y=\"126.23971\"/>\r\n     <use style=\"stroke:#000000;\" x=\"334.494233\" xlink:href=\"#m6cf1b6da6f\" y=\"102.76069\"/>\r\n     <use style=\"stroke:#000000;\" x=\"52.848175\" xlink:href=\"#m6cf1b6da6f\" y=\"156.15086\"/>\r\n     <use style=\"stroke:#000000;\" x=\"201.386015\" xlink:href=\"#m6cf1b6da6f\" y=\"76.304683\"/>\r\n     <use style=\"stroke:#000000;\" x=\"336.007201\" xlink:href=\"#m6cf1b6da6f\" y=\"128.285821\"/>\r\n     <use style=\"stroke:#000000;\" x=\"257.40387\" xlink:href=\"#m6cf1b6da6f\" y=\"90.859831\"/>\r\n     <use style=\"stroke:#000000;\" x=\"56.458431\" xlink:href=\"#m6cf1b6da6f\" y=\"211.018731\"/>\r\n     <use style=\"stroke:#000000;\" x=\"114.529651\" xlink:href=\"#m6cf1b6da6f\" y=\"96.006464\"/>\r\n     <use style=\"stroke:#000000;\" x=\"118.001926\" xlink:href=\"#m6cf1b6da6f\" y=\"153.937723\"/>\r\n     <use style=\"stroke:#000000;\" x=\"327.865811\" xlink:href=\"#m6cf1b6da6f\" y=\"91.78321\"/>\r\n     <use style=\"stroke:#000000;\" x=\"218.075488\" xlink:href=\"#m6cf1b6da6f\" y=\"160.820014\"/>\r\n     <use style=\"stroke:#000000;\" x=\"82.376102\" xlink:href=\"#m6cf1b6da6f\" y=\"168.930607\"/>\r\n     <use style=\"stroke:#000000;\" x=\"303.325799\" xlink:href=\"#m6cf1b6da6f\" y=\"86.350405\"/>\r\n     <use style=\"stroke:#000000;\" x=\"168.339767\" xlink:href=\"#m6cf1b6da6f\" y=\"141.063039\"/>\r\n     <use style=\"stroke:#000000;\" x=\"248.713243\" xlink:href=\"#m6cf1b6da6f\" y=\"167.89416\"/>\r\n     <use style=\"stroke:#000000;\" x=\"266.07245\" xlink:href=\"#m6cf1b6da6f\" y=\"95.914817\"/>\r\n     <use style=\"stroke:#000000;\" x=\"105.782449\" xlink:href=\"#m6cf1b6da6f\" y=\"159.992075\"/>\r\n     <use style=\"stroke:#000000;\" x=\"44.160369\" xlink:href=\"#m6cf1b6da6f\" y=\"188.546771\"/>\r\n     <use style=\"stroke:#000000;\" x=\"132.608226\" xlink:href=\"#m6cf1b6da6f\" y=\"165.239594\"/>\r\n     <use style=\"stroke:#000000;\" x=\"167.776314\" xlink:href=\"#m6cf1b6da6f\" y=\"132.373824\"/>\r\n     <use style=\"stroke:#000000;\" x=\"170.481016\" xlink:href=\"#m6cf1b6da6f\" y=\"112.098977\"/>\r\n     <use style=\"stroke:#000000;\" x=\"328.250381\" xlink:href=\"#m6cf1b6da6f\" y=\"102.966322\"/>\r\n     <use style=\"stroke:#000000;\" x=\"155.259039\" xlink:href=\"#m6cf1b6da6f\" y=\"115.146982\"/>\r\n     <use style=\"stroke:#000000;\" x=\"145.788244\" xlink:href=\"#m6cf1b6da6f\" y=\"115.867652\"/>\r\n     <use style=\"stroke:#000000;\" x=\"288.451715\" xlink:href=\"#m6cf1b6da6f\" y=\"76.141023\"/>\r\n     <use style=\"stroke:#000000;\" x=\"332.175498\" xlink:href=\"#m6cf1b6da6f\" y=\"17.083636\"/>\r\n     <use style=\"stroke:#000000;\" x=\"189.909772\" xlink:href=\"#m6cf1b6da6f\" y=\"151.717011\"/>\r\n     <use style=\"stroke:#000000;\" x=\"182.220505\" xlink:href=\"#m6cf1b6da6f\" y=\"151.264202\"/>\r\n     <use style=\"stroke:#000000;\" x=\"316.184605\" xlink:href=\"#m6cf1b6da6f\" y=\"100.424992\"/>\r\n     <use style=\"stroke:#000000;\" x=\"231.704421\" xlink:href=\"#m6cf1b6da6f\" y=\"95.691743\"/>\r\n     <use style=\"stroke:#000000;\" x=\"54.565013\" xlink:href=\"#m6cf1b6da6f\" y=\"154.737867\"/>\r\n     <use style=\"stroke:#000000;\" x=\"323.439653\" xlink:href=\"#m6cf1b6da6f\" y=\"108.059584\"/>\r\n     <use style=\"stroke:#000000;\" x=\"47.776311\" xlink:href=\"#m6cf1b6da6f\" y=\"186.14311\"/>\r\n     <use style=\"stroke:#000000;\" x=\"156.063145\" xlink:href=\"#m6cf1b6da6f\" y=\"125.791497\"/>\r\n     <use style=\"stroke:#000000;\" x=\"127.339426\" xlink:href=\"#m6cf1b6da6f\" y=\"120.591929\"/>\r\n     <use style=\"stroke:#000000;\" x=\"158.748681\" xlink:href=\"#m6cf1b6da6f\" y=\"96.554984\"/>\r\n     <use style=\"stroke:#000000;\" x=\"214.732074\" xlink:href=\"#m6cf1b6da6f\" y=\"140.182399\"/>\r\n     <use style=\"stroke:#000000;\" x=\"71.198647\" xlink:href=\"#m6cf1b6da6f\" y=\"148.101491\"/>\r\n     <use style=\"stroke:#000000;\" x=\"53.873778\" xlink:href=\"#m6cf1b6da6f\" y=\"188.708484\"/>\r\n     <use style=\"stroke:#000000;\" x=\"244.673143\" xlink:href=\"#m6cf1b6da6f\" y=\"133.081886\"/>\r\n     <use style=\"stroke:#000000;\" x=\"73.327215\" xlink:href=\"#m6cf1b6da6f\" y=\"162.122195\"/>\r\n     <use style=\"stroke:#000000;\" x=\"299.01342\" xlink:href=\"#m6cf1b6da6f\" y=\"75.280799\"/>\r\n     <use style=\"stroke:#000000;\" x=\"74.786775\" xlink:href=\"#m6cf1b6da6f\" y=\"159.201586\"/>\r\n     <use style=\"stroke:#000000;\" x=\"57.658413\" xlink:href=\"#m6cf1b6da6f\" y=\"154.433413\"/>\r\n     <use style=\"stroke:#000000;\" x=\"213.61417\" xlink:href=\"#m6cf1b6da6f\" y=\"137.169494\"/>\r\n     <use style=\"stroke:#000000;\" x=\"299.707443\" xlink:href=\"#m6cf1b6da6f\" y=\"94.351316\"/>\r\n     <use style=\"stroke:#000000;\" x=\"54.550209\" xlink:href=\"#m6cf1b6da6f\" y=\"132.613084\"/>\r\n     <use style=\"stroke:#000000;\" x=\"264.240902\" xlink:href=\"#m6cf1b6da6f\" y=\"92.731766\"/>\r\n     <use style=\"stroke:#000000;\" x=\"298.90112\" xlink:href=\"#m6cf1b6da6f\" y=\"73.018222\"/>\r\n     <use style=\"stroke:#000000;\" x=\"97.841636\" xlink:href=\"#m6cf1b6da6f\" y=\"203.776739\"/>\r\n     <use style=\"stroke:#000000;\" x=\"341.217697\" xlink:href=\"#m6cf1b6da6f\" y=\"83.045793\"/>\r\n     <use style=\"stroke:#000000;\" x=\"85.733087\" xlink:href=\"#m6cf1b6da6f\" y=\"183.198259\"/>\r\n     <use style=\"stroke:#000000;\" x=\"55.346178\" xlink:href=\"#m6cf1b6da6f\" y=\"143.217051\"/>\r\n     <use style=\"stroke:#000000;\" x=\"56.658283\" xlink:href=\"#m6cf1b6da6f\" y=\"203.572503\"/>\r\n     <use style=\"stroke:#000000;\" x=\"150.255305\" xlink:href=\"#m6cf1b6da6f\" y=\"128.33324\"/>\r\n     <use style=\"stroke:#000000;\" x=\"277.264596\" xlink:href=\"#m6cf1b6da6f\" y=\"88.982736\"/>\r\n     <use style=\"stroke:#000000;\" x=\"105.426439\" xlink:href=\"#m6cf1b6da6f\" y=\"132.194017\"/>\r\n     <use style=\"stroke:#000000;\" x=\"317.179796\" xlink:href=\"#m6cf1b6da6f\" y=\"77.160431\"/>\r\n     <use style=\"stroke:#000000;\" x=\"181.420652\" xlink:href=\"#m6cf1b6da6f\" y=\"214.756364\"/>\r\n     <use style=\"stroke:#000000;\" x=\"54.542696\" xlink:href=\"#m6cf1b6da6f\" y=\"166.856066\"/>\r\n     <use style=\"stroke:#000000;\" x=\"140.032369\" xlink:href=\"#m6cf1b6da6f\" y=\"144.354655\"/>\r\n     <use style=\"stroke:#000000;\" x=\"208.373748\" xlink:href=\"#m6cf1b6da6f\" y=\"110.075415\"/>\r\n     <use style=\"stroke:#000000;\" x=\"209.883059\" xlink:href=\"#m6cf1b6da6f\" y=\"124.646322\"/>\r\n     <use style=\"stroke:#000000;\" x=\"145.717538\" xlink:href=\"#m6cf1b6da6f\" y=\"94.51709\"/>\r\n     <use style=\"stroke:#000000;\" x=\"235.384848\" xlink:href=\"#m6cf1b6da6f\" y=\"106.582564\"/>\r\n     <use style=\"stroke:#000000;\" x=\"293.834876\" xlink:href=\"#m6cf1b6da6f\" y=\"119.136727\"/>\r\n     <use style=\"stroke:#000000;\" x=\"79.085745\" xlink:href=\"#m6cf1b6da6f\" y=\"121.726288\"/>\r\n     <use style=\"stroke:#000000;\" x=\"47.161913\" xlink:href=\"#m6cf1b6da6f\" y=\"123.417973\"/>\r\n     <use style=\"stroke:#000000;\" x=\"142.707726\" xlink:href=\"#m6cf1b6da6f\" y=\"153.636645\"/>\r\n     <use style=\"stroke:#000000;\" x=\"334.81101\" xlink:href=\"#m6cf1b6da6f\" y=\"95.334623\"/>\r\n     <use style=\"stroke:#000000;\" x=\"110.31155\" xlink:href=\"#m6cf1b6da6f\" y=\"148.474482\"/>\r\n     <use style=\"stroke:#000000;\" x=\"203.529616\" xlink:href=\"#m6cf1b6da6f\" y=\"92.437767\"/>\r\n     <use style=\"stroke:#000000;\" x=\"168.788364\" xlink:href=\"#m6cf1b6da6f\" y=\"124.391445\"/>\r\n     <use style=\"stroke:#000000;\" x=\"113.831942\" xlink:href=\"#m6cf1b6da6f\" y=\"109.339917\"/>\r\n     <use style=\"stroke:#000000;\" x=\"129.113498\" xlink:href=\"#m6cf1b6da6f\" y=\"132.182264\"/>\r\n     <use style=\"stroke:#000000;\" x=\"91.553988\" xlink:href=\"#m6cf1b6da6f\" y=\"104.802988\"/>\r\n     <use style=\"stroke:#000000;\" x=\"306.754284\" xlink:href=\"#m6cf1b6da6f\" y=\"128.236625\"/>\r\n     <use style=\"stroke:#000000;\" x=\"215.90394\" xlink:href=\"#m6cf1b6da6f\" y=\"102.506727\"/>\r\n     <use style=\"stroke:#000000;\" x=\"69.712046\" xlink:href=\"#m6cf1b6da6f\" y=\"120.864733\"/>\r\n     <use style=\"stroke:#000000;\" x=\"277.743753\" xlink:href=\"#m6cf1b6da6f\" y=\"136.585932\"/>\r\n     <use style=\"stroke:#000000;\" x=\"276.897682\" xlink:href=\"#m6cf1b6da6f\" y=\"101.099602\"/>\r\n     <use style=\"stroke:#000000;\" x=\"244.033202\" xlink:href=\"#m6cf1b6da6f\" y=\"85.018671\"/>\r\n     <use style=\"stroke:#000000;\" x=\"150.056421\" xlink:href=\"#m6cf1b6da6f\" y=\"109.542058\"/>\r\n     <use style=\"stroke:#000000;\" x=\"178.03713\" xlink:href=\"#m6cf1b6da6f\" y=\"142.98083\"/>\r\n     <use style=\"stroke:#000000;\" x=\"282.346173\" xlink:href=\"#m6cf1b6da6f\" y=\"140.133829\"/>\r\n     <use style=\"stroke:#000000;\" x=\"258.361448\" xlink:href=\"#m6cf1b6da6f\" y=\"101.956851\"/>\r\n     <use style=\"stroke:#000000;\" x=\"249.421471\" xlink:href=\"#m6cf1b6da6f\" y=\"110.995125\"/>\r\n     <use style=\"stroke:#000000;\" x=\"323.734009\" xlink:href=\"#m6cf1b6da6f\" y=\"104.886468\"/>\r\n     <use style=\"stroke:#000000;\" x=\"216.725713\" xlink:href=\"#m6cf1b6da6f\" y=\"86.176082\"/>\r\n     <use style=\"stroke:#000000;\" x=\"280.145066\" xlink:href=\"#m6cf1b6da6f\" y=\"125.121829\"/>\r\n     <use style=\"stroke:#000000;\" x=\"197.857903\" xlink:href=\"#m6cf1b6da6f\" y=\"116.648056\"/>\r\n     <use style=\"stroke:#000000;\" x=\"287.206229\" xlink:href=\"#m6cf1b6da6f\" y=\"84.275534\"/>\r\n     <use style=\"stroke:#000000;\" x=\"118.668097\" xlink:href=\"#m6cf1b6da6f\" y=\"111.421348\"/>\r\n     <use style=\"stroke:#000000;\" x=\"343.525586\" xlink:href=\"#m6cf1b6da6f\" y=\"102.883182\"/>\r\n     <use style=\"stroke:#000000;\" x=\"82.984511\" xlink:href=\"#m6cf1b6da6f\" y=\"176.522723\"/>\r\n     <use style=\"stroke:#000000;\" x=\"253.744225\" xlink:href=\"#m6cf1b6da6f\" y=\"113.956638\"/>\r\n     <use style=\"stroke:#000000;\" x=\"314.611383\" xlink:href=\"#m6cf1b6da6f\" y=\"86.927726\"/>\r\n     <use style=\"stroke:#000000;\" x=\"199.761066\" xlink:href=\"#m6cf1b6da6f\" y=\"155.758775\"/>\r\n     <use style=\"stroke:#000000;\" x=\"153.27529\" xlink:href=\"#m6cf1b6da6f\" y=\"120.167515\"/>\r\n     <use style=\"stroke:#000000;\" x=\"332.823167\" xlink:href=\"#m6cf1b6da6f\" y=\"135.778427\"/>\r\n     <use style=\"stroke:#000000;\" x=\"73.436195\" xlink:href=\"#m6cf1b6da6f\" y=\"152.254133\"/>\r\n     <use style=\"stroke:#000000;\" x=\"306.873199\" xlink:href=\"#m6cf1b6da6f\" y=\"87.221511\"/>\r\n     <use style=\"stroke:#000000;\" x=\"136.093742\" xlink:href=\"#m6cf1b6da6f\" y=\"139.849011\"/>\r\n     <use style=\"stroke:#000000;\" x=\"125.094463\" xlink:href=\"#m6cf1b6da6f\" y=\"149.657219\"/>\r\n     <use style=\"stroke:#000000;\" x=\"216.080366\" xlink:href=\"#m6cf1b6da6f\" y=\"155.397292\"/>\r\n     <use style=\"stroke:#000000;\" x=\"233.73381\" xlink:href=\"#m6cf1b6da6f\" y=\"128.757358\"/>\r\n     <use style=\"stroke:#000000;\" x=\"106.576298\" xlink:href=\"#m6cf1b6da6f\" y=\"126.204483\"/>\r\n     <use style=\"stroke:#000000;\" x=\"271.243416\" xlink:href=\"#m6cf1b6da6f\" y=\"96.27175\"/>\r\n     <use style=\"stroke:#000000;\" x=\"275.881597\" xlink:href=\"#m6cf1b6da6f\" y=\"134.281254\"/>\r\n     <use style=\"stroke:#000000;\" x=\"164.603886\" xlink:href=\"#m6cf1b6da6f\" y=\"151.452555\"/>\r\n     <use style=\"stroke:#000000;\" x=\"315.966756\" xlink:href=\"#m6cf1b6da6f\" y=\"145.9266\"/>\r\n    </g>\r\n   </g>\r\n   <g id=\"line2d_13\">\r\n    <path clip-path=\"url(#p8311e5a727)\" d=\"M 58.627049 157.380847 \r\nL 348.524006 92.73566 \r\nL 44.160369 160.606825 \r\nL 315.966756 99.995721 \r\n\" style=\"fill:none;stroke:#0000ff;stroke-linecap:square;stroke-width:1.5;\"/>\r\n   </g>\r\n   <g id=\"line2d_14\">\r\n    <path clip-path=\"url(#p8311e5a727)\" d=\"M 58.627049 156.662 \r\nL 348.524006 95.671833 \r\nL 44.160369 159.705582 \r\nL 315.966756 102.521411 \r\n\" style=\"fill:none;stroke:#ff0000;stroke-linecap:square;stroke-width:1.5;\"/>\r\n   </g>\r\n   <g id=\"patch_3\">\r\n    <path d=\"M 28.942188 224.64 \r\nL 28.942188 7.2 \r\n\" style=\"fill:none;stroke:#000000;stroke-linecap:square;stroke-linejoin:miter;stroke-width:0.8;\"/>\r\n   </g>\r\n   <g id=\"patch_4\">\r\n    <path d=\"M 363.742188 224.64 \r\nL 363.742188 7.2 \r\n\" style=\"fill:none;stroke:#000000;stroke-linecap:square;stroke-linejoin:miter;stroke-width:0.8;\"/>\r\n   </g>\r\n   <g id=\"patch_5\">\r\n    <path d=\"M 28.942187 224.64 \r\nL 363.742188 224.64 \r\n\" style=\"fill:none;stroke:#000000;stroke-linecap:square;stroke-linejoin:miter;stroke-width:0.8;\"/>\r\n   </g>\r\n   <g id=\"patch_6\">\r\n    <path d=\"M 28.942187 7.2 \r\nL 363.742188 7.2 \r\n\" style=\"fill:none;stroke:#000000;stroke-linecap:square;stroke-linejoin:miter;stroke-width:0.8;\"/>\r\n   </g>\r\n   <g id=\"legend_1\">\r\n    <g id=\"patch_7\">\r\n     <path d=\"M 35.942188 44.55625 \r\nL 83.390625 44.55625 \r\nQ 85.390625 44.55625 85.390625 42.55625 \r\nL 85.390625 14.2 \r\nQ 85.390625 12.2 83.390625 12.2 \r\nL 35.942188 12.2 \r\nQ 33.942188 12.2 33.942188 14.2 \r\nL 33.942188 42.55625 \r\nQ 33.942188 44.55625 35.942188 44.55625 \r\nz\r\n\" style=\"fill:#ffffff;opacity:0.8;stroke:#cccccc;stroke-linejoin:miter;\"/>\r\n    </g>\r\n    <g id=\"line2d_15\">\r\n     <path d=\"M 37.942188 20.298437 \r\nL 57.942188 20.298437 \r\n\" style=\"fill:none;stroke:#0000ff;stroke-linecap:square;stroke-width:1.5;\"/>\r\n    </g>\r\n    <g id=\"line2d_16\"/>\r\n    <g id=\"text_12\">\r\n     <!-- NE -->\r\n     <g transform=\"translate(65.942188 23.798437)scale(0.1 -0.1)\">\r\n      <defs>\r\n       <path d=\"M 9.8125 72.90625 \r\nL 23.09375 72.90625 \r\nL 55.421875 11.921875 \r\nL 55.421875 72.90625 \r\nL 64.984375 72.90625 \r\nL 64.984375 0 \r\nL 51.703125 0 \r\nL 19.390625 60.984375 \r\nL 19.390625 0 \r\nL 9.8125 0 \r\nz\r\n\" id=\"DejaVuSans-78\"/>\r\n       <path d=\"M 9.8125 72.90625 \r\nL 55.90625 72.90625 \r\nL 55.90625 64.59375 \r\nL 19.671875 64.59375 \r\nL 19.671875 43.015625 \r\nL 54.390625 43.015625 \r\nL 54.390625 34.71875 \r\nL 19.671875 34.71875 \r\nL 19.671875 8.296875 \r\nL 56.78125 8.296875 \r\nL 56.78125 0 \r\nL 9.8125 0 \r\nz\r\n\" id=\"DejaVuSans-69\"/>\r\n      </defs>\r\n      <use xlink:href=\"#DejaVuSans-78\"/>\r\n      <use x=\"74.804688\" xlink:href=\"#DejaVuSans-69\"/>\r\n     </g>\r\n    </g>\r\n    <g id=\"line2d_17\">\r\n     <path d=\"M 37.942188 34.976562 \r\nL 57.942188 34.976562 \r\n\" style=\"fill:none;stroke:#ff0000;stroke-linecap:square;stroke-width:1.5;\"/>\r\n    </g>\r\n    <g id=\"line2d_18\"/>\r\n    <g id=\"text_13\">\r\n     <!-- GD -->\r\n     <g transform=\"translate(65.942188 38.476562)scale(0.1 -0.1)\">\r\n      <defs>\r\n       <path d=\"M 59.515625 10.40625 \r\nL 59.515625 29.984375 \r\nL 43.40625 29.984375 \r\nL 43.40625 38.09375 \r\nL 69.28125 38.09375 \r\nL 69.28125 6.78125 \r\nQ 63.578125 2.734375 56.6875 0.65625 \r\nQ 49.8125 -1.421875 42 -1.421875 \r\nQ 24.90625 -1.421875 15.25 8.5625 \r\nQ 5.609375 18.5625 5.609375 36.375 \r\nQ 5.609375 54.25 15.25 64.234375 \r\nQ 24.90625 74.21875 42 74.21875 \r\nQ 49.125 74.21875 55.546875 72.453125 \r\nQ 61.96875 70.703125 67.390625 67.28125 \r\nL 67.390625 56.78125 \r\nQ 61.921875 61.421875 55.765625 63.765625 \r\nQ 49.609375 66.109375 42.828125 66.109375 \r\nQ 29.4375 66.109375 22.71875 58.640625 \r\nQ 16.015625 51.171875 16.015625 36.375 \r\nQ 16.015625 21.625 22.71875 14.15625 \r\nQ 29.4375 6.6875 42.828125 6.6875 \r\nQ 48.046875 6.6875 52.140625 7.59375 \r\nQ 56.25 8.5 59.515625 10.40625 \r\nz\r\n\" id=\"DejaVuSans-71\"/>\r\n       <path d=\"M 19.671875 64.796875 \r\nL 19.671875 8.109375 \r\nL 31.59375 8.109375 \r\nQ 46.6875 8.109375 53.6875 14.9375 \r\nQ 60.6875 21.78125 60.6875 36.53125 \r\nQ 60.6875 51.171875 53.6875 57.984375 \r\nQ 46.6875 64.796875 31.59375 64.796875 \r\nz\r\nM 9.8125 72.90625 \r\nL 30.078125 72.90625 \r\nQ 51.265625 72.90625 61.171875 64.09375 \r\nQ 71.09375 55.28125 71.09375 36.53125 \r\nQ 71.09375 17.671875 61.125 8.828125 \r\nQ 51.171875 0 30.078125 0 \r\nL 9.8125 0 \r\nz\r\n\" id=\"DejaVuSans-68\"/>\r\n      </defs>\r\n      <use xlink:href=\"#DejaVuSans-71\"/>\r\n      <use x=\"77.490234\" xlink:href=\"#DejaVuSans-68\"/>\r\n     </g>\r\n    </g>\r\n   </g>\r\n  </g>\r\n </g>\r\n <defs>\r\n  <clipPath id=\"p8311e5a727\">\r\n   <rect height=\"217.44\" width=\"334.8\" x=\"28.942188\" y=\"7.2\"/>\r\n  </clipPath>\r\n </defs>\r\n</svg>\r\n",
      "image/png": "[encoded data removed]"
     },
     "metadata": {
      "needs_background": "light"
     }
    }
   ],
   "source": [
    "import matplotlib.pyplot as plt\n",
    "plt.plot(X.iloc[:,1], y, '.k') #산점도\n",
    "plt.plot(X.iloc[:,1], y_hat_NE, '-b', label = 'NE') #정규방정식\n",
    "plt.plot(X.iloc[:,1], y_hat_GD, '-r', label = 'GD') #경사하강법\n",
    "plt.legend()\n",
    "plt.show()"
   ]
  },
  {
   "cell_type": "code",
   "execution_count": null,
   "metadata": {},
   "outputs": [],
   "source": []
  }
 ],
 "metadata": {
  "kernelspec": {
   "display_name": "Python 3",
   "language": "python",
   "name": "python3"
  },
  "language_info": {
   "codemirror_mode": {
    "name": "ipython",
    "version": 3
   },
   "file_extension": ".py",
   "mimetype": "text/x-python",
   "name": "python",
   "nbconvert_exporter": "python",
   "pygments_lexer": "ipython3",
   "version": "3.8.5-final"
  }
 },
 "nbformat": 4,
 "nbformat_minor": 2
}
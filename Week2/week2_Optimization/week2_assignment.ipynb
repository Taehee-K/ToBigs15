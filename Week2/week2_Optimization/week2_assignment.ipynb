{
 "cells": [
  {
   "cell_type": "markdown",
   "metadata": {},
   "source": [
    "# Tobig's 15기 2주차 Optimization 과제"
   ]
  },
  {
   "cell_type": "markdown",
   "metadata": {},
   "source": [
    "# Gradient Descent 구현하기\n",
    "\n",
    "### 1)\"...\"표시되어 있는 빈 칸을 채워주세요\n",
    "### 2)강의내용과 코드에 대해 공부한 내용을 마크마운 또는 주석으로 설명해주세요"
   ]
  },
  {
   "cell_type": "markdown",
   "metadata": {},
   "source": [
    "## 데이터"
   ]
  },
  {
   "cell_type": "code",
   "execution_count": 1,
   "metadata": {},
   "outputs": [],
   "source": [
    "import pandas as pd\n",
    "import numpy as np\n",
    "import random"
   ]
  },
  {
   "cell_type": "code",
   "execution_count": 2,
   "metadata": {},
   "outputs": [
    {
     "output_type": "execute_result",
     "data": {
      "text/plain": [
       "   Label  bias  experience  salary\n",
       "0      1     1         0.7   48000\n",
       "1      0     1         1.9   48000\n",
       "2      1     1         2.5   60000\n",
       "3      0     1         4.2   63000\n",
       "4      0     1         6.0   76000"
      ],
      "text/html": "<div>\n<style scoped>\n    .dataframe tbody tr th:only-of-type {\n        vertical-align: middle;\n    }\n\n    .dataframe tbody tr th {\n        vertical-align: top;\n    }\n\n    .dataframe thead th {\n        text-align: right;\n    }\n</style>\n<table border=\"1\" class=\"dataframe\">\n  <thead>\n    <tr style=\"text-align: right;\">\n      <th></th>\n      <th>Label</th>\n      <th>bias</th>\n      <th>experience</th>\n      <th>salary</th>\n    </tr>\n  </thead>\n  <tbody>\n    <tr>\n      <th>0</th>\n      <td>1</td>\n      <td>1</td>\n      <td>0.7</td>\n      <td>48000</td>\n    </tr>\n    <tr>\n      <th>1</th>\n      <td>0</td>\n      <td>1</td>\n      <td>1.9</td>\n      <td>48000</td>\n    </tr>\n    <tr>\n      <th>2</th>\n      <td>1</td>\n      <td>1</td>\n      <td>2.5</td>\n      <td>60000</td>\n    </tr>\n    <tr>\n      <th>3</th>\n      <td>0</td>\n      <td>1</td>\n      <td>4.2</td>\n      <td>63000</td>\n    </tr>\n    <tr>\n      <th>4</th>\n      <td>0</td>\n      <td>1</td>\n      <td>6.0</td>\n      <td>76000</td>\n    </tr>\n  </tbody>\n</table>\n</div>"
     },
     "metadata": {},
     "execution_count": 2
    }
   ],
   "source": [
    "data = pd.read_csv('assignment_2.csv')\n",
    "data.head()"
   ]
  },
  {
   "cell_type": "code",
   "execution_count": 3,
   "metadata": {},
   "outputs": [
    {
     "output_type": "execute_result",
     "data": {
      "text/plain": [
       "            Label   bias  experience         salary\n",
       "count  200.000000  200.0  200.000000     200.000000\n",
       "mean     0.260000    1.0    4.998000   66700.000000\n",
       "std      0.439735    0.0    2.847373   15536.955459\n",
       "min      0.000000    1.0    0.100000   30000.000000\n",
       "25%      0.000000    1.0    2.500000   56000.000000\n",
       "50%      0.000000    1.0    5.100000   65000.000000\n",
       "75%      1.000000    1.0    7.425000   77250.000000\n",
       "max      1.000000    1.0   10.000000  107000.000000"
      ],
      "text/html": "<div>\n<style scoped>\n    .dataframe tbody tr th:only-of-type {\n        vertical-align: middle;\n    }\n\n    .dataframe tbody tr th {\n        vertical-align: top;\n    }\n\n    .dataframe thead th {\n        text-align: right;\n    }\n</style>\n<table border=\"1\" class=\"dataframe\">\n  <thead>\n    <tr style=\"text-align: right;\">\n      <th></th>\n      <th>Label</th>\n      <th>bias</th>\n      <th>experience</th>\n      <th>salary</th>\n    </tr>\n  </thead>\n  <tbody>\n    <tr>\n      <th>count</th>\n      <td>200.000000</td>\n      <td>200.0</td>\n      <td>200.000000</td>\n      <td>200.000000</td>\n    </tr>\n    <tr>\n      <th>mean</th>\n      <td>0.260000</td>\n      <td>1.0</td>\n      <td>4.998000</td>\n      <td>66700.000000</td>\n    </tr>\n    <tr>\n      <th>std</th>\n      <td>0.439735</td>\n      <td>0.0</td>\n      <td>2.847373</td>\n      <td>15536.955459</td>\n    </tr>\n    <tr>\n      <th>min</th>\n      <td>0.000000</td>\n      <td>1.0</td>\n      <td>0.100000</td>\n      <td>30000.000000</td>\n    </tr>\n    <tr>\n      <th>25%</th>\n      <td>0.000000</td>\n      <td>1.0</td>\n      <td>2.500000</td>\n      <td>56000.000000</td>\n    </tr>\n    <tr>\n      <th>50%</th>\n      <td>0.000000</td>\n      <td>1.0</td>\n      <td>5.100000</td>\n      <td>65000.000000</td>\n    </tr>\n    <tr>\n      <th>75%</th>\n      <td>1.000000</td>\n      <td>1.0</td>\n      <td>7.425000</td>\n      <td>77250.000000</td>\n    </tr>\n    <tr>\n      <th>max</th>\n      <td>1.000000</td>\n      <td>1.0</td>\n      <td>10.000000</td>\n      <td>107000.000000</td>\n    </tr>\n  </tbody>\n</table>\n</div>"
     },
     "metadata": {},
     "execution_count": 3
    }
   ],
   "source": [
    "data.describe() #데이터 각 변수별 통계량 살펴보기"
   ]
  },
  {
   "cell_type": "markdown",
   "metadata": {},
   "source": [
    "## Train Test 데이터 나누기"
   ]
  },
  {
   "cell_type": "code",
   "execution_count": 4,
   "metadata": {},
   "outputs": [],
   "source": [
    "from sklearn.model_selection import train_test_split"
   ]
  },
  {
   "cell_type": "code",
   "execution_count": 5,
   "metadata": {},
   "outputs": [],
   "source": [
    "X_train, X_test, y_train, y_test = train_test_split(data.iloc[:, 1:], data.iloc[:, 0], test_size = 0.25, random_state = 0)"
   ]
  },
  {
   "cell_type": "code",
   "execution_count": 6,
   "metadata": {},
   "outputs": [
    {
     "output_type": "execute_result",
     "data": {
      "text/plain": [
       "((150, 3), (50, 3), (150,), (50,))"
      ]
     },
     "metadata": {},
     "execution_count": 6
    }
   ],
   "source": [
    "X_train.shape, X_test.shape, y_train.shape, y_test.shape"
   ]
  },
  {
   "cell_type": "markdown",
   "metadata": {},
   "source": [
    "## Scaling\n",
    "\n",
    "experience와 salary의 단위, 평균, 분산이 크게 차이나므로 scaler를 사용해 단위를 맞춰줍니다. "
   ]
  },
  {
   "cell_type": "code",
   "execution_count": 7,
   "metadata": {},
   "outputs": [
    {
     "output_type": "execute_result",
     "data": {
      "text/plain": [
       "   bias  experience    salary\n",
       "0     1    0.187893 -1.143335\n",
       "1     1    1.185555  0.043974\n",
       "2     1   -0.310938 -0.351795\n",
       "3     1   -1.629277 -1.341220\n",
       "4     1   -1.308600  0.043974"
      ],
      "text/html": "<div>\n<style scoped>\n    .dataframe tbody tr th:only-of-type {\n        vertical-align: middle;\n    }\n\n    .dataframe tbody tr th {\n        vertical-align: top;\n    }\n\n    .dataframe thead th {\n        text-align: right;\n    }\n</style>\n<table border=\"1\" class=\"dataframe\">\n  <thead>\n    <tr style=\"text-align: right;\">\n      <th></th>\n      <th>bias</th>\n      <th>experience</th>\n      <th>salary</th>\n    </tr>\n  </thead>\n  <tbody>\n    <tr>\n      <th>0</th>\n      <td>1</td>\n      <td>0.187893</td>\n      <td>-1.143335</td>\n    </tr>\n    <tr>\n      <th>1</th>\n      <td>1</td>\n      <td>1.185555</td>\n      <td>0.043974</td>\n    </tr>\n    <tr>\n      <th>2</th>\n      <td>1</td>\n      <td>-0.310938</td>\n      <td>-0.351795</td>\n    </tr>\n    <tr>\n      <th>3</th>\n      <td>1</td>\n      <td>-1.629277</td>\n      <td>-1.341220</td>\n    </tr>\n    <tr>\n      <th>4</th>\n      <td>1</td>\n      <td>-1.308600</td>\n      <td>0.043974</td>\n    </tr>\n  </tbody>\n</table>\n</div>"
     },
     "metadata": {},
     "execution_count": 7
    }
   ],
   "source": [
    "from sklearn.preprocessing import StandardScaler\n",
    "scaler = StandardScaler()\n",
    "bias_train = X_train[\"bias\"]\n",
    "bias_train = bias_train.reset_index()[\"bias\"]\n",
    "X_train = pd.DataFrame(scaler.fit_transform(X_train), columns = X_train.columns)\n",
    "X_train[\"bias\"] = bias_train\n",
    "X_train.head()"
   ]
  },
  {
   "source": [
    "이때 scaler는 X_train에 fit 해주시고, fit한 scaler를 X_test에 적용시켜줍니다.  \n",
    "똑같이 X_test에다 fit하면 안돼요!"
   ],
   "cell_type": "markdown",
   "metadata": {}
  },
  {
   "cell_type": "code",
   "execution_count": 8,
   "metadata": {},
   "outputs": [
    {
     "output_type": "execute_result",
     "data": {
      "text/plain": [
       "   bias  experience    salary\n",
       "0     1   -1.344231 -0.615642\n",
       "1     1    0.508570  0.307821\n",
       "2     1   -0.310938  0.571667\n",
       "3     1    1.363709  1.956862\n",
       "4     1   -0.987923 -0.747565"
      ],
      "text/html": "<div>\n<style scoped>\n    .dataframe tbody tr th:only-of-type {\n        vertical-align: middle;\n    }\n\n    .dataframe tbody tr th {\n        vertical-align: top;\n    }\n\n    .dataframe thead th {\n        text-align: right;\n    }\n</style>\n<table border=\"1\" class=\"dataframe\">\n  <thead>\n    <tr style=\"text-align: right;\">\n      <th></th>\n      <th>bias</th>\n      <th>experience</th>\n      <th>salary</th>\n    </tr>\n  </thead>\n  <tbody>\n    <tr>\n      <th>0</th>\n      <td>1</td>\n      <td>-1.344231</td>\n      <td>-0.615642</td>\n    </tr>\n    <tr>\n      <th>1</th>\n      <td>1</td>\n      <td>0.508570</td>\n      <td>0.307821</td>\n    </tr>\n    <tr>\n      <th>2</th>\n      <td>1</td>\n      <td>-0.310938</td>\n      <td>0.571667</td>\n    </tr>\n    <tr>\n      <th>3</th>\n      <td>1</td>\n      <td>1.363709</td>\n      <td>1.956862</td>\n    </tr>\n    <tr>\n      <th>4</th>\n      <td>1</td>\n      <td>-0.987923</td>\n      <td>-0.747565</td>\n    </tr>\n  </tbody>\n</table>\n</div>"
     },
     "metadata": {},
     "execution_count": 8
    }
   ],
   "source": [
    "bias_test = X_test[\"bias\"]\n",
    "bias_test = bias_test.reset_index()[\"bias\"]\n",
    "X_test = pd.DataFrame(scaler.transform(X_test), columns = X_test.columns)\n",
    "X_test[\"bias\"] = bias_test\n",
    "X_test.head()"
   ]
  },
  {
   "cell_type": "code",
   "execution_count": 9,
   "metadata": {},
   "outputs": [],
   "source": [
    "# parameter 개수\n",
    "N = len(X_train.loc[0])"
   ]
  },
  {
   "cell_type": "code",
   "execution_count": 10,
   "metadata": {},
   "outputs": [
    {
     "output_type": "execute_result",
     "data": {
      "text/plain": [
       "array([0.28490867, 0.19686292, 0.87859438])"
      ]
     },
     "metadata": {},
     "execution_count": 10
    }
   ],
   "source": [
    "# 초기 parameter들을 임의로 설정해줍니다.\n",
    "parameters = np.array([random.random() for i in range(N)])\n",
    "random_parameters = parameters.copy()\n",
    "parameters"
   ]
  },
  {
   "cell_type": "markdown",
   "metadata": {},
   "source": [
    "### * LaTeX   \n",
    "\n",
    "Jupyter Notebook은 LaTeX 문법으로 수식 입력을 지원하고 있습니다.  \n",
    "LaTeX문법으로 아래의 수식을 완성해주세요  \n",
    "http://triki.net/apps/3466  \n",
    "https://jjycjnmath.tistory.com/117"
   ]
  },
  {
   "cell_type": "markdown",
   "metadata": {},
   "source": [
    "## Dot product\n",
    "## $z = X_i \\theta$"
   ]
  },
  {
   "cell_type": "code",
   "execution_count": 11,
   "metadata": {},
   "outputs": [],
   "source": [
    "def dot_product(X, parameters):\n",
    "    z = 0\n",
    "    for i in range(len(parameters)):\n",
    "        z += np.dot(np.transpose(parameters),X)\n",
    "    return z"
   ]
  },
  {
   "cell_type": "markdown",
   "metadata": {},
   "source": [
    "## Logistic Function\n",
    "\n",
    "## $p = 1/(1+e^{-z})$\n",
    "\n"
   ]
  },
  {
   "cell_type": "code",
   "execution_count": 12,
   "metadata": {},
   "outputs": [],
   "source": [
    "def logistic(X, parameters):\n",
    "    z = dot_product(X, parameters)\n",
    "    p = 1/(1+np.exp(-z))    \n",
    "    return p"
   ]
  },
  {
   "cell_type": "code",
   "execution_count": 13,
   "metadata": {},
   "outputs": [
    {
     "output_type": "execute_result",
     "data": {
      "text/plain": [
       "0.8416836013204051"
      ]
     },
     "metadata": {},
     "execution_count": 13
    }
   ],
   "source": [
    "logistic(X_train.iloc[1], parameters)"
   ]
  },
  {
   "cell_type": "markdown",
   "metadata": {},
   "source": [
    "## Object function\n",
    "\n",
    "Object Function : 목적함수는 Gradient Descent를 통해 최적화 하고자 하는 함수입니다.  \n",
    "<br>\n",
    "선형 회귀의 목적함수\n",
    "## $l(\\theta) = \\frac{1}{2}\\Sigma(y_i - \\theta^{T}X_i)^2$  \n",
    "참고) $\\hat{y_i} = \\theta^{T}X_i$\n",
    "  \n",
    "로지스틱 회귀의 목적함수를 작성해주세요  \n",
    "(선형 회귀의 목적함수처럼 강의에 나온대로 작성해주세요. 평균을 고려하는 것은 뒤에 코드에서 수행합니다)\n",
    "\n",
    "Logistic Reression의 목적함수 Negative Log Likelihood = binary Cross Entropy = logistic regression cost function  \n",
    "## $l(p) = -\\Sigma \\begin{Bmatrix}y_{i}log p( X_{i} )+(1-y_{i})log(1-p(X_{i}))\\end{Bmatrix} $  \n"
   ]
  },
  {
   "cell_type": "code",
   "execution_count": 14,
   "metadata": {},
   "outputs": [],
   "source": [
    "def minus_log_cross_entropy_i(X, y, parameters):\n",
    "    p = logistic(X, parameters)\n",
    "    loss = -np.sum(y * np.log(logistic(X, parameters)/(1-logistic(X, parameters)))+np.log(1-logistic(X, parameters)))\n",
    "    return loss"
   ]
  },
  {
   "cell_type": "code",
   "execution_count": 15,
   "metadata": {},
   "outputs": [],
   "source": [
    "def mse_i(X, y, parameters):\n",
    "    y_hat = np.dot(np.transpose(parameters),X) \n",
    "    loss = (1/2)*np.sum((y-y_hat)**2)\n",
    "    return loss"
   ]
  },
  {
   "cell_type": "code",
   "execution_count": 16,
   "metadata": {},
   "outputs": [],
   "source": [
    "def batch_loss(X_set, y_set, parameters, loss_function, n): #n:현재 배치의 데이터 수\n",
    "    loss = 0\n",
    "    for i in range(X_set.shape[0]): #데이터 개수만큼 반복\n",
    "        X = X_set.iloc[i,:] #i번째 row의 데이터 (보든 column)\n",
    "        y = y_set.iloc[i]   #i번째 row\n",
    "        loss += loss_function(X,y,parameters) #loss function -> minus_log_cross_entropy_i\n",
    "    loss = loss/n #loss 평균값으로 계산\n",
    "    return loss"
   ]
  },
  {
   "cell_type": "code",
   "execution_count": 17,
   "metadata": {},
   "outputs": [
    {
     "output_type": "execute_result",
     "data": {
      "text/plain": [
       "2.4175201718914234"
      ]
     },
     "metadata": {},
     "execution_count": 17
    }
   ],
   "source": [
    "batch_loss(X_test, y_test, parameters, minus_log_cross_entropy_i, len(X_test))"
   ]
  },
  {
   "cell_type": "markdown",
   "metadata": {},
   "source": [
    "## Gradient\n",
    "위의 선형회귀의 목적함수 $l(\\theta)$와 로지스틱회귀의 목적함수 $l(p)$의 gradient를 작성해주세요  \n",
    "(위의 목적함수를 참고해서 작성해주세요 = 평균을 고려하는 것은 뒤에 코드에서 수행합니다)"
   ]
  },
  {
   "cell_type": "markdown",
   "metadata": {},
   "source": [
    "## ${\\partial\\over{\\partial \\theta_j}}l(\\theta)= -\\Sigma(y_iX_{i} - \\theta^{T}X_i^2) $\n",
    "\n",
    "## ${\\partial\\over{\\partial \\theta_j}}l(p)= -\\Sigma  \\begin{pmatrix}y_{i}-p{i}\\end{pmatrix}x_{ij} $"
   ]
  },
  {
   "cell_type": "code",
   "execution_count": 18,
   "metadata": {},
   "outputs": [],
   "source": [
    "def get_gradient_ij(X, y, parameters, j, model):\n",
    "    # model -> logistic: 1/(1+np.exp(-z))  \n",
    "    if model == 'linear':\n",
    "        y_hat = np.dot(np.transpose(parameters),X) \n",
    "        gradient = -np.sum(y*X - y_hat*X) #y_hat = theta transformed * X\n",
    "    else:\n",
    "        p = logistic(X, parameters)\n",
    "        gradient = -np.sum(y-p)*X[j]\n",
    "    return gradient"
   ]
  },
  {
   "cell_type": "code",
   "execution_count": 19,
   "metadata": {},
   "outputs": [
    {
     "output_type": "execute_result",
     "data": {
      "text/plain": [
       "-0.1664232902963157"
      ]
     },
     "metadata": {},
     "execution_count": 19
    }
   ],
   "source": [
    "get_gradient_ij(X_train.iloc[0,:], y_train.iloc[0], parameters, 1, 'logistic')"
   ]
  },
  {
   "cell_type": "markdown",
   "metadata": {},
   "source": [
    "## Batch Gradient\n",
    "하나의 배치 (X_set, y_set)에 대해 기울기를 구하는 코드를 작성해주세요"
   ]
  },
  {
   "cell_type": "code",
   "execution_count": 20,
   "metadata": {},
   "outputs": [],
   "source": [
    "#batch gradient -> 학습 한 번에 모든 데이터셋에 대해 기울기 구함\n",
    "def batch_gradient(X_set, y_set, parameters, model):\n",
    "    gradients = [0 for _ in range(len(parameters))]\n",
    "    \n",
    "    for i in range(len(X_set)):\n",
    "        X = X_set.iloc[i,:]\n",
    "        y = y_set.iloc[i]\n",
    "        for j in range(len(parameters)):\n",
    "            gradients[j] += get_gradient_ij(X,y,parameters,j,model)\n",
    "    \n",
    "    return gradients"
   ]
  },
  {
   "cell_type": "code",
   "execution_count": 21,
   "metadata": {},
   "outputs": [
    {
     "output_type": "execute_result",
     "data": {
      "text/plain": [
       "[44.30802036988213, 26.164940521840116, 64.68700218231452]"
      ]
     },
     "metadata": {},
     "execution_count": 21
    }
   ],
   "source": [
    "gradients1 = batch_gradient(X_train, y_train, parameters, 'logistic')\n",
    "gradients1"
   ]
  },
  {
   "cell_type": "markdown",
   "metadata": {},
   "source": [
    "## mini-batch\n",
    "인덱스로 미니 배치 나누기"
   ]
  },
  {
   "cell_type": "code",
   "execution_count": 22,
   "metadata": {},
   "outputs": [],
   "source": [
    "def batch_idx(X_train, batch_size):\n",
    "    N = len(X_train)\n",
    "    nb = (N // batch_size)+1 #number of batch\n",
    "    idx = np.array([i for i in range(N)])\n",
    "    idx_list = [idx[i*batch_size:(i+1)*batch_size] for i in range(nb) if len(idx[i*batch_size:(i+1)*batch_size]) != 0]\n",
    "    return idx_list"
   ]
  },
  {
   "cell_type": "markdown",
   "metadata": {},
   "source": [
    "batch_idx 함수에 대한 설명을 batch_size와 함께 간략하게 작성해주세요  \n",
    "### 설명: \n",
    "    전체 데이터셋을 mini-batch size로 지정된 batch_size만큼의 크기의 작은 단위로 나누어 학습에 사용될 때 사용되는 함수이다. \n",
    "    모든 데이터에 대해 가중치 평균을 구하는 것이 아닌, 전체 데이터에서 batch_size만큼의 일부 데이터를 묶음으로 학습을 진행시키기 위해 데이터를 batch 단위로 나누는 함수이다. "
   ]
  },
  {
   "cell_type": "markdown",
   "metadata": {},
   "source": [
    "## Update Parameters\n",
    "기울기를 갱신하는 코드를 작성해주세요  \n",
    "(loss와 마찬가지로 기울기를 갱신할 때 배치 사이즈를 고려해 평균으로 갱신해주세요)"
   ]
  },
  {
   "cell_type": "code",
   "execution_count": 23,
   "metadata": {},
   "outputs": [],
   "source": [
    "def step(parameters, gradients, learning_rate, n): #n:현재 배치의 데이터 수\n",
    "    for i in range(len(parameters)):\n",
    "        gradients[i] *= (1/n)*learning_rate\n",
    "    \n",
    "    parameters -= gradients\n",
    "    return parameters"
   ]
  },
  {
   "cell_type": "code",
   "execution_count": 24,
   "metadata": {},
   "outputs": [
    {
     "output_type": "execute_result",
     "data": {
      "text/plain": [
       "array([0.2819548 , 0.19511859, 0.87428192])"
      ]
     },
     "metadata": {},
     "execution_count": 24
    }
   ],
   "source": [
    "step(parameters, gradients1, 0.01, len(X_train))"
   ]
  },
  {
   "cell_type": "markdown",
   "metadata": {},
   "source": [
    "## Gradient Descent\n",
    "위에서 작성한 함수들을 조합해서 경사하강법 함수를 완성해주세요\n",
    "\n",
    "- learning_rate: 학습률  \n",
    "- tolerance: Step이 너무 작아서 더 이상의 학습이 무의미할 때 학습을 멈추는 조건  \n",
    "- batch: 기울기를 1번 갱신할 때 사용하는 데이터셋  \n",
    "- epoch:  \n",
    "- num_epoch:\n",
    "<br>\n",
    "\n",
    "BGD: (Batch Gradient Descent) 학습 한 번에 모든 데이터셋에 대해 기울기를 구한다. Loss function을 미분하여 가중치 업데이트시 개별 데이터로 하기 보다 모든 데이터에 대한 Loss function의 평균을 기준으로 업데이트가 수행된다\n",
    "SGD: (Stochastic Gradient Descent) 학습 한 번에 임의의 데이터에 대해서만 기울기를 구한다. 입력 데이터를 하나씩만 처리하면서 가중치를 업데이트 한다\n",
    "MGD: (Mini Batch Gradient Descent) 학습 한 번에 데이터셋의 일부에 대해서만 기울기를 구한다. 전체 데이터에서 일부 데이터를 묶음방식으로 하여 해당 batch의 평균 가중치를 업데이트 한다\n",
    "<br>\n",
    "batch_size에 따른 경사하강법의 종류를 적어주세요  \n",
    "batch_size=1 -> SGD     \n",
    "batch_size=k -> MGD     \n",
    "batch_size=whole -> BGD     "
   ]
  },
  {
   "cell_type": "code",
   "execution_count": 41,
   "metadata": {},
   "outputs": [],
   "source": [
    "def gradient_descent(X_train, y_train, learning_rate = 0.1, num_epoch = 1000, tolerance = 0.00001, model = 'logistic', batch_size = 16):\n",
    "    stopper = False\n",
    "    \n",
    "    N = len(X_train.iloc[0])    #row 길이\n",
    "    parameters = np.random.rand(N)  #parameter 랜덤 값으로 초기화\n",
    "    loss_function = batch_loss\n",
    "    if model == 'logistic':\n",
    "        gradients = get_gradient_ij(X_train.iloc[0,:], y_train.iloc[0], parameters, 1, 'logistic')\n",
    "    else: \n",
    "        gradients = get_gradient_ij(X_train.iloc[0,:], y_train.iloc[0], parameters, 1, 'linear')\n",
    "    loss = 999\n",
    "    batch_idx_list = batch_idx(X_train, batch_size) \n",
    "    \n",
    "    for epoch in range(num_epoch):\n",
    "        if stopper:\n",
    "            break\n",
    "        for idx in batch_idx_list:  #batch 데이터의 개수만큼 반복\n",
    "            X_batch = X_train.iloc[idx,]\n",
    "            y_batch = y_train.iloc[idx]\n",
    "            gradients = batch_gradient(X_train, y_train, parameters, model)       #기울기 저장\n",
    "            parameters = step(parameters, gradients, learning_rate, len(X_train))      #parameter 업데이트\n",
    "            new_loss = loss_function(X_train, y_train, parameters, minus_log_cross_entropy_i, len(X_test))     #loss 업데이트\n",
    "            \n",
    "            #중단 조건\n",
    "            if abs(new_loss - loss) < tolerance:\n",
    "                stopper = True\n",
    "                break\n",
    "            loss = new_loss\n",
    "        \n",
    "        #100epoch마다 학습 상태 출력\n",
    "        if epoch%100 == 0: #출력이 길게 나오면 check point를 수정해도 됩니다.\n",
    "            print(f\"epoch: {epoch}  loss: {new_loss}  params: {parameters}  gradients: {gradients}\")\n",
    "    \n",
    "    return parameters"
   ]
  },
  {
   "cell_type": "markdown",
   "metadata": {},
   "source": [
    "## Implement\n",
    "경사하강법 함수를 이용해 최적의 모수 찾아보세요. 학습을 진행할 때, Hyper Parameter를 바꿔가면서 학습시켜보세요."
   ]
  },
  {
   "cell_type": "markdown",
   "metadata": {},
   "source": [
    "## Logistic Regression"
   ]
  },
  {
   "cell_type": "code",
   "execution_count": 42,
   "metadata": {},
   "outputs": [
    {
     "output_type": "stream",
     "name": "stdout",
     "text": [
      "epoch: 0  loss: 1.2737894207722644  params: [-0.30433994  0.36384359 -0.33747209]  gradients: [0.016311873992007425, -0.028519295720749033, 0.028997231220538752]\n"
     ]
    },
    {
     "output_type": "execute_result",
     "data": {
      "text/plain": [
       "array([-0.60514761,  1.3665872 , -1.29383237])"
      ]
     },
     "metadata": {},
     "execution_count": 42
    }
   ],
   "source": [
    "new_param_bgd = gradient_descent(X_train, y_train, learning_rate = 0.5, num_epoch = 3000, tolerance = 0.00001, model = 'logistic', batch_size = 16)\n",
    "new_param_bgd"
   ]
  },
  {
   "cell_type": "code",
   "execution_count": 43,
   "metadata": {},
   "outputs": [
    {
     "output_type": "stream",
     "name": "stdout",
     "text": [
      "epoch: 0  loss: 1.426799199720984  params: [-0.29497138  0.23030891 -0.20556743]  gradients: [0.021148629526084442, -0.05591525583985673, 0.05697139847680439]\n"
     ]
    },
    {
     "output_type": "execute_result",
     "data": {
      "text/plain": [
       "array([-0.60765387,  1.37471326, -1.30132977])"
      ]
     },
     "metadata": {},
     "execution_count": 43
    }
   ],
   "source": [
    "new_param_sgd = gradient_descent(X_train, y_train, learning_rate = 0.7, num_epoch = 500, tolerance = 0.00001, model = 'logistic', batch_size = 32)\n",
    "new_param_sgd"
   ]
  },
  {
   "cell_type": "code",
   "execution_count": 44,
   "metadata": {},
   "outputs": [
    {
     "output_type": "stream",
     "name": "stdout",
     "text": [
      "epoch: 0  loss: 2.4440601226737972  params: [ 0.18411062  0.55901713 -0.13434168]  gradients: [0.10367973715706107, 0.04852975123103066, 0.08817857275643529]\n",
      "epoch: 100  loss: 0.8963969568096499  params: [-0.59046587  1.31891055 -1.24977145]  gradients: [0.00019077975777603154, -0.0006203951953911328, 0.0005741732064121232]\n"
     ]
    },
    {
     "output_type": "execute_result",
     "data": {
      "text/plain": [
       "array([-0.6003141 ,  1.35090531, -1.27935355])"
      ]
     },
     "metadata": {},
     "execution_count": 44
    }
   ],
   "source": [
    "new_param_mgd = gradient_descent(X_train, y_train, learning_rate = 0.3, num_epoch = 1000, tolerance = 0.00001, model = 'logistic', batch_size = 64)\n",
    "new_param_mgd"
   ]
  },
  {
   "cell_type": "markdown",
   "metadata": {},
   "source": [
    "### Predict Label"
   ]
  },
  {
   "cell_type": "code",
   "execution_count": 45,
   "metadata": {},
   "outputs": [],
   "source": [
    "y_predict = []\n",
    "for i in range(len(y_test)):\n",
    "    p = logistic(X_test.iloc[i,:], new_param_bgd)\n",
    "    if p> 0.5 :\n",
    "        y_predict.append(1)\n",
    "    else :\n",
    "        y_predict.append(0)\n",
    "y_predict_random = []\n",
    "for i in range(len(y_test)):\n",
    "    p = logistic(X_test.iloc[i,:], random_parameters)\n",
    "    if p> 0.5 :\n",
    "        y_predict_random.append(1)\n",
    "    else :\n",
    "        y_predict_random.append(0)"
   ]
  },
  {
   "cell_type": "markdown",
   "metadata": {},
   "source": [
    "### Confusion Matrix"
   ]
  },
  {
   "cell_type": "code",
   "execution_count": 46,
   "metadata": {},
   "outputs": [],
   "source": [
    "from sklearn.metrics import *"
   ]
  },
  {
   "cell_type": "code",
   "execution_count": 47,
   "metadata": {},
   "outputs": [
    {
     "output_type": "execute_result",
     "data": {
      "text/plain": [
       "array([[38,  2],\n",
       "       [ 1,  9]], dtype=int64)"
      ]
     },
     "metadata": {},
     "execution_count": 47
    }
   ],
   "source": [
    "tn, fp, fn, tp = confusion_matrix(y_test, y_predict).ravel()\n",
    "confusion_matrix(y_test, y_predict)"
   ]
  },
  {
   "cell_type": "code",
   "execution_count": 48,
   "metadata": {},
   "outputs": [
    {
     "output_type": "stream",
     "name": "stdout",
     "text": [
      "accuracy: 0.94\n"
     ]
    }
   ],
   "source": [
    "accuracy = (tp+tn) / (tp+fn+fp+tn)\n",
    "print(\"accuracy:\",accuracy)"
   ]
  },
  {
   "cell_type": "markdown",
   "metadata": {},
   "source": [
    "## Linear regression\n",
    "### $y = 0.5 + 2.7x$"
   ]
  },
  {
   "cell_type": "markdown",
   "metadata": {},
   "source": [
    "### Data"
   ]
  },
  {
   "cell_type": "code",
   "execution_count": 49,
   "metadata": {},
   "outputs": [],
   "source": [
    "raw_X = np.random.rand(150)\n",
    "y = 2.7*raw_X + 0.5 + np.random.randn(150)"
   ]
  },
  {
   "cell_type": "code",
   "execution_count": 50,
   "metadata": {},
   "outputs": [],
   "source": [
    "tmp = np.array([1 for _ in range(150)])\n",
    "X = np.vstack((tmp, raw_X)).T\n",
    "X = pd.DataFrame(X)\n",
    "y = pd.Series(y)"
   ]
  },
  {
   "cell_type": "markdown",
   "metadata": {},
   "source": [
    "### Estimation"
   ]
  },
  {
   "cell_type": "code",
   "execution_count": 51,
   "metadata": {},
   "outputs": [
    {
     "output_type": "execute_result",
     "data": {
      "text/plain": [
       "array([0.34928091, 2.88895741])"
      ]
     },
     "metadata": {},
     "execution_count": 51
    }
   ],
   "source": [
    "#정규방정식\n",
    "theta = np.linalg.inv(np.dot(X.T,X)).dot(X.T).dot(y)\n",
    "theta"
   ]
  },
  {
   "cell_type": "code",
   "execution_count": 52,
   "metadata": {},
   "outputs": [
    {
     "output_type": "stream",
     "name": "stdout",
     "text": [
      "epoch: 0  loss: -9.316043886810556  params: [1.29063089 1.0409495 ]  gradients: [-0.009782475269967431, -0.009782475269967431]\n"
     ]
    },
    {
     "output_type": "execute_result",
     "data": {
      "text/plain": [
       "array([1.32389081, 1.07420942])"
      ]
     },
     "metadata": {},
     "execution_count": 52
    }
   ],
   "source": [
    "#경사하강법\n",
    "new_param = gradient_descent(X, y, learning_rate = 0.1, num_epoch = 1000, tolerance = 0.00001, model = 'linear', batch_size = 16)\n",
    "new_param"
   ]
  },
  {
   "cell_type": "code",
   "execution_count": 53,
   "metadata": {},
   "outputs": [],
   "source": [
    "y_hat_NE = theta.dot(X.T)\n",
    "y_hat_GD = new_param.dot(X.T)"
   ]
  },
  {
   "cell_type": "markdown",
   "metadata": {},
   "source": [
    "### Visualization\n",
    "시각화를 통해 정규방정식과 경사하강법을 통한 선형회귀를 비교해보세요  \n",
    "(밑의 코드를 실행만 시키면 됩니다. 추가 코드 x)"
   ]
  },
  {
   "cell_type": "code",
   "execution_count": 54,
   "metadata": {},
   "outputs": [
    {
     "output_type": "display_data",
     "data": {
      "text/plain": "<Figure size 432x288 with 1 Axes>",
      "image/svg+xml": "<?xml version=\"1.0\" encoding=\"utf-8\" standalone=\"no\"?>\r\n<!DOCTYPE svg PUBLIC \"-//W3C//DTD SVG 1.1//EN\"\r\n  \"http://www.w3.org/Graphics/SVG/1.1/DTD/svg11.dtd\">\r\n<!-- Created with matplotlib (https://matplotlib.org/) -->\r\n<svg height=\"248.518125pt\" version=\"1.1\" viewBox=\"0 0 370.942187 248.518125\" width=\"370.942187pt\" xmlns=\"http://www.w3.org/2000/svg\" xmlns:xlink=\"http://www.w3.org/1999/xlink\">\r\n <metadata>\r\n  <rdf:RDF xmlns:cc=\"http://creativecommons.org/ns#\" xmlns:dc=\"http://purl.org/dc/elements/1.1/\" xmlns:rdf=\"http://www.w3.org/1999/02/22-rdf-syntax-ns#\">\r\n   <cc:Work>\r\n    <dc:type rdf:resource=\"http://purl.org/dc/dcmitype/StillImage\"/>\r\n    <dc:date>2021-02-03T08:18:52.098731</dc:date>\r\n    <dc:format>image/svg+xml</dc:format>\r\n    <dc:creator>\r\n     <cc:Agent>\r\n      <dc:title>Matplotlib v3.3.2, https://matplotlib.org/</dc:title>\r\n     </cc:Agent>\r\n    </dc:creator>\r\n   </cc:Work>\r\n  </rdf:RDF>\r\n </metadata>\r\n <defs>\r\n  <style type=\"text/css\">*{stroke-linecap:butt;stroke-linejoin:round;}</style>\r\n </defs>\r\n <g id=\"figure_1\">\r\n  <g id=\"patch_1\">\r\n   <path d=\"M 0 248.518125 \r\nL 370.942187 248.518125 \r\nL 370.942187 0 \r\nL 0 0 \r\nz\r\n\" style=\"fill:none;\"/>\r\n  </g>\r\n  <g id=\"axes_1\">\r\n   <g id=\"patch_2\">\r\n    <path d=\"M 28.942188 224.64 \r\nL 363.742188 224.64 \r\nL 363.742188 7.2 \r\nL 28.942188 7.2 \r\nz\r\n\" style=\"fill:#ffffff;\"/>\r\n   </g>\r\n   <g id=\"matplotlib.axis_1\">\r\n    <g id=\"xtick_1\">\r\n     <g id=\"line2d_1\">\r\n      <defs>\r\n       <path d=\"M 0 0 \r\nL 0 3.5 \r\n\" id=\"m3eb5dc0b57\" style=\"stroke:#000000;stroke-width:0.8;\"/>\r\n      </defs>\r\n      <g>\r\n       <use style=\"stroke:#000000;stroke-width:0.8;\" x=\"41.399674\" xlink:href=\"#m3eb5dc0b57\" y=\"224.64\"/>\r\n      </g>\r\n     </g>\r\n     <g id=\"text_1\">\r\n      <!-- 0.0 -->\r\n      <g transform=\"translate(33.448112 239.238437)scale(0.1 -0.1)\">\r\n       <defs>\r\n        <path d=\"M 31.78125 66.40625 \r\nQ 24.171875 66.40625 20.328125 58.90625 \r\nQ 16.5 51.421875 16.5 36.375 \r\nQ 16.5 21.390625 20.328125 13.890625 \r\nQ 24.171875 6.390625 31.78125 6.390625 \r\nQ 39.453125 6.390625 43.28125 13.890625 \r\nQ 47.125 21.390625 47.125 36.375 \r\nQ 47.125 51.421875 43.28125 58.90625 \r\nQ 39.453125 66.40625 31.78125 66.40625 \r\nz\r\nM 31.78125 74.21875 \r\nQ 44.046875 74.21875 50.515625 64.515625 \r\nQ 56.984375 54.828125 56.984375 36.375 \r\nQ 56.984375 17.96875 50.515625 8.265625 \r\nQ 44.046875 -1.421875 31.78125 -1.421875 \r\nQ 19.53125 -1.421875 13.0625 8.265625 \r\nQ 6.59375 17.96875 6.59375 36.375 \r\nQ 6.59375 54.828125 13.0625 64.515625 \r\nQ 19.53125 74.21875 31.78125 74.21875 \r\nz\r\n\" id=\"DejaVuSans-48\"/>\r\n        <path d=\"M 10.6875 12.40625 \r\nL 21 12.40625 \r\nL 21 0 \r\nL 10.6875 0 \r\nz\r\n\" id=\"DejaVuSans-46\"/>\r\n       </defs>\r\n       <use xlink:href=\"#DejaVuSans-48\"/>\r\n       <use x=\"63.623047\" xlink:href=\"#DejaVuSans-46\"/>\r\n       <use x=\"95.410156\" xlink:href=\"#DejaVuSans-48\"/>\r\n      </g>\r\n     </g>\r\n    </g>\r\n    <g id=\"xtick_2\">\r\n     <g id=\"line2d_2\">\r\n      <g>\r\n       <use style=\"stroke:#000000;stroke-width:0.8;\" x=\"103.314452\" xlink:href=\"#m3eb5dc0b57\" y=\"224.64\"/>\r\n      </g>\r\n     </g>\r\n     <g id=\"text_2\">\r\n      <!-- 0.2 -->\r\n      <g transform=\"translate(95.362889 239.238437)scale(0.1 -0.1)\">\r\n       <defs>\r\n        <path d=\"M 19.1875 8.296875 \r\nL 53.609375 8.296875 \r\nL 53.609375 0 \r\nL 7.328125 0 \r\nL 7.328125 8.296875 \r\nQ 12.9375 14.109375 22.625 23.890625 \r\nQ 32.328125 33.6875 34.8125 36.53125 \r\nQ 39.546875 41.84375 41.421875 45.53125 \r\nQ 43.3125 49.21875 43.3125 52.78125 \r\nQ 43.3125 58.59375 39.234375 62.25 \r\nQ 35.15625 65.921875 28.609375 65.921875 \r\nQ 23.96875 65.921875 18.8125 64.3125 \r\nQ 13.671875 62.703125 7.8125 59.421875 \r\nL 7.8125 69.390625 \r\nQ 13.765625 71.78125 18.9375 73 \r\nQ 24.125 74.21875 28.421875 74.21875 \r\nQ 39.75 74.21875 46.484375 68.546875 \r\nQ 53.21875 62.890625 53.21875 53.421875 \r\nQ 53.21875 48.921875 51.53125 44.890625 \r\nQ 49.859375 40.875 45.40625 35.40625 \r\nQ 44.1875 33.984375 37.640625 27.21875 \r\nQ 31.109375 20.453125 19.1875 8.296875 \r\nz\r\n\" id=\"DejaVuSans-50\"/>\r\n       </defs>\r\n       <use xlink:href=\"#DejaVuSans-48\"/>\r\n       <use x=\"63.623047\" xlink:href=\"#DejaVuSans-46\"/>\r\n       <use x=\"95.410156\" xlink:href=\"#DejaVuSans-50\"/>\r\n      </g>\r\n     </g>\r\n    </g>\r\n    <g id=\"xtick_3\">\r\n     <g id=\"line2d_3\">\r\n      <g>\r\n       <use style=\"stroke:#000000;stroke-width:0.8;\" x=\"165.229229\" xlink:href=\"#m3eb5dc0b57\" y=\"224.64\"/>\r\n      </g>\r\n     </g>\r\n     <g id=\"text_3\">\r\n      <!-- 0.4 -->\r\n      <g transform=\"translate(157.277667 239.238437)scale(0.1 -0.1)\">\r\n       <defs>\r\n        <path d=\"M 37.796875 64.3125 \r\nL 12.890625 25.390625 \r\nL 37.796875 25.390625 \r\nz\r\nM 35.203125 72.90625 \r\nL 47.609375 72.90625 \r\nL 47.609375 25.390625 \r\nL 58.015625 25.390625 \r\nL 58.015625 17.1875 \r\nL 47.609375 17.1875 \r\nL 47.609375 0 \r\nL 37.796875 0 \r\nL 37.796875 17.1875 \r\nL 4.890625 17.1875 \r\nL 4.890625 26.703125 \r\nz\r\n\" id=\"DejaVuSans-52\"/>\r\n       </defs>\r\n       <use xlink:href=\"#DejaVuSans-48\"/>\r\n       <use x=\"63.623047\" xlink:href=\"#DejaVuSans-46\"/>\r\n       <use x=\"95.410156\" xlink:href=\"#DejaVuSans-52\"/>\r\n      </g>\r\n     </g>\r\n    </g>\r\n    <g id=\"xtick_4\">\r\n     <g id=\"line2d_4\">\r\n      <g>\r\n       <use style=\"stroke:#000000;stroke-width:0.8;\" x=\"227.144007\" xlink:href=\"#m3eb5dc0b57\" y=\"224.64\"/>\r\n      </g>\r\n     </g>\r\n     <g id=\"text_4\">\r\n      <!-- 0.6 -->\r\n      <g transform=\"translate(219.192444 239.238437)scale(0.1 -0.1)\">\r\n       <defs>\r\n        <path d=\"M 33.015625 40.375 \r\nQ 26.375 40.375 22.484375 35.828125 \r\nQ 18.609375 31.296875 18.609375 23.390625 \r\nQ 18.609375 15.53125 22.484375 10.953125 \r\nQ 26.375 6.390625 33.015625 6.390625 \r\nQ 39.65625 6.390625 43.53125 10.953125 \r\nQ 47.40625 15.53125 47.40625 23.390625 \r\nQ 47.40625 31.296875 43.53125 35.828125 \r\nQ 39.65625 40.375 33.015625 40.375 \r\nz\r\nM 52.59375 71.296875 \r\nL 52.59375 62.3125 \r\nQ 48.875 64.0625 45.09375 64.984375 \r\nQ 41.3125 65.921875 37.59375 65.921875 \r\nQ 27.828125 65.921875 22.671875 59.328125 \r\nQ 17.53125 52.734375 16.796875 39.40625 \r\nQ 19.671875 43.65625 24.015625 45.921875 \r\nQ 28.375 48.1875 33.59375 48.1875 \r\nQ 44.578125 48.1875 50.953125 41.515625 \r\nQ 57.328125 34.859375 57.328125 23.390625 \r\nQ 57.328125 12.15625 50.6875 5.359375 \r\nQ 44.046875 -1.421875 33.015625 -1.421875 \r\nQ 20.359375 -1.421875 13.671875 8.265625 \r\nQ 6.984375 17.96875 6.984375 36.375 \r\nQ 6.984375 53.65625 15.1875 63.9375 \r\nQ 23.390625 74.21875 37.203125 74.21875 \r\nQ 40.921875 74.21875 44.703125 73.484375 \r\nQ 48.484375 72.75 52.59375 71.296875 \r\nz\r\n\" id=\"DejaVuSans-54\"/>\r\n       </defs>\r\n       <use xlink:href=\"#DejaVuSans-48\"/>\r\n       <use x=\"63.623047\" xlink:href=\"#DejaVuSans-46\"/>\r\n       <use x=\"95.410156\" xlink:href=\"#DejaVuSans-54\"/>\r\n      </g>\r\n     </g>\r\n    </g>\r\n    <g id=\"xtick_5\">\r\n     <g id=\"line2d_5\">\r\n      <g>\r\n       <use style=\"stroke:#000000;stroke-width:0.8;\" x=\"289.058784\" xlink:href=\"#m3eb5dc0b57\" y=\"224.64\"/>\r\n      </g>\r\n     </g>\r\n     <g id=\"text_5\">\r\n      <!-- 0.8 -->\r\n      <g transform=\"translate(281.107222 239.238437)scale(0.1 -0.1)\">\r\n       <defs>\r\n        <path d=\"M 31.78125 34.625 \r\nQ 24.75 34.625 20.71875 30.859375 \r\nQ 16.703125 27.09375 16.703125 20.515625 \r\nQ 16.703125 13.921875 20.71875 10.15625 \r\nQ 24.75 6.390625 31.78125 6.390625 \r\nQ 38.8125 6.390625 42.859375 10.171875 \r\nQ 46.921875 13.96875 46.921875 20.515625 \r\nQ 46.921875 27.09375 42.890625 30.859375 \r\nQ 38.875 34.625 31.78125 34.625 \r\nz\r\nM 21.921875 38.8125 \r\nQ 15.578125 40.375 12.03125 44.71875 \r\nQ 8.5 49.078125 8.5 55.328125 \r\nQ 8.5 64.0625 14.71875 69.140625 \r\nQ 20.953125 74.21875 31.78125 74.21875 \r\nQ 42.671875 74.21875 48.875 69.140625 \r\nQ 55.078125 64.0625 55.078125 55.328125 \r\nQ 55.078125 49.078125 51.53125 44.71875 \r\nQ 48 40.375 41.703125 38.8125 \r\nQ 48.828125 37.15625 52.796875 32.3125 \r\nQ 56.78125 27.484375 56.78125 20.515625 \r\nQ 56.78125 9.90625 50.3125 4.234375 \r\nQ 43.84375 -1.421875 31.78125 -1.421875 \r\nQ 19.734375 -1.421875 13.25 4.234375 \r\nQ 6.78125 9.90625 6.78125 20.515625 \r\nQ 6.78125 27.484375 10.78125 32.3125 \r\nQ 14.796875 37.15625 21.921875 38.8125 \r\nz\r\nM 18.3125 54.390625 \r\nQ 18.3125 48.734375 21.84375 45.5625 \r\nQ 25.390625 42.390625 31.78125 42.390625 \r\nQ 38.140625 42.390625 41.71875 45.5625 \r\nQ 45.3125 48.734375 45.3125 54.390625 \r\nQ 45.3125 60.0625 41.71875 63.234375 \r\nQ 38.140625 66.40625 31.78125 66.40625 \r\nQ 25.390625 66.40625 21.84375 63.234375 \r\nQ 18.3125 60.0625 18.3125 54.390625 \r\nz\r\n\" id=\"DejaVuSans-56\"/>\r\n       </defs>\r\n       <use xlink:href=\"#DejaVuSans-48\"/>\r\n       <use x=\"63.623047\" xlink:href=\"#DejaVuSans-46\"/>\r\n       <use x=\"95.410156\" xlink:href=\"#DejaVuSans-56\"/>\r\n      </g>\r\n     </g>\r\n    </g>\r\n    <g id=\"xtick_6\">\r\n     <g id=\"line2d_6\">\r\n      <g>\r\n       <use style=\"stroke:#000000;stroke-width:0.8;\" x=\"350.973562\" xlink:href=\"#m3eb5dc0b57\" y=\"224.64\"/>\r\n      </g>\r\n     </g>\r\n     <g id=\"text_6\">\r\n      <!-- 1.0 -->\r\n      <g transform=\"translate(343.021999 239.238437)scale(0.1 -0.1)\">\r\n       <defs>\r\n        <path d=\"M 12.40625 8.296875 \r\nL 28.515625 8.296875 \r\nL 28.515625 63.921875 \r\nL 10.984375 60.40625 \r\nL 10.984375 69.390625 \r\nL 28.421875 72.90625 \r\nL 38.28125 72.90625 \r\nL 38.28125 8.296875 \r\nL 54.390625 8.296875 \r\nL 54.390625 0 \r\nL 12.40625 0 \r\nz\r\n\" id=\"DejaVuSans-49\"/>\r\n       </defs>\r\n       <use xlink:href=\"#DejaVuSans-49\"/>\r\n       <use x=\"63.623047\" xlink:href=\"#DejaVuSans-46\"/>\r\n       <use x=\"95.410156\" xlink:href=\"#DejaVuSans-48\"/>\r\n      </g>\r\n     </g>\r\n    </g>\r\n   </g>\r\n   <g id=\"matplotlib.axis_2\">\r\n    <g id=\"ytick_1\">\r\n     <g id=\"line2d_7\">\r\n      <defs>\r\n       <path d=\"M 0 0 \r\nL -3.5 0 \r\n\" id=\"m5d1107d4b7\" style=\"stroke:#000000;stroke-width:0.8;\"/>\r\n      </defs>\r\n      <g>\r\n       <use style=\"stroke:#000000;stroke-width:0.8;\" x=\"28.942188\" xlink:href=\"#m5d1107d4b7\" y=\"213.153775\"/>\r\n      </g>\r\n     </g>\r\n     <g id=\"text_7\">\r\n      <!-- −1 -->\r\n      <g transform=\"translate(7.2 216.952994)scale(0.1 -0.1)\">\r\n       <defs>\r\n        <path d=\"M 10.59375 35.5 \r\nL 73.1875 35.5 \r\nL 73.1875 27.203125 \r\nL 10.59375 27.203125 \r\nz\r\n\" id=\"DejaVuSans-8722\"/>\r\n       </defs>\r\n       <use xlink:href=\"#DejaVuSans-8722\"/>\r\n       <use x=\"83.789062\" xlink:href=\"#DejaVuSans-49\"/>\r\n      </g>\r\n     </g>\r\n    </g>\r\n    <g id=\"ytick_2\">\r\n     <g id=\"line2d_8\">\r\n      <g>\r\n       <use style=\"stroke:#000000;stroke-width:0.8;\" x=\"28.942188\" xlink:href=\"#m5d1107d4b7\" y=\"181.335442\"/>\r\n      </g>\r\n     </g>\r\n     <g id=\"text_8\">\r\n      <!-- 0 -->\r\n      <g transform=\"translate(15.579688 185.134661)scale(0.1 -0.1)\">\r\n       <use xlink:href=\"#DejaVuSans-48\"/>\r\n      </g>\r\n     </g>\r\n    </g>\r\n    <g id=\"ytick_3\">\r\n     <g id=\"line2d_9\">\r\n      <g>\r\n       <use style=\"stroke:#000000;stroke-width:0.8;\" x=\"28.942188\" xlink:href=\"#m5d1107d4b7\" y=\"149.517109\"/>\r\n      </g>\r\n     </g>\r\n     <g id=\"text_9\">\r\n      <!-- 1 -->\r\n      <g transform=\"translate(15.579688 153.316328)scale(0.1 -0.1)\">\r\n       <use xlink:href=\"#DejaVuSans-49\"/>\r\n      </g>\r\n     </g>\r\n    </g>\r\n    <g id=\"ytick_4\">\r\n     <g id=\"line2d_10\">\r\n      <g>\r\n       <use style=\"stroke:#000000;stroke-width:0.8;\" x=\"28.942188\" xlink:href=\"#m5d1107d4b7\" y=\"117.698776\"/>\r\n      </g>\r\n     </g>\r\n     <g id=\"text_10\">\r\n      <!-- 2 -->\r\n      <g transform=\"translate(15.579688 121.497995)scale(0.1 -0.1)\">\r\n       <use xlink:href=\"#DejaVuSans-50\"/>\r\n      </g>\r\n     </g>\r\n    </g>\r\n    <g id=\"ytick_5\">\r\n     <g id=\"line2d_11\">\r\n      <g>\r\n       <use style=\"stroke:#000000;stroke-width:0.8;\" x=\"28.942188\" xlink:href=\"#m5d1107d4b7\" y=\"85.880444\"/>\r\n      </g>\r\n     </g>\r\n     <g id=\"text_11\">\r\n      <!-- 3 -->\r\n      <g transform=\"translate(15.579688 89.679662)scale(0.1 -0.1)\">\r\n       <defs>\r\n        <path d=\"M 40.578125 39.3125 \r\nQ 47.65625 37.796875 51.625 33 \r\nQ 55.609375 28.21875 55.609375 21.1875 \r\nQ 55.609375 10.40625 48.1875 4.484375 \r\nQ 40.765625 -1.421875 27.09375 -1.421875 \r\nQ 22.515625 -1.421875 17.65625 -0.515625 \r\nQ 12.796875 0.390625 7.625 2.203125 \r\nL 7.625 11.71875 \r\nQ 11.71875 9.328125 16.59375 8.109375 \r\nQ 21.484375 6.890625 26.8125 6.890625 \r\nQ 36.078125 6.890625 40.9375 10.546875 \r\nQ 45.796875 14.203125 45.796875 21.1875 \r\nQ 45.796875 27.640625 41.28125 31.265625 \r\nQ 36.765625 34.90625 28.71875 34.90625 \r\nL 20.21875 34.90625 \r\nL 20.21875 43.015625 \r\nL 29.109375 43.015625 \r\nQ 36.375 43.015625 40.234375 45.921875 \r\nQ 44.09375 48.828125 44.09375 54.296875 \r\nQ 44.09375 59.90625 40.109375 62.90625 \r\nQ 36.140625 65.921875 28.71875 65.921875 \r\nQ 24.65625 65.921875 20.015625 65.03125 \r\nQ 15.375 64.15625 9.8125 62.3125 \r\nL 9.8125 71.09375 \r\nQ 15.4375 72.65625 20.34375 73.4375 \r\nQ 25.25 74.21875 29.59375 74.21875 \r\nQ 40.828125 74.21875 47.359375 69.109375 \r\nQ 53.90625 64.015625 53.90625 55.328125 \r\nQ 53.90625 49.265625 50.4375 45.09375 \r\nQ 46.96875 40.921875 40.578125 39.3125 \r\nz\r\n\" id=\"DejaVuSans-51\"/>\r\n       </defs>\r\n       <use xlink:href=\"#DejaVuSans-51\"/>\r\n      </g>\r\n     </g>\r\n    </g>\r\n    <g id=\"ytick_6\">\r\n     <g id=\"line2d_12\">\r\n      <g>\r\n       <use style=\"stroke:#000000;stroke-width:0.8;\" x=\"28.942188\" xlink:href=\"#m5d1107d4b7\" y=\"54.062111\"/>\r\n      </g>\r\n     </g>\r\n     <g id=\"text_12\">\r\n      <!-- 4 -->\r\n      <g transform=\"translate(15.579688 57.861329)scale(0.1 -0.1)\">\r\n       <use xlink:href=\"#DejaVuSans-52\"/>\r\n      </g>\r\n     </g>\r\n    </g>\r\n    <g id=\"ytick_7\">\r\n     <g id=\"line2d_13\">\r\n      <g>\r\n       <use style=\"stroke:#000000;stroke-width:0.8;\" x=\"28.942188\" xlink:href=\"#m5d1107d4b7\" y=\"22.243778\"/>\r\n      </g>\r\n     </g>\r\n     <g id=\"text_13\">\r\n      <!-- 5 -->\r\n      <g transform=\"translate(15.579688 26.042997)scale(0.1 -0.1)\">\r\n       <defs>\r\n        <path d=\"M 10.796875 72.90625 \r\nL 49.515625 72.90625 \r\nL 49.515625 64.59375 \r\nL 19.828125 64.59375 \r\nL 19.828125 46.734375 \r\nQ 21.96875 47.46875 24.109375 47.828125 \r\nQ 26.265625 48.1875 28.421875 48.1875 \r\nQ 40.625 48.1875 47.75 41.5 \r\nQ 54.890625 34.8125 54.890625 23.390625 \r\nQ 54.890625 11.625 47.5625 5.09375 \r\nQ 40.234375 -1.421875 26.90625 -1.421875 \r\nQ 22.3125 -1.421875 17.546875 -0.640625 \r\nQ 12.796875 0.140625 7.71875 1.703125 \r\nL 7.71875 11.625 \r\nQ 12.109375 9.234375 16.796875 8.0625 \r\nQ 21.484375 6.890625 26.703125 6.890625 \r\nQ 35.15625 6.890625 40.078125 11.328125 \r\nQ 45.015625 15.765625 45.015625 23.390625 \r\nQ 45.015625 31 40.078125 35.4375 \r\nQ 35.15625 39.890625 26.703125 39.890625 \r\nQ 22.75 39.890625 18.8125 39.015625 \r\nQ 14.890625 38.140625 10.796875 36.28125 \r\nz\r\n\" id=\"DejaVuSans-53\"/>\r\n       </defs>\r\n       <use xlink:href=\"#DejaVuSans-53\"/>\r\n      </g>\r\n     </g>\r\n    </g>\r\n   </g>\r\n   <g id=\"line2d_14\">\r\n    <defs>\r\n     <path d=\"M 0 1.5 \r\nC 0.397805 1.5 0.77937 1.341951 1.06066 1.06066 \r\nC 1.341951 0.77937 1.5 0.397805 1.5 0 \r\nC 1.5 -0.397805 1.341951 -0.77937 1.06066 -1.06066 \r\nC 0.77937 -1.341951 0.397805 -1.5 0 -1.5 \r\nC -0.397805 -1.5 -0.77937 -1.341951 -1.06066 -1.06066 \r\nC -1.341951 -0.77937 -1.5 -0.397805 -1.5 0 \r\nC -1.5 0.397805 -1.341951 0.77937 -1.06066 1.06066 \r\nC -0.77937 1.341951 -0.397805 1.5 0 1.5 \r\nz\r\n\" id=\"ma5337676b7\" style=\"stroke:#000000;\"/>\r\n    </defs>\r\n    <g clip-path=\"url(#p89ecc780cc)\">\r\n     <use style=\"stroke:#000000;\" x=\"185.607242\" xlink:href=\"#ma5337676b7\" y=\"94.906908\"/>\r\n     <use style=\"stroke:#000000;\" x=\"347.291556\" xlink:href=\"#ma5337676b7\" y=\"56.906678\"/>\r\n     <use style=\"stroke:#000000;\" x=\"222.953708\" xlink:href=\"#ma5337676b7\" y=\"146.656413\"/>\r\n     <use style=\"stroke:#000000;\" x=\"314.606821\" xlink:href=\"#ma5337676b7\" y=\"86.090003\"/>\r\n     <use style=\"stroke:#000000;\" x=\"44.174475\" xlink:href=\"#ma5337676b7\" y=\"193.290758\"/>\r\n     <use style=\"stroke:#000000;\" x=\"77.27224\" xlink:href=\"#ma5337676b7\" y=\"141.297066\"/>\r\n     <use style=\"stroke:#000000;\" x=\"175.250647\" xlink:href=\"#ma5337676b7\" y=\"137.061425\"/>\r\n     <use style=\"stroke:#000000;\" x=\"246.681998\" xlink:href=\"#ma5337676b7\" y=\"116.686186\"/>\r\n     <use style=\"stroke:#000000;\" x=\"324.940982\" xlink:href=\"#ma5337676b7\" y=\"122.103494\"/>\r\n     <use style=\"stroke:#000000;\" x=\"227.16964\" xlink:href=\"#ma5337676b7\" y=\"145.8261\"/>\r\n     <use style=\"stroke:#000000;\" x=\"282.138187\" xlink:href=\"#ma5337676b7\" y=\"78.476746\"/>\r\n     <use style=\"stroke:#000000;\" x=\"206.852884\" xlink:href=\"#ma5337676b7\" y=\"132.521898\"/>\r\n     <use style=\"stroke:#000000;\" x=\"102.276248\" xlink:href=\"#ma5337676b7\" y=\"141.899773\"/>\r\n     <use style=\"stroke:#000000;\" x=\"250.464566\" xlink:href=\"#ma5337676b7\" y=\"93.578688\"/>\r\n     <use style=\"stroke:#000000;\" x=\"286.533142\" xlink:href=\"#ma5337676b7\" y=\"102.739924\"/>\r\n     <use style=\"stroke:#000000;\" x=\"323.043409\" xlink:href=\"#ma5337676b7\" y=\"41.551557\"/>\r\n     <use style=\"stroke:#000000;\" x=\"61.883604\" xlink:href=\"#ma5337676b7\" y=\"152.994775\"/>\r\n     <use style=\"stroke:#000000;\" x=\"225.384247\" xlink:href=\"#ma5337676b7\" y=\"99.819858\"/>\r\n     <use style=\"stroke:#000000;\" x=\"147.642542\" xlink:href=\"#ma5337676b7\" y=\"141.770495\"/>\r\n     <use style=\"stroke:#000000;\" x=\"269.071535\" xlink:href=\"#ma5337676b7\" y=\"115.285997\"/>\r\n     <use style=\"stroke:#000000;\" x=\"328.127596\" xlink:href=\"#ma5337676b7\" y=\"81.584703\"/>\r\n     <use style=\"stroke:#000000;\" x=\"160.007969\" xlink:href=\"#ma5337676b7\" y=\"122.313345\"/>\r\n     <use style=\"stroke:#000000;\" x=\"173.743379\" xlink:href=\"#ma5337676b7\" y=\"127.502104\"/>\r\n     <use style=\"stroke:#000000;\" x=\"95.222602\" xlink:href=\"#ma5337676b7\" y=\"148.591769\"/>\r\n     <use style=\"stroke:#000000;\" x=\"235.549511\" xlink:href=\"#ma5337676b7\" y=\"118.375627\"/>\r\n     <use style=\"stroke:#000000;\" x=\"348.17071\" xlink:href=\"#ma5337676b7\" y=\"118.945064\"/>\r\n     <use style=\"stroke:#000000;\" x=\"234.019631\" xlink:href=\"#ma5337676b7\" y=\"118.250827\"/>\r\n     <use style=\"stroke:#000000;\" x=\"87.968204\" xlink:href=\"#ma5337676b7\" y=\"123.992762\"/>\r\n     <use style=\"stroke:#000000;\" x=\"50.98243\" xlink:href=\"#ma5337676b7\" y=\"213.736252\"/>\r\n     <use style=\"stroke:#000000;\" x=\"129.927342\" xlink:href=\"#ma5337676b7\" y=\"148.70336\"/>\r\n     <use style=\"stroke:#000000;\" x=\"146.536034\" xlink:href=\"#ma5337676b7\" y=\"139.042894\"/>\r\n     <use style=\"stroke:#000000;\" x=\"58.997592\" xlink:href=\"#ma5337676b7\" y=\"145.30097\"/>\r\n     <use style=\"stroke:#000000;\" x=\"191.482162\" xlink:href=\"#ma5337676b7\" y=\"180.823794\"/>\r\n     <use style=\"stroke:#000000;\" x=\"254.290427\" xlink:href=\"#ma5337676b7\" y=\"129.785315\"/>\r\n     <use style=\"stroke:#000000;\" x=\"310.8877\" xlink:href=\"#ma5337676b7\" y=\"94.791159\"/>\r\n     <use style=\"stroke:#000000;\" x=\"170.429235\" xlink:href=\"#ma5337676b7\" y=\"94.89021\"/>\r\n     <use style=\"stroke:#000000;\" x=\"328.148411\" xlink:href=\"#ma5337676b7\" y=\"70.367946\"/>\r\n     <use style=\"stroke:#000000;\" x=\"103.460347\" xlink:href=\"#ma5337676b7\" y=\"138.398683\"/>\r\n     <use style=\"stroke:#000000;\" x=\"183.116998\" xlink:href=\"#ma5337676b7\" y=\"154.788267\"/>\r\n     <use style=\"stroke:#000000;\" x=\"158.922708\" xlink:href=\"#ma5337676b7\" y=\"143.204654\"/>\r\n     <use style=\"stroke:#000000;\" x=\"270.38447\" xlink:href=\"#ma5337676b7\" y=\"133.032704\"/>\r\n     <use style=\"stroke:#000000;\" x=\"166.133142\" xlink:href=\"#ma5337676b7\" y=\"124.308522\"/>\r\n     <use style=\"stroke:#000000;\" x=\"230.156827\" xlink:href=\"#ma5337676b7\" y=\"83.34786\"/>\r\n     <use style=\"stroke:#000000;\" x=\"54.598113\" xlink:href=\"#ma5337676b7\" y=\"149.017868\"/>\r\n     <use style=\"stroke:#000000;\" x=\"158.796707\" xlink:href=\"#ma5337676b7\" y=\"165.166746\"/>\r\n     <use style=\"stroke:#000000;\" x=\"230.849117\" xlink:href=\"#ma5337676b7\" y=\"101.60317\"/>\r\n     <use style=\"stroke:#000000;\" x=\"84.681791\" xlink:href=\"#ma5337676b7\" y=\"181.392324\"/>\r\n     <use style=\"stroke:#000000;\" x=\"44.199228\" xlink:href=\"#ma5337676b7\" y=\"172.279585\"/>\r\n     <use style=\"stroke:#000000;\" x=\"78.924614\" xlink:href=\"#ma5337676b7\" y=\"115.251929\"/>\r\n     <use style=\"stroke:#000000;\" x=\"72.579478\" xlink:href=\"#ma5337676b7\" y=\"175.335245\"/>\r\n     <use style=\"stroke:#000000;\" x=\"335.782402\" xlink:href=\"#ma5337676b7\" y=\"108.113611\"/>\r\n     <use style=\"stroke:#000000;\" x=\"148.811008\" xlink:href=\"#ma5337676b7\" y=\"195.279716\"/>\r\n     <use style=\"stroke:#000000;\" x=\"344.382563\" xlink:href=\"#ma5337676b7\" y=\"107.759422\"/>\r\n     <use style=\"stroke:#000000;\" x=\"175.819083\" xlink:href=\"#ma5337676b7\" y=\"95.236166\"/>\r\n     <use style=\"stroke:#000000;\" x=\"206.594508\" xlink:href=\"#ma5337676b7\" y=\"169.322978\"/>\r\n     <use style=\"stroke:#000000;\" x=\"157.023625\" xlink:href=\"#ma5337676b7\" y=\"116.635056\"/>\r\n     <use style=\"stroke:#000000;\" x=\"97.407131\" xlink:href=\"#ma5337676b7\" y=\"140.905961\"/>\r\n     <use style=\"stroke:#000000;\" x=\"59.522648\" xlink:href=\"#ma5337676b7\" y=\"118.526753\"/>\r\n     <use style=\"stroke:#000000;\" x=\"189.5165\" xlink:href=\"#ma5337676b7\" y=\"157.326314\"/>\r\n     <use style=\"stroke:#000000;\" x=\"335.310303\" xlink:href=\"#ma5337676b7\" y=\"22.515331\"/>\r\n     <use style=\"stroke:#000000;\" x=\"303.010108\" xlink:href=\"#ma5337676b7\" y=\"56.96755\"/>\r\n     <use style=\"stroke:#000000;\" x=\"159.454216\" xlink:href=\"#ma5337676b7\" y=\"126.531516\"/>\r\n     <use style=\"stroke:#000000;\" x=\"101.318319\" xlink:href=\"#ma5337676b7\" y=\"157.308544\"/>\r\n     <use style=\"stroke:#000000;\" x=\"268.902155\" xlink:href=\"#ma5337676b7\" y=\"73.405978\"/>\r\n     <use style=\"stroke:#000000;\" x=\"103.267918\" xlink:href=\"#ma5337676b7\" y=\"111.417649\"/>\r\n     <use style=\"stroke:#000000;\" x=\"238.38478\" xlink:href=\"#ma5337676b7\" y=\"156.597987\"/>\r\n     <use style=\"stroke:#000000;\" x=\"241.656453\" xlink:href=\"#ma5337676b7\" y=\"111.368026\"/>\r\n     <use style=\"stroke:#000000;\" x=\"200.305363\" xlink:href=\"#ma5337676b7\" y=\"113.615086\"/>\r\n     <use style=\"stroke:#000000;\" x=\"213.775791\" xlink:href=\"#ma5337676b7\" y=\"174.354539\"/>\r\n     <use style=\"stroke:#000000;\" x=\"218.072948\" xlink:href=\"#ma5337676b7\" y=\"118.435622\"/>\r\n     <use style=\"stroke:#000000;\" x=\"337.037913\" xlink:href=\"#ma5337676b7\" y=\"107.791522\"/>\r\n     <use style=\"stroke:#000000;\" x=\"164.035712\" xlink:href=\"#ma5337676b7\" y=\"128.662293\"/>\r\n     <use style=\"stroke:#000000;\" x=\"67.08964\" xlink:href=\"#ma5337676b7\" y=\"177.64432\"/>\r\n     <use style=\"stroke:#000000;\" x=\"84.609335\" xlink:href=\"#ma5337676b7\" y=\"189.767855\"/>\r\n     <use style=\"stroke:#000000;\" x=\"258.870872\" xlink:href=\"#ma5337676b7\" y=\"125.070681\"/>\r\n     <use style=\"stroke:#000000;\" x=\"226.987008\" xlink:href=\"#ma5337676b7\" y=\"83.730036\"/>\r\n     <use style=\"stroke:#000000;\" x=\"160.810784\" xlink:href=\"#ma5337676b7\" y=\"137.992456\"/>\r\n     <use style=\"stroke:#000000;\" x=\"56.673993\" xlink:href=\"#ma5337676b7\" y=\"161.774639\"/>\r\n     <use style=\"stroke:#000000;\" x=\"337.149498\" xlink:href=\"#ma5337676b7\" y=\"103.841178\"/>\r\n     <use style=\"stroke:#000000;\" x=\"144.594368\" xlink:href=\"#ma5337676b7\" y=\"154.701391\"/>\r\n     <use style=\"stroke:#000000;\" x=\"50.228381\" xlink:href=\"#ma5337676b7\" y=\"106.618688\"/>\r\n     <use style=\"stroke:#000000;\" x=\"66.376544\" xlink:href=\"#ma5337676b7\" y=\"192.79662\"/>\r\n     <use style=\"stroke:#000000;\" x=\"219.215153\" xlink:href=\"#ma5337676b7\" y=\"118.600815\"/>\r\n     <use style=\"stroke:#000000;\" x=\"45.741888\" xlink:href=\"#ma5337676b7\" y=\"154.757666\"/>\r\n     <use style=\"stroke:#000000;\" x=\"87.978554\" xlink:href=\"#ma5337676b7\" y=\"205.09884\"/>\r\n     <use style=\"stroke:#000000;\" x=\"334.36504\" xlink:href=\"#ma5337676b7\" y=\"17.083636\"/>\r\n     <use style=\"stroke:#000000;\" x=\"204.188808\" xlink:href=\"#ma5337676b7\" y=\"67.872336\"/>\r\n     <use style=\"stroke:#000000;\" x=\"45.706861\" xlink:href=\"#ma5337676b7\" y=\"180.317531\"/>\r\n     <use style=\"stroke:#000000;\" x=\"165.944916\" xlink:href=\"#ma5337676b7\" y=\"118.5566\"/>\r\n     <use style=\"stroke:#000000;\" x=\"125.862292\" xlink:href=\"#ma5337676b7\" y=\"164.293472\"/>\r\n     <use style=\"stroke:#000000;\" x=\"332.723058\" xlink:href=\"#ma5337676b7\" y=\"36.292692\"/>\r\n     <use style=\"stroke:#000000;\" x=\"177.449667\" xlink:href=\"#ma5337676b7\" y=\"59.151036\"/>\r\n     <use style=\"stroke:#000000;\" x=\"179.29219\" xlink:href=\"#ma5337676b7\" y=\"145.102215\"/>\r\n     <use style=\"stroke:#000000;\" x=\"47.435639\" xlink:href=\"#ma5337676b7\" y=\"170.505166\"/>\r\n     <use style=\"stroke:#000000;\" x=\"287.767244\" xlink:href=\"#ma5337676b7\" y=\"85.409743\"/>\r\n     <use style=\"stroke:#000000;\" x=\"231.768956\" xlink:href=\"#ma5337676b7\" y=\"72.267134\"/>\r\n     <use style=\"stroke:#000000;\" x=\"213.458142\" xlink:href=\"#ma5337676b7\" y=\"133.928247\"/>\r\n     <use style=\"stroke:#000000;\" x=\"91.63164\" xlink:href=\"#ma5337676b7\" y=\"154.122439\"/>\r\n     <use style=\"stroke:#000000;\" x=\"48.0032\" xlink:href=\"#ma5337676b7\" y=\"184.731655\"/>\r\n     <use style=\"stroke:#000000;\" x=\"348.524006\" xlink:href=\"#ma5337676b7\" y=\"68.670319\"/>\r\n     <use style=\"stroke:#000000;\" x=\"44.160369\" xlink:href=\"#ma5337676b7\" y=\"151.370219\"/>\r\n     <use style=\"stroke:#000000;\" x=\"59.773103\" xlink:href=\"#ma5337676b7\" y=\"140.56223\"/>\r\n     <use style=\"stroke:#000000;\" x=\"244.090118\" xlink:href=\"#ma5337676b7\" y=\"67.439249\"/>\r\n     <use style=\"stroke:#000000;\" x=\"241.104982\" xlink:href=\"#ma5337676b7\" y=\"137.612184\"/>\r\n     <use style=\"stroke:#000000;\" x=\"61.022236\" xlink:href=\"#ma5337676b7\" y=\"161.828402\"/>\r\n     <use style=\"stroke:#000000;\" x=\"233.618719\" xlink:href=\"#ma5337676b7\" y=\"130.069257\"/>\r\n     <use style=\"stroke:#000000;\" x=\"316.645665\" xlink:href=\"#ma5337676b7\" y=\"87.816833\"/>\r\n     <use style=\"stroke:#000000;\" x=\"266.250532\" xlink:href=\"#ma5337676b7\" y=\"74.855814\"/>\r\n     <use style=\"stroke:#000000;\" x=\"287.071247\" xlink:href=\"#ma5337676b7\" y=\"97.612004\"/>\r\n     <use style=\"stroke:#000000;\" x=\"47.382813\" xlink:href=\"#ma5337676b7\" y=\"130.304807\"/>\r\n     <use style=\"stroke:#000000;\" x=\"159.050214\" xlink:href=\"#ma5337676b7\" y=\"110.613604\"/>\r\n     <use style=\"stroke:#000000;\" x=\"260.526937\" xlink:href=\"#ma5337676b7\" y=\"143.202389\"/>\r\n     <use style=\"stroke:#000000;\" x=\"321.088955\" xlink:href=\"#ma5337676b7\" y=\"95.941894\"/>\r\n     <use style=\"stroke:#000000;\" x=\"48.303044\" xlink:href=\"#ma5337676b7\" y=\"213.521095\"/>\r\n     <use style=\"stroke:#000000;\" x=\"124.861598\" xlink:href=\"#ma5337676b7\" y=\"176.316732\"/>\r\n     <use style=\"stroke:#000000;\" x=\"130.989071\" xlink:href=\"#ma5337676b7\" y=\"123.495936\"/>\r\n     <use style=\"stroke:#000000;\" x=\"125.273745\" xlink:href=\"#ma5337676b7\" y=\"180.527867\"/>\r\n     <use style=\"stroke:#000000;\" x=\"295.195989\" xlink:href=\"#ma5337676b7\" y=\"69.738438\"/>\r\n     <use style=\"stroke:#000000;\" x=\"133.400939\" xlink:href=\"#ma5337676b7\" y=\"111.281394\"/>\r\n     <use style=\"stroke:#000000;\" x=\"160.973598\" xlink:href=\"#ma5337676b7\" y=\"161.090903\"/>\r\n     <use style=\"stroke:#000000;\" x=\"78.242558\" xlink:href=\"#ma5337676b7\" y=\"196.62403\"/>\r\n     <use style=\"stroke:#000000;\" x=\"282.271018\" xlink:href=\"#ma5337676b7\" y=\"137.903812\"/>\r\n     <use style=\"stroke:#000000;\" x=\"223.465522\" xlink:href=\"#ma5337676b7\" y=\"159.991966\"/>\r\n     <use style=\"stroke:#000000;\" x=\"298.272588\" xlink:href=\"#ma5337676b7\" y=\"164.161402\"/>\r\n     <use style=\"stroke:#000000;\" x=\"119.905621\" xlink:href=\"#ma5337676b7\" y=\"97.698186\"/>\r\n     <use style=\"stroke:#000000;\" x=\"310.069291\" xlink:href=\"#ma5337676b7\" y=\"79.359323\"/>\r\n     <use style=\"stroke:#000000;\" x=\"48.392191\" xlink:href=\"#ma5337676b7\" y=\"214.756364\"/>\r\n     <use style=\"stroke:#000000;\" x=\"59.355661\" xlink:href=\"#ma5337676b7\" y=\"198.906382\"/>\r\n     <use style=\"stroke:#000000;\" x=\"127.885738\" xlink:href=\"#ma5337676b7\" y=\"154.233012\"/>\r\n     <use style=\"stroke:#000000;\" x=\"248.249257\" xlink:href=\"#ma5337676b7\" y=\"121.369071\"/>\r\n     <use style=\"stroke:#000000;\" x=\"119.142389\" xlink:href=\"#ma5337676b7\" y=\"158.775259\"/>\r\n     <use style=\"stroke:#000000;\" x=\"197.10031\" xlink:href=\"#ma5337676b7\" y=\"124.191573\"/>\r\n     <use style=\"stroke:#000000;\" x=\"302.635662\" xlink:href=\"#ma5337676b7\" y=\"64.472544\"/>\r\n     <use style=\"stroke:#000000;\" x=\"152.208385\" xlink:href=\"#ma5337676b7\" y=\"106.965741\"/>\r\n     <use style=\"stroke:#000000;\" x=\"94.14017\" xlink:href=\"#ma5337676b7\" y=\"104.799751\"/>\r\n     <use style=\"stroke:#000000;\" x=\"261.071641\" xlink:href=\"#ma5337676b7\" y=\"156.260435\"/>\r\n     <use style=\"stroke:#000000;\" x=\"200.739898\" xlink:href=\"#ma5337676b7\" y=\"108.457707\"/>\r\n     <use style=\"stroke:#000000;\" x=\"282.325604\" xlink:href=\"#ma5337676b7\" y=\"118.128285\"/>\r\n     <use style=\"stroke:#000000;\" x=\"252.199607\" xlink:href=\"#ma5337676b7\" y=\"101.993526\"/>\r\n     <use style=\"stroke:#000000;\" x=\"276.912859\" xlink:href=\"#ma5337676b7\" y=\"95.172071\"/>\r\n     <use style=\"stroke:#000000;\" x=\"285.722667\" xlink:href=\"#ma5337676b7\" y=\"63.546873\"/>\r\n     <use style=\"stroke:#000000;\" x=\"226.030884\" xlink:href=\"#ma5337676b7\" y=\"146.804914\"/>\r\n     <use style=\"stroke:#000000;\" x=\"281.689957\" xlink:href=\"#ma5337676b7\" y=\"41.378376\"/>\r\n     <use style=\"stroke:#000000;\" x=\"205.499782\" xlink:href=\"#ma5337676b7\" y=\"113.361995\"/>\r\n     <use style=\"stroke:#000000;\" x=\"153.618841\" xlink:href=\"#ma5337676b7\" y=\"117.701398\"/>\r\n     <use style=\"stroke:#000000;\" x=\"247.495331\" xlink:href=\"#ma5337676b7\" y=\"113.48342\"/>\r\n     <use style=\"stroke:#000000;\" x=\"271.833224\" xlink:href=\"#ma5337676b7\" y=\"129.455269\"/>\r\n     <use style=\"stroke:#000000;\" x=\"251.235139\" xlink:href=\"#ma5337676b7\" y=\"149.98099\"/>\r\n     <use style=\"stroke:#000000;\" x=\"134.624746\" xlink:href=\"#ma5337676b7\" y=\"123.422033\"/>\r\n     <use style=\"stroke:#000000;\" x=\"174.390494\" xlink:href=\"#ma5337676b7\" y=\"112.594326\"/>\r\n    </g>\r\n   </g>\r\n   <g id=\"line2d_15\">\r\n    <path clip-path=\"url(#p89ecc780cc)\" d=\"M 185.607242 127.402337 \r\nL 348.524006 79.027444 \r\nL 44.160369 169.402172 \r\nL 174.390494 130.732927 \r\n\" style=\"fill:none;stroke:#0000ff;stroke-linecap:square;stroke-width:1.5;\"/>\r\n   </g>\r\n   <g id=\"line2d_16\">\r\n    <path clip-path=\"url(#p89ecc780cc)\" d=\"M 185.607242 123.289719 \r\nL 348.524006 105.302342 \r\nL 44.160369 138.90664 \r\nL 174.390494 124.528142 \r\n\" style=\"fill:none;stroke:#ff0000;stroke-linecap:square;stroke-width:1.5;\"/>\r\n   </g>\r\n   <g id=\"patch_3\">\r\n    <path d=\"M 28.942188 224.64 \r\nL 28.942188 7.2 \r\n\" style=\"fill:none;stroke:#000000;stroke-linecap:square;stroke-linejoin:miter;stroke-width:0.8;\"/>\r\n   </g>\r\n   <g id=\"patch_4\">\r\n    <path d=\"M 363.742188 224.64 \r\nL 363.742188 7.2 \r\n\" style=\"fill:none;stroke:#000000;stroke-linecap:square;stroke-linejoin:miter;stroke-width:0.8;\"/>\r\n   </g>\r\n   <g id=\"patch_5\">\r\n    <path d=\"M 28.942188 224.64 \r\nL 363.742188 224.64 \r\n\" style=\"fill:none;stroke:#000000;stroke-linecap:square;stroke-linejoin:miter;stroke-width:0.8;\"/>\r\n   </g>\r\n   <g id=\"patch_6\">\r\n    <path d=\"M 28.942188 7.2 \r\nL 363.742188 7.2 \r\n\" style=\"fill:none;stroke:#000000;stroke-linecap:square;stroke-linejoin:miter;stroke-width:0.8;\"/>\r\n   </g>\r\n   <g id=\"legend_1\">\r\n    <g id=\"patch_7\">\r\n     <path d=\"M 35.942188 44.55625 \r\nL 83.390625 44.55625 \r\nQ 85.390625 44.55625 85.390625 42.55625 \r\nL 85.390625 14.2 \r\nQ 85.390625 12.2 83.390625 12.2 \r\nL 35.942188 12.2 \r\nQ 33.942188 12.2 33.942188 14.2 \r\nL 33.942188 42.55625 \r\nQ 33.942188 44.55625 35.942188 44.55625 \r\nz\r\n\" style=\"fill:#ffffff;opacity:0.8;stroke:#cccccc;stroke-linejoin:miter;\"/>\r\n    </g>\r\n    <g id=\"line2d_17\">\r\n     <path d=\"M 37.942188 20.298437 \r\nL 57.942188 20.298437 \r\n\" style=\"fill:none;stroke:#0000ff;stroke-linecap:square;stroke-width:1.5;\"/>\r\n    </g>\r\n    <g id=\"line2d_18\"/>\r\n    <g id=\"text_14\">\r\n     <!-- NE -->\r\n     <g transform=\"translate(65.942188 23.798437)scale(0.1 -0.1)\">\r\n      <defs>\r\n       <path d=\"M 9.8125 72.90625 \r\nL 23.09375 72.90625 \r\nL 55.421875 11.921875 \r\nL 55.421875 72.90625 \r\nL 64.984375 72.90625 \r\nL 64.984375 0 \r\nL 51.703125 0 \r\nL 19.390625 60.984375 \r\nL 19.390625 0 \r\nL 9.8125 0 \r\nz\r\n\" id=\"DejaVuSans-78\"/>\r\n       <path d=\"M 9.8125 72.90625 \r\nL 55.90625 72.90625 \r\nL 55.90625 64.59375 \r\nL 19.671875 64.59375 \r\nL 19.671875 43.015625 \r\nL 54.390625 43.015625 \r\nL 54.390625 34.71875 \r\nL 19.671875 34.71875 \r\nL 19.671875 8.296875 \r\nL 56.78125 8.296875 \r\nL 56.78125 0 \r\nL 9.8125 0 \r\nz\r\n\" id=\"DejaVuSans-69\"/>\r\n      </defs>\r\n      <use xlink:href=\"#DejaVuSans-78\"/>\r\n      <use x=\"74.804688\" xlink:href=\"#DejaVuSans-69\"/>\r\n     </g>\r\n    </g>\r\n    <g id=\"line2d_19\">\r\n     <path d=\"M 37.942188 34.976562 \r\nL 57.942188 34.976562 \r\n\" style=\"fill:none;stroke:#ff0000;stroke-linecap:square;stroke-width:1.5;\"/>\r\n    </g>\r\n    <g id=\"line2d_20\"/>\r\n    <g id=\"text_15\">\r\n     <!-- GD -->\r\n     <g transform=\"translate(65.942188 38.476562)scale(0.1 -0.1)\">\r\n      <defs>\r\n       <path d=\"M 59.515625 10.40625 \r\nL 59.515625 29.984375 \r\nL 43.40625 29.984375 \r\nL 43.40625 38.09375 \r\nL 69.28125 38.09375 \r\nL 69.28125 6.78125 \r\nQ 63.578125 2.734375 56.6875 0.65625 \r\nQ 49.8125 -1.421875 42 -1.421875 \r\nQ 24.90625 -1.421875 15.25 8.5625 \r\nQ 5.609375 18.5625 5.609375 36.375 \r\nQ 5.609375 54.25 15.25 64.234375 \r\nQ 24.90625 74.21875 42 74.21875 \r\nQ 49.125 74.21875 55.546875 72.453125 \r\nQ 61.96875 70.703125 67.390625 67.28125 \r\nL 67.390625 56.78125 \r\nQ 61.921875 61.421875 55.765625 63.765625 \r\nQ 49.609375 66.109375 42.828125 66.109375 \r\nQ 29.4375 66.109375 22.71875 58.640625 \r\nQ 16.015625 51.171875 16.015625 36.375 \r\nQ 16.015625 21.625 22.71875 14.15625 \r\nQ 29.4375 6.6875 42.828125 6.6875 \r\nQ 48.046875 6.6875 52.140625 7.59375 \r\nQ 56.25 8.5 59.515625 10.40625 \r\nz\r\n\" id=\"DejaVuSans-71\"/>\r\n       <path d=\"M 19.671875 64.796875 \r\nL 19.671875 8.109375 \r\nL 31.59375 8.109375 \r\nQ 46.6875 8.109375 53.6875 14.9375 \r\nQ 60.6875 21.78125 60.6875 36.53125 \r\nQ 60.6875 51.171875 53.6875 57.984375 \r\nQ 46.6875 64.796875 31.59375 64.796875 \r\nz\r\nM 9.8125 72.90625 \r\nL 30.078125 72.90625 \r\nQ 51.265625 72.90625 61.171875 64.09375 \r\nQ 71.09375 55.28125 71.09375 36.53125 \r\nQ 71.09375 17.671875 61.125 8.828125 \r\nQ 51.171875 0 30.078125 0 \r\nL 9.8125 0 \r\nz\r\n\" id=\"DejaVuSans-68\"/>\r\n      </defs>\r\n      <use xlink:href=\"#DejaVuSans-71\"/>\r\n      <use x=\"77.490234\" xlink:href=\"#DejaVuSans-68\"/>\r\n     </g>\r\n    </g>\r\n   </g>\r\n  </g>\r\n </g>\r\n <defs>\r\n  <clipPath id=\"p89ecc780cc\">\r\n   <rect height=\"217.44\" width=\"334.8\" x=\"28.942188\" y=\"7.2\"/>\r\n  </clipPath>\r\n </defs>\r\n</svg>\r\n",
      "image/png": "[encoded data removed]"
     },
     "metadata": {
      "needs_background": "light"
     }
    }
   ],
   "source": [
    "import matplotlib.pyplot as plt\n",
    "plt.plot(X.iloc[:,1], y, '.k') #산점도\n",
    "plt.plot(X.iloc[:,1], y_hat_NE, '-b', label = 'NE') #정규방정식\n",
    "plt.plot(X.iloc[:,1], y_hat_GD, '-r', label = 'GD') #경사하강법\n",
    "plt.legend()\n",
    "plt.show()"
   ]
  },
  {
   "cell_type": "code",
   "execution_count": null,
   "metadata": {},
   "outputs": [],
   "source": []
  }
 ],
 "metadata": {
  "kernelspec": {
   "display_name": "Python 3",
   "language": "python",
   "name": "python3"
  },
  "language_info": {
   "codemirror_mode": {
    "name": "ipython",
    "version": 3
   },
   "file_extension": ".py",
   "mimetype": "text/x-python",
   "name": "python",
   "nbconvert_exporter": "python",
   "pygments_lexer": "ipython3",
   "version": "3.8.5-final"
  }
 },
 "nbformat": 4,
 "nbformat_minor": 2
}
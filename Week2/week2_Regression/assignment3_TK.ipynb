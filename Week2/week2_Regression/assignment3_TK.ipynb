{
 "cells": [
  {
   "cell_type": "markdown",
   "metadata": {},
   "source": [
    "# Assignment3"
   ]
  },
  {
   "cell_type": "markdown",
   "metadata": {},
   "source": [
    "1. sklearn 패키지를 사용해 로지스틱 회귀모형으로 데이터를 분석해 주세요 \n",
    "2. 성능지표를 계산하고 이에 대해 해석해 주세요 \n",
    "   - sklearn : mean accuracy, f1 score 등 다양한 성능지표 계산 \n",
    "   - confusion matrix : tp, fp, fn, tn 값을 통해 성능지표 계산  \n",
    "3. 어떤 성능지표를 기준으로 성능을 개선을 시도했고, 그러한 선택의 이유를 적어주세요.\n",
    "4. **해석을 상세하게 달아주세요 !**"
   ]
  },
  {
   "cell_type": "markdown",
   "metadata": {},
   "source": [
    "## Data "
   ]
  },
  {
   "cell_type": "markdown",
   "metadata": {},
   "source": [
    "출처 : https://www.kaggle.com/mlg-ulb/creditcardfraud\n",
    "\n",
    "\n",
    "* V1 ~ V28 : 비식별화 된 개인정보 \n",
    "* **Class** : Target 변수  \n",
    "  - 1 : fraudulent transactions (사기)\n",
    "  - 0 : otherwise "
   ]
  },
  {
   "cell_type": "code",
   "execution_count": 1,
   "metadata": {},
   "outputs": [],
   "source": [
    "import pandas as pd\n",
    "import numpy as np"
   ]
  },
  {
   "cell_type": "code",
   "execution_count": 17,
   "metadata": {},
   "outputs": [],
   "source": [
    "credit = pd.read_csv(\"assignment3_creditcard.csv\")"
   ]
  },
  {
   "cell_type": "code",
   "execution_count": 18,
   "metadata": {},
   "outputs": [
    {
     "output_type": "execute_result",
     "data": {
      "text/plain": [
       "         V1        V2        V3        V4        V5        V6        V7  \\\n",
       "0 -1.848212  2.384900  0.379573  1.048381 -0.845070  2.537837 -4.542983   \n",
       "1  2.071805 -0.477943 -1.444444 -0.548657  0.010036 -0.582242 -0.042878   \n",
       "2 -2.985294 -2.747472  1.194068 -0.003036 -1.151041 -0.263559  0.553500   \n",
       "3 -1.479452  1.542874  0.290895  0.838142 -0.529290 -0.717661  0.484516   \n",
       "4 -0.281976 -0.309699 -2.162299 -0.851514  0.106167 -1.483888  1.930994   \n",
       "\n",
       "          V8        V9       V10  ...       V20       V21       V22       V23  \\\n",
       "0 -10.201458 -1.504967 -2.234167  ...  2.585817 -5.291690  0.859364  0.423231   \n",
       "1  -0.247160  1.171923 -0.342382  ... -0.077306  0.042858  0.390125  0.041569   \n",
       "2   0.635600  0.438545 -1.806488  ...  1.345776  0.373760 -0.385777  1.197596   \n",
       "3   0.545092 -0.780767  0.324804  ...  0.038397  0.116771  0.405560 -0.116453   \n",
       "4  -0.843049 -1.249272  1.079608  ... -0.875516 -0.004199  1.015108 -0.026748   \n",
       "\n",
       "        V24       V25       V26       V27       V28  Class  \n",
       "0 -0.506985  1.020052 -0.627751 -0.017753  0.280982      0  \n",
       "1  0.598427  0.098803  0.979686 -0.093244 -0.065615      0  \n",
       "2  0.407229  0.008013  0.762362 -0.299024 -0.303929      0  \n",
       "3  0.541275 -0.216665 -0.415578  0.027126 -0.150347      0  \n",
       "4  0.077115 -1.468822  0.751700  0.496732  0.331001      0  \n",
       "\n",
       "[5 rows x 29 columns]"
      ],
      "text/html": "<div>\n<style scoped>\n    .dataframe tbody tr th:only-of-type {\n        vertical-align: middle;\n    }\n\n    .dataframe tbody tr th {\n        vertical-align: top;\n    }\n\n    .dataframe thead th {\n        text-align: right;\n    }\n</style>\n<table border=\"1\" class=\"dataframe\">\n  <thead>\n    <tr style=\"text-align: right;\">\n      <th></th>\n      <th>V1</th>\n      <th>V2</th>\n      <th>V3</th>\n      <th>V4</th>\n      <th>V5</th>\n      <th>V6</th>\n      <th>V7</th>\n      <th>V8</th>\n      <th>V9</th>\n      <th>V10</th>\n      <th>...</th>\n      <th>V20</th>\n      <th>V21</th>\n      <th>V22</th>\n      <th>V23</th>\n      <th>V24</th>\n      <th>V25</th>\n      <th>V26</th>\n      <th>V27</th>\n      <th>V28</th>\n      <th>Class</th>\n    </tr>\n  </thead>\n  <tbody>\n    <tr>\n      <th>0</th>\n      <td>-1.848212</td>\n      <td>2.384900</td>\n      <td>0.379573</td>\n      <td>1.048381</td>\n      <td>-0.845070</td>\n      <td>2.537837</td>\n      <td>-4.542983</td>\n      <td>-10.201458</td>\n      <td>-1.504967</td>\n      <td>-2.234167</td>\n      <td>...</td>\n      <td>2.585817</td>\n      <td>-5.291690</td>\n      <td>0.859364</td>\n      <td>0.423231</td>\n      <td>-0.506985</td>\n      <td>1.020052</td>\n      <td>-0.627751</td>\n      <td>-0.017753</td>\n      <td>0.280982</td>\n      <td>0</td>\n    </tr>\n    <tr>\n      <th>1</th>\n      <td>2.071805</td>\n      <td>-0.477943</td>\n      <td>-1.444444</td>\n      <td>-0.548657</td>\n      <td>0.010036</td>\n      <td>-0.582242</td>\n      <td>-0.042878</td>\n      <td>-0.247160</td>\n      <td>1.171923</td>\n      <td>-0.342382</td>\n      <td>...</td>\n      <td>-0.077306</td>\n      <td>0.042858</td>\n      <td>0.390125</td>\n      <td>0.041569</td>\n      <td>0.598427</td>\n      <td>0.098803</td>\n      <td>0.979686</td>\n      <td>-0.093244</td>\n      <td>-0.065615</td>\n      <td>0</td>\n    </tr>\n    <tr>\n      <th>2</th>\n      <td>-2.985294</td>\n      <td>-2.747472</td>\n      <td>1.194068</td>\n      <td>-0.003036</td>\n      <td>-1.151041</td>\n      <td>-0.263559</td>\n      <td>0.553500</td>\n      <td>0.635600</td>\n      <td>0.438545</td>\n      <td>-1.806488</td>\n      <td>...</td>\n      <td>1.345776</td>\n      <td>0.373760</td>\n      <td>-0.385777</td>\n      <td>1.197596</td>\n      <td>0.407229</td>\n      <td>0.008013</td>\n      <td>0.762362</td>\n      <td>-0.299024</td>\n      <td>-0.303929</td>\n      <td>0</td>\n    </tr>\n    <tr>\n      <th>3</th>\n      <td>-1.479452</td>\n      <td>1.542874</td>\n      <td>0.290895</td>\n      <td>0.838142</td>\n      <td>-0.529290</td>\n      <td>-0.717661</td>\n      <td>0.484516</td>\n      <td>0.545092</td>\n      <td>-0.780767</td>\n      <td>0.324804</td>\n      <td>...</td>\n      <td>0.038397</td>\n      <td>0.116771</td>\n      <td>0.405560</td>\n      <td>-0.116453</td>\n      <td>0.541275</td>\n      <td>-0.216665</td>\n      <td>-0.415578</td>\n      <td>0.027126</td>\n      <td>-0.150347</td>\n      <td>0</td>\n    </tr>\n    <tr>\n      <th>4</th>\n      <td>-0.281976</td>\n      <td>-0.309699</td>\n      <td>-2.162299</td>\n      <td>-0.851514</td>\n      <td>0.106167</td>\n      <td>-1.483888</td>\n      <td>1.930994</td>\n      <td>-0.843049</td>\n      <td>-1.249272</td>\n      <td>1.079608</td>\n      <td>...</td>\n      <td>-0.875516</td>\n      <td>-0.004199</td>\n      <td>1.015108</td>\n      <td>-0.026748</td>\n      <td>0.077115</td>\n      <td>-1.468822</td>\n      <td>0.751700</td>\n      <td>0.496732</td>\n      <td>0.331001</td>\n      <td>0</td>\n    </tr>\n  </tbody>\n</table>\n<p>5 rows × 29 columns</p>\n</div>"
     },
     "metadata": {},
     "execution_count": 18
    }
   ],
   "source": [
    "credit.head()"
   ]
  },
  {
   "cell_type": "code",
   "execution_count": 19,
   "metadata": {},
   "outputs": [
    {
     "output_type": "execute_result",
     "data": {
      "text/plain": [
       "                 V1            V2            V3            V4            V5  \\\n",
       "count  28678.000000  28678.000000  28678.000000  28678.000000  28678.000000   \n",
       "mean      -0.015438      0.053653     -0.046031      0.037348     -0.033724   \n",
       "std        2.031529      1.616186      1.758169      1.482109      1.486998   \n",
       "min      -30.552380    -42.172688    -31.103685     -5.560118    -42.147898   \n",
       "25%       -0.916927     -0.575381     -0.899872     -0.843321     -0.714901   \n",
       "50%        0.020050      0.075358      0.180610     -0.008844     -0.060040   \n",
       "75%        1.317461      0.806957      1.029928      0.771958      0.613328   \n",
       "max        2.399484     21.467203      4.069865     11.927512     32.911462   \n",
       "\n",
       "                 V6            V7            V8            V9           V10  \\\n",
       "count  28678.000000  28678.000000  28678.000000  28678.000000  28678.000000   \n",
       "mean      -0.003299     -0.051054      0.006064     -0.018530     -0.041149   \n",
       "std        1.339259      1.454827      1.364342      1.134065      1.252593   \n",
       "min      -21.929312    -41.506796    -39.267378    -13.434066    -24.403185   \n",
       "25%       -0.763757     -0.568146     -0.206103     -0.661909     -0.543450   \n",
       "50%       -0.271363      0.036107      0.022463     -0.055095     -0.097390   \n",
       "75%        0.397269      0.559409      0.329606      0.605704      0.460681   \n",
       "max       22.529298     36.677268     20.007208      8.113152     15.236028   \n",
       "\n",
       "       ...           V20           V21           V22           V23  \\\n",
       "count  ...  28678.000000  28678.000000  28678.000000  28678.000000   \n",
       "mean   ...      0.002633      0.010289     -0.000656     -0.004800   \n",
       "std    ...      0.720307      0.847152      0.739469      0.593663   \n",
       "min    ...    -21.387122    -21.453736     -8.887017    -36.666000   \n",
       "25%    ...     -0.209678     -0.225520     -0.539244     -0.160583   \n",
       "50%    ...     -0.062792     -0.028778      0.007302     -0.011199   \n",
       "75%    ...      0.131199      0.184312      0.526358      0.146835   \n",
       "max    ...     26.237391     27.202839      8.361985      9.637187   \n",
       "\n",
       "                V24           V25           V26           V27           V28  \\\n",
       "count  28678.000000  28678.000000  28678.000000  28678.000000  28678.000000   \n",
       "mean      -0.000897     -0.001989     -0.000765      0.000948      0.001535   \n",
       "std        0.603349      0.517968      0.483852      0.397075      0.296736   \n",
       "min       -2.718024     -6.712624     -2.241620     -7.418878     -9.617915   \n",
       "25%       -0.356047     -0.318619     -0.327343     -0.070558     -0.052189   \n",
       "50%        0.040006      0.019770     -0.056260      0.002049      0.011075   \n",
       "75%        0.437146      0.352717      0.240713      0.091637      0.078911   \n",
       "max        3.948061      2.510401      3.122747     11.135740     14.929133   \n",
       "\n",
       "              Class  \n",
       "count  28678.000000  \n",
       "mean       0.008578  \n",
       "std        0.092221  \n",
       "min        0.000000  \n",
       "25%        0.000000  \n",
       "50%        0.000000  \n",
       "75%        0.000000  \n",
       "max        1.000000  \n",
       "\n",
       "[8 rows x 29 columns]"
      ],
      "text/html": "<div>\n<style scoped>\n    .dataframe tbody tr th:only-of-type {\n        vertical-align: middle;\n    }\n\n    .dataframe tbody tr th {\n        vertical-align: top;\n    }\n\n    .dataframe thead th {\n        text-align: right;\n    }\n</style>\n<table border=\"1\" class=\"dataframe\">\n  <thead>\n    <tr style=\"text-align: right;\">\n      <th></th>\n      <th>V1</th>\n      <th>V2</th>\n      <th>V3</th>\n      <th>V4</th>\n      <th>V5</th>\n      <th>V6</th>\n      <th>V7</th>\n      <th>V8</th>\n      <th>V9</th>\n      <th>V10</th>\n      <th>...</th>\n      <th>V20</th>\n      <th>V21</th>\n      <th>V22</th>\n      <th>V23</th>\n      <th>V24</th>\n      <th>V25</th>\n      <th>V26</th>\n      <th>V27</th>\n      <th>V28</th>\n      <th>Class</th>\n    </tr>\n  </thead>\n  <tbody>\n    <tr>\n      <th>count</th>\n      <td>28678.000000</td>\n      <td>28678.000000</td>\n      <td>28678.000000</td>\n      <td>28678.000000</td>\n      <td>28678.000000</td>\n      <td>28678.000000</td>\n      <td>28678.000000</td>\n      <td>28678.000000</td>\n      <td>28678.000000</td>\n      <td>28678.000000</td>\n      <td>...</td>\n      <td>28678.000000</td>\n      <td>28678.000000</td>\n      <td>28678.000000</td>\n      <td>28678.000000</td>\n      <td>28678.000000</td>\n      <td>28678.000000</td>\n      <td>28678.000000</td>\n      <td>28678.000000</td>\n      <td>28678.000000</td>\n      <td>28678.000000</td>\n    </tr>\n    <tr>\n      <th>mean</th>\n      <td>-0.015438</td>\n      <td>0.053653</td>\n      <td>-0.046031</td>\n      <td>0.037348</td>\n      <td>-0.033724</td>\n      <td>-0.003299</td>\n      <td>-0.051054</td>\n      <td>0.006064</td>\n      <td>-0.018530</td>\n      <td>-0.041149</td>\n      <td>...</td>\n      <td>0.002633</td>\n      <td>0.010289</td>\n      <td>-0.000656</td>\n      <td>-0.004800</td>\n      <td>-0.000897</td>\n      <td>-0.001989</td>\n      <td>-0.000765</td>\n      <td>0.000948</td>\n      <td>0.001535</td>\n      <td>0.008578</td>\n    </tr>\n    <tr>\n      <th>std</th>\n      <td>2.031529</td>\n      <td>1.616186</td>\n      <td>1.758169</td>\n      <td>1.482109</td>\n      <td>1.486998</td>\n      <td>1.339259</td>\n      <td>1.454827</td>\n      <td>1.364342</td>\n      <td>1.134065</td>\n      <td>1.252593</td>\n      <td>...</td>\n      <td>0.720307</td>\n      <td>0.847152</td>\n      <td>0.739469</td>\n      <td>0.593663</td>\n      <td>0.603349</td>\n      <td>0.517968</td>\n      <td>0.483852</td>\n      <td>0.397075</td>\n      <td>0.296736</td>\n      <td>0.092221</td>\n    </tr>\n    <tr>\n      <th>min</th>\n      <td>-30.552380</td>\n      <td>-42.172688</td>\n      <td>-31.103685</td>\n      <td>-5.560118</td>\n      <td>-42.147898</td>\n      <td>-21.929312</td>\n      <td>-41.506796</td>\n      <td>-39.267378</td>\n      <td>-13.434066</td>\n      <td>-24.403185</td>\n      <td>...</td>\n      <td>-21.387122</td>\n      <td>-21.453736</td>\n      <td>-8.887017</td>\n      <td>-36.666000</td>\n      <td>-2.718024</td>\n      <td>-6.712624</td>\n      <td>-2.241620</td>\n      <td>-7.418878</td>\n      <td>-9.617915</td>\n      <td>0.000000</td>\n    </tr>\n    <tr>\n      <th>25%</th>\n      <td>-0.916927</td>\n      <td>-0.575381</td>\n      <td>-0.899872</td>\n      <td>-0.843321</td>\n      <td>-0.714901</td>\n      <td>-0.763757</td>\n      <td>-0.568146</td>\n      <td>-0.206103</td>\n      <td>-0.661909</td>\n      <td>-0.543450</td>\n      <td>...</td>\n      <td>-0.209678</td>\n      <td>-0.225520</td>\n      <td>-0.539244</td>\n      <td>-0.160583</td>\n      <td>-0.356047</td>\n      <td>-0.318619</td>\n      <td>-0.327343</td>\n      <td>-0.070558</td>\n      <td>-0.052189</td>\n      <td>0.000000</td>\n    </tr>\n    <tr>\n      <th>50%</th>\n      <td>0.020050</td>\n      <td>0.075358</td>\n      <td>0.180610</td>\n      <td>-0.008844</td>\n      <td>-0.060040</td>\n      <td>-0.271363</td>\n      <td>0.036107</td>\n      <td>0.022463</td>\n      <td>-0.055095</td>\n      <td>-0.097390</td>\n      <td>...</td>\n      <td>-0.062792</td>\n      <td>-0.028778</td>\n      <td>0.007302</td>\n      <td>-0.011199</td>\n      <td>0.040006</td>\n      <td>0.019770</td>\n      <td>-0.056260</td>\n      <td>0.002049</td>\n      <td>0.011075</td>\n      <td>0.000000</td>\n    </tr>\n    <tr>\n      <th>75%</th>\n      <td>1.317461</td>\n      <td>0.806957</td>\n      <td>1.029928</td>\n      <td>0.771958</td>\n      <td>0.613328</td>\n      <td>0.397269</td>\n      <td>0.559409</td>\n      <td>0.329606</td>\n      <td>0.605704</td>\n      <td>0.460681</td>\n      <td>...</td>\n      <td>0.131199</td>\n      <td>0.184312</td>\n      <td>0.526358</td>\n      <td>0.146835</td>\n      <td>0.437146</td>\n      <td>0.352717</td>\n      <td>0.240713</td>\n      <td>0.091637</td>\n      <td>0.078911</td>\n      <td>0.000000</td>\n    </tr>\n    <tr>\n      <th>max</th>\n      <td>2.399484</td>\n      <td>21.467203</td>\n      <td>4.069865</td>\n      <td>11.927512</td>\n      <td>32.911462</td>\n      <td>22.529298</td>\n      <td>36.677268</td>\n      <td>20.007208</td>\n      <td>8.113152</td>\n      <td>15.236028</td>\n      <td>...</td>\n      <td>26.237391</td>\n      <td>27.202839</td>\n      <td>8.361985</td>\n      <td>9.637187</td>\n      <td>3.948061</td>\n      <td>2.510401</td>\n      <td>3.122747</td>\n      <td>11.135740</td>\n      <td>14.929133</td>\n      <td>1.000000</td>\n    </tr>\n  </tbody>\n</table>\n<p>8 rows × 29 columns</p>\n</div>"
     },
     "metadata": {},
     "execution_count": 19
    }
   ],
   "source": [
    "credit.describe()"
   ]
  },
  {
   "cell_type": "code",
   "execution_count": 20,
   "metadata": {},
   "outputs": [
    {
     "output_type": "execute_result",
     "data": {
      "text/plain": [
       "V1       0\n",
       "V2       0\n",
       "V3       0\n",
       "V4       0\n",
       "V5       0\n",
       "V6       0\n",
       "V7       0\n",
       "V8       0\n",
       "V9       0\n",
       "V10      0\n",
       "V11      0\n",
       "V12      0\n",
       "V13      0\n",
       "V14      0\n",
       "V15      0\n",
       "V16      0\n",
       "V17      0\n",
       "V18      0\n",
       "V19      0\n",
       "V20      0\n",
       "V21      0\n",
       "V22      0\n",
       "V23      0\n",
       "V24      0\n",
       "V25      0\n",
       "V26      0\n",
       "V27      0\n",
       "V28      0\n",
       "Class    0\n",
       "dtype: int64"
      ]
     },
     "metadata": {},
     "execution_count": 20
    }
   ],
   "source": [
    "# 결측치 확인\n",
    "data.isnull().sum()"
   ]
  },
  {
   "source": [
    "결측치 없음"
   ],
   "cell_type": "markdown",
   "metadata": {}
  },
  {
   "cell_type": "code",
   "execution_count": 21,
   "metadata": {},
   "outputs": [],
   "source": [
    "columns = credit.columns"
   ]
  },
  {
   "cell_type": "code",
   "execution_count": 23,
   "metadata": {},
   "outputs": [],
   "source": [
    "# min max 값의 차이가 큼 -> Standard Scaler 통해 데이터를 단위 분산으로 조정\n",
    "from sklearn.preprocessing import StandardScaler"
   ]
  },
  {
   "cell_type": "code",
   "execution_count": 24,
   "metadata": {},
   "outputs": [
    {
     "output_type": "execute_result",
     "data": {
      "text/plain": [
       "array([[-0.90218019,  1.44246214,  0.24207645, ..., -0.04709654,\n",
       "         0.9417547 , -0.09301733],\n",
       "       [ 1.02744235, -0.32892601, -0.7953942 , ..., -0.23721911,\n",
       "        -0.22629752, -0.09301733],\n",
       "       [-1.46190736, -1.73320058,  0.7053479 , ..., -0.7554671 ,\n",
       "        -1.02943014, -0.09301733],\n",
       "       ...,\n",
       "       [ 1.02786291,  0.0843943 , -0.9747001 , ..., -0.15087861,\n",
       "        -0.1030219 , -0.09301733],\n",
       "       [-0.33236542,  0.79733419,  0.8782926 , ..., -2.140772  ,\n",
       "        -1.05999649, -0.09301733],\n",
       "       [ 1.09831537, -0.52987507, -0.90637085, ..., -0.13776702,\n",
       "        -0.2565925 , -0.09301733]])"
      ]
     },
     "metadata": {},
     "execution_count": 24
    }
   ],
   "source": [
    "scaler = StandardScaler()\n",
    "scaler.fit_transform(credit)"
   ]
  },
  {
   "cell_type": "code",
   "execution_count": 29,
   "metadata": {},
   "outputs": [],
   "source": [
    "# scaling 한 데이터로 dataframe 생성\n",
    "data = pd.DataFrame(scaler.fit_transform(credit), columns = columns)"
   ]
  },
  {
   "cell_type": "code",
   "execution_count": 30,
   "metadata": {},
   "outputs": [
    {
     "output_type": "execute_result",
     "data": {
      "text/plain": [
       "         V1        V2        V3        V4        V5        V6        V7  \\\n",
       "0 -0.902180  1.442462  0.242076  0.682170 -0.545636  1.897453 -3.087657   \n",
       "1  1.027442 -0.328926 -0.795394 -0.395393  0.029429 -0.432294  0.005620   \n",
       "2 -1.461907 -1.733201  0.705348 -0.027248 -0.751404 -0.194335  0.415558   \n",
       "3 -0.720659  0.921458  0.191638  0.540317 -0.333272 -0.533410  0.368140   \n",
       "4 -0.131203 -0.224824 -1.203698 -0.599739  0.094078 -1.105548  1.362418   \n",
       "\n",
       "         V8        V9       V10  ...       V20       V21       V22       V23  \\\n",
       "0 -7.481774 -1.310739 -1.750813  ...  3.586292 -6.258702  1.163043  0.721013   \n",
       "1 -0.185605  1.049741 -0.240491  ... -0.110982  0.038445  0.528470  0.078108   \n",
       "2  0.461429  0.403048 -1.409372  ...  1.864714  0.429058 -0.520817  2.025422   \n",
       "3  0.395090 -0.672139  0.292162  ...  0.049651  0.125696  0.549344 -0.188079   \n",
       "4 -0.622372 -1.085267  0.894765  ... -1.219154 -0.017103  1.373663 -0.036971   \n",
       "\n",
       "        V24       V25       V26       V27       V28  Class  \n",
       "0 -0.838813  1.973207 -1.295843 -0.047097  0.941755      0  \n",
       "1  0.993348  0.194594  2.026379 -0.237219 -0.226298      0  \n",
       "2  0.676446  0.019311  1.577217 -0.755467 -1.029430      0  \n",
       "3  0.898622 -0.414465 -0.857327  0.065929 -0.511850      0  \n",
       "4  0.129301 -2.831946  1.555181  1.248615  1.110322      0  \n",
       "\n",
       "[5 rows x 29 columns]"
      ],
      "text/html": "<div>\n<style scoped>\n    .dataframe tbody tr th:only-of-type {\n        vertical-align: middle;\n    }\n\n    .dataframe tbody tr th {\n        vertical-align: top;\n    }\n\n    .dataframe thead th {\n        text-align: right;\n    }\n</style>\n<table border=\"1\" class=\"dataframe\">\n  <thead>\n    <tr style=\"text-align: right;\">\n      <th></th>\n      <th>V1</th>\n      <th>V2</th>\n      <th>V3</th>\n      <th>V4</th>\n      <th>V5</th>\n      <th>V6</th>\n      <th>V7</th>\n      <th>V8</th>\n      <th>V9</th>\n      <th>V10</th>\n      <th>...</th>\n      <th>V20</th>\n      <th>V21</th>\n      <th>V22</th>\n      <th>V23</th>\n      <th>V24</th>\n      <th>V25</th>\n      <th>V26</th>\n      <th>V27</th>\n      <th>V28</th>\n      <th>Class</th>\n    </tr>\n  </thead>\n  <tbody>\n    <tr>\n      <th>0</th>\n      <td>-0.902180</td>\n      <td>1.442462</td>\n      <td>0.242076</td>\n      <td>0.682170</td>\n      <td>-0.545636</td>\n      <td>1.897453</td>\n      <td>-3.087657</td>\n      <td>-7.481774</td>\n      <td>-1.310739</td>\n      <td>-1.750813</td>\n      <td>...</td>\n      <td>3.586292</td>\n      <td>-6.258702</td>\n      <td>1.163043</td>\n      <td>0.721013</td>\n      <td>-0.838813</td>\n      <td>1.973207</td>\n      <td>-1.295843</td>\n      <td>-0.047097</td>\n      <td>0.941755</td>\n      <td>0</td>\n    </tr>\n    <tr>\n      <th>1</th>\n      <td>1.027442</td>\n      <td>-0.328926</td>\n      <td>-0.795394</td>\n      <td>-0.395393</td>\n      <td>0.029429</td>\n      <td>-0.432294</td>\n      <td>0.005620</td>\n      <td>-0.185605</td>\n      <td>1.049741</td>\n      <td>-0.240491</td>\n      <td>...</td>\n      <td>-0.110982</td>\n      <td>0.038445</td>\n      <td>0.528470</td>\n      <td>0.078108</td>\n      <td>0.993348</td>\n      <td>0.194594</td>\n      <td>2.026379</td>\n      <td>-0.237219</td>\n      <td>-0.226298</td>\n      <td>0</td>\n    </tr>\n    <tr>\n      <th>2</th>\n      <td>-1.461907</td>\n      <td>-1.733201</td>\n      <td>0.705348</td>\n      <td>-0.027248</td>\n      <td>-0.751404</td>\n      <td>-0.194335</td>\n      <td>0.415558</td>\n      <td>0.461429</td>\n      <td>0.403048</td>\n      <td>-1.409372</td>\n      <td>...</td>\n      <td>1.864714</td>\n      <td>0.429058</td>\n      <td>-0.520817</td>\n      <td>2.025422</td>\n      <td>0.676446</td>\n      <td>0.019311</td>\n      <td>1.577217</td>\n      <td>-0.755467</td>\n      <td>-1.029430</td>\n      <td>0</td>\n    </tr>\n    <tr>\n      <th>3</th>\n      <td>-0.720659</td>\n      <td>0.921458</td>\n      <td>0.191638</td>\n      <td>0.540317</td>\n      <td>-0.333272</td>\n      <td>-0.533410</td>\n      <td>0.368140</td>\n      <td>0.395090</td>\n      <td>-0.672139</td>\n      <td>0.292162</td>\n      <td>...</td>\n      <td>0.049651</td>\n      <td>0.125696</td>\n      <td>0.549344</td>\n      <td>-0.188079</td>\n      <td>0.898622</td>\n      <td>-0.414465</td>\n      <td>-0.857327</td>\n      <td>0.065929</td>\n      <td>-0.511850</td>\n      <td>0</td>\n    </tr>\n    <tr>\n      <th>4</th>\n      <td>-0.131203</td>\n      <td>-0.224824</td>\n      <td>-1.203698</td>\n      <td>-0.599739</td>\n      <td>0.094078</td>\n      <td>-1.105548</td>\n      <td>1.362418</td>\n      <td>-0.622372</td>\n      <td>-1.085267</td>\n      <td>0.894765</td>\n      <td>...</td>\n      <td>-1.219154</td>\n      <td>-0.017103</td>\n      <td>1.373663</td>\n      <td>-0.036971</td>\n      <td>0.129301</td>\n      <td>-2.831946</td>\n      <td>1.555181</td>\n      <td>1.248615</td>\n      <td>1.110322</td>\n      <td>0</td>\n    </tr>\n  </tbody>\n</table>\n<p>5 rows × 29 columns</p>\n</div>"
     },
     "metadata": {},
     "execution_count": 30
    }
   ],
   "source": [
    "# Class 변수 설정 \n",
    "\n",
    "data['Class'] = credit.Class # class 1: fraudulent transaction, 0: otherwise\n",
    "data.head()"
   ]
  },
  {
   "cell_type": "code",
   "execution_count": 34,
   "metadata": {},
   "outputs": [
    {
     "output_type": "execute_result",
     "data": {
      "text/plain": [
       "0    28432\n",
       "1      246\n",
       "Name: Class, dtype: int64"
      ]
     },
     "metadata": {},
     "execution_count": 34
    }
   ],
   "source": [
    "#각 class 별 데이터 분포 확인하기 \n",
    "data.Class.value_counts()"
   ]
  },
  {
   "source": [
    "Fraudulent transaction 246개\n",
    "\n",
    "fraudulent transaction이 일어난 경우보다 아닌 경우가 훨씬 많다는 것을 확인할 수 있다. "
   ],
   "cell_type": "markdown",
   "metadata": {}
  },
  {
   "cell_type": "markdown",
   "metadata": {},
   "source": [
    "## Logistic Regression "
   ]
  },
  {
   "cell_type": "code",
   "execution_count": 38,
   "metadata": {},
   "outputs": [],
   "source": [
    "## Logistic Regression\n",
    "\n",
    "from sklearn.linear_model import LogisticRegression\n",
    "from sklearn.model_selection import train_test_split"
   ]
  },
  {
   "cell_type": "code",
   "execution_count": 39,
   "metadata": {},
   "outputs": [],
   "source": [
    "# 회원 데이터와 transaction fraudness 여부 분리하기 \n",
    "X = data.drop([\"Class\"], axis=1)\n",
    "y = data[\"Class\"]"
   ]
  },
  {
   "cell_type": "code",
   "execution_count": 40,
   "metadata": {},
   "outputs": [],
   "source": [
    "X_train, X_test, y_train, y_test = train_test_split(X, y, random_state = 0)"
   ]
  },
  {
   "cell_type": "code",
   "execution_count": 41,
   "metadata": {},
   "outputs": [
    {
     "output_type": "stream",
     "name": "stdout",
     "text": [
      "(21508, 28) (7170, 28) (21508,) (7170,)\n"
     ]
    }
   ],
   "source": [
    "print(X_train.shape, X_test.shape, y_train.shape, y_test.shape)"
   ]
  },
  {
   "cell_type": "code",
   "execution_count": 42,
   "metadata": {},
   "outputs": [
    {
     "output_type": "execute_result",
     "data": {
      "text/plain": [
       "LogisticRegression()"
      ]
     },
     "metadata": {},
     "execution_count": 42
    }
   ],
   "source": [
    "# Logistic Regression \n",
    "classifier = LogisticRegression()\n",
    "classifier.fit(X_train, y_train)"
   ]
  },
  {
   "cell_type": "code",
   "execution_count": 43,
   "metadata": {},
   "outputs": [
    {
     "output_type": "execute_result",
     "data": {
      "text/plain": [
       "array([0, 0, 0, ..., 0, 0, 0], dtype=int64)"
      ]
     },
     "metadata": {},
     "execution_count": 43
    }
   ],
   "source": [
    "# class 예측\n",
    "y_pred = classifier.predict(X_test) \n",
    "y_pred"
   ]
  },
  {
   "cell_type": "code",
   "execution_count": 44,
   "metadata": {},
   "outputs": [
    {
     "output_type": "execute_result",
     "data": {
      "text/plain": [
       "array([[9.99162657e-01, 8.37342733e-04],\n",
       "       [9.99687212e-01, 3.12787618e-04],\n",
       "       [9.79470309e-01, 2.05296911e-02],\n",
       "       ...,\n",
       "       [9.99915594e-01, 8.44058313e-05],\n",
       "       [9.96014554e-01, 3.98544568e-03],\n",
       "       [9.99193219e-01, 8.06781183e-04]])"
      ]
     },
     "metadata": {},
     "execution_count": 44
    }
   ],
   "source": [
    "# [0으로 분류될 확률, 1로 분류될 확률]\n",
    "classifier.predict_proba(X_test)"
   ]
  },
  {
   "cell_type": "code",
   "execution_count": 45,
   "metadata": {},
   "outputs": [
    {
     "output_type": "execute_result",
     "data": {
      "text/plain": [
       "0.997907949790795"
      ]
     },
     "metadata": {},
     "execution_count": 45
    }
   ],
   "source": [
    "# mean accuracy \n",
    "classifier.score(X_test, y_test)"
   ]
  },
  {
   "source": [
    "## 입력값과 출력값 비교"
   ],
   "cell_type": "markdown",
   "metadata": {}
  },
  {
   "cell_type": "code",
   "execution_count": 47,
   "metadata": {},
   "outputs": [],
   "source": [
    "prob = [prob[1] for prob in classifier.predict_proba(X_test)] # class 1에 속할 확률 "
   ]
  },
  {
   "cell_type": "code",
   "execution_count": 48,
   "metadata": {},
   "outputs": [],
   "source": [
    "ce_df = {\n",
    "    'y_test' : y_test, # 실제\n",
    "    'y_pred' : y_pred, # 예측\n",
    "    'prob' : prob      # 1로 분류할 확률 \n",
    "}\n",
    "\n",
    "ce_df = pd.DataFrame(ce_df)"
   ]
  },
  {
   "cell_type": "code",
   "execution_count": 49,
   "metadata": {},
   "outputs": [
    {
     "output_type": "execute_result",
     "data": {
      "text/plain": [
       "       y_test  y_pred      prob\n",
       "2124        0       0  0.000837\n",
       "5521        0       0  0.000313\n",
       "21800       0       0  0.020530\n",
       "16959       0       0  0.000149\n",
       "27369       0       0  0.000147\n",
       "...       ...     ...       ...\n",
       "8867        0       0  0.000990\n",
       "12996       0       0  0.000915\n",
       "2886        0       0  0.000084\n",
       "829         0       0  0.003985\n",
       "24379       0       0  0.000807\n",
       "\n",
       "[7170 rows x 3 columns]"
      ],
      "text/html": "<div>\n<style scoped>\n    .dataframe tbody tr th:only-of-type {\n        vertical-align: middle;\n    }\n\n    .dataframe tbody tr th {\n        vertical-align: top;\n    }\n\n    .dataframe thead th {\n        text-align: right;\n    }\n</style>\n<table border=\"1\" class=\"dataframe\">\n  <thead>\n    <tr style=\"text-align: right;\">\n      <th></th>\n      <th>y_test</th>\n      <th>y_pred</th>\n      <th>prob</th>\n    </tr>\n  </thead>\n  <tbody>\n    <tr>\n      <th>2124</th>\n      <td>0</td>\n      <td>0</td>\n      <td>0.000837</td>\n    </tr>\n    <tr>\n      <th>5521</th>\n      <td>0</td>\n      <td>0</td>\n      <td>0.000313</td>\n    </tr>\n    <tr>\n      <th>21800</th>\n      <td>0</td>\n      <td>0</td>\n      <td>0.020530</td>\n    </tr>\n    <tr>\n      <th>16959</th>\n      <td>0</td>\n      <td>0</td>\n      <td>0.000149</td>\n    </tr>\n    <tr>\n      <th>27369</th>\n      <td>0</td>\n      <td>0</td>\n      <td>0.000147</td>\n    </tr>\n    <tr>\n      <th>...</th>\n      <td>...</td>\n      <td>...</td>\n      <td>...</td>\n    </tr>\n    <tr>\n      <th>8867</th>\n      <td>0</td>\n      <td>0</td>\n      <td>0.000990</td>\n    </tr>\n    <tr>\n      <th>12996</th>\n      <td>0</td>\n      <td>0</td>\n      <td>0.000915</td>\n    </tr>\n    <tr>\n      <th>2886</th>\n      <td>0</td>\n      <td>0</td>\n      <td>0.000084</td>\n    </tr>\n    <tr>\n      <th>829</th>\n      <td>0</td>\n      <td>0</td>\n      <td>0.003985</td>\n    </tr>\n    <tr>\n      <th>24379</th>\n      <td>0</td>\n      <td>0</td>\n      <td>0.000807</td>\n    </tr>\n  </tbody>\n</table>\n<p>7170 rows × 3 columns</p>\n</div>"
     },
     "metadata": {},
     "execution_count": 49
    }
   ],
   "source": [
    "ce_df"
   ]
  },
  {
   "cell_type": "code",
   "execution_count": 50,
   "metadata": {},
   "outputs": [],
   "source": [
    "yi = ce_df[\"y_test\"].to_numpy()\n",
    "pi = ce_df[\"prob\"].to_numpy()"
   ]
  },
  {
   "cell_type": "code",
   "execution_count": 51,
   "metadata": {},
   "outputs": [
    {
     "output_type": "execute_result",
     "data": {
      "text/plain": [
       "0.0073741317308045696"
      ]
     },
     "metadata": {},
     "execution_count": 51
    }
   ],
   "source": [
    "# cross entropy \n",
    "-np.sum((yi * np.log(pi) + (1-yi) * np.log(1-pi))) / ce_df.shape[0]"
   ]
  },
  {
   "source": [
    "# Metrics Evaluation"
   ],
   "cell_type": "markdown",
   "metadata": {}
  },
  {
   "cell_type": "code",
   "execution_count": 52,
   "metadata": {},
   "outputs": [],
   "source": [
    "from sklearn.metrics import *"
   ]
  },
  {
   "cell_type": "code",
   "execution_count": 53,
   "metadata": {},
   "outputs": [
    {
     "output_type": "execute_result",
     "data": {
      "text/plain": [
       "0.845360824742268"
      ]
     },
     "metadata": {},
     "execution_count": 53
    }
   ],
   "source": [
    "# f1 score\n",
    "f1_score(y_pred, y_test) "
   ]
  },
  {
   "cell_type": "code",
   "execution_count": 61,
   "metadata": {},
   "outputs": [
    {
     "output_type": "execute_result",
     "data": {
      "text/plain": [
       "0    7125\n",
       "1      45\n",
       "Name: y_pred, dtype: int64"
      ]
     },
     "metadata": {},
     "execution_count": 61
    }
   ],
   "source": [
    "ce_df.y_pred.value_counts()"
   ]
  },
  {
   "source": [
    "예측한 값들의 클래스별 분포를 파악. "
   ],
   "cell_type": "markdown",
   "metadata": {}
  },
  {
   "cell_type": "code",
   "execution_count": 62,
   "metadata": {},
   "outputs": [
    {
     "output_type": "stream",
     "name": "stdout",
     "text": [
      "[[7114   11]\n [   4   41]]\n"
     ]
    }
   ],
   "source": [
    "print(confusion_matrix(y_pred, y_test))"
   ]
  },
  {
   "source": [
    "0,1로 분류하는 이 데이터에 대한 Confusion Matrix는 순서대로 [[True Positive, False Positive], [False Negative, True Negative]]의 형식으로 나타나진다.\n",
    "\n",
    "- 정밀도(Precision): 위의 confusion matrix를 살펴보면 0(not fraudulent)으로 예측한 것들이 7114/7125 로 0.998 이다. \n",
    "- 재현율(Recall): 위의 confusion matrix를 살펴보았을 때 실제 맞게 예측한 것 중에서 0(not fraudulent)으로 예측한 것의 비율은 7114/7118로 0.999이다. \n",
    "- F1 score: 위의 confusion matrix에 의해서 0으로 예측한 경우의 F1 score는 1이 된다. \n",
    "\n"
   ],
   "cell_type": "markdown",
   "metadata": {}
  },
  {
   "cell_type": "code",
   "execution_count": 59,
   "metadata": {},
   "outputs": [
    {
     "output_type": "stream",
     "name": "stdout",
     "text": [
      "              precision    recall  f1-score   support\n\n           0       1.00      1.00      1.00      7118\n           1       0.91      0.79      0.85        52\n\n    accuracy                           1.00      7170\n   macro avg       0.95      0.89      0.92      7170\nweighted avg       1.00      1.00      1.00      7170\n\n"
     ]
    }
   ],
   "source": [
    "#Classification Report\n",
    "print(classification_report(y_test,y_pred, labels = [0,1]))"
   ]
  },
  {
   "source": [
    "실제로 Classification Report를 출력해 성능지표를 계산해 보았을 때 동일한 결과를 얻는 것을 알 수 있다. \n",
    "\n",
    "\n",
    "성능개선시 imbalanced data의 경우 데이터가 많은 class로 예측 쏠림 현상이 일어난다. 이 데이터의 경우에도 fraud라고 분리된 credit card transaction 횟수보다 정상적인 transaction의 횟수가 더 많다. 때문에 정밀도만을 살피기보다 실제 맞게 예측한 것 중에서의 class 비율도 포함한 F1-score를 척도로 성능개선을 시도해 보았다."
   ],
   "cell_type": "markdown",
   "metadata": {}
  },
  {
   "cell_type": "code",
   "execution_count": null,
   "metadata": {},
   "outputs": [],
   "source": []
  }
 ],
 "metadata": {
  "kernelspec": {
   "display_name": "Python 3",
   "language": "python",
   "name": "python3"
  },
  "language_info": {
   "codemirror_mode": {
    "name": "ipython",
    "version": 3
   },
   "file_extension": ".py",
   "mimetype": "text/x-python",
   "name": "python",
   "nbconvert_exporter": "python",
   "pygments_lexer": "ipython3",
   "version": "3.8.5-final"
  }
 },
 "nbformat": 4,
 "nbformat_minor": 4
}
{
  "nbformat": 4,
  "nbformat_minor": 0,
  "metadata": {
    "kernelspec": {
      "display_name": "Python 3",
      "language": "python",
      "name": "python3"
    },
    "language_info": {
      "codemirror_mode": {
        "name": "ipython",
        "version": 3
      },
      "file_extension": ".py",
      "mimetype": "text/x-python",
      "name": "python",
      "nbconvert_exporter": "python",
      "pygments_lexer": "ipython3",
      "version": "3.8.5-final"
    },
    "colab": {
      "name": "week3_NaiveBayes_과제.ipynb",
      "provenance": [],
      "collapsed_sections": []
    }
  },
  "cells": [
    {
      "cell_type": "markdown",
      "metadata": {
        "id": "W3Zkr2JGup19"
      },
      "source": [
        "# Assignment"
      ]
    },
    {
      "cell_type": "markdown",
      "metadata": {
        "id": "hJEhM1uAup2I"
      },
      "source": [
        "## 우리의 목표 : 나이브베이즈 문제 해결하기\n",
        "1.1) 입력문서가 {fast, furious, fun} 만을 주요 단어로 가질때, 이 문서는 얼마의 확률로 어떤 문서로 분류되는가?\n",
        "\n",
        "##### 노트북 파일을 따라오면서, 빈칸과 질문에 대한 물음을 모두 채우시면 과제 완료 입니다 "
      ]
    },
    {
      "cell_type": "markdown",
      "metadata": {
        "id": "ZSwttCJnup2K"
      },
      "source": [
        "### 주어진 dataset 을 확인해 보기위해 엑셀 파일을 읽습니다."
      ]
    },
    {
      "cell_type": "code",
      "metadata": {
        "id": "PHRU587dup2K"
      },
      "source": [
        "import numpy as np\n",
        "import pandas as pd"
      ],
      "execution_count": 1,
      "outputs": []
    },
    {
      "cell_type": "code",
      "metadata": {
        "id": "Bz0IgHzGup2T"
      },
      "source": [
        "documents = pd.read_excel('test_file.xlsx') "
      ],
      "execution_count": 2,
      "outputs": []
    },
    {
      "cell_type": "code",
      "metadata": {
        "id": "yZt4AtNTup2W",
        "outputId": "f4b0e76e-c63f-45bc-d217-12684e5e77a3"
      },
      "source": [
        "documents "
      ],
      "execution_count": 3,
      "outputs": [
        {
          "output_type": "execute_result",
          "data": {
            "text/plain": [
              "    label                        message\n",
              "0  comedy          Fun couple, love love\n",
              "1  action          fast Furious, shoot!!\n",
              "2  comedy  couple^^, fly, fast, fun, fun\n",
              "3  action       furious, shoot shoot fun\n",
              "4  action         fly~~ fast shoot, Love"
            ],
            "text/html": "<div>\n<style scoped>\n    .dataframe tbody tr th:only-of-type {\n        vertical-align: middle;\n    }\n\n    .dataframe tbody tr th {\n        vertical-align: top;\n    }\n\n    .dataframe thead th {\n        text-align: right;\n    }\n</style>\n<table border=\"1\" class=\"dataframe\">\n  <thead>\n    <tr style=\"text-align: right;\">\n      <th></th>\n      <th>label</th>\n      <th>message</th>\n    </tr>\n  </thead>\n  <tbody>\n    <tr>\n      <th>0</th>\n      <td>comedy</td>\n      <td>Fun couple, love love</td>\n    </tr>\n    <tr>\n      <th>1</th>\n      <td>action</td>\n      <td>fast Furious, shoot!!</td>\n    </tr>\n    <tr>\n      <th>2</th>\n      <td>comedy</td>\n      <td>couple^^, fly, fast, fun, fun</td>\n    </tr>\n    <tr>\n      <th>3</th>\n      <td>action</td>\n      <td>furious, shoot shoot fun</td>\n    </tr>\n    <tr>\n      <th>4</th>\n      <td>action</td>\n      <td>fly~~ fast shoot, Love</td>\n    </tr>\n  </tbody>\n</table>\n</div>"
          },
          "metadata": {},
          "execution_count": 3
        }
      ]
    },
    {
      "cell_type": "markdown",
      "metadata": {
        "id": "prP57Inaup2Y"
      },
      "source": [
        "####  Q1. **문제점**(전처리가 필요한 부분)을 2가지 이상 적어주세요.\n",
        "    - 1. 'Fun', 'fun' 과 같이 단어 간에 대문자와 소문자 통일이 되어 있지 않다\n",
        "    - 2. '^^', '~' 와 깉은 특수문자 들이 들어가 있다\n",
        "    - 3. 단어 간의 구분이 ','(콤마) 로 되어 있는 부분이 있고 ' '띄어쓰기로 되어있는 부분이 있다. "
      ]
    },
    {
      "cell_type": "markdown",
      "metadata": {
        "id": "cXxX9Yx7up2Y"
      },
      "source": [
        "### step 1. 단어를 모두 소문자로 바꾸어 줍니다. \n",
        "\n",
        "#### Q2. 코드속 빈칸을 채워주세요"
      ]
    },
    {
      "cell_type": "code",
      "metadata": {
        "id": "UCX42MsAup2Z",
        "outputId": "208f4928-3251-425f-bad5-721b3a873ae6"
      },
      "source": [
        "lower_documents = []\n",
        "# 'message' column의 모든 값들에 대해 lowercase로 바꿔주기\n",
        "lower_documents = [d.lower() for d in documents['message']]\n",
        "print(lower_documents)"
      ],
      "execution_count": 4,
      "outputs": [
        {
          "output_type": "stream",
          "name": "stdout",
          "text": [
            "['fun couple, love love', 'fast furious, shoot!!', 'couple^^, fly, fast, fun, fun', 'furious, shoot shoot fun', 'fly~~ fast shoot, love']\n"
          ]
        }
      ]
    },
    {
      "cell_type": "markdown",
      "metadata": {
        "id": "QZDgo93Lup2a"
      },
      "source": [
        "### step2. 특수문자를 없애줍니다.\n",
        "#### string.punctuation 에는 특수문자들이 저장되어있는것을 확인할수 있습니다."
      ]
    },
    {
      "cell_type": "code",
      "metadata": {
        "id": "Nldmu4gvup2a",
        "outputId": "46cd9c50-25af-483e-b9bc-68daeaa445ef"
      },
      "source": [
        "import string\n",
        "string.punctuation"
      ],
      "execution_count": 5,
      "outputs": [
        {
          "output_type": "execute_result",
          "data": {
            "text/plain": [
              "'!\"#$%&\\'()*+,-./:;<=>?@[\\\\]^_`{|}~'"
            ]
          },
          "metadata": {},
          "execution_count": 5
        }
      ]
    },
    {
      "cell_type": "markdown",
      "metadata": {
        "id": "B8uDOYzWup2b"
      },
      "source": [
        "### Q3. string.punctuation 을 이용해서 특수문자를 제거해주세요."
      ]
    },
    {
      "cell_type": "code",
      "metadata": {
        "id": "oWaKMt1Mup2b",
        "outputId": "938b31f7-087e-4ea6-90d2-00f354d82c84"
      },
      "source": [
        "import re\n",
        "\n",
        "del_punctuation_documents = []\n",
        "\n",
        "for i in lower_documents:\n",
        "    del_punctuation_documents.append(re.sub('['+string.punctuation+']','',i))\n",
        "# re.sub을 활용해 문자열 치환 re.sub(정규표현식, 대상 문자열, 치환 문자)   \n",
        "del_punctuation_documents"
      ],
      "execution_count": 6,
      "outputs": [
        {
          "output_type": "execute_result",
          "data": {
            "text/plain": [
              "['fun couple love love',\n",
              " 'fast furious shoot',\n",
              " 'couple fly fast fun fun',\n",
              " 'furious shoot shoot fun',\n",
              " 'fly fast shoot love']"
            ]
          },
          "metadata": {},
          "execution_count": 6
        }
      ]
    },
    {
      "cell_type": "markdown",
      "metadata": {
        "id": "kjSXpYvcup2e"
      },
      "source": [
        "### step 3. 단어를 하나씩 띄어쓰기 단위로 쪼개어 줍니다.\n",
        "#### Q4. 빈칸을 채워주세요."
      ]
    },
    {
      "cell_type": "code",
      "metadata": {
        "id": "DheDzRAGup2f",
        "outputId": "2ba3549b-101d-4ac6-ae61-90a602fb1d8b"
      },
      "source": [
        "# split() 함수를 활용해 ' '(space)로 띄워져 있는 문자열을 나누어준다\n",
        "preprocessed_documents = [[w for w in d.split()] for d in del_punctuation_documents]\n",
        "preprocessed_documents"
      ],
      "execution_count": 7,
      "outputs": [
        {
          "output_type": "execute_result",
          "data": {
            "text/plain": [
              "[['fun', 'couple', 'love', 'love'],\n",
              " ['fast', 'furious', 'shoot'],\n",
              " ['couple', 'fly', 'fast', 'fun', 'fun'],\n",
              " ['furious', 'shoot', 'shoot', 'fun'],\n",
              " ['fly', 'fast', 'shoot', 'love']]"
            ]
          },
          "metadata": {},
          "execution_count": 7
        }
      ]
    },
    {
      "cell_type": "markdown",
      "metadata": {
        "id": "uUgfKy2Jup2g"
      },
      "source": [
        "### step 4. 각각의 단어가 문서에서 몇번 나왔는지 세봅시다."
      ]
    },
    {
      "cell_type": "code",
      "metadata": {
        "id": "1oeyBhDPup2h",
        "outputId": "c49073d4-0abb-4919-a8f3-c5bf4fffea1b"
      },
      "source": [
        "frequency_list = []\n",
        "from collections import Counter\n",
        "\n",
        "frequency_list = [Counter(d) for d in preprocessed_documents]\n",
        "frequency_list"
      ],
      "execution_count": 8,
      "outputs": [
        {
          "output_type": "execute_result",
          "data": {
            "text/plain": [
              "[Counter({'fun': 1, 'couple': 1, 'love': 2}),\n",
              " Counter({'fast': 1, 'furious': 1, 'shoot': 1}),\n",
              " Counter({'couple': 1, 'fly': 1, 'fast': 1, 'fun': 2}),\n",
              " Counter({'furious': 1, 'shoot': 2, 'fun': 1}),\n",
              " Counter({'fly': 1, 'fast': 1, 'shoot': 1, 'love': 1})]"
            ]
          },
          "metadata": {},
          "execution_count": 8
        }
      ]
    },
    {
      "cell_type": "markdown",
      "metadata": {
        "id": "S49LF8aoup2i"
      },
      "source": [
        "### step 5. 이제 우리가 하고싶은것은, 문자를 숫자로 변환하는 작업입니다!(그림 참고)\n",
        "- 이를 위해 CountVectorizer를 사용합니다.\n",
        "- CountVectorizer는 문서 집합에서 단어 토큰을 생성하고, 각 단어 수를 세어 BOW (Bag of Words) 인코딩한 벡터를 만들어줍니다.\n",
        "\n",
        "- 문서에 해당단어가 몇번 포함되었는지를 나타낼 때 사용하는 방법입니다.\n",
        "\n",
        "- 참고 : https://datascienceschool.net/view-notebook/3e7aadbf88ed4f0d87a76f9ddc925d69/"
      ]
    },
    {
      "cell_type": "markdown",
      "metadata": {
        "id": "ZJSEL2Vwup2i"
      },
      "source": [
        "![CountVectorized](https://user-images.githubusercontent.com/68625698/106378540-15d8ed80-63e9-11eb-8604-5c960c274867.PNG)"
      ]
    },
    {
      "cell_type": "code",
      "metadata": {
        "id": "AfRgjbxhup2i",
        "outputId": "5a0d2491-d8f8-4f94-fe74-7771d5bcfb71"
      },
      "source": [
        "from sklearn.feature_extraction.text import CountVectorizer\n",
        "count_vector = CountVectorizer()\n",
        "count_vector.fit(documents['message'])"
      ],
      "execution_count": 9,
      "outputs": [
        {
          "output_type": "execute_result",
          "data": {
            "text/plain": [
              "CountVectorizer()"
            ]
          },
          "metadata": {},
          "execution_count": 9
        }
      ]
    },
    {
      "cell_type": "code",
      "metadata": {
        "id": "EYcgD99Lup2j",
        "outputId": "70834bae-f77a-486f-f028-b09dd8391180"
      },
      "source": [
        "doc_array = count_vector.transform(documents['message']).toarray()\n",
        "doc_array"
      ],
      "execution_count": 10,
      "outputs": [
        {
          "output_type": "execute_result",
          "data": {
            "text/plain": [
              "array([[1, 0, 0, 1, 0, 2, 0],\n",
              "       [0, 1, 0, 0, 1, 0, 1],\n",
              "       [1, 1, 1, 2, 0, 0, 0],\n",
              "       [0, 0, 0, 1, 1, 0, 2],\n",
              "       [0, 1, 1, 0, 0, 1, 1]], dtype=int64)"
            ]
          },
          "metadata": {},
          "execution_count": 10
        }
      ]
    },
    {
      "cell_type": "code",
      "metadata": {
        "id": "mKpKp6q6up2k",
        "outputId": "72e87734-a918-400e-8a26-d3d2502a62cd"
      },
      "source": [
        "count_vector.get_feature_names()"
      ],
      "execution_count": 11,
      "outputs": [
        {
          "output_type": "execute_result",
          "data": {
            "text/plain": [
              "['couple', 'fast', 'fly', 'fun', 'furious', 'love', 'shoot']"
            ]
          },
          "metadata": {},
          "execution_count": 11
        }
      ]
    },
    {
      "cell_type": "code",
      "metadata": {
        "id": "ZYyBzSVUup2k",
        "outputId": "3a299a33-09a0-4fb4-b289-20219b4f786e"
      },
      "source": [
        "count_vector.vocabulary_"
      ],
      "execution_count": 12,
      "outputs": [
        {
          "output_type": "execute_result",
          "data": {
            "text/plain": [
              "{'fun': 3,\n",
              " 'couple': 0,\n",
              " 'love': 5,\n",
              " 'fast': 1,\n",
              " 'furious': 4,\n",
              " 'shoot': 6,\n",
              " 'fly': 2}"
            ]
          },
          "metadata": {},
          "execution_count": 12
        }
      ]
    },
    {
      "cell_type": "code",
      "metadata": {
        "id": "NxPjKxQTup2l",
        "outputId": "5c6b8d7d-7eb5-4ab1-eaac-2bbad08edae0"
      },
      "source": [
        "frequency_matrix = pd.DataFrame(doc_array, columns = count_vector.get_feature_names())\n",
        "frequency_matrix"
      ],
      "execution_count": 13,
      "outputs": [
        {
          "output_type": "execute_result",
          "data": {
            "text/plain": [
              "   couple  fast  fly  fun  furious  love  shoot\n",
              "0       1     0    0    1        0     2      0\n",
              "1       0     1    0    0        1     0      1\n",
              "2       1     1    1    2        0     0      0\n",
              "3       0     0    0    1        1     0      2\n",
              "4       0     1    1    0        0     1      1"
            ],
            "text/html": "<div>\n<style scoped>\n    .dataframe tbody tr th:only-of-type {\n        vertical-align: middle;\n    }\n\n    .dataframe tbody tr th {\n        vertical-align: top;\n    }\n\n    .dataframe thead th {\n        text-align: right;\n    }\n</style>\n<table border=\"1\" class=\"dataframe\">\n  <thead>\n    <tr style=\"text-align: right;\">\n      <th></th>\n      <th>couple</th>\n      <th>fast</th>\n      <th>fly</th>\n      <th>fun</th>\n      <th>furious</th>\n      <th>love</th>\n      <th>shoot</th>\n    </tr>\n  </thead>\n  <tbody>\n    <tr>\n      <th>0</th>\n      <td>1</td>\n      <td>0</td>\n      <td>0</td>\n      <td>1</td>\n      <td>0</td>\n      <td>2</td>\n      <td>0</td>\n    </tr>\n    <tr>\n      <th>1</th>\n      <td>0</td>\n      <td>1</td>\n      <td>0</td>\n      <td>0</td>\n      <td>1</td>\n      <td>0</td>\n      <td>1</td>\n    </tr>\n    <tr>\n      <th>2</th>\n      <td>1</td>\n      <td>1</td>\n      <td>1</td>\n      <td>2</td>\n      <td>0</td>\n      <td>0</td>\n      <td>0</td>\n    </tr>\n    <tr>\n      <th>3</th>\n      <td>0</td>\n      <td>0</td>\n      <td>0</td>\n      <td>1</td>\n      <td>1</td>\n      <td>0</td>\n      <td>2</td>\n    </tr>\n    <tr>\n      <th>4</th>\n      <td>0</td>\n      <td>1</td>\n      <td>1</td>\n      <td>0</td>\n      <td>0</td>\n      <td>1</td>\n      <td>1</td>\n    </tr>\n  </tbody>\n</table>\n</div>"
          },
          "metadata": {},
          "execution_count": 13
        }
      ]
    },
    {
      "cell_type": "code",
      "metadata": {
        "id": "nFDEoN6iup2l"
      },
      "source": [
        "frequency_matrix['count'] = frequency_matrix.sum(axis=1)"
      ],
      "execution_count": 14,
      "outputs": []
    },
    {
      "cell_type": "markdown",
      "metadata": {
        "id": "ECND0-Xiup2l"
      },
      "source": [
        "### step 6. 범주형 변수를 dummy변수로 변환해주는 작업(One-Hot Encoding!)을 해주어야합니다.\n",
        "#### Q5. label 을 comedy =1, action =0 으로 변환해주세요"
      ]
    },
    {
      "cell_type": "code",
      "metadata": {
        "id": "A4gTPrNhup2m"
      },
      "source": [
        "# get_dummies() 함수를 활용해 Categorical Variables one hot encoding\n",
        "documents[\"label\"]=pd.get_dummies(documents['label'], drop_first = True)\n",
        "documents"
      ],
      "execution_count": 15,
      "outputs": [
        {
          "output_type": "execute_result",
          "data": {
            "text/plain": [
              "   label                        message\n",
              "0      1          Fun couple, love love\n",
              "1      0          fast Furious, shoot!!\n",
              "2      1  couple^^, fly, fast, fun, fun\n",
              "3      0       furious, shoot shoot fun\n",
              "4      0         fly~~ fast shoot, Love"
            ],
            "text/html": "<div>\n<style scoped>\n    .dataframe tbody tr th:only-of-type {\n        vertical-align: middle;\n    }\n\n    .dataframe tbody tr th {\n        vertical-align: top;\n    }\n\n    .dataframe thead th {\n        text-align: right;\n    }\n</style>\n<table border=\"1\" class=\"dataframe\">\n  <thead>\n    <tr style=\"text-align: right;\">\n      <th></th>\n      <th>label</th>\n      <th>message</th>\n    </tr>\n  </thead>\n  <tbody>\n    <tr>\n      <th>0</th>\n      <td>1</td>\n      <td>Fun couple, love love</td>\n    </tr>\n    <tr>\n      <th>1</th>\n      <td>0</td>\n      <td>fast Furious, shoot!!</td>\n    </tr>\n    <tr>\n      <th>2</th>\n      <td>1</td>\n      <td>couple^^, fly, fast, fun, fun</td>\n    </tr>\n    <tr>\n      <th>3</th>\n      <td>0</td>\n      <td>furious, shoot shoot fun</td>\n    </tr>\n    <tr>\n      <th>4</th>\n      <td>0</td>\n      <td>fly~~ fast shoot, Love</td>\n    </tr>\n  </tbody>\n</table>\n</div>"
          },
          "metadata": {},
          "execution_count": 15
        }
      ]
    },
    {
      "cell_type": "code",
      "metadata": {
        "id": "21OXioBWup2m"
      },
      "source": [
        "doc = pd.concat([documents['label'],frequency_matrix],axis=1)\n",
        "doc"
      ],
      "execution_count": 16,
      "outputs": [
        {
          "output_type": "execute_result",
          "data": {
            "text/plain": [
              "   label  couple  fast  fly  fun  furious  love  shoot  count\n",
              "0      1       1     0    0    1        0     2      0      4\n",
              "1      0       0     1    0    0        1     0      1      3\n",
              "2      1       1     1    1    2        0     0      0      5\n",
              "3      0       0     0    0    1        1     0      2      4\n",
              "4      0       0     1    1    0        0     1      1      4"
            ],
            "text/html": "<div>\n<style scoped>\n    .dataframe tbody tr th:only-of-type {\n        vertical-align: middle;\n    }\n\n    .dataframe tbody tr th {\n        vertical-align: top;\n    }\n\n    .dataframe thead th {\n        text-align: right;\n    }\n</style>\n<table border=\"1\" class=\"dataframe\">\n  <thead>\n    <tr style=\"text-align: right;\">\n      <th></th>\n      <th>label</th>\n      <th>couple</th>\n      <th>fast</th>\n      <th>fly</th>\n      <th>fun</th>\n      <th>furious</th>\n      <th>love</th>\n      <th>shoot</th>\n      <th>count</th>\n    </tr>\n  </thead>\n  <tbody>\n    <tr>\n      <th>0</th>\n      <td>1</td>\n      <td>1</td>\n      <td>0</td>\n      <td>0</td>\n      <td>1</td>\n      <td>0</td>\n      <td>2</td>\n      <td>0</td>\n      <td>4</td>\n    </tr>\n    <tr>\n      <th>1</th>\n      <td>0</td>\n      <td>0</td>\n      <td>1</td>\n      <td>0</td>\n      <td>0</td>\n      <td>1</td>\n      <td>0</td>\n      <td>1</td>\n      <td>3</td>\n    </tr>\n    <tr>\n      <th>2</th>\n      <td>1</td>\n      <td>1</td>\n      <td>1</td>\n      <td>1</td>\n      <td>2</td>\n      <td>0</td>\n      <td>0</td>\n      <td>0</td>\n      <td>5</td>\n    </tr>\n    <tr>\n      <th>3</th>\n      <td>0</td>\n      <td>0</td>\n      <td>0</td>\n      <td>0</td>\n      <td>1</td>\n      <td>1</td>\n      <td>0</td>\n      <td>2</td>\n      <td>4</td>\n    </tr>\n    <tr>\n      <th>4</th>\n      <td>0</td>\n      <td>0</td>\n      <td>1</td>\n      <td>1</td>\n      <td>0</td>\n      <td>0</td>\n      <td>1</td>\n      <td>1</td>\n      <td>4</td>\n    </tr>\n  </tbody>\n</table>\n</div>"
          },
          "metadata": {},
          "execution_count": 16
        }
      ]
    },
    {
      "cell_type": "code",
      "metadata": {
        "id": "Q2835Qg-up2m",
        "outputId": "439892aa-9db7-45a5-8ea8-65ba905af2d8"
      },
      "source": [
        "doc"
      ],
      "execution_count": 17,
      "outputs": [
        {
          "output_type": "execute_result",
          "data": {
            "text/plain": [
              "   label  couple  fast  fly  fun  furious  love  shoot  count\n",
              "0      1       1     0    0    1        0     2      0      4\n",
              "1      0       0     1    0    0        1     0      1      3\n",
              "2      1       1     1    1    2        0     0      0      5\n",
              "3      0       0     0    0    1        1     0      2      4\n",
              "4      0       0     1    1    0        0     1      1      4"
            ],
            "text/html": "<div>\n<style scoped>\n    .dataframe tbody tr th:only-of-type {\n        vertical-align: middle;\n    }\n\n    .dataframe tbody tr th {\n        vertical-align: top;\n    }\n\n    .dataframe thead th {\n        text-align: right;\n    }\n</style>\n<table border=\"1\" class=\"dataframe\">\n  <thead>\n    <tr style=\"text-align: right;\">\n      <th></th>\n      <th>label</th>\n      <th>couple</th>\n      <th>fast</th>\n      <th>fly</th>\n      <th>fun</th>\n      <th>furious</th>\n      <th>love</th>\n      <th>shoot</th>\n      <th>count</th>\n    </tr>\n  </thead>\n  <tbody>\n    <tr>\n      <th>0</th>\n      <td>1</td>\n      <td>1</td>\n      <td>0</td>\n      <td>0</td>\n      <td>1</td>\n      <td>0</td>\n      <td>2</td>\n      <td>0</td>\n      <td>4</td>\n    </tr>\n    <tr>\n      <th>1</th>\n      <td>0</td>\n      <td>0</td>\n      <td>1</td>\n      <td>0</td>\n      <td>0</td>\n      <td>1</td>\n      <td>0</td>\n      <td>1</td>\n      <td>3</td>\n    </tr>\n    <tr>\n      <th>2</th>\n      <td>1</td>\n      <td>1</td>\n      <td>1</td>\n      <td>1</td>\n      <td>2</td>\n      <td>0</td>\n      <td>0</td>\n      <td>0</td>\n      <td>5</td>\n    </tr>\n    <tr>\n      <th>3</th>\n      <td>0</td>\n      <td>0</td>\n      <td>0</td>\n      <td>0</td>\n      <td>1</td>\n      <td>1</td>\n      <td>0</td>\n      <td>2</td>\n      <td>4</td>\n    </tr>\n    <tr>\n      <th>4</th>\n      <td>0</td>\n      <td>0</td>\n      <td>1</td>\n      <td>1</td>\n      <td>0</td>\n      <td>0</td>\n      <td>1</td>\n      <td>1</td>\n      <td>4</td>\n    </tr>\n  </tbody>\n</table>\n</div>"
          },
          "metadata": {},
          "execution_count": 17
        }
      ]
    },
    {
      "cell_type": "markdown",
      "metadata": {
        "id": "J3djcEgzup2n"
      },
      "source": [
        "###  step 7. 나이브 베이즈 계산을 해봅시다!\n",
        "\n",
        "#### Q6. 입력문서가 {fast, furious, fun} 을 주요 단어로 가질때, 이 문서는 얼마의 확률로 어떤 문서로 분류가 될까요? ( 계산과정을 채워주세요) "
      ]
    },
    {
      "cell_type": "code",
      "metadata": {
        "id": "GdeYF_4rup2n",
        "outputId": "92082346-2dc3-4650-ca5b-608ff0c18286"
      },
      "source": [
        "doc = np.array(doc)          # dataframe을 np-array로 변환해줍니다.\n",
        "                             # return값은 np-matrix가 아니라 np-array입니다.\n",
        "doc"
      ],
      "execution_count": 18,
      "outputs": [
        {
          "output_type": "execute_result",
          "data": {
            "text/plain": [
              "array([[1, 1, 0, 0, 1, 0, 2, 0, 4],\n",
              "       [0, 0, 1, 0, 0, 1, 0, 1, 3],\n",
              "       [1, 1, 1, 1, 2, 0, 0, 0, 5],\n",
              "       [0, 0, 0, 0, 1, 1, 0, 2, 4],\n",
              "       [0, 0, 1, 1, 0, 0, 1, 1, 4]], dtype=int64)"
            ]
          },
          "metadata": {},
          "execution_count": 18
        }
      ]
    },
    {
      "cell_type": "code",
      "metadata": {
        "id": "JgtmVeawup2n",
        "outputId": "22b058bc-4610-4aff-e4a8-b96b414ceaf8"
      },
      "source": [
        "type(doc)"
      ],
      "execution_count": 19,
      "outputs": [
        {
          "output_type": "execute_result",
          "data": {
            "text/plain": [
              "numpy.ndarray"
            ]
          },
          "metadata": {},
          "execution_count": 19
        }
      ]
    },
    {
      "cell_type": "markdown",
      "metadata": {
        "id": "1qxqVZyXup2o"
      },
      "source": [
        "####  P(Y=comedy), P(Y=action) 계산하기"
      ]
    },
    {
      "cell_type": "code",
      "metadata": {
        "id": "frcppWOnup2o"
      },
      "source": [
        "# P(Y=comedy)\n",
        "p_comedy = sum(doc[:,0]==1) / len(doc)\n",
        "# 전체 y의 개수 중 y==comedy 인 경우\n",
        "\n",
        "# P(Y=action)\n",
        "p_action = 1-p_comedy \n",
        "# label은 comedy, action 2개 이므로 전체 label의 개수 중 action 의 비율은 1-p_comedy"
      ],
      "execution_count": 20,
      "outputs": []
    },
    {
      "cell_type": "code",
      "metadata": {
        "id": "Yeh96yycup2q"
      },
      "source": [
        "print('p_comedy : ',p_comedy)\n",
        "print('p_action : ', p_action)"
      ],
      "execution_count": 21,
      "outputs": [
        {
          "output_type": "stream",
          "name": "stdout",
          "text": [
            "p_comedy :  0.4\np_action :  0.6\n"
          ]
        }
      ]
    },
    {
      "cell_type": "markdown",
      "metadata": {
        "id": "85_GjF4Yup2r"
      },
      "source": [
        "#### P(fast=1|comedy=1), P(furious=1|comedy=1), P(fun=1|comedy=1) 계산하기\n",
        "* 참고 : 문서에 두번 등장한 단어 주의"
      ]
    },
    {
      "cell_type": "code",
      "metadata": {
        "id": "yHkk52I-up2y"
      },
      "source": [
        "# P(fast=1|comedy=1)\n",
        "# P(fasts & comedy)/P(comedy)\n",
        "p_comedy_fast = sum(doc[doc[:,0]!=0][:,2]) / sum(doc[doc[:,0]==1][:,-1])\n",
        "\n",
        "# P(furious=1|comedy=1)\n",
        "# P(furious & comedy)/P(comedy)\n",
        "p_comedy_furious = sum(doc[doc[:,0]!=0][:,5]) / sum(doc[doc[:,0]==1][:,-1]) \n",
        "\n",
        "# P(fun=1|comedy=1)\n",
        "# P(fun & comedy)/P(comedy)\n",
        "p_comedy_fun = sum(doc[(doc[:,4]!=0)&(doc[:,0]==1)][:,4]) / sum(doc[doc[:,0]==1][:,-1])\n",
        "\n",
        "# 'fun' 과 같이 문서에 두 번 등장하는 단어들에 대비해 해당 단어의 등장 횟수가 0이 아닐때로 조건을 걸어준다"
      ],
      "execution_count": 22,
      "outputs": []
    },
    {
      "cell_type": "code",
      "metadata": {
        "id": "_1GyvhmTup21"
      },
      "source": [
        "print('p_comedy_fast : ' , p_comedy_fast)\n",
        "print('p_comedy_furious : ' , p_comedy_furious)\n",
        "print('p_comedy_fun : ' , p_comedy_fun)   "
      ],
      "execution_count": 23,
      "outputs": [
        {
          "output_type": "stream",
          "name": "stdout",
          "text": [
            "p_comedy_fast :  0.1111111111111111\np_comedy_furious :  0.0\np_comedy_fun :  0.3333333333333333\n"
          ]
        }
      ]
    },
    {
      "cell_type": "markdown",
      "metadata": {
        "id": "qefcvWQ-up22"
      },
      "source": [
        "#### P(fast=1|action=1), P(furious=1|action=1), P(fun=1|action=1) 계산하기\n",
        "* 참고 : 문서에 두번 등장한 단어 주의"
      ]
    },
    {
      "cell_type": "code",
      "execution_count": 24,
      "metadata": {},
      "outputs": [],
      "source": [
        "# P(fast=1|action=1) \n",
        "# P(fast & action)/P(action)\n",
        "p_action_fast = sum(doc[(doc[:,0]==0)&(doc[:,2]==1)][:,2]) / sum(doc[doc[:,0]==0][:,8])\n",
        "\n",
        "\n",
        "# P(furious=1|action=1)\n",
        "# P(furious & action)/P(action)\n",
        "p_action_furious = sum(doc[(doc[:,0]==0)&(doc[:,5]==1)][:,5]) / sum(doc[doc[:,0]==0][:,8])\n"
      ]
    },
    {
      "cell_type": "code",
      "execution_count": 25,
      "metadata": {},
      "outputs": [],
      "source": [
        "# P(fun=1|action=1)\n",
        "# P(furions & action)/P(action)\n",
        "p_action_fun = sum(doc[(doc[:,0]==0)&(doc[:,4]!=0)][:,4]) / sum(doc[doc[:,0]==0][:,8])"
      ]
    },
    {
      "cell_type": "code",
      "metadata": {
        "id": "qZlOkRG7up23"
      },
      "source": [
        "print('p_action_fast : ' , p_action_fast)\n",
        "print('p_action_furious : ' , p_action_furious)\n",
        "print('p_action_fun : ' , p_action_fun)  "
      ],
      "execution_count": 26,
      "outputs": [
        {
          "output_type": "stream",
          "name": "stdout",
          "text": [
            "p_action_fast :  0.18181818181818182\n",
            "p_action_furious :  0.18181818181818182\n",
            "p_action_fun :  0.09090909090909091\n"
          ]
        }
      ]
    },
    {
      "cell_type": "markdown",
      "metadata": {
        "id": "sts9BLUeup23"
      },
      "source": [
        "#### P(Y = comedy| X = fast, furious, fun) , P(Y = action=1| X = fast, furious, fun) 값 계산하기"
      ]
    },
    {
      "cell_type": "code",
      "metadata": {
        "id": "sVl-vZv4up23"
      },
      "source": [
        "#P(Y = comedy| X = fast, furious, fun)\n",
        "#P(Y=comedy & X=fast, furious, fun)\n",
        "proba_comedy = p_comedy * p_comedy_fast * p_comedy_furious * p_comedy_fun\n",
        "\n",
        "#P(Y = action=1| X = fast, furious, fun)\n",
        "#P(Y=comedy & X=fast, furious, fun)\n",
        "proba_action = p_action * p_action_fast * p_action_furious * p_action_fun"
      ],
      "execution_count": 27,
      "outputs": []
    },
    {
      "cell_type": "code",
      "metadata": {
        "id": "dU21-UF6up24"
      },
      "source": [
        "print('proba_comedy', proba_comedy)\n",
        "print('proba_action', proba_action)"
      ],
      "execution_count": 28,
      "outputs": [
        {
          "output_type": "stream",
          "name": "stdout",
          "text": [
            "proba_comedy 0.0\nproba_action 0.001803155522163787\n"
          ]
        }
      ]
    },
    {
      "cell_type": "markdown",
      "metadata": {
        "id": "ypxC3cfrup24"
      },
      "source": [
        "### step 8. 다음 값을 비교해봅시다.\n",
        "1. P(Y = comedy| X = fast, furious, fun)\n",
        "2. P(Y = action=1| X = fast, furious, fun)\n",
        "\n",
        "\n",
        "Q7. 어떤 문제점을 발견할수 있나요? 문제점을 해결하기 위한 방법으로는 어떤게 있을까요?\n",
        "- A. 모든 확률을 다 곱할 시 p_comedy_furious 값이 0이므로 P(Y = comedy| X = fast, furious, fun) 확률도 0이 되어 분류가 불가능해진다. 이는 라플라스 스무딩을 통해 최소한의 확률 값을 정해줌으로서 likelihood가 0이 되는 경우를 방지함을 통해 해결할 수 있다."
      ]
    },
    {
      "cell_type": "code",
      "metadata": {
        "id": "-gQ0tdn_i4-W"
      },
      "source": [],
      "execution_count": null,
      "outputs": []
    }
  ]
}
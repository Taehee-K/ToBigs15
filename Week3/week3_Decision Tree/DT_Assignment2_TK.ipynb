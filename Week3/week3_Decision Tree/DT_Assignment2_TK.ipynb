{
 "cells": [
  {
   "cell_type": "code",
   "execution_count": 1,
   "metadata": {},
   "outputs": [],
   "source": [
    "import pandas as pd \n",
    "import numpy as np\n",
    "\n",
    "df = pd.read_csv('https://raw.githubusercontent.com/AugustLONG/ML01/master/01decisiontree/AllElectronics.csv')\n",
    "df.drop(\"RID\",axis=1, inplace = True) #RID는 그냥 Index라서 삭제"
   ]
  },
  {
   "cell_type": "code",
   "execution_count": 2,
   "metadata": {},
   "outputs": [
    {
     "output_type": "execute_result",
     "data": {
      "text/plain": [
       "            age  income student credit_rating class_buys_computer\n",
       "0         youth    high      no          fair                  no\n",
       "1         youth    high      no     excellent                  no\n",
       "2   middle_aged    high      no          fair                 yes\n",
       "3        senior  medium      no          fair                 yes\n",
       "4        senior     low     yes          fair                 yes\n",
       "5        senior     low     yes     excellent                  no\n",
       "6   middle_aged     low     yes     excellent                 yes\n",
       "7         youth  medium      no          fair                  no\n",
       "8         youth     low     yes          fair                 yes\n",
       "9        senior  medium     yes          fair                 yes\n",
       "10        youth  medium     yes     excellent                 yes\n",
       "11  middle_aged  medium      no     excellent                 yes\n",
       "12  middle_aged    high     yes          fair                 yes\n",
       "13       senior  medium      no     excellent                  no"
      ],
      "text/html": "<div>\n<style scoped>\n    .dataframe tbody tr th:only-of-type {\n        vertical-align: middle;\n    }\n\n    .dataframe tbody tr th {\n        vertical-align: top;\n    }\n\n    .dataframe thead th {\n        text-align: right;\n    }\n</style>\n<table border=\"1\" class=\"dataframe\">\n  <thead>\n    <tr style=\"text-align: right;\">\n      <th></th>\n      <th>age</th>\n      <th>income</th>\n      <th>student</th>\n      <th>credit_rating</th>\n      <th>class_buys_computer</th>\n    </tr>\n  </thead>\n  <tbody>\n    <tr>\n      <th>0</th>\n      <td>youth</td>\n      <td>high</td>\n      <td>no</td>\n      <td>fair</td>\n      <td>no</td>\n    </tr>\n    <tr>\n      <th>1</th>\n      <td>youth</td>\n      <td>high</td>\n      <td>no</td>\n      <td>excellent</td>\n      <td>no</td>\n    </tr>\n    <tr>\n      <th>2</th>\n      <td>middle_aged</td>\n      <td>high</td>\n      <td>no</td>\n      <td>fair</td>\n      <td>yes</td>\n    </tr>\n    <tr>\n      <th>3</th>\n      <td>senior</td>\n      <td>medium</td>\n      <td>no</td>\n      <td>fair</td>\n      <td>yes</td>\n    </tr>\n    <tr>\n      <th>4</th>\n      <td>senior</td>\n      <td>low</td>\n      <td>yes</td>\n      <td>fair</td>\n      <td>yes</td>\n    </tr>\n    <tr>\n      <th>5</th>\n      <td>senior</td>\n      <td>low</td>\n      <td>yes</td>\n      <td>excellent</td>\n      <td>no</td>\n    </tr>\n    <tr>\n      <th>6</th>\n      <td>middle_aged</td>\n      <td>low</td>\n      <td>yes</td>\n      <td>excellent</td>\n      <td>yes</td>\n    </tr>\n    <tr>\n      <th>7</th>\n      <td>youth</td>\n      <td>medium</td>\n      <td>no</td>\n      <td>fair</td>\n      <td>no</td>\n    </tr>\n    <tr>\n      <th>8</th>\n      <td>youth</td>\n      <td>low</td>\n      <td>yes</td>\n      <td>fair</td>\n      <td>yes</td>\n    </tr>\n    <tr>\n      <th>9</th>\n      <td>senior</td>\n      <td>medium</td>\n      <td>yes</td>\n      <td>fair</td>\n      <td>yes</td>\n    </tr>\n    <tr>\n      <th>10</th>\n      <td>youth</td>\n      <td>medium</td>\n      <td>yes</td>\n      <td>excellent</td>\n      <td>yes</td>\n    </tr>\n    <tr>\n      <th>11</th>\n      <td>middle_aged</td>\n      <td>medium</td>\n      <td>no</td>\n      <td>excellent</td>\n      <td>yes</td>\n    </tr>\n    <tr>\n      <th>12</th>\n      <td>middle_aged</td>\n      <td>high</td>\n      <td>yes</td>\n      <td>fair</td>\n      <td>yes</td>\n    </tr>\n    <tr>\n      <th>13</th>\n      <td>senior</td>\n      <td>medium</td>\n      <td>no</td>\n      <td>excellent</td>\n      <td>no</td>\n    </tr>\n  </tbody>\n</table>\n</div>"
     },
     "metadata": {},
     "execution_count": 2
    }
   ],
   "source": [
    "df"
   ]
  },
  {
   "cell_type": "code",
   "execution_count": 5,
   "metadata": {},
   "outputs": [],
   "source": [
    "import math\n",
    "def getEntropy(df, feature) :\n",
    "\n",
    "    unique = list(df[feature].unique()) # df[feature]에 존재하는 값들 list로 받아오기\n",
    "    entropy = 0\n",
    "\n",
    "    for i in range(len(unique)):\n",
    "        #unique list 통해 yes/no 일 때의 p 저장\n",
    "        p = len(df[df[feature].str.contains(unique[i])])/len(df[feature])\n",
    "        \n",
    "        #entropy 공식 -> p, log2(p)의 값들을 곱한 것의 합 for 문 돌면서 빼주기\n",
    "        entropy = entropy - p*math.log(p,2)\n",
    "    return(entropy)"
   ]
  },
  {
   "cell_type": "code",
   "execution_count": 6,
   "metadata": {},
   "outputs": [
    {
     "output_type": "execute_result",
     "data": {
      "text/plain": [
       "0.9402859586706309"
      ]
     },
     "metadata": {},
     "execution_count": 6
    }
   ],
   "source": [
    "getEntropy(df, \"class_buys_computer\")"
   ]
  },
  {
   "cell_type": "code",
   "execution_count": 24,
   "metadata": {},
   "outputs": [],
   "source": [
    "def getGainA(df, feature) :\n",
    "    info_D = getEntropy(df, feature) # 목표변수에 대한 Entropy 를 구하기\n",
    "    columns = list(df.loc[:, df.columns != feature]) # 목표변수(feature)를 제외한 나머지 변수들의 변수명을 리스트 형태로 저장\n",
    "    result = []\n",
    "    ''' \n",
    "    채우세요!\n",
    "    데이터프레임 df에서 feature을 목표변수로 삼고 나머지 각 변수들의 Gain을 구하는 함수입니다.\n",
    "    결과는 List여도 좋고 Dictionary 여도 좋습니다.\n",
    "    미리 주어진 2줄은 문제풀이에 도움을 주기 위해 주어졌으나, 무시하고 각자 원하는 방법으로 풀으셔도 전혀 무방합니다.\n",
    "    '''\n",
    "    gain = []\n",
    "    for i in columns:\n",
    "        info_Dnew = 0\n",
    "        unique = list(df[i].unique()) #column의 unique 값들 list에 저장\n",
    "\n",
    "        for j in range(len(unique)):\n",
    "            new = df.loc[df[i] == unique[j]] #해당 값들 가지는 것 저장\n",
    "\n",
    "            #entropy 함수 -> 각각의 entropy 계산, 확률에 곱한 것 더하기\n",
    "            info_Dnew += (len(new[i])/len(df[i])) *(getEntropy(new, feature))\n",
    "        \n",
    "        #info_D-info_Dnew subtraction 통해 gain 계산\n",
    "        newgain = info_D - info_Dnew\n",
    "    \n",
    "        result.append(i +': '+ str(newgain))\n",
    "    return(result)"
   ]
  },
  {
   "cell_type": "code",
   "execution_count": 25,
   "metadata": {},
   "outputs": [
    {
     "output_type": "execute_result",
     "data": {
      "text/plain": [
       "['age: 0.2467498197744391',\n",
       " 'income: 0.029222565658954647',\n",
       " 'student: 0.15183550136234136',\n",
       " 'credit_rating: 0.04812703040826927']"
      ]
     },
     "metadata": {},
     "execution_count": 25
    }
   ],
   "source": [
    "getGainA(df, \"class_buys_computer\")"
   ]
  },
  {
   "cell_type": "code",
   "execution_count": null,
   "metadata": {},
   "outputs": [],
   "source": []
  }
 ],
 "metadata": {
  "kernelspec": {
   "display_name": "Python 3",
   "language": "python",
   "name": "python3"
  },
  "language_info": {
   "codemirror_mode": {
    "name": "ipython",
    "version": 3
   },
   "file_extension": ".py",
   "mimetype": "text/x-python",
   "name": "python",
   "nbconvert_exporter": "python",
   "pygments_lexer": "ipython3",
   "version": "3.8.5-final"
  }
 },
 "nbformat": 4,
 "nbformat_minor": 4
}
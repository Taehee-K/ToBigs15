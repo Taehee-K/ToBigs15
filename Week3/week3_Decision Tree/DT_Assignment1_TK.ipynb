{
 "cells": [
  {
   "cell_type": "markdown",
   "metadata": {},
   "source": [
    "# DT Assignment1"
   ]
  },
  {
   "cell_type": "markdown",
   "metadata": {},
   "source": [
    "# Data Loading"
   ]
  },
  {
   "cell_type": "code",
   "execution_count": 25,
   "metadata": {},
   "outputs": [],
   "source": [
    "import pandas as pd \n",
    "import numpy as np"
   ]
  },
  {
   "cell_type": "code",
   "execution_count": 26,
   "metadata": {},
   "outputs": [
    {
     "output_type": "execute_result",
     "data": {
      "text/plain": [
       "            age  income student credit_rating class_buys_computer\n",
       "0         youth    high      no          fair                  no\n",
       "1         youth    high      no     excellent                  no\n",
       "2   middle_aged    high      no          fair                 yes\n",
       "3        senior  medium      no          fair                 yes\n",
       "4        senior     low     yes          fair                 yes\n",
       "5        senior     low     yes     excellent                  no\n",
       "6   middle_aged     low     yes     excellent                 yes\n",
       "7         youth  medium      no          fair                  no\n",
       "8         youth     low     yes          fair                 yes\n",
       "9        senior  medium     yes          fair                 yes\n",
       "10        youth  medium     yes     excellent                 yes\n",
       "11  middle_aged  medium      no     excellent                 yes\n",
       "12  middle_aged    high     yes          fair                 yes\n",
       "13       senior  medium      no     excellent                  no"
      ],
      "text/html": "<div>\n<style scoped>\n    .dataframe tbody tr th:only-of-type {\n        vertical-align: middle;\n    }\n\n    .dataframe tbody tr th {\n        vertical-align: top;\n    }\n\n    .dataframe thead th {\n        text-align: right;\n    }\n</style>\n<table border=\"1\" class=\"dataframe\">\n  <thead>\n    <tr style=\"text-align: right;\">\n      <th></th>\n      <th>age</th>\n      <th>income</th>\n      <th>student</th>\n      <th>credit_rating</th>\n      <th>class_buys_computer</th>\n    </tr>\n  </thead>\n  <tbody>\n    <tr>\n      <th>0</th>\n      <td>youth</td>\n      <td>high</td>\n      <td>no</td>\n      <td>fair</td>\n      <td>no</td>\n    </tr>\n    <tr>\n      <th>1</th>\n      <td>youth</td>\n      <td>high</td>\n      <td>no</td>\n      <td>excellent</td>\n      <td>no</td>\n    </tr>\n    <tr>\n      <th>2</th>\n      <td>middle_aged</td>\n      <td>high</td>\n      <td>no</td>\n      <td>fair</td>\n      <td>yes</td>\n    </tr>\n    <tr>\n      <th>3</th>\n      <td>senior</td>\n      <td>medium</td>\n      <td>no</td>\n      <td>fair</td>\n      <td>yes</td>\n    </tr>\n    <tr>\n      <th>4</th>\n      <td>senior</td>\n      <td>low</td>\n      <td>yes</td>\n      <td>fair</td>\n      <td>yes</td>\n    </tr>\n    <tr>\n      <th>5</th>\n      <td>senior</td>\n      <td>low</td>\n      <td>yes</td>\n      <td>excellent</td>\n      <td>no</td>\n    </tr>\n    <tr>\n      <th>6</th>\n      <td>middle_aged</td>\n      <td>low</td>\n      <td>yes</td>\n      <td>excellent</td>\n      <td>yes</td>\n    </tr>\n    <tr>\n      <th>7</th>\n      <td>youth</td>\n      <td>medium</td>\n      <td>no</td>\n      <td>fair</td>\n      <td>no</td>\n    </tr>\n    <tr>\n      <th>8</th>\n      <td>youth</td>\n      <td>low</td>\n      <td>yes</td>\n      <td>fair</td>\n      <td>yes</td>\n    </tr>\n    <tr>\n      <th>9</th>\n      <td>senior</td>\n      <td>medium</td>\n      <td>yes</td>\n      <td>fair</td>\n      <td>yes</td>\n    </tr>\n    <tr>\n      <th>10</th>\n      <td>youth</td>\n      <td>medium</td>\n      <td>yes</td>\n      <td>excellent</td>\n      <td>yes</td>\n    </tr>\n    <tr>\n      <th>11</th>\n      <td>middle_aged</td>\n      <td>medium</td>\n      <td>no</td>\n      <td>excellent</td>\n      <td>yes</td>\n    </tr>\n    <tr>\n      <th>12</th>\n      <td>middle_aged</td>\n      <td>high</td>\n      <td>yes</td>\n      <td>fair</td>\n      <td>yes</td>\n    </tr>\n    <tr>\n      <th>13</th>\n      <td>senior</td>\n      <td>medium</td>\n      <td>no</td>\n      <td>excellent</td>\n      <td>no</td>\n    </tr>\n  </tbody>\n</table>\n</div>"
     },
     "metadata": {},
     "execution_count": 26
    }
   ],
   "source": [
    "pd_data = pd.read_csv('https://raw.githubusercontent.com/AugustLONG/ML01/master/01decisiontree/AllElectronics.csv')\n",
    "pd_data.drop(\"RID\",axis=1, inplace = True) #RID는 그냥 순서라서 삭제\n",
    "pd_data"
   ]
  },
  {
   "cell_type": "markdown",
   "metadata": {},
   "source": [
    "# 1. Gini 계수를 구하는 함수 만들기"
   ]
  },
  {
   "cell_type": "markdown",
   "metadata": {},
   "source": [
    "- Input: df(데이터), label(타겟변수명)\n",
    "- 해당 결과는 아래와 같이 나와야 합니다."
   ]
  },
  {
   "cell_type": "code",
   "execution_count": 96,
   "metadata": {},
   "outputs": [],
   "source": [
    "# gini index: 변수의 값이 yes일때와 no일 때의 확률을 제곱의 차를 통해 구할 수 있다\n",
    "def get_gini(df, label):\n",
    "    if len(df)==0:\n",
    "        gini = 1\n",
    "    else: \n",
    "        yes = sum(df[label]=='yes') / len(df)\n",
    "        no = sum(df[label]=='no') / len(df)\n",
    "        gini = 1 - (yes)**2 - (no)**2\n",
    "    \n",
    "    return gini    "
   ]
  },
  {
   "cell_type": "code",
   "execution_count": 97,
   "metadata": {},
   "outputs": [
    {
     "output_type": "execute_result",
     "data": {
      "text/plain": [
       "0.4591836734693877"
      ]
     },
     "metadata": {},
     "execution_count": 97
    }
   ],
   "source": [
    "get_gini(pd_data,'class_buys_computer')"
   ]
  },
  {
   "cell_type": "markdown",
   "metadata": {},
   "source": [
    "# 2. Feature의 Class를 이진 분류로 만들기\n",
    " ## ex) {A,B,C} -> ({A}, {B,C}), ({B}, {A,C}), ({C}, {A,B})"
   ]
  },
  {
   "cell_type": "markdown",
   "metadata": {},
   "source": [
    "- Input: df(데이터), attribute(Gini index를 구하고자 하는 변수명)\n",
    "- 해당 결과는 아래와 같이 나와야 합니다."
   ]
  },
  {
   "cell_type": "code",
   "execution_count": 98,
   "metadata": {},
   "outputs": [],
   "source": [
    "import itertools \n",
    "def get_binary_split(df, attribute):\n",
    "    unique = list(df[attribute].unique()) #unique 한 값들 list에 저장\n",
    "    double = list(itertools.combinations(unique,2)) #itertools 사용해 2개의 combinations들 double list에 저장\n",
    "    \n",
    "    result = [] #결과 저장할 list\n",
    "    for uni in unique:\n",
    "        result.append([uni])\n",
    "    for i in range(len(double)):\n",
    "        result.append(list(double[i])) # 값 하나마다 list 추가\n",
    "\n",
    "    return result"
   ]
  },
  {
   "cell_type": "code",
   "execution_count": 99,
   "metadata": {},
   "outputs": [
    {
     "output_type": "execute_result",
     "data": {
      "text/plain": [
       "[['youth'],\n",
       " ['middle_aged'],\n",
       " ['senior'],\n",
       " ['youth', 'middle_aged'],\n",
       " ['youth', 'senior'],\n",
       " ['middle_aged', 'senior']]"
      ]
     },
     "metadata": {},
     "execution_count": 99
    }
   ],
   "source": [
    "get_binary_split(pd_data,\"age\")"
   ]
  },
  {
   "cell_type": "markdown",
   "metadata": {},
   "source": [
    "# 3. 다음은 모든 이진분류의 경우의 Gini index를 구하는 함수 만들기\n",
    "- 위에서 완성한 두 함수를 사용하여 만들어주세요!\n",
    "- 해당 결과는 아래와 같이 나와야 합니다."
   ]
  },
  {
   "cell_type": "code",
   "execution_count": 100,
   "metadata": {},
   "outputs": [],
   "source": [
    "def get_attribute_gini_index(df, attribute, label):\n",
    "        #binary_split() 함수로부터 split한 변수들 list로 받기\n",
    "        binary_split = get_binary_split(df, attribute) \n",
    "        result = {} #결과값의 형태에 맞추어 result 저장할 dictionary 생성\n",
    "        true_df = pd.DataFrame()\n",
    "        false_df = pd.DataFrame()\n",
    "\n",
    "        #모든 이진분류에 대해 gini index \n",
    "        for i in binary_split:\n",
    "                true = df[attribute].isin(i)#attribute와  binary split 한 것과 일치할 때\n",
    "                true_df = df[true] #dataframe에 저장\n",
    "                false = ~df[attribute].isin(i)#attribute와 binary split 한 값과 일치하지 않을 때\n",
    "                false_df = df[false]\n",
    "\n",
    "                #get_gini()함수를 통해 이진분류의 gini index 구하기\n",
    "                gini = (len(true_df)/len(df))*get_gini(true_df, label) + (len(false_df)/len(df))*get_gini(false_df, label) \n",
    "\n",
    "                #tuple 형태의 key 값 str.join() 활용해 string으로 변환\n",
    "                #각 binary_split에 해당하는 gini index result dictionary에 저장\n",
    "                result[''.join(tuple(i))] = gini\n",
    "\n",
    "        return result"
   ]
  },
  {
   "cell_type": "code",
   "execution_count": 101,
   "metadata": {},
   "outputs": [
    {
     "output_type": "execute_result",
     "data": {
      "text/plain": [
       "{'youth': 0.3936507936507937,\n",
       " 'middle_aged': 0.35714285714285715,\n",
       " 'senior': 0.4571428571428572,\n",
       " 'youthmiddle_aged': 0.4571428571428572,\n",
       " 'youthsenior': 0.35714285714285715,\n",
       " 'middle_agedsenior': 0.3936507936507937}"
      ]
     },
     "metadata": {},
     "execution_count": 101
    }
   ],
   "source": [
    "get_attribute_gini_index(pd_data, \"age\", \"class_buys_computer\")"
   ]
  },
  {
   "cell_type": "markdown",
   "metadata": {},
   "source": [
    "여기서 가장 작은 Gini index값을 가지는 class를 기준으로 split해야겠죠?"
   ]
  },
  {
   "cell_type": "code",
   "execution_count": 102,
   "metadata": {},
   "outputs": [
    {
     "output_type": "execute_result",
     "data": {
      "text/plain": [
       "('middle_aged', 0.35714285714285715)"
      ]
     },
     "metadata": {},
     "execution_count": 102
    }
   ],
   "source": [
    "min(get_attribute_gini_index(pd_data, \"age\", \"class_buys_computer\").items())"
   ]
  },
  {
   "cell_type": "markdown",
   "metadata": {},
   "source": [
    "# 다음의 문제를 위에서 작성한 함수를 통해 구한 값으로 보여주세요!\n",
    "## 문제1) 변수 ‘income’의 이진분류 결과를 보여주세요.\n",
    "\n",
    "## 문제2) 분류를 하는 데 가장 중요한 변수를 선정하고, 해당 변수의 Gini index를 제시해주세요.\n",
    "\n",
    "## 문제3) 문제 2에서 제시한 feature로 DataFrame을 split한 후 나눠진 2개의 DataFrame에서 각각   다음으로 중요한 변수를 선정하고 해당 변수의 Gini index를 제시해주세요."
   ]
  },
  {
   "cell_type": "code",
   "execution_count": 103,
   "metadata": {},
   "outputs": [
    {
     "output_type": "execute_result",
     "data": {
      "text/plain": [
       "[['high'],\n",
       " ['medium'],\n",
       " ['low'],\n",
       " ['high', 'medium'],\n",
       " ['high', 'low'],\n",
       " ['medium', 'low']]"
      ]
     },
     "metadata": {},
     "execution_count": 103
    }
   ],
   "source": [
    "##문제1 답안\n",
    "get_binary_split(pd_data, 'income')"
   ]
  },
  {
   "cell_type": "code",
   "execution_count": 108,
   "metadata": {},
   "outputs": [
    {
     "output_type": "execute_result",
     "data": {
      "text/plain": [
       "['age', 'income', 'student', 'credit_rating']"
      ]
     },
     "metadata": {},
     "execution_count": 108
    }
   ],
   "source": [
    "##문제2 답안\n",
    "# 분류를 하는데 있어 가장 중요한 변수 -> 모든 변수들의 gini index 확인한 것의 min 값들 비교 \n",
    "feature = list(pd_data.columns)\n",
    "del feature[-1]\n",
    "feature"
   ]
  },
  {
   "cell_type": "code",
   "execution_count": 110,
   "metadata": {},
   "outputs": [
    {
     "output_type": "stream",
     "name": "stdout",
     "text": [
      "age ('middle_aged', 0.35714285714285715)\nincome ('high', 0.4428571428571429)\nstudent ('no', 0.3673469387755103)\ncredit_rating ('excellent', 0.42857142857142855)\n"
     ]
    }
   ],
   "source": [
    "#각 feature 별로 minimum gini index 찾아서 비교\n",
    "for i in feature:\n",
    "    print(i, min(get_attribute_gini_index(pd_data, i, \"class_buys_computer\").items()))\n",
    "\n",
    "#4개의 feature 중 'age'의 minimum gini index가 가장 작으므로 가장 중요한 feature는 'age'이다\n",
    "#age의 gini index: 'middle_aged', 0.35714285714285715"
   ]
  },
  {
   "cell_type": "code",
   "execution_count": 91,
   "metadata": {},
   "outputs": [],
   "source": [
    "##문제3 답안\n",
    "# age 변수 중 middle aged 가 minimum gini index를 가져 주요 변수로 선정\n",
    "\n"
   ]
  },
  {
   "cell_type": "code",
   "execution_count": null,
   "metadata": {},
   "outputs": [],
   "source": []
  }
 ],
 "metadata": {
  "kernelspec": {
   "display_name": "Python 3",
   "language": "python",
   "name": "python3"
  },
  "language_info": {
   "codemirror_mode": {
    "name": "ipython",
    "version": 3
   },
   "file_extension": ".py",
   "mimetype": "text/x-python",
   "name": "python",
   "nbconvert_exporter": "python",
   "pygments_lexer": "ipython3",
   "version": "3.8.5-final"
  }
 },
 "nbformat": 4,
 "nbformat_minor": 4
}
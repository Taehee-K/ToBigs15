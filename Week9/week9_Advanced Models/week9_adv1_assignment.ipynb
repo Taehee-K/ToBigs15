{
  "nbformat": 4,
  "nbformat_minor": 0,
  "metadata": {
    "kernelspec": {
      "display_name": "Python 3",
      "language": "python",
      "name": "python3"
    },
    "language_info": {
      "codemirror_mode": {
        "name": "ipython",
        "version": 3
      },
      "file_extension": ".py",
      "mimetype": "text/x-python",
      "name": "python",
      "nbconvert_exporter": "python",
      "pygments_lexer": "ipython3",
      "version": "3.7.1"
    },
    "colab": {
      "name": "week9_adv1_assignment.ipynb",
      "provenance": [],
      "collapsed_sections": [
        "IchWiK1ZFQ0X"
      ],
      "include_colab_link": true
    },
    "accelerator": "GPU"
  },
  "cells": [
    {
      "cell_type": "markdown",
      "metadata": {
        "id": "view-in-github",
        "colab_type": "text"
      },
      "source": [
        "<a href=\"https://colab.research.google.com/github/Taehee-K/ToBigs15/blob/main/Week9/week9_Advanced%20Models/week9_adv1_assignment.ipynb\" target=\"_parent\"><img src=\"https://colab.research.google.com/assets/colab-badge.svg\" alt=\"Open In Colab\"/></a>"
      ]
    },
    {
      "cell_type": "markdown",
      "metadata": {
        "id": "ytaWF9tLFQ0T"
      },
      "source": [
        "# Week 9 과제 1"
      ]
    },
    {
      "cell_type": "markdown",
      "metadata": {
        "id": "Btozx60gSkCX"
      },
      "source": [
        "**잎 사진을 통한 질병 분류**\n",
        "\n",
        "*   데이터: 21개의 클래스로 구분된 약 20000장의 이미지\n",
        "><img src=\"https://drive.google.com/uc?id=1YQkxnNy61Gyi3Gp6ylCKeS72BVruJXr_\" width=\"700\" height=\"500\"> \n",
        "*   데이터 전처리\n",
        "    *   전체 데이터를 train,validation,test로 분할해주세요\n",
        "    *   저는 6:2:2로 분할했는데, 비율은 바꾸셔도 무방합니다.\n",
        "   \n",
        "    \n",
        "*   학습 진행 방향\n",
        "    *   Baseline 모델(pre-trained model 사용X) 구축\n",
        "    *   Pre-trained 모델 사용\n",
        "    *   Baseline과 ResNet50 모델의 성능을 비교해주세요 ~!"
      ]
    },
    {
      "cell_type": "code",
      "metadata": {
        "id": "LSXsUPLeJYmh",
        "colab": {
          "base_uri": "https://localhost:8080/"
        },
        "outputId": "d2da1e4b-ab17-4a2e-b55a-ecc537576103"
      },
      "source": [
        "# gdrive에 mount\n",
        "from google.colab import drive\n",
        "drive.mount('/content/gdrive', force_remount = True)"
      ],
      "execution_count": 2,
      "outputs": [
        {
          "output_type": "stream",
          "text": [
            "Mounted at /content/gdrive\n"
          ],
          "name": "stdout"
        }
      ]
    },
    {
      "cell_type": "code",
      "metadata": {
        "id": "Cj2ZgGlOZAxS"
      },
      "source": [
        "# 경로 설정\n",
        "import os\n",
        "os.chdir('/content/gdrive/MyDrive/2021/투빅스 정규세션/Week9')"
      ],
      "execution_count": 3,
      "outputs": []
    },
    {
      "cell_type": "markdown",
      "metadata": {
        "id": "IchWiK1ZFQ0X"
      },
      "source": [
        "## 0. 데이터 분할"
      ]
    },
    {
      "cell_type": "markdown",
      "metadata": {
        "id": "9jEtmXkaFQ0Z"
      },
      "source": [
        "* 데이터 분할을 위한 디렉토리 생성"
      ]
    },
    {
      "cell_type": "code",
      "metadata": {
        "id": "8fG-dk2dFQ0Z"
      },
      "source": [
        "import os\n",
        "import shutil\n",
        " \n",
        "original_dataset_dir = './plant_leaf'   \n",
        "classes_list = os.listdir(original_dataset_dir) \n",
        " \n",
        "base_dir = './splitted' \n",
        "os.mkdir(base_dir)\n",
        " \n",
        "train_dir = os.path.join(base_dir, 'train') \n",
        "os.mkdir(train_dir)\n",
        "validation_dir = os.path.join(base_dir, 'val')\n",
        "os.mkdir(validation_dir)\n",
        "test_dir = os.path.join(base_dir, 'test')\n",
        "os.mkdir(test_dir)\n",
        "\n",
        "for cls in classes_list:     \n",
        "    os.mkdir(os.path.join(train_dir, cls))\n",
        "    os.mkdir(os.path.join(validation_dir, cls))\n",
        "    os.mkdir(os.path.join(test_dir, cls))"
      ],
      "execution_count": null,
      "outputs": []
    },
    {
      "cell_type": "markdown",
      "metadata": {
        "id": "4oQyurQ6FQ0a"
      },
      "source": [
        "* 데이터 분할과 클래스별 데이터 수 확인"
      ]
    },
    {
      "cell_type": "code",
      "metadata": {
        "id": "g1nrkw0nFQ0b",
        "colab": {
          "base_uri": "https://localhost:8080/"
        },
        "outputId": "2ad7fe78-9b91-4b33-99ff-a557b8f2ff99"
      },
      "source": [
        "import math\n",
        " \n",
        "for cls in classes_list:\n",
        "    path = os.path.join(original_dataset_dir, cls)\n",
        "    fnames = os.listdir(path)\n",
        " \n",
        "    train_size = math.floor(len(fnames) * 0.6)\n",
        "    validation_size = math.floor(len(fnames) * 0.2)\n",
        "    test_size = math.floor(len(fnames) * 0.2)\n",
        "    \n",
        "    train_fnames = fnames[:train_size]\n",
        "    print(\"Train size(\",cls,\"): \", len(train_fnames))\n",
        "    for fname in train_fnames:\n",
        "        src = os.path.join(path, fname)\n",
        "        dst = os.path.join(os.path.join(train_dir, cls), fname)\n",
        "        shutil.copyfile(src, dst)\n",
        "        \n",
        "    validation_fnames = fnames[train_size:(validation_size + train_size)]\n",
        "    print(\"Validation size(\",cls,\"): \", len(validation_fnames))\n",
        "    for fname in validation_fnames:\n",
        "        src = os.path.join(path, fname)\n",
        "        dst = os.path.join(os.path.join(validation_dir, cls), fname)\n",
        "        shutil.copyfile(src, dst)\n",
        "        \n",
        "    test_fnames = fnames[(train_size+validation_size):(validation_size + train_size +test_size)]\n",
        "\n",
        "    print(\"Test size(\",cls,\"): \", len(test_fnames))\n",
        "    for fname in test_fnames:\n",
        "        src = os.path.join(path, fname)\n",
        "        dst = os.path.join(os.path.join(test_dir, cls), fname)\n",
        "        shutil.copyfile(src, dst)\n"
      ],
      "execution_count": null,
      "outputs": [
        {
          "output_type": "stream",
          "text": [
            "Train size( Apple___Cedar_apple_rust ):  165\n",
            "Validation size( Apple___Cedar_apple_rust ):  55\n",
            "Test size( Apple___Cedar_apple_rust ):  55\n",
            "Train size( Cherry___Powdery_mildew ):  631\n",
            "Validation size( Cherry___Powdery_mildew ):  210\n",
            "Test size( Cherry___Powdery_mildew ):  210\n",
            "Train size( Corn___healthy ):  697\n",
            "Validation size( Corn___healthy ):  232\n",
            "Test size( Corn___healthy ):  232\n",
            "Train size( Corn___Northern_Leaf_Blight ):  591\n",
            "Validation size( Corn___Northern_Leaf_Blight ):  197\n",
            "Test size( Corn___Northern_Leaf_Blight ):  197\n",
            "Train size( Corn___Common_rust ):  715\n",
            "Validation size( Corn___Common_rust ):  238\n",
            "Test size( Corn___Common_rust ):  238\n",
            "Train size( Cherry___healthy ):  512\n",
            "Validation size( Cherry___healthy ):  170\n",
            "Test size( Cherry___healthy ):  170\n",
            "Train size( Apple___Black_rot ):  372\n",
            "Validation size( Apple___Black_rot ):  124\n",
            "Test size( Apple___Black_rot ):  124\n",
            "Train size( Apple___Apple_scab ):  378\n",
            "Validation size( Apple___Apple_scab ):  126\n",
            "Test size( Apple___Apple_scab ):  126\n",
            "Train size( Apple___healthy ):  987\n",
            "Validation size( Apple___healthy ):  329\n",
            "Test size( Apple___healthy ):  329\n",
            "Train size( Corn___Cercospora_leaf_spot Gray_leaf_spot ):  307\n",
            "Validation size( Corn___Cercospora_leaf_spot Gray_leaf_spot ):  102\n",
            "Test size( Corn___Cercospora_leaf_spot Gray_leaf_spot ):  102\n",
            "Train size( Potato___healthy ):  91\n",
            "Validation size( Potato___healthy ):  30\n",
            "Test size( Potato___healthy ):  30\n",
            "Train size( Pepper,_bell___Bacterial_spot ):  598\n",
            "Validation size( Pepper,_bell___Bacterial_spot ):  199\n",
            "Test size( Pepper,_bell___Bacterial_spot ):  199\n",
            "Train size( Potato___Early_blight ):  600\n",
            "Validation size( Potato___Early_blight ):  200\n",
            "Test size( Potato___Early_blight ):  200\n",
            "Train size( Strawberry___healthy ):  273\n",
            "Validation size( Strawberry___healthy ):  91\n",
            "Test size( Strawberry___healthy ):  91\n",
            "Train size( Pepper,_bell___healthy ):  886\n",
            "Validation size( Pepper,_bell___healthy ):  295\n",
            "Test size( Pepper,_bell___healthy ):  295\n",
            "Train size( Grape___Leaf_blight_(Isariopsis_Leaf_Spot) ):  645\n",
            "Validation size( Grape___Leaf_blight_(Isariopsis_Leaf_Spot) ):  215\n",
            "Test size( Grape___Leaf_blight_(Isariopsis_Leaf_Spot) ):  215\n",
            "Train size( Potato___Late_blight ):  600\n",
            "Validation size( Potato___Late_blight ):  200\n",
            "Test size( Potato___Late_blight ):  200\n",
            "Train size( Grape___healthy ):  253\n",
            "Validation size( Grape___healthy ):  84\n",
            "Test size( Grape___healthy ):  84\n",
            "Train size( Grape___Black_rot ):  708\n",
            "Validation size( Grape___Black_rot ):  236\n",
            "Test size( Grape___Black_rot ):  236\n",
            "Train size( Grape___Esca_(Black_Measles) ):  829\n",
            "Validation size( Grape___Esca_(Black_Measles) ):  276\n",
            "Test size( Grape___Esca_(Black_Measles) ):  276\n",
            "Train size( Strawberry___Leaf_scorch ):  665\n",
            "Validation size( Strawberry___Leaf_scorch ):  221\n",
            "Test size( Strawberry___Leaf_scorch ):  221\n"
          ],
          "name": "stdout"
        }
      ]
    },
    {
      "cell_type": "markdown",
      "metadata": {
        "id": "PZDnksn0FQ0c"
      },
      "source": [
        "## 1. 베이스라인 모델을 구축해 주세요\n",
        "* Pre-Trained Model을 사용하지 않고 직접 모델을 구축해 주세요 !\n"
      ]
    },
    {
      "cell_type": "code",
      "metadata": {
        "colab": {
          "base_uri": "https://localhost:8080/"
        },
        "id": "KaWakNyTutU0",
        "outputId": "32083f95-1597-4d63-80a0-bd2d2bb78330"
      },
      "source": [
        "original_dataset_dir = './plant_leaf' \n",
        "classes_list = os.listdir(original_dataset_dir) \n",
        "len(classes_list)"
      ],
      "execution_count": 4,
      "outputs": [
        {
          "output_type": "execute_result",
          "data": {
            "text/plain": [
              "21"
            ]
          },
          "metadata": {
            "tags": []
          },
          "execution_count": 4
        }
      ]
    },
    {
      "cell_type": "code",
      "metadata": {
        "id": "Cm7kPbfsFQ0d",
        "colab": {
          "base_uri": "https://localhost:8080/"
        },
        "outputId": "c40d7042-74be-487c-b6fa-08ad2522327b"
      },
      "source": [
        "import torch\n",
        "import os\n",
        " \n",
        "if torch.cuda.is_available():\n",
        "  DEVICE = torch.device('cuda')\n",
        "else:\n",
        "  DEVICE = torch.device('cpu')\n",
        "BATCH_SIZE = 256 \n",
        "EPOCH = 30 \n",
        "\n",
        "print(DEVICE)"
      ],
      "execution_count": 6,
      "outputs": [
        {
          "output_type": "stream",
          "text": [
            "cuda\n"
          ],
          "name": "stdout"
        }
      ]
    },
    {
      "cell_type": "code",
      "metadata": {
        "id": "Hl_j5EzoFQ0d"
      },
      "source": [
        "import torchvision.transforms as transforms\n",
        "from torchvision.datasets import ImageFolder \n",
        " \n",
        "transform_base = transforms.Compose([transforms.Resize((64,64)),transforms.ToTensor()]) \n",
        "train_dataset = ImageFolder(root='./splitted/train', transform=transform_base) \n",
        "val_dataset = ImageFolder(root='./splitted/val', transform=transform_base)"
      ],
      "execution_count": 8,
      "outputs": []
    },
    {
      "cell_type": "code",
      "metadata": {
        "id": "djFeShktFQ0d",
        "colab": {
          "base_uri": "https://localhost:8080/"
        },
        "outputId": "2bc0bb08-4197-4f33-d4c4-c10d3d549571"
      },
      "source": [
        "from torch.utils.data import DataLoader\n",
        "\n",
        "train_loader = torch.utils.data.DataLoader(train_dataset, batch_size=BATCH_SIZE, shuffle=True, num_workers=4)\n",
        "val_loader = torch.utils.data.DataLoader(val_dataset,batch_size=BATCH_SIZE, shuffle=True, num_workers=4)"
      ],
      "execution_count": 9,
      "outputs": [
        {
          "output_type": "stream",
          "text": [
            "/usr/local/lib/python3.7/dist-packages/torch/utils/data/dataloader.py:477: UserWarning: This DataLoader will create 4 worker processes in total. Our suggested max number of worker in current system is 2, which is smaller than what this DataLoader is going to create. Please be aware that excessive worker creation might get DataLoader running slow or even freeze, lower the worker number to avoid potential slowness/freeze if necessary.\n",
            "  cpuset_checked))\n"
          ],
          "name": "stderr"
        }
      ]
    },
    {
      "cell_type": "markdown",
      "metadata": {
        "id": "ZDEhzqZRFQ0e"
      },
      "source": [
        "* 베이스라인 모델 설계하기"
      ]
    },
    {
      "cell_type": "code",
      "metadata": {
        "id": "KJE-jG9UFQ0e"
      },
      "source": [
        "import torch.nn as nn \n",
        "import torch.nn.functional as F\n",
        "import torch.optim as optim\n",
        " \n",
        "class Net(nn.Module): # CNN모델 설계\n",
        "    def __init__(self): # 클래스 생성시 가지는 성질 정의하는 매서드\n",
        "        super(Net, self).__init__() # nn.Module 내의 매서드 상속\n",
        "        self.conv1 = nn.Conv2d( # 1st convolution layer\n",
        "            in_channels = 3,    # 컬러 이미지 rgb -> 채널 3개\n",
        "            out_channels = 8,   # 깊이 8인 feature map\n",
        "            kernel_size = 3,    # 3 x 3 filter\n",
        "            padding = 1)        # 가장자리 pixel까지 학습하도록 padding \n",
        "        self.conv2 = nn.Conv2d( # 1st convolution layer -> feature map과 convolution 하게 됨\n",
        "            in_channels = 8,    # 앞서 생성된 feature map의 채널 수와 동일\n",
        "            out_channels = 16,  # 깊이 16인 feature map 생성\n",
        "            kernel_size = 3,    # 3 x 3 filter\n",
        "            padding = 1)        # output size = input size 되게끔 padding\n",
        "        self.pool = nn.MaxPool2d(kernel_size = 2, stride = 2) # MaxPool2d -> 2차원 feature map 중 가장 큰 값 이용\n",
        "        self.fc1 = nn.Linear(16 * 16 * 16, 256)  # 1st fully connected layer\n",
        "        self.fc2 = nn.Linear(256, 64)  # 2nd fully connected layer\n",
        "        self.fc3 = nn.Linear(64, 21)  # 3rd fully connected layer -> output 21 개의 질병 분류\n",
        "    \n",
        "    def forward(self, x):   # CNN forward propagation\n",
        "        x = self.conv1(x)   # 첫 번째 convolution-> feature map 생성\n",
        "        x = F.relu(x)       # feature map에 relu (비선형)\n",
        "        x = self.pool(x)    # maxpooling -> feature map downsampling\n",
        "        x = self.conv2(x)   # 두 번째 convolution -> feature map 생성\n",
        "        x = F.relu(x)       # feature map -> relu 적용\n",
        "        x = self.pool(x)    # maxpooling\n",
        "\n",
        "        x = x.view(-1, 16 * 16 * 16)  # 최종 생성된 feature map 1차원 데이터로\n",
        "        x = self.fc1(x)     # 첫 번째 fully connected layer 적용\n",
        "        x = F.relu(x)       # relu 적용\n",
        "        x = self.fc2(x)     # 두 번재 fully connected layer 적용\n",
        "        x = F.relu(x)       # relu 적용\n",
        "        x = self.fc3(x)     # 세 번째 fully connected layer 적용\n",
        "\n",
        "        return F.log_softmax(x, dim=1)  # softmax 통해 최종 output 계산 \n",
        "\n",
        "model_base = Net().to(DEVICE)  \n",
        "optimizer = optim.Adam(model_base.parameters(), lr=0.001) "
      ],
      "execution_count": 10,
      "outputs": []
    },
    {
      "cell_type": "markdown",
      "metadata": {
        "id": "LowbXUGKFQ0e"
      },
      "source": [
        "* 모델 학습을 위한 함수\n",
        "* 모델 학습, 평가를 위한 가이드라인 코드입니다. 꼭 이 코드를 사용하지는 않으셔도 됩니다 !!"
      ]
    },
    {
      "cell_type": "code",
      "metadata": {
        "id": "2GL1mNqzFQ0f"
      },
      "source": [
        "def train(model, train_loader, optimizer):\n",
        "    model.train() # 앞서 정의한 모델 train 상태로 \n",
        "    for batch_idx, (data, target) in enumerate(train_loader):\n",
        "        data, target = data.to(DEVICE), target.to(DEVICE) # 데이터, 타깃값 DEVICE에 할당\n",
        "        optimizer.zero_grad() # optimizer gradient 값 초기화\n",
        "        output = model(data)  # 할당된 데이터로 output 계산\n",
        "        loss = F.cross_entropy(output, target)  # loss 계산 (Cross Entropy Loss 사용했습니다)\n",
        "        loss.backward()   # 계산된 loss 값 back propagation\n",
        "        optimizer.step()  # update parameters"
      ],
      "execution_count": 11,
      "outputs": []
    },
    {
      "cell_type": "markdown",
      "metadata": {
        "id": "eqvOveaxFQ0f"
      },
      "source": [
        "* 모델 평가를 위한 함수"
      ]
    },
    {
      "cell_type": "code",
      "metadata": {
        "id": "Ncm8J6v4FQ0f"
      },
      "source": [
        "def evaluate(model, test_loader):\n",
        "    model.eval() # 모델 평가 상태로 \n",
        "    test_loss = 0 # test_loss 초기화\n",
        "    correct = 0   # 맞게 예측한 값 0으로 초기화 \n",
        "    \n",
        "    with torch.no_grad(): \n",
        "        for data, target in test_loader:  \n",
        "            data, target = data.to(DEVICE), target.to(DEVICE) # data, target DEVICE에 할당\n",
        "            output = model(data)  # 할당된 데이터로 output 계산\n",
        "\n",
        "            test_loss += F.cross_entropy(output,target, reduction='sum').item() # loss 계산(총 loss 에 더해주기)\n",
        "\n",
        "            pred = output.max(1, keepdim=True)[1] # 계산된 벡터값 (크기 21) 중 가장 큰 값 가지는 class 예측   \n",
        "            correct += pred.eq(target.view_as(pred)).sum().item() # 맞게 예측한 값 세기\n",
        "   \n",
        "    test_loss /= len(test_loader.dataset) # 평균 loss\n",
        "    test_accuracy = 100. * correct / len(test_loader.dataset) # test 데이터 정확도           \n",
        "                              \n",
        "    return test_loss, test_accuracy  "
      ],
      "execution_count": 12,
      "outputs": []
    },
    {
      "cell_type": "markdown",
      "metadata": {
        "id": "us-wigmEFQ0g"
      },
      "source": [
        "* 모델 학습을 실행하기"
      ]
    },
    {
      "cell_type": "code",
      "metadata": {
        "id": "J_hvkStsFQ0g",
        "colab": {
          "base_uri": "https://localhost:8080/"
        },
        "outputId": "422591bd-4bd3-4309-c8e0-f6ec24c805a9"
      },
      "source": [
        "import time\n",
        "import copy\n",
        " \n",
        "def train_baseline(model ,train_loader, val_loader, optimizer, num_epochs = 30):\n",
        "    best_acc = 0.0  # best_accuracy 초기화\n",
        "    best_model_wts = copy.deepcopy(model.state_dict()) \n",
        " \n",
        "    for epoch in range(1, num_epochs + 1):\n",
        "        since = time.time()                                   # 학습 시간 계산\n",
        "        train(model, train_loader, optimizer)                 # train 데이터로 학습\n",
        "        train_loss, train_acc = evaluate(model, train_loader) # train_loss, train_acc 계산\n",
        "        val_loss, val_acc = evaluate(model, val_loader)       # valid_loss, valid_acc 계산\n",
        "        \n",
        "        if val_acc>best_acc:  # best_accuracy 업데이트 해주기\n",
        "            best_acc = val_acc \n",
        "            best_model_wts = copy.deepcopy(model.state_dict())\n",
        "        \n",
        "        time_elapsed = time.time() - since # 학습 시간 출력\n",
        "        print('-------------- epoch {} ----------------'.format(epoch))\n",
        "        print('train Loss: {:.4f}, Accuracy: {:.2f}%'.format(train_loss, train_acc))   \n",
        "        print('val Loss: {:.4f}, Accuracy: {:.2f}%'.format(val_loss, val_acc))\n",
        "        print('Completed in {:.0f}m {:.0f}s'.format(time_elapsed // 60, time_elapsed % 60)) \n",
        "\n",
        "    model.load_state_dict(best_model_wts)  # best weights\n",
        "    return model\n",
        " \n",
        "\n",
        "base = train_baseline(model_base, train_loader, val_loader, optimizer)  # 모델 학습시키기\n",
        "torch.save(base,'baseline.pt') # 모델 저장\n",
        "# 최종적으로 train accuracy 93, validation accuracy 88 정도 나왔다"
      ],
      "execution_count": 30,
      "outputs": [
        {
          "output_type": "stream",
          "text": [
            "/usr/local/lib/python3.7/dist-packages/torch/utils/data/dataloader.py:477: UserWarning: This DataLoader will create 4 worker processes in total. Our suggested max number of worker in current system is 2, which is smaller than what this DataLoader is going to create. Please be aware that excessive worker creation might get DataLoader running slow or even freeze, lower the worker number to avoid potential slowness/freeze if necessary.\n",
            "  cpuset_checked))\n"
          ],
          "name": "stderr"
        },
        {
          "output_type": "stream",
          "text": [
            "-------------- epoch 1 ----------------\n",
            "train Loss: 1.9125, Accuracy: 40.00%\n",
            "val Loss: 1.9080, Accuracy: 39.48%\n",
            "Completed in 0m 59s\n",
            "-------------- epoch 2 ----------------\n",
            "train Loss: 1.3565, Accuracy: 55.01%\n",
            "val Loss: 1.3523, Accuracy: 54.88%\n",
            "Completed in 0m 58s\n",
            "-------------- epoch 3 ----------------\n",
            "train Loss: 1.1181, Accuracy: 64.10%\n",
            "val Loss: 1.1272, Accuracy: 63.92%\n",
            "Completed in 0m 59s\n",
            "-------------- epoch 4 ----------------\n",
            "train Loss: 0.9462, Accuracy: 68.66%\n",
            "val Loss: 0.9655, Accuracy: 68.72%\n",
            "Completed in 0m 59s\n",
            "-------------- epoch 5 ----------------\n",
            "train Loss: 0.8129, Accuracy: 72.52%\n",
            "val Loss: 0.8400, Accuracy: 72.38%\n",
            "Completed in 0m 60s\n",
            "-------------- epoch 6 ----------------\n",
            "train Loss: 0.7803, Accuracy: 73.92%\n",
            "val Loss: 0.8116, Accuracy: 72.82%\n",
            "Completed in 0m 59s\n",
            "-------------- epoch 7 ----------------\n",
            "train Loss: 0.6558, Accuracy: 78.15%\n",
            "val Loss: 0.7026, Accuracy: 76.42%\n",
            "Completed in 0m 59s\n",
            "-------------- epoch 8 ----------------\n",
            "train Loss: 0.5958, Accuracy: 80.03%\n",
            "val Loss: 0.6476, Accuracy: 78.07%\n",
            "Completed in 0m 58s\n",
            "-------------- epoch 9 ----------------\n",
            "train Loss: 0.5653, Accuracy: 81.42%\n",
            "val Loss: 0.6250, Accuracy: 79.63%\n",
            "Completed in 0m 59s\n",
            "-------------- epoch 10 ----------------\n",
            "train Loss: 0.5113, Accuracy: 82.87%\n",
            "val Loss: 0.5795, Accuracy: 80.47%\n",
            "Completed in 0m 59s\n",
            "-------------- epoch 11 ----------------\n",
            "train Loss: 0.5521, Accuracy: 80.58%\n",
            "val Loss: 0.6324, Accuracy: 77.68%\n",
            "Completed in 0m 59s\n",
            "-------------- epoch 12 ----------------\n",
            "train Loss: 0.4422, Accuracy: 85.41%\n",
            "val Loss: 0.5346, Accuracy: 81.88%\n",
            "Completed in 0m 59s\n",
            "-------------- epoch 13 ----------------\n",
            "train Loss: 0.4396, Accuracy: 84.59%\n",
            "val Loss: 0.5365, Accuracy: 81.17%\n",
            "Completed in 0m 59s\n",
            "-------------- epoch 14 ----------------\n",
            "train Loss: 0.4001, Accuracy: 86.78%\n",
            "val Loss: 0.4995, Accuracy: 82.90%\n",
            "Completed in 0m 59s\n",
            "-------------- epoch 15 ----------------\n",
            "train Loss: 0.3883, Accuracy: 86.94%\n",
            "val Loss: 0.4965, Accuracy: 83.29%\n",
            "Completed in 0m 59s\n",
            "-------------- epoch 16 ----------------\n",
            "train Loss: 0.4160, Accuracy: 84.70%\n",
            "val Loss: 0.5350, Accuracy: 80.99%\n",
            "Completed in 0m 59s\n",
            "-------------- epoch 17 ----------------\n",
            "train Loss: 0.3326, Accuracy: 89.03%\n",
            "val Loss: 0.4574, Accuracy: 84.46%\n",
            "Completed in 0m 59s\n",
            "-------------- epoch 18 ----------------\n",
            "train Loss: 0.3631, Accuracy: 87.10%\n",
            "val Loss: 0.4813, Accuracy: 82.82%\n",
            "Completed in 0m 59s\n",
            "-------------- epoch 19 ----------------\n",
            "train Loss: 0.3258, Accuracy: 88.52%\n",
            "val Loss: 0.4623, Accuracy: 84.13%\n",
            "Completed in 0m 60s\n",
            "-------------- epoch 20 ----------------\n",
            "train Loss: 0.2873, Accuracy: 90.49%\n",
            "val Loss: 0.4206, Accuracy: 86.08%\n",
            "Completed in 0m 60s\n",
            "-------------- epoch 21 ----------------\n",
            "train Loss: 0.2859, Accuracy: 90.12%\n",
            "val Loss: 0.4361, Accuracy: 85.07%\n",
            "Completed in 0m 59s\n",
            "-------------- epoch 22 ----------------\n",
            "train Loss: 0.3056, Accuracy: 89.38%\n",
            "val Loss: 0.4333, Accuracy: 84.83%\n",
            "Completed in 0m 60s\n",
            "-------------- epoch 23 ----------------\n",
            "train Loss: 0.2613, Accuracy: 90.86%\n",
            "val Loss: 0.4104, Accuracy: 85.69%\n",
            "Completed in 0m 59s\n",
            "-------------- epoch 24 ----------------\n",
            "train Loss: 0.2594, Accuracy: 90.87%\n",
            "val Loss: 0.4099, Accuracy: 85.43%\n",
            "Completed in 0m 60s\n",
            "-------------- epoch 25 ----------------\n",
            "train Loss: 0.2124, Accuracy: 93.00%\n",
            "val Loss: 0.3641, Accuracy: 87.60%\n",
            "Completed in 0m 60s\n",
            "-------------- epoch 26 ----------------\n",
            "train Loss: 0.2365, Accuracy: 91.98%\n",
            "val Loss: 0.3990, Accuracy: 86.34%\n",
            "Completed in 0m 60s\n",
            "-------------- epoch 27 ----------------\n",
            "train Loss: 0.2159, Accuracy: 92.26%\n",
            "val Loss: 0.3842, Accuracy: 86.24%\n",
            "Completed in 0m 59s\n",
            "-------------- epoch 28 ----------------\n",
            "train Loss: 0.1954, Accuracy: 93.51%\n",
            "val Loss: 0.3642, Accuracy: 87.81%\n",
            "Completed in 0m 59s\n",
            "-------------- epoch 29 ----------------\n",
            "train Loss: 0.1869, Accuracy: 93.53%\n",
            "val Loss: 0.3669, Accuracy: 87.47%\n",
            "Completed in 0m 60s\n",
            "-------------- epoch 30 ----------------\n",
            "train Loss: 0.2009, Accuracy: 92.88%\n",
            "val Loss: 0.3782, Accuracy: 86.97%\n",
            "Completed in 1m 0s\n"
          ],
          "name": "stdout"
        }
      ]
    },
    {
      "cell_type": "markdown",
      "metadata": {
        "id": "8mV-CQwZFQ0h"
      },
      "source": [
        "## 2. Transfer Learning 모델 학습"
      ]
    },
    {
      "cell_type": "markdown",
      "metadata": {
        "id": "IDoeutltFQ0h"
      },
      "source": [
        "* Transfer Learning을 위한 준비\n",
        "* Transfer Learning이 익숙하지 않으신 분들은 PyTorch에서 제공하는 https://9bow.github.io/PyTorch-tutorials-kr-0.3.1/beginner/transfer_learning_tutorial.html 을 참고하세요 :)"
      ]
    },
    {
      "cell_type": "code",
      "metadata": {
        "id": "so4pOWIqFQ0i"
      },
      "source": [
        "data_transforms = { \n",
        "    'train': transforms.Compose([           # 데이터 전처리(Augmentation) 진행\n",
        "        transforms.Resize([64,64]),\n",
        "        transforms.RandomHorizontalFlip(),  # 50% 확률로 좌우반전 (Random data augmentation은 training set에만 가능하다고 한다)\n",
        "        # transforms.RandomVerticalFlip(),  # 50% 확률로 상하반전\n",
        "        transforms.ToTensor(),              # 딥러닝 모델의 input으로 사용하기 위해 Tensor 형태로 변환 \n",
        "        transforms.Normalize([0.485, 0.456, 0.406], [0.229, 0.224, 0.225]) ]), # 정규화\n",
        "    \n",
        "    'val': transforms.Compose([\n",
        "        transforms.Resize([64,64]),  \n",
        "        transforms.ToTensor(),        # 딥러닝 모델의 input으로 사용하기 위해 Tensor 형태로 변환 \n",
        "        transforms.Normalize([0.485, 0.456, 0.406], [0.229, 0.224, 0.225]) ]) # 정규화\n",
        "}"
      ],
      "execution_count": 18,
      "outputs": []
    },
    {
      "cell_type": "code",
      "metadata": {
        "colab": {
          "base_uri": "https://localhost:8080/"
        },
        "id": "H-lqg9lkH9EG",
        "outputId": "0b4639ad-ce82-44b0-900f-ba5c9b139ed3"
      },
      "source": [
        "image_datasets = {x: ImageFolder(root = \"./splitted\", transform = data_transforms[x]) for x in ['train', 'val']} # 데이터 불러오기\n",
        "dataloaders = {x: torch.utils.data.DataLoader(image_datasets[x],        # 불러온 이미지 batch 단위로 구분\n",
        "                                              batch_size = BATCH_SIZE,  \n",
        "                                              num_workers = 4, \n",
        "                                              shuffle = True) for x in ['train', 'val']}"
      ],
      "execution_count": 19,
      "outputs": [
        {
          "output_type": "stream",
          "text": [
            "/usr/local/lib/python3.7/dist-packages/torch/utils/data/dataloader.py:477: UserWarning: This DataLoader will create 4 worker processes in total. Our suggested max number of worker in current system is 2, which is smaller than what this DataLoader is going to create. Please be aware that excessive worker creation might get DataLoader running slow or even freeze, lower the worker number to avoid potential slowness/freeze if necessary.\n",
            "  cpuset_checked))\n"
          ],
          "name": "stderr"
        }
      ]
    },
    {
      "cell_type": "markdown",
      "metadata": {
        "id": "c6Tbg8YzFQ0j"
      },
      "source": [
        "### Pre-Trained Model 불러오기\n",
        "- 저는 ResNet50을 사용했는데, 코랩 기준으로 다른 ResNet계열이나 DenseNet 정도까지는 큰 무리 없이 훈련할 수 있습니다. Unfreeze layer 수가 적으면 다른 모델도 사용할 수 있을 것입니다.\n",
        "- 한 가지 모델을 선택해서 Transfer Learning을 해 주세요 !!"
      ]
    },
    {
      "cell_type": "code",
      "metadata": {
        "id": "E3CwSwMWFQ0j"
      },
      "source": [
        "from torchvision import models\n",
        " \n",
        "resnet = models.resnet50(pretrained=True)  # resnet50 불러오기, pretrained = True로 학습된 파라미터 값들 불러오기\n",
        "num_ftrs = resnet.fc.in_features      # resnet50의 fully connected layer의 input 노드 수\n",
        "resnet.fc = nn.Linear(num_ftrs, 21)   # input 노드 수를 이용해 새로운 layer 추가 -> output 21 개의 질병 분류\n",
        "resnet = resnet.to(DEVICE)            # resnet 모델 DEVICE에 할당\n",
        " \n",
        "criterion = nn.CrossEntropyLoss() # CrossEntropyLoss 로 loss 계산\n",
        "optimizer_ft = optim.Adam(filter(lambda p: p.requires_grad, resnet.parameters()), lr=0.001) # optimizer -> adam\n",
        " \n",
        "# from torch.optim import lr_scheduler  #scheduler는 사용하지 않으셔도 됩니다 (선택사항)\n",
        "# exp_lr_scheduler = lr_scheduler.StepLR(optimizer_ft, step_size=7, gamma=0.1)  #7에폭마다 learning rate를 조절하는 역할을 합니다"
      ],
      "execution_count": 13,
      "outputs": []
    },
    {
      "cell_type": "markdown",
      "metadata": {
        "id": "aQoS058cFQ0k"
      },
      "source": [
        "* Pre-Trained Model의 일부 Layer Freeze하기 (resnet 기준입니다 !!)"
      ]
    },
    {
      "cell_type": "code",
      "metadata": {
        "id": "TXzgnWxkFQ0k"
      },
      "source": [
        "ct = 0 \n",
        "for child in resnet.children():  \n",
        "    ct+= 1  \n",
        "    if ct < 6: \n",
        "        for param in child.parameters():\n",
        "            param.requires_grad = False"
      ],
      "execution_count": 14,
      "outputs": []
    },
    {
      "cell_type": "markdown",
      "metadata": {
        "id": "NWdXTYBaFQ0l"
      },
      "source": [
        "* Fine Tuning을 진행해주세요 ~!"
      ]
    },
    {
      "cell_type": "code",
      "metadata": {
        "id": "RmIpS0vQ0mfX"
      },
      "source": [
        "import time\n",
        "import copy\n",
        " \n",
        "def train_resnet(model ,train_loader, val_loader, optimizer, num_epochs = 30):\n",
        "    best_acc = 0.0  \n",
        "    best_model_wts = copy.deepcopy(model.state_dict()) \n",
        " \n",
        "    for epoch in range(1, num_epochs + 1):\n",
        "        since = time.time()  \n",
        "        train(model, train_loader, optimizer) # train 데이터로 학습\n",
        "        train_loss, train_acc = evaluate(model, train_loader)\n",
        "        val_loss, val_acc = evaluate(model, val_loader)\n",
        "        \n",
        "        if val_acc>best_acc: \n",
        "            best_acc = val_acc \n",
        "            best_model_wts = copy.deepcopy(model.state_dict())\n",
        "        \n",
        "        time_elapsed = time.time() - since \n",
        "        print('-------------- epoch {} ----------------'.format(epoch))\n",
        "        print('train Loss: {:.4f}, Accuracy: {:.2f}%'.format(train_loss, train_acc))   \n",
        "        print('val Loss: {:.4f}, Accuracy: {:.2f}%'.format(val_loss, val_acc))\n",
        "        print('Completed in {:.0f}m {:.0f}s'.format(time_elapsed // 60, time_elapsed % 60)) \n",
        "\n",
        "    model.load_state_dict(best_model_wts)  \n",
        "    return model"
      ],
      "execution_count": 37,
      "outputs": []
    },
    {
      "cell_type": "code",
      "metadata": {
        "id": "q80q_1MYRdZk",
        "colab": {
          "base_uri": "https://localhost:8080/"
        },
        "outputId": "305314aa-08d0-4afa-bf11-3946ad597fa4"
      },
      "source": [
        "## 기존의 train, validation data set 가지고 resnet 학습\n",
        "resnet_train = train_resnet(resnet, train_loader, val_loader, optimizer_ft, num_epochs = 25)  # resnet transfer learning 진행\n",
        "torch.save(resnet_train,'resnet.pt') # 모델 저장\n",
        "# 최종적으로 train accuracy 100.0%, validation accuracy 99.0% 가 나왔다\n",
        "# baseline 모델에서는 train accuracy 93.5%, validation accuracy 87.8% 보다 더 높은 성능을 보였다 "
      ],
      "execution_count": 44,
      "outputs": [
        {
          "output_type": "stream",
          "text": [
            "/usr/local/lib/python3.7/dist-packages/torch/utils/data/dataloader.py:477: UserWarning: This DataLoader will create 4 worker processes in total. Our suggested max number of worker in current system is 2, which is smaller than what this DataLoader is going to create. Please be aware that excessive worker creation might get DataLoader running slow or even freeze, lower the worker number to avoid potential slowness/freeze if necessary.\n",
            "  cpuset_checked))\n"
          ],
          "name": "stderr"
        },
        {
          "output_type": "stream",
          "text": [
            "-------------- epoch 1 ----------------\n",
            "train Loss: 0.5046, Accuracy: 90.45%\n",
            "val Loss: 0.5661, Accuracy: 88.98%\n",
            "Completed in 1m 23s\n",
            "-------------- epoch 2 ----------------\n",
            "train Loss: 0.0567, Accuracy: 98.26%\n",
            "val Loss: 0.0974, Accuracy: 96.95%\n",
            "Completed in 1m 23s\n",
            "-------------- epoch 3 ----------------\n",
            "train Loss: 0.0837, Accuracy: 97.37%\n",
            "val Loss: 0.1566, Accuracy: 95.38%\n",
            "Completed in 1m 23s\n",
            "-------------- epoch 4 ----------------\n",
            "train Loss: 0.0667, Accuracy: 98.05%\n",
            "val Loss: 0.1310, Accuracy: 96.14%\n",
            "Completed in 1m 23s\n",
            "-------------- epoch 5 ----------------\n",
            "train Loss: 0.0663, Accuracy: 97.68%\n",
            "val Loss: 0.1531, Accuracy: 95.64%\n",
            "Completed in 1m 23s\n",
            "-------------- epoch 6 ----------------\n",
            "train Loss: 0.0537, Accuracy: 98.50%\n",
            "val Loss: 0.1415, Accuracy: 96.21%\n",
            "Completed in 1m 23s\n",
            "-------------- epoch 7 ----------------\n",
            "train Loss: 0.0107, Accuracy: 99.68%\n",
            "val Loss: 0.0700, Accuracy: 97.89%\n",
            "Completed in 1m 23s\n",
            "-------------- epoch 8 ----------------\n",
            "train Loss: 0.0504, Accuracy: 98.46%\n",
            "val Loss: 0.1211, Accuracy: 96.92%\n",
            "Completed in 1m 23s\n",
            "-------------- epoch 9 ----------------\n",
            "train Loss: 0.0618, Accuracy: 98.06%\n",
            "val Loss: 0.1462, Accuracy: 96.55%\n",
            "Completed in 1m 23s\n",
            "-------------- epoch 10 ----------------\n",
            "train Loss: 0.0243, Accuracy: 99.27%\n",
            "val Loss: 0.0913, Accuracy: 97.55%\n",
            "Completed in 1m 23s\n",
            "-------------- epoch 11 ----------------\n",
            "train Loss: 0.0621, Accuracy: 98.36%\n",
            "val Loss: 0.1551, Accuracy: 96.27%\n",
            "Completed in 1m 24s\n",
            "-------------- epoch 12 ----------------\n",
            "train Loss: 0.0179, Accuracy: 99.40%\n",
            "val Loss: 0.0833, Accuracy: 97.73%\n",
            "Completed in 1m 23s\n",
            "-------------- epoch 13 ----------------\n",
            "train Loss: 0.0122, Accuracy: 99.62%\n",
            "val Loss: 0.0874, Accuracy: 97.65%\n",
            "Completed in 1m 23s\n",
            "-------------- epoch 14 ----------------\n",
            "train Loss: 0.0030, Accuracy: 99.90%\n",
            "val Loss: 0.0680, Accuracy: 98.20%\n",
            "Completed in 1m 23s\n",
            "-------------- epoch 15 ----------------\n",
            "train Loss: 0.0055, Accuracy: 99.83%\n",
            "val Loss: 0.0540, Accuracy: 98.38%\n",
            "Completed in 1m 23s\n",
            "-------------- epoch 16 ----------------\n",
            "train Loss: 0.0515, Accuracy: 99.05%\n",
            "val Loss: 0.1436, Accuracy: 97.39%\n",
            "Completed in 1m 23s\n",
            "-------------- epoch 17 ----------------\n",
            "train Loss: 0.0055, Accuracy: 99.79%\n",
            "val Loss: 0.0740, Accuracy: 97.86%\n",
            "Completed in 1m 22s\n",
            "-------------- epoch 18 ----------------\n",
            "train Loss: 0.0062, Accuracy: 99.90%\n",
            "val Loss: 0.0738, Accuracy: 98.22%\n",
            "Completed in 1m 23s\n",
            "-------------- epoch 19 ----------------\n",
            "train Loss: 0.0324, Accuracy: 98.98%\n",
            "val Loss: 0.1396, Accuracy: 96.66%\n",
            "Completed in 1m 22s\n",
            "-------------- epoch 20 ----------------\n",
            "train Loss: 0.0040, Accuracy: 99.87%\n",
            "val Loss: 0.0552, Accuracy: 98.28%\n",
            "Completed in 1m 23s\n",
            "-------------- epoch 21 ----------------\n",
            "train Loss: 0.0038, Accuracy: 99.91%\n",
            "val Loss: 0.0614, Accuracy: 98.33%\n",
            "Completed in 1m 23s\n",
            "-------------- epoch 22 ----------------\n",
            "train Loss: 0.0040, Accuracy: 99.88%\n",
            "val Loss: 0.0485, Accuracy: 98.69%\n",
            "Completed in 1m 23s\n",
            "-------------- epoch 23 ----------------\n",
            "train Loss: 0.0001, Accuracy: 100.00%\n",
            "val Loss: 0.0419, Accuracy: 98.98%\n",
            "Completed in 1m 24s\n",
            "-------------- epoch 24 ----------------\n",
            "train Loss: 0.0001, Accuracy: 100.00%\n",
            "val Loss: 0.0394, Accuracy: 99.03%\n",
            "Completed in 1m 23s\n",
            "-------------- epoch 25 ----------------\n",
            "train Loss: 0.0023, Accuracy: 99.96%\n",
            "val Loss: 0.0528, Accuracy: 98.64%\n",
            "Completed in 1m 23s\n"
          ],
          "name": "stdout"
        }
      ]
    },
    {
      "cell_type": "code",
      "metadata": {
        "id": "YKNH31LuRdi2"
      },
      "source": [
        "import time\n",
        "import copy\n",
        " \n",
        "def train_resnet2(model ,dataloaders, optimizer, num_epochs = 30):\n",
        "    best_acc = 0.0  \n",
        "    best_model_wts = copy.deepcopy(model.state_dict()) \n",
        " \n",
        "    for epoch in range(1, num_epochs + 1):\n",
        "        since = time.time()  \n",
        "        train(model, dataloaders['train'], optimizer) # train 데이터로 학습\n",
        "        train_loss, train_acc = evaluate(model, dataloaders['train'])\n",
        "        val_loss, val_acc = evaluate(model, dataloaders['val'])\n",
        "        \n",
        "        if val_acc>best_acc: \n",
        "            best_acc = val_acc \n",
        "            best_model_wts = copy.deepcopy(model.state_dict())\n",
        "        \n",
        "        time_elapsed = time.time() - since \n",
        "        print('-------------- epoch {} ----------------'.format(epoch))\n",
        "        print('train Loss: {:.4f}, Accuracy: {:.2f}%'.format(train_loss, train_acc))   \n",
        "        print('val Loss: {:.4f}, Accuracy: {:.2f}%'.format(val_loss, val_acc))\n",
        "        print('Completed in {:.0f}m {:.0f}s'.format(time_elapsed // 60, time_elapsed % 60)) \n",
        "\n",
        "    model.load_state_dict(best_model_wts)  \n",
        "    return model"
      ],
      "execution_count": 17,
      "outputs": []
    },
    {
      "cell_type": "code",
      "metadata": {
        "id": "kZ9FK199Rdyd",
        "colab": {
          "base_uri": "https://localhost:8080/"
        },
        "outputId": "5f238a7f-146c-4a72-a377-6b7cd3dc1d12"
      },
      "source": [
        "## Augmenatataion 진행한 데이터 가지고 fine tuning\n",
        "# 이미 데이터가 많았어서....... 정말 오래 걸렸다.........................\n",
        "resnet_train2 = train_resnet2(resnet, dataloaders, optimizer_ft)  # resnet transfer learning 진행\n",
        "torch.save(resnet_train2,'resnet2.pt') # 모델 저장\n",
        "# augmentation을 진행한 학습 결과 valid accuracy 가 97.6.0%로 기존의 데이터로 학습 시킨 것에 조금 못 미치는 결과가 나왔다 (augmentation 으로 인해 큰 성능향상을 보지 못했다)"
      ],
      "execution_count": 18,
      "outputs": [
        {
          "output_type": "stream",
          "text": [
            "/usr/local/lib/python3.7/dist-packages/torch/utils/data/dataloader.py:477: UserWarning: This DataLoader will create 4 worker processes in total. Our suggested max number of worker in current system is 2, which is smaller than what this DataLoader is going to create. Please be aware that excessive worker creation might get DataLoader running slow or even freeze, lower the worker number to avoid potential slowness/freeze if necessary.\n",
            "  cpuset_checked))\n"
          ],
          "name": "stderr"
        },
        {
          "output_type": "stream",
          "text": [
            "-------------- epoch 1 ----------------\n",
            "train Loss: 0.9819, Accuracy: 60.03%\n",
            "val Loss: 0.9818, Accuracy: 60.03%\n",
            "Completed in 24m 16s\n",
            "-------------- epoch 2 ----------------\n",
            "train Loss: 0.9611, Accuracy: 59.97%\n",
            "val Loss: 0.9610, Accuracy: 59.92%\n",
            "Completed in 1m 52s\n",
            "-------------- epoch 3 ----------------\n",
            "train Loss: 0.9631, Accuracy: 59.93%\n",
            "val Loss: 0.9626, Accuracy: 59.94%\n",
            "Completed in 1m 52s\n",
            "-------------- epoch 4 ----------------\n",
            "train Loss: 0.9590, Accuracy: 59.70%\n",
            "val Loss: 0.9595, Accuracy: 59.67%\n",
            "Completed in 1m 54s\n",
            "-------------- epoch 5 ----------------\n",
            "train Loss: 0.9598, Accuracy: 60.03%\n",
            "val Loss: 0.9604, Accuracy: 60.03%\n",
            "Completed in 1m 54s\n",
            "-------------- epoch 6 ----------------\n",
            "train Loss: 0.9569, Accuracy: 59.64%\n",
            "val Loss: 0.9572, Accuracy: 59.61%\n",
            "Completed in 1m 53s\n",
            "-------------- epoch 7 ----------------\n",
            "train Loss: 0.9572, Accuracy: 60.03%\n",
            "val Loss: 0.9579, Accuracy: 60.03%\n",
            "Completed in 1m 53s\n",
            "-------------- epoch 8 ----------------\n",
            "train Loss: 0.9436, Accuracy: 60.03%\n",
            "val Loss: 0.9441, Accuracy: 60.03%\n",
            "Completed in 1m 51s\n",
            "-------------- epoch 9 ----------------\n",
            "train Loss: 0.9548, Accuracy: 60.03%\n",
            "val Loss: 0.9530, Accuracy: 60.03%\n",
            "Completed in 1m 52s\n",
            "-------------- epoch 10 ----------------\n",
            "train Loss: 0.9445, Accuracy: 60.03%\n",
            "val Loss: 0.9435, Accuracy: 60.03%\n",
            "Completed in 1m 52s\n",
            "-------------- epoch 11 ----------------\n",
            "train Loss: 0.9255, Accuracy: 60.08%\n",
            "val Loss: 0.9260, Accuracy: 60.06%\n",
            "Completed in 1m 52s\n",
            "-------------- epoch 12 ----------------\n",
            "train Loss: 0.9172, Accuracy: 60.31%\n",
            "val Loss: 0.9179, Accuracy: 60.29%\n",
            "Completed in 1m 52s\n",
            "-------------- epoch 13 ----------------\n",
            "train Loss: 0.8991, Accuracy: 60.03%\n",
            "val Loss: 0.8994, Accuracy: 60.05%\n",
            "Completed in 1m 52s\n",
            "-------------- epoch 14 ----------------\n",
            "train Loss: 0.9019, Accuracy: 61.36%\n",
            "val Loss: 0.9039, Accuracy: 61.42%\n",
            "Completed in 1m 52s\n",
            "-------------- epoch 15 ----------------\n",
            "train Loss: 0.7985, Accuracy: 65.40%\n",
            "val Loss: 0.8013, Accuracy: 65.28%\n",
            "Completed in 1m 51s\n",
            "-------------- epoch 16 ----------------\n",
            "train Loss: 0.7500, Accuracy: 68.90%\n",
            "val Loss: 0.7491, Accuracy: 68.89%\n",
            "Completed in 1m 52s\n",
            "-------------- epoch 17 ----------------\n",
            "train Loss: 0.6823, Accuracy: 72.79%\n",
            "val Loss: 0.6876, Accuracy: 72.47%\n",
            "Completed in 1m 51s\n",
            "-------------- epoch 18 ----------------\n",
            "train Loss: 0.6144, Accuracy: 75.43%\n",
            "val Loss: 0.6103, Accuracy: 75.40%\n",
            "Completed in 1m 51s\n",
            "-------------- epoch 19 ----------------\n",
            "train Loss: 0.5974, Accuracy: 79.33%\n",
            "val Loss: 0.6027, Accuracy: 79.17%\n",
            "Completed in 1m 51s\n",
            "-------------- epoch 20 ----------------\n",
            "train Loss: 0.4063, Accuracy: 84.79%\n",
            "val Loss: 0.4027, Accuracy: 85.08%\n",
            "Completed in 1m 50s\n",
            "-------------- epoch 21 ----------------\n",
            "train Loss: 0.3512, Accuracy: 87.32%\n",
            "val Loss: 0.3488, Accuracy: 87.05%\n",
            "Completed in 1m 51s\n",
            "-------------- epoch 22 ----------------\n",
            "train Loss: 0.2729, Accuracy: 90.19%\n",
            "val Loss: 0.2741, Accuracy: 90.15%\n",
            "Completed in 1m 51s\n",
            "-------------- epoch 23 ----------------\n",
            "train Loss: 0.2394, Accuracy: 91.59%\n",
            "val Loss: 0.2437, Accuracy: 91.44%\n",
            "Completed in 1m 51s\n",
            "-------------- epoch 24 ----------------\n",
            "train Loss: 0.1967, Accuracy: 93.05%\n",
            "val Loss: 0.2034, Accuracy: 92.96%\n",
            "Completed in 1m 51s\n",
            "-------------- epoch 25 ----------------\n",
            "train Loss: 0.1698, Accuracy: 93.90%\n",
            "val Loss: 0.1714, Accuracy: 93.88%\n",
            "Completed in 1m 51s\n",
            "-------------- epoch 26 ----------------\n",
            "train Loss: 0.1450, Accuracy: 95.02%\n",
            "val Loss: 0.1394, Accuracy: 95.28%\n",
            "Completed in 1m 50s\n",
            "-------------- epoch 27 ----------------\n",
            "train Loss: 0.1306, Accuracy: 95.53%\n",
            "val Loss: 0.1252, Accuracy: 95.77%\n",
            "Completed in 1m 50s\n",
            "-------------- epoch 28 ----------------\n",
            "train Loss: 0.1018, Accuracy: 96.53%\n",
            "val Loss: 0.1033, Accuracy: 96.47%\n",
            "Completed in 1m 51s\n",
            "-------------- epoch 29 ----------------\n",
            "train Loss: 0.0752, Accuracy: 97.39%\n",
            "val Loss: 0.0741, Accuracy: 97.55%\n",
            "Completed in 1m 52s\n",
            "-------------- epoch 30 ----------------\n",
            "train Loss: 0.0697, Accuracy: 97.69%\n",
            "val Loss: 0.0725, Accuracy: 97.60%\n",
            "Completed in 1m 52s\n"
          ],
          "name": "stdout"
        }
      ]
    },
    {
      "cell_type": "markdown",
      "metadata": {
        "id": "5ZXgc0G_FQ0m"
      },
      "source": [
        "## 모델 평가"
      ]
    },
    {
      "cell_type": "markdown",
      "metadata": {
        "id": "_Q42vR5_FQ0n"
      },
      "source": [
        "* 모델 평가를 위해서는 평가 데이터 또한 전처리를 해주어야 합니다.\n",
        "* validation 데이터와 동일하게 전처리를 해 주세요 ~!!"
      ]
    },
    {
      "cell_type": "markdown",
      "metadata": {
        "id": "lr5LkMzMRxVk"
      },
      "source": [
        "* 베이스라인 모델 평가를 위한 전처리하기"
      ]
    },
    {
      "cell_type": "code",
      "metadata": {
        "id": "3EfLf3GOFQ0n",
        "colab": {
          "base_uri": "https://localhost:8080/"
        },
        "outputId": "6b610cb2-b41d-441b-c768-4c8b1f09c1ca"
      },
      "source": [
        "transform_base = transforms.Compose([transforms.Resize((64,64)), transforms.ToTensor()]) \n",
        "test_base = ImageFolder(root='./splitted/test',transform=transform_base)  \n",
        "test_loader_base = torch.utils.data.DataLoader(test_base, batch_size=BATCH_SIZE, shuffle=True, num_workers=4)"
      ],
      "execution_count": 15,
      "outputs": [
        {
          "output_type": "stream",
          "text": [
            "/usr/local/lib/python3.7/dist-packages/torch/utils/data/dataloader.py:477: UserWarning: This DataLoader will create 4 worker processes in total. Our suggested max number of worker in current system is 2, which is smaller than what this DataLoader is going to create. Please be aware that excessive worker creation might get DataLoader running slow or even freeze, lower the worker number to avoid potential slowness/freeze if necessary.\n",
            "  cpuset_checked))\n"
          ],
          "name": "stderr"
        }
      ]
    },
    {
      "cell_type": "markdown",
      "metadata": {
        "id": "KISksPR3FQ0n"
      },
      "source": [
        "* Transfer Learning모델 평가를 위한 전처리하기"
      ]
    },
    {
      "cell_type": "code",
      "metadata": {
        "id": "8BTGBjTzFQ0n",
        "colab": {
          "base_uri": "https://localhost:8080/"
        },
        "outputId": "0a368331-6502-4f4c-b17f-1c27ad89f4c8"
      },
      "source": [
        "transform_resNet = { \n",
        "    'test': transforms.Compose([\n",
        "        transforms.Resize([64,64]),  \n",
        "        transforms.ToTensor(),  # 딥러닝 모델의 input으로 사용하기 위해 Tensor 형태로 변환 \n",
        "        transforms.Normalize([0.485, 0.456, 0.406], [0.229, 0.224, 0.225]) ]) # 정규화\n",
        "}\n",
        "test_resNet = {x: ImageFolder(root = \"./splitted\", transform = transform_resNet[x]) for x in ['test']} # 데이터 불러오기\n",
        "test_loader_resNet = {x: torch.utils.data.DataLoader(test_resNet[x], # 불러온 이미지 batch 단위로 구분\n",
        "                                              batch_size = BATCH_SIZE, \n",
        "                                              num_workers = 4, \n",
        "                                              shuffle = True) for x in ['test']}"
      ],
      "execution_count": 23,
      "outputs": [
        {
          "output_type": "stream",
          "text": [
            "/usr/local/lib/python3.7/dist-packages/torch/utils/data/dataloader.py:477: UserWarning: This DataLoader will create 4 worker processes in total. Our suggested max number of worker in current system is 2, which is smaller than what this DataLoader is going to create. Please be aware that excessive worker creation might get DataLoader running slow or even freeze, lower the worker number to avoid potential slowness/freeze if necessary.\n",
            "  cpuset_checked))\n"
          ],
          "name": "stderr"
        }
      ]
    },
    {
      "cell_type": "markdown",
      "metadata": {
        "id": "-J4OJRfCSrrM"
      },
      "source": [
        "### 성능 평가하기\n",
        "* 저는 여기서 accuracy만을 평가했지만, 분류 모델이기에 다양한 방법의 평가가 가능합니다.\n",
        "* Confusion Matrix를 이용한 비교도 가능하고, 한 작물에 해당하는 클래스가 여러개인 다중 분류에서 F1-score를 계산하는것도 의미가 있을 것입니다. \n",
        "* 다양한 시도를 하시는 분께 가산점 드리겠습니다 :):)"
      ]
    },
    {
      "cell_type": "code",
      "metadata": {
        "id": "-yITzD-H3tx7"
      },
      "source": [
        "import pandas as pd\n",
        "import seaborn as sns\n",
        "import matplotlib.pyplot as plt\n",
        "from sklearn.metrics import confusion_matrix, classification_report"
      ],
      "execution_count": 16,
      "outputs": []
    },
    {
      "cell_type": "code",
      "metadata": {
        "id": "H4MLZitKR_Y7"
      },
      "source": [
        "# Confusion Matrix, 각 class 별 Accuracy 출력\n",
        "\n",
        "nb_classes = 21\n",
        "\n",
        "def Analyze(model, test_loader):\n",
        "  # prediction, label list 초기화\n",
        "  predlist=torch.zeros(0,dtype=torch.long, device='cpu')\n",
        "  lbllist=torch.zeros(0,dtype=torch.long, device='cpu')\n",
        "\n",
        "  with torch.no_grad(): \n",
        "      for i, (data, label) in enumerate(test_loader):\n",
        "          data = data.to(DEVICE)  # 데이터 DEVICE에 할당\n",
        "          label = label.to(DEVICE)  # 라벨 값 DEVICE에 할당\n",
        "          outputs = model(data)  # 예측\n",
        "          _, preds = torch.max(outputs, 1)  # 가장 높은 확률 가지는 class 예측\n",
        "\n",
        "          # Batch 단위 예측값 append 하기\n",
        "          predlist=torch.cat([predlist,preds.view(-1).cpu()])\n",
        "          lbllist=torch.cat([lbllist,label.view(-1).cpu()])\n",
        "\n",
        "  # Confusion matrix\n",
        "  conf_mat=confusion_matrix(lbllist.numpy(), predlist.numpy())  # confusion matrix 계산\n",
        "  # conf_mat= pd.DataFrame(conf_mat)\n",
        "  plt.figure(figsize = (27, 13))\n",
        "  sns.heatmap(conf_mat, annot=True) # heatmap으로 나타내기\n",
        "\n",
        "  # Classification Report\n",
        "  print(classification_report(lbllist.numpy(), predlist.numpy())) # 클래스별 accuracy, recall, f1-score \n",
        "\n",
        "  # Class 별 Accuracy\n",
        "  class_accuracy=100*conf_mat.diagonal()/conf_mat.sum(1)  # 각 클래스 별 accuracy 담은 list\n",
        "  class_accuracy = pd.DataFrame(class_accuracy, columns = ['Accuracy']) # dataframe 화하기\n",
        "  class_accuracy.insert(0, \"Label\", classes_list, True) # 병명 column 삽입하기\n",
        "  \n",
        "  return class_accuracy # Class 별 Accuracy 담은 dataframe 반환"
      ],
      "execution_count": 24,
      "outputs": []
    },
    {
      "cell_type": "markdown",
      "metadata": {
        "id": "B-a5imPMYSfU"
      },
      "source": [
        "**성능 지표**\n",
        "* Accuracy: 맞게 예측한 것의 비율\n",
        "* Precision: 예측한 것 중의 정답 비율\n",
        "* Recall: True인 것 중에 True 로 예측한 것\n",
        "* F1-score: precision, recall의 조화평균\n"
      ]
    },
    {
      "cell_type": "markdown",
      "metadata": {
        "id": "wGFNIsYfFQ0o"
      },
      "source": [
        "* 베이스라인 모델 성능 평가하기"
      ]
    },
    {
      "cell_type": "code",
      "metadata": {
        "id": "zsJCTvboFQ0o",
        "colab": {
          "base_uri": "https://localhost:8080/"
        },
        "outputId": "cf833fbc-37a8-4b2f-824f-63eccc773dbf"
      },
      "source": [
        "baseline=torch.load('baseline.pt') \n",
        "baseline.eval()  \n",
        "test_loss, test_accuracy = evaluate(baseline, test_loader_base)\n",
        "\n",
        "print('test acc:  ', test_accuracy) #86.94516971279373"
      ],
      "execution_count": 77,
      "outputs": [
        {
          "output_type": "stream",
          "text": [
            "/usr/local/lib/python3.7/dist-packages/torch/utils/data/dataloader.py:477: UserWarning: This DataLoader will create 4 worker processes in total. Our suggested max number of worker in current system is 2, which is smaller than what this DataLoader is going to create. Please be aware that excessive worker creation might get DataLoader running slow or even freeze, lower the worker number to avoid potential slowness/freeze if necessary.\n",
            "  cpuset_checked))\n"
          ],
          "name": "stderr"
        },
        {
          "output_type": "stream",
          "text": [
            "test acc:   86.94516971279373\n"
          ],
          "name": "stdout"
        }
      ]
    },
    {
      "cell_type": "code",
      "metadata": {
        "colab": {
          "base_uri": "https://localhost:8080/",
          "height": 1000
        },
        "id": "RyKDn6lE3Eef",
        "outputId": "e61ecc24-7799-4996-d277-ec74ff0ef1b6"
      },
      "source": [
        "baseline=torch.load('baseline.pt') \n",
        "baseline.eval()  \n",
        "class_acc = Analyze(baseline, test_loader_base)"
      ],
      "execution_count": 25,
      "outputs": [
        {
          "output_type": "stream",
          "text": [
            "/usr/local/lib/python3.7/dist-packages/torch/utils/data/dataloader.py:477: UserWarning: This DataLoader will create 4 worker processes in total. Our suggested max number of worker in current system is 2, which is smaller than what this DataLoader is going to create. Please be aware that excessive worker creation might get DataLoader running slow or even freeze, lower the worker number to avoid potential slowness/freeze if necessary.\n",
            "  cpuset_checked))\n"
          ],
          "name": "stderr"
        },
        {
          "output_type": "stream",
          "text": [
            "              precision    recall  f1-score   support\n",
            "\n",
            "           0       0.71      0.83      0.77       126\n",
            "           1       0.86      0.82      0.84       124\n",
            "           2       0.57      0.85      0.69        55\n",
            "           3       0.95      0.86      0.90       329\n",
            "           4       0.96      0.82      0.88       210\n",
            "           5       0.88      0.96      0.92       170\n",
            "           6       0.68      0.70      0.69       102\n",
            "           7       0.99      0.99      0.99       238\n",
            "           8       0.80      0.86      0.83       197\n",
            "           9       0.99      0.98      0.98       232\n",
            "          10       0.74      0.86      0.79       236\n",
            "          11       0.92      0.79      0.85       276\n",
            "          12       0.90      0.99      0.94       215\n",
            "          13       0.91      0.85      0.88        84\n",
            "          14       0.82      0.85      0.83       199\n",
            "          15       0.96      0.86      0.91       295\n",
            "          16       0.92      0.90      0.91       200\n",
            "          17       0.80      0.83      0.81       200\n",
            "          18       0.64      0.23      0.34        30\n",
            "          19       0.90      0.87      0.88       221\n",
            "          20       0.75      0.91      0.82        91\n",
            "\n",
            "    accuracy                           0.87      3830\n",
            "   macro avg       0.84      0.84      0.83      3830\n",
            "weighted avg       0.88      0.87      0.87      3830\n",
            "\n"
          ],
          "name": "stdout"
        },
        {
          "output_type": "display_data",
          "data": {
            "image/png": "[encoded data removed]",
            "text/plain": [
              "<Figure size 1944x936 with 2 Axes>"
            ]
          },
          "metadata": {
            "tags": [],
            "needs_background": "light"
          }
        }
      ]
    },
    {
      "cell_type": "code",
      "metadata": {
        "colab": {
          "base_uri": "https://localhost:8080/",
          "height": 669
        },
        "id": "yCT1RZC7J-n-",
        "outputId": "7e26a00c-e339-4868-a522-8184c037dffa"
      },
      "source": [
        "# Class 별 Accuracy 출력\n",
        "class_acc"
      ],
      "execution_count": 26,
      "outputs": [
        {
          "output_type": "execute_result",
          "data": {
            "text/html": [
              "<div>\n",
              "<style scoped>\n",
              "    .dataframe tbody tr th:only-of-type {\n",
              "        vertical-align: middle;\n",
              "    }\n",
              "\n",
              "    .dataframe tbody tr th {\n",
              "        vertical-align: top;\n",
              "    }\n",
              "\n",
              "    .dataframe thead th {\n",
              "        text-align: right;\n",
              "    }\n",
              "</style>\n",
              "<table border=\"1\" class=\"dataframe\">\n",
              "  <thead>\n",
              "    <tr style=\"text-align: right;\">\n",
              "      <th></th>\n",
              "      <th>Label</th>\n",
              "      <th>Accuracy</th>\n",
              "    </tr>\n",
              "  </thead>\n",
              "  <tbody>\n",
              "    <tr>\n",
              "      <th>0</th>\n",
              "      <td>Apple___Cedar_apple_rust</td>\n",
              "      <td>83.333333</td>\n",
              "    </tr>\n",
              "    <tr>\n",
              "      <th>1</th>\n",
              "      <td>Cherry___Powdery_mildew</td>\n",
              "      <td>82.258065</td>\n",
              "    </tr>\n",
              "    <tr>\n",
              "      <th>2</th>\n",
              "      <td>Corn___healthy</td>\n",
              "      <td>85.454545</td>\n",
              "    </tr>\n",
              "    <tr>\n",
              "      <th>3</th>\n",
              "      <td>Corn___Northern_Leaf_Blight</td>\n",
              "      <td>85.714286</td>\n",
              "    </tr>\n",
              "    <tr>\n",
              "      <th>4</th>\n",
              "      <td>Corn___Common_rust</td>\n",
              "      <td>81.904762</td>\n",
              "    </tr>\n",
              "    <tr>\n",
              "      <th>5</th>\n",
              "      <td>Cherry___healthy</td>\n",
              "      <td>95.882353</td>\n",
              "    </tr>\n",
              "    <tr>\n",
              "      <th>6</th>\n",
              "      <td>Apple___Black_rot</td>\n",
              "      <td>69.607843</td>\n",
              "    </tr>\n",
              "    <tr>\n",
              "      <th>7</th>\n",
              "      <td>Apple___Apple_scab</td>\n",
              "      <td>99.159664</td>\n",
              "    </tr>\n",
              "    <tr>\n",
              "      <th>8</th>\n",
              "      <td>Apple___healthy</td>\n",
              "      <td>85.786802</td>\n",
              "    </tr>\n",
              "    <tr>\n",
              "      <th>9</th>\n",
              "      <td>Corn___Cercospora_leaf_spot Gray_leaf_spot</td>\n",
              "      <td>97.844828</td>\n",
              "    </tr>\n",
              "    <tr>\n",
              "      <th>10</th>\n",
              "      <td>Potato___healthy</td>\n",
              "      <td>86.016949</td>\n",
              "    </tr>\n",
              "    <tr>\n",
              "      <th>11</th>\n",
              "      <td>Pepper,_bell___Bacterial_spot</td>\n",
              "      <td>78.623188</td>\n",
              "    </tr>\n",
              "    <tr>\n",
              "      <th>12</th>\n",
              "      <td>Potato___Early_blight</td>\n",
              "      <td>99.069767</td>\n",
              "    </tr>\n",
              "    <tr>\n",
              "      <th>13</th>\n",
              "      <td>Strawberry___healthy</td>\n",
              "      <td>84.523810</td>\n",
              "    </tr>\n",
              "    <tr>\n",
              "      <th>14</th>\n",
              "      <td>Pepper,_bell___healthy</td>\n",
              "      <td>84.924623</td>\n",
              "    </tr>\n",
              "    <tr>\n",
              "      <th>15</th>\n",
              "      <td>Grape___Leaf_blight_(Isariopsis_Leaf_Spot)</td>\n",
              "      <td>86.440678</td>\n",
              "    </tr>\n",
              "    <tr>\n",
              "      <th>16</th>\n",
              "      <td>Potato___Late_blight</td>\n",
              "      <td>90.000000</td>\n",
              "    </tr>\n",
              "    <tr>\n",
              "      <th>17</th>\n",
              "      <td>Grape___healthy</td>\n",
              "      <td>83.000000</td>\n",
              "    </tr>\n",
              "    <tr>\n",
              "      <th>18</th>\n",
              "      <td>Grape___Black_rot</td>\n",
              "      <td>23.333333</td>\n",
              "    </tr>\n",
              "    <tr>\n",
              "      <th>19</th>\n",
              "      <td>Grape___Esca_(Black_Measles)</td>\n",
              "      <td>86.877828</td>\n",
              "    </tr>\n",
              "    <tr>\n",
              "      <th>20</th>\n",
              "      <td>Strawberry___Leaf_scorch</td>\n",
              "      <td>91.208791</td>\n",
              "    </tr>\n",
              "  </tbody>\n",
              "</table>\n",
              "</div>"
            ],
            "text/plain": [
              "                                         Label   Accuracy\n",
              "0                     Apple___Cedar_apple_rust  83.333333\n",
              "1                      Cherry___Powdery_mildew  82.258065\n",
              "2                               Corn___healthy  85.454545\n",
              "3                  Corn___Northern_Leaf_Blight  85.714286\n",
              "4                           Corn___Common_rust  81.904762\n",
              "5                             Cherry___healthy  95.882353\n",
              "6                            Apple___Black_rot  69.607843\n",
              "7                           Apple___Apple_scab  99.159664\n",
              "8                              Apple___healthy  85.786802\n",
              "9   Corn___Cercospora_leaf_spot Gray_leaf_spot  97.844828\n",
              "10                            Potato___healthy  86.016949\n",
              "11               Pepper,_bell___Bacterial_spot  78.623188\n",
              "12                       Potato___Early_blight  99.069767\n",
              "13                        Strawberry___healthy  84.523810\n",
              "14                      Pepper,_bell___healthy  84.924623\n",
              "15  Grape___Leaf_blight_(Isariopsis_Leaf_Spot)  86.440678\n",
              "16                        Potato___Late_blight  90.000000\n",
              "17                             Grape___healthy  83.000000\n",
              "18                           Grape___Black_rot  23.333333\n",
              "19                Grape___Esca_(Black_Measles)  86.877828\n",
              "20                    Strawberry___Leaf_scorch  91.208791"
            ]
          },
          "metadata": {
            "tags": []
          },
          "execution_count": 26
        }
      ]
    },
    {
      "cell_type": "markdown",
      "metadata": {
        "id": "0tqfzSl8W3do"
      },
      "source": [
        "전체 예측값의 Accuracy는 86.95로 나온 것을 확인하였다. 이후, 베이스라인 모델을 가지고 예측한 결과의 Classification Report 로 각 class 별 precision, recall, f1score와 예측값의 개수를 시각화한 heatmap, class 별 accuracy를 출력해 보았다. <br>\n",
        "\n",
        "18번 class인 Grape_Black_rot 질병에 대해서 f1-score 가 0.34로 가장 낮은 것을 확인할 수 있다. precision이 0.64, recall이 0.23인 것으로 보아 예측한 것들 중에서는 정답 비율이 높지만 예측 개수가 작아아서 실제 18번 class의 값들 중에 맞게 예측된 것들의 비율이 낮게 나온 것이라 생각해 볼 수 있다. <br>\n",
        "반대로, 2번 class인 Corn_Healthy 에 대해  precision이 0.57, recall이 0.85인 것을 보았을 때 해당 class로 넘치게 예측이 되어 True-True는 높은 비율을 보이지만 예측 개수에 비해 정밀도는 떨어지는 것을 유추해 볼 수 있다. <br>\n",
        "특정 class로 예측을 잘 못 하는, 어떠한 한 class로 예측이 쏠리는 현상이 일어났다고 볼 수 있고, original 데이터의 class 별 imbalance로 인해 생긴 문제점으로 보여진다. "
      ]
    },
    {
      "cell_type": "markdown",
      "metadata": {
        "id": "Guqq1ZHiFQ0o"
      },
      "source": [
        "* Transfer Learning 모델 성능 평가하기"
      ]
    },
    {
      "cell_type": "code",
      "metadata": {
        "colab": {
          "base_uri": "https://localhost:8080/"
        },
        "id": "Gf7JZZYKbZM_",
        "outputId": "446e92fc-fc3c-49a7-f2a0-85fa68ca52a7"
      },
      "source": [
        "# 기존 데이터로 학습시킨 ResNet\n",
        "\n",
        "resnet50 = torch.load('resnet.pt') \n",
        "resnet50.eval()\n",
        "test_loss, test_accuracy = evaluate(resnet50, test_loader_base)\n",
        "print('test acc: ', test_accuracy) # 99.06005221932115"
      ],
      "execution_count": 21,
      "outputs": [
        {
          "output_type": "stream",
          "text": [
            "/usr/local/lib/python3.7/dist-packages/torch/utils/data/dataloader.py:477: UserWarning: This DataLoader will create 4 worker processes in total. Our suggested max number of worker in current system is 2, which is smaller than what this DataLoader is going to create. Please be aware that excessive worker creation might get DataLoader running slow or even freeze, lower the worker number to avoid potential slowness/freeze if necessary.\n",
            "  cpuset_checked))\n"
          ],
          "name": "stderr"
        },
        {
          "output_type": "stream",
          "text": [
            "test acc:  99.06005221932115\n"
          ],
          "name": "stdout"
        }
      ]
    },
    {
      "cell_type": "code",
      "metadata": {
        "colab": {
          "base_uri": "https://localhost:8080/"
        },
        "id": "wnOGOdsyhagH",
        "outputId": "646b4f7b-f4e6-4dde-96c1-fd23549158a9"
      },
      "source": [
        "# augmentation 시킨 데이터로 학습시킨 ResNet\n",
        "\n",
        "resnet50=torch.load('resnet2.pt') \n",
        "resnet50.eval()  \n",
        "test_loss, test_accuracy = evaluate(resnet50, test_loader_resNet['test'])\n",
        "print('test acc:  ', test_accuracy) # 97.59954078171477"
      ],
      "execution_count": 24,
      "outputs": [
        {
          "output_type": "stream",
          "text": [
            "/usr/local/lib/python3.7/dist-packages/torch/utils/data/dataloader.py:477: UserWarning: This DataLoader will create 4 worker processes in total. Our suggested max number of worker in current system is 2, which is smaller than what this DataLoader is going to create. Please be aware that excessive worker creation might get DataLoader running slow or even freeze, lower the worker number to avoid potential slowness/freeze if necessary.\n",
            "  cpuset_checked))\n"
          ],
          "name": "stderr"
        },
        {
          "output_type": "stream",
          "text": [
            "test acc:   97.59954078171477\n"
          ],
          "name": "stdout"
        }
      ]
    },
    {
      "cell_type": "code",
      "metadata": {
        "colab": {
          "base_uri": "https://localhost:8080/",
          "height": 1000
        },
        "id": "hYW-CuCXKJId",
        "outputId": "9d97e14b-bfa9-4898-8fbf-20b43d261011"
      },
      "source": [
        "class_acc = Analyze(resnet50, test_loader_base)"
      ],
      "execution_count": 27,
      "outputs": [
        {
          "output_type": "stream",
          "text": [
            "/usr/local/lib/python3.7/dist-packages/torch/utils/data/dataloader.py:477: UserWarning: This DataLoader will create 4 worker processes in total. Our suggested max number of worker in current system is 2, which is smaller than what this DataLoader is going to create. Please be aware that excessive worker creation might get DataLoader running slow or even freeze, lower the worker number to avoid potential slowness/freeze if necessary.\n",
            "  cpuset_checked))\n"
          ],
          "name": "stderr"
        },
        {
          "output_type": "stream",
          "text": [
            "              precision    recall  f1-score   support\n",
            "\n",
            "           0       0.99      0.99      0.99       126\n",
            "           1       1.00      1.00      1.00       124\n",
            "           2       1.00      0.96      0.98        55\n",
            "           3       0.99      1.00      0.99       329\n",
            "           4       1.00      1.00      1.00       210\n",
            "           5       1.00      0.99      1.00       170\n",
            "           6       0.92      0.95      0.94       102\n",
            "           7       1.00      1.00      1.00       238\n",
            "           8       0.97      0.95      0.96       197\n",
            "           9       1.00      1.00      1.00       232\n",
            "          10       0.98      1.00      0.99       236\n",
            "          11       1.00      0.98      0.99       276\n",
            "          12       1.00      1.00      1.00       215\n",
            "          13       1.00      1.00      1.00        84\n",
            "          14       0.99      0.98      0.99       199\n",
            "          15       0.99      0.99      0.99       295\n",
            "          16       1.00      1.00      1.00       200\n",
            "          17       0.99      1.00      1.00       200\n",
            "          18       1.00      0.93      0.97        30\n",
            "          19       1.00      1.00      1.00       221\n",
            "          20       1.00      1.00      1.00        91\n",
            "\n",
            "    accuracy                           0.99      3830\n",
            "   macro avg       0.99      0.99      0.99      3830\n",
            "weighted avg       0.99      0.99      0.99      3830\n",
            "\n"
          ],
          "name": "stdout"
        },
        {
          "output_type": "display_data",
          "data": {
            "image/png": "[encoded data removed]",
            "text/plain": [
              "<Figure size 1944x936 with 2 Axes>"
            ]
          },
          "metadata": {
            "tags": [],
            "needs_background": "light"
          }
        }
      ]
    },
    {
      "cell_type": "code",
      "metadata": {
        "colab": {
          "base_uri": "https://localhost:8080/",
          "height": 669
        },
        "id": "sQUj1xa3wuKg",
        "outputId": "bb752420-7bcc-442b-e54c-4a15d1d02a81"
      },
      "source": [
        "class_acc"
      ],
      "execution_count": 28,
      "outputs": [
        {
          "output_type": "execute_result",
          "data": {
            "text/html": [
              "<div>\n",
              "<style scoped>\n",
              "    .dataframe tbody tr th:only-of-type {\n",
              "        vertical-align: middle;\n",
              "    }\n",
              "\n",
              "    .dataframe tbody tr th {\n",
              "        vertical-align: top;\n",
              "    }\n",
              "\n",
              "    .dataframe thead th {\n",
              "        text-align: right;\n",
              "    }\n",
              "</style>\n",
              "<table border=\"1\" class=\"dataframe\">\n",
              "  <thead>\n",
              "    <tr style=\"text-align: right;\">\n",
              "      <th></th>\n",
              "      <th>Label</th>\n",
              "      <th>Accuracy</th>\n",
              "    </tr>\n",
              "  </thead>\n",
              "  <tbody>\n",
              "    <tr>\n",
              "      <th>0</th>\n",
              "      <td>Apple___Cedar_apple_rust</td>\n",
              "      <td>99.206349</td>\n",
              "    </tr>\n",
              "    <tr>\n",
              "      <th>1</th>\n",
              "      <td>Cherry___Powdery_mildew</td>\n",
              "      <td>100.000000</td>\n",
              "    </tr>\n",
              "    <tr>\n",
              "      <th>2</th>\n",
              "      <td>Corn___healthy</td>\n",
              "      <td>96.363636</td>\n",
              "    </tr>\n",
              "    <tr>\n",
              "      <th>3</th>\n",
              "      <td>Corn___Northern_Leaf_Blight</td>\n",
              "      <td>99.696049</td>\n",
              "    </tr>\n",
              "    <tr>\n",
              "      <th>4</th>\n",
              "      <td>Corn___Common_rust</td>\n",
              "      <td>100.000000</td>\n",
              "    </tr>\n",
              "    <tr>\n",
              "      <th>5</th>\n",
              "      <td>Cherry___healthy</td>\n",
              "      <td>99.411765</td>\n",
              "    </tr>\n",
              "    <tr>\n",
              "      <th>6</th>\n",
              "      <td>Apple___Black_rot</td>\n",
              "      <td>95.098039</td>\n",
              "    </tr>\n",
              "    <tr>\n",
              "      <th>7</th>\n",
              "      <td>Apple___Apple_scab</td>\n",
              "      <td>100.000000</td>\n",
              "    </tr>\n",
              "    <tr>\n",
              "      <th>8</th>\n",
              "      <td>Apple___healthy</td>\n",
              "      <td>95.431472</td>\n",
              "    </tr>\n",
              "    <tr>\n",
              "      <th>9</th>\n",
              "      <td>Corn___Cercospora_leaf_spot Gray_leaf_spot</td>\n",
              "      <td>100.000000</td>\n",
              "    </tr>\n",
              "    <tr>\n",
              "      <th>10</th>\n",
              "      <td>Potato___healthy</td>\n",
              "      <td>99.576271</td>\n",
              "    </tr>\n",
              "    <tr>\n",
              "      <th>11</th>\n",
              "      <td>Pepper,_bell___Bacterial_spot</td>\n",
              "      <td>97.826087</td>\n",
              "    </tr>\n",
              "    <tr>\n",
              "      <th>12</th>\n",
              "      <td>Potato___Early_blight</td>\n",
              "      <td>100.000000</td>\n",
              "    </tr>\n",
              "    <tr>\n",
              "      <th>13</th>\n",
              "      <td>Strawberry___healthy</td>\n",
              "      <td>100.000000</td>\n",
              "    </tr>\n",
              "    <tr>\n",
              "      <th>14</th>\n",
              "      <td>Pepper,_bell___healthy</td>\n",
              "      <td>98.492462</td>\n",
              "    </tr>\n",
              "    <tr>\n",
              "      <th>15</th>\n",
              "      <td>Grape___Leaf_blight_(Isariopsis_Leaf_Spot)</td>\n",
              "      <td>98.644068</td>\n",
              "    </tr>\n",
              "    <tr>\n",
              "      <th>16</th>\n",
              "      <td>Potato___Late_blight</td>\n",
              "      <td>100.000000</td>\n",
              "    </tr>\n",
              "    <tr>\n",
              "      <th>17</th>\n",
              "      <td>Grape___healthy</td>\n",
              "      <td>100.000000</td>\n",
              "    </tr>\n",
              "    <tr>\n",
              "      <th>18</th>\n",
              "      <td>Grape___Black_rot</td>\n",
              "      <td>93.333333</td>\n",
              "    </tr>\n",
              "    <tr>\n",
              "      <th>19</th>\n",
              "      <td>Grape___Esca_(Black_Measles)</td>\n",
              "      <td>99.547511</td>\n",
              "    </tr>\n",
              "    <tr>\n",
              "      <th>20</th>\n",
              "      <td>Strawberry___Leaf_scorch</td>\n",
              "      <td>100.000000</td>\n",
              "    </tr>\n",
              "  </tbody>\n",
              "</table>\n",
              "</div>"
            ],
            "text/plain": [
              "                                         Label    Accuracy\n",
              "0                     Apple___Cedar_apple_rust   99.206349\n",
              "1                      Cherry___Powdery_mildew  100.000000\n",
              "2                               Corn___healthy   96.363636\n",
              "3                  Corn___Northern_Leaf_Blight   99.696049\n",
              "4                           Corn___Common_rust  100.000000\n",
              "5                             Cherry___healthy   99.411765\n",
              "6                            Apple___Black_rot   95.098039\n",
              "7                           Apple___Apple_scab  100.000000\n",
              "8                              Apple___healthy   95.431472\n",
              "9   Corn___Cercospora_leaf_spot Gray_leaf_spot  100.000000\n",
              "10                            Potato___healthy   99.576271\n",
              "11               Pepper,_bell___Bacterial_spot   97.826087\n",
              "12                       Potato___Early_blight  100.000000\n",
              "13                        Strawberry___healthy  100.000000\n",
              "14                      Pepper,_bell___healthy   98.492462\n",
              "15  Grape___Leaf_blight_(Isariopsis_Leaf_Spot)   98.644068\n",
              "16                        Potato___Late_blight  100.000000\n",
              "17                             Grape___healthy  100.000000\n",
              "18                           Grape___Black_rot   93.333333\n",
              "19                Grape___Esca_(Black_Measles)   99.547511\n",
              "20                    Strawberry___Leaf_scorch  100.000000"
            ]
          },
          "metadata": {
            "tags": []
          },
          "execution_count": 28
        }
      ]
    },
    {
      "cell_type": "markdown",
      "metadata": {
        "id": "dmtZFJK6azf5"
      },
      "source": [
        "Class 별로 살펴보기 이전에 ResNet50을 transfer learning을 시킨 결과 전체 예측값의 Accuracy가 Baseline보다 10% 이상 증가한 것으로 보아 단편적으로만 보아도 더 성능이 좋다는 것을 확인할 수 있다. <br>\n",
        "동일하게 Classification Report, Heatmap, Class 별 Accuracy를 출력해 Accuracy, Precision, Recall, F1-score를 살펴 보았을 때 모든 지표에서 100%를 보이는 class들도 확인되었으며, 각 class 별 f1-score 위주로 보았을 때에도(특히 2번과 18번 class) 이전과 달리 data imbalance에 의한 현상은 많이 해결된 것으로 보여진다. "
      ]
    }
  ]
}
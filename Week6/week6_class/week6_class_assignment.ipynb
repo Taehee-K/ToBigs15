{
 "metadata": {
  "language_info": {
   "codemirror_mode": {
    "name": "ipython",
    "version": 3
   },
   "file_extension": ".py",
   "mimetype": "text/x-python",
   "name": "python",
   "nbconvert_exporter": "python",
   "pygments_lexer": "ipython3",
   "version": "3.8.5-final"
  },
  "orig_nbformat": 2,
  "kernelspec": {
   "name": "python3",
   "display_name": "Python 3.8.5 64-bit (conda)",
   "metadata": {
    "interpreter": {
     "hash": "6d46af94c2bbce495f1e668725902fa517c90b1782bcfe2fce0dd9868df553d3"
    }
   }
  }
 },
 "nbformat": 4,
 "nbformat_minor": 2,
 "cells": [
  {
   "source": [
    "# Week6 Class 과제\n",
    "\n"
   ],
   "cell_type": "markdown",
   "metadata": {}
  },
  {
   "cell_type": "code",
   "execution_count": 9,
   "metadata": {},
   "outputs": [],
   "source": [
    "class StringInst:\n",
    "    def __init__(self, serial_no = \"Vln101\", size = \"4/4\", country = \"Germany\"):\n",
    "        self.serial_no = serial_no\n",
    "        self.size = size\n",
    "        self.country = country\n",
    "\n",
    "    def ShowInfo(self):\n",
    "        print(\"serial_no:\", self.serial_no)\n",
    "        print(\"size:\", self.size)\n",
    "        print(\"country:\", self.country)\n",
    "\n",
    "    class StringSpec:\n",
    "        def __init__(self, age = \"2\", state = \"New\", last_owner = \"None\", price = 100000):\n",
    "            self.age = age\n",
    "            self.state = state\n",
    "            self.last_owner = last_owner\n",
    "            self.price = price\n",
    "\n",
    "        def change_age(self, new_age):\n",
    "            self.age = new_age\n",
    "            print(\"악기의 연수가 %d로 변경되었습니다\"%(self.age))\n",
    "\n",
    "        def change_state(self, new_state):\n",
    "            self.state = new_state\n",
    "            print(\"악기의 상태가\", self.state, \"로 변경되었습니다.\")\n",
    "\n",
    "        def change_price(self, new_price):\n",
    "            self.price = new_price\n",
    "            print(\"가격이\",self.price, \"으로 변경되었습니다.\")\n",
    "\n",
    "        def change_state(self, new_state):\n",
    "            self.state = new_state\n",
    "            print(\"상태가\", self.state,\"으로 변경되었습니다.\")\n",
    "\n",
    "        def ShowInfo(self):\n",
    "            print(\"age:\", self.age)\n",
    "            print(\"state:\", self.state)\n",
    "            print(\"last_owner:\", self.last_owner)\n",
    "            print(\"price:\", self.price)\n",
    "\n",
    "        "
   ]
  },
  {
   "cell_type": "code",
   "execution_count": 10,
   "metadata": {},
   "outputs": [],
   "source": [
    "MyViolin = StringInst(size = \"4/4\", country = \"Italy\")"
   ]
  },
  {
   "cell_type": "code",
   "execution_count": 11,
   "metadata": {},
   "outputs": [],
   "source": [
    "MyViolinSpec = MyViolin.StringSpec(state = \"Used\", price = 500000)"
   ]
  },
  {
   "cell_type": "code",
   "execution_count": 12,
   "metadata": {},
   "outputs": [
    {
     "output_type": "stream",
     "name": "stdout",
     "text": [
      "serial_no: Vln101\nsize: 4/4\ncountry: Italy\n"
     ]
    }
   ],
   "source": [
    "MyViolin.ShowInfo()"
   ]
  },
  {
   "cell_type": "code",
   "execution_count": 13,
   "metadata": {},
   "outputs": [
    {
     "output_type": "stream",
     "name": "stdout",
     "text": [
      "age: 2\nstate: Used\nlast_owner: None\nprice: 500000\n"
     ]
    }
   ],
   "source": [
    "MyViolinSpec.ShowInfo()"
   ]
  },
  {
   "cell_type": "code",
   "execution_count": 15,
   "metadata": {},
   "outputs": [
    {
     "output_type": "stream",
     "name": "stdout",
     "text": [
      "상태가 Cracked 으로 변경되었습니다.\n"
     ]
    }
   ],
   "source": [
    "MyViolinSpec.change_state(\"Cracked\")"
   ]
  },
  {
   "cell_type": "code",
   "execution_count": null,
   "metadata": {},
   "outputs": [],
   "source": []
  },
  {
   "source": [
    "### SOLID 원칙과 Class\n",
    "\n",
    "고유 정보만을 담은 StringInst 내에 이후 변화 가능성이 있는 특성 정보들을 담은 StringSpec 부분을 따로 분리해 놓아 책임 영역을 확실시 하였다. 또한, StrinInst class는 현악기와 관련한 내용만 다루기 때문에 단일책임원칙인 SRP를 만족한다고 할 수 있다. 또한, 이후 이 class의 하위 class로 각 악기를 추가할 때 기존의 StringInst를 변경하지 않고 해당 악기의 새로운 class에 세부적인 패턴만을 재정의해서 사용할 수 있으므로 개방 폐쇄 원칙인 OCP를 만족한다고 볼 수 있다. 위의 클래스에서는 자식 클래스가 없어 LSP를 준수하는지 확인할 수 없다. StringSpec 클래스는 StringInst 클래스 내부에 위치하지만 하는 역할이 분리되어 있으므로 인터페이스 분리의 원칙인 ISP를 만족한다고 볼 수 있다. 마지막으로, 해당 코드에는 의존성이 있는 class들이 정의되지 않았기 때문에 "
   ],
   "cell_type": "markdown",
   "metadata": {}
  }
 ]
}
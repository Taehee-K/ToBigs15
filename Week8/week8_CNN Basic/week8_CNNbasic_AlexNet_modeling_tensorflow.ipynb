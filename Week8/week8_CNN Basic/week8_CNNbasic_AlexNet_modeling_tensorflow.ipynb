{
  "nbformat": 4,
  "nbformat_minor": 0,
  "metadata": {
    "colab": {
      "name": "week8_CNNbasic_AlexNet_modeling.ipynb",
      "provenance": [],
      "collapsed_sections": []
    },
    "kernelspec": {
      "display_name": "Python 3",
      "language": "python",
      "name": "python3"
    },
    "language_info": {
      "codemirror_mode": {
        "name": "ipython",
        "version": 3
      },
      "file_extension": ".py",
      "mimetype": "text/x-python",
      "name": "python",
      "nbconvert_exporter": "python",
      "pygments_lexer": "ipython3",
      "version": "3.8.5"
    }
  },
  "cells": [
    {
      "cell_type": "markdown",
      "metadata": {
        "id": "N1DbkY70-hcB"
      },
      "source": [
        "# CNNbasic Assignment#2\n",
        "\n",
        "# AlexNet 구현\n",
        "\n",
        "모델 구현 후 summary로 전체 모델 구조 출력과 주석으로 간단한 설명을 달아주시면 됩니다.\n",
        "\n",
        "프레임워크는 자유이고, 기본 tensforflow와 pytorch tutorial 사이트를 아래에 첨부해 드립니다.\n",
        "\n",
        "이 외 각 프레임워크 별 summary 등 추가적인 사용 방법은 구글링으로 찾아주세요!-!\n",
        "\n",
        "- Tensorflow Tutorial: https://www.tensorflow.org/tutorials?hl=ko\n",
        "\n",
        "- Pytorch Tutorial: https://tutorials.pytorch.kr/\n",
        "\n",
        "![image-2.png](attachment:image-2.png)"
      ]
    },
    {
      "cell_type": "markdown",
      "metadata": {
        "id": "0yGHLrFU8JkW"
      },
      "source": [
        "## Tensorflow(keras)"
      ]
    },
    {
      "cell_type": "code",
      "metadata": {
        "colab": {
          "base_uri": "https://localhost:8080/"
        },
        "id": "68kj2zUP80f0",
        "outputId": "38ac87aa-cfa4-4bdf-8459-8373513d3cb1"
      },
      "source": [
        "from tensorflow.keras.layers import Conv2D, MaxPooling2D,Flatten,Dense\n",
        "from tensorflow.keras.models import Sequential\n",
        "\n",
        "\n",
        "n_classes = 1000 # class 개수\n",
        "\n",
        "model=Sequential()\n",
        "\n",
        "############## Add Layer ############## ==> 총 5개의 convolutional layer + 3 fully connected layer\n",
        "# 1st conv layer -> input data 명시\n",
        "model.add(Conv2D(96,(11,11), strides = (4,4), padding = 'valid',activation = 'relu',input_shape = [227,227,3]))\n",
        "model.add(MaxPooling2D(pool_size = (3,3), strides = (2,2)))\n",
        "\n",
        "# 2nd conv layer\n",
        "model.add(Conv2D(256,(5,5), strides = (1,1), padding = 'same', activation = 'relu'))\n",
        "model.add(MaxPooling2D(pool_size = (3,3), strides = (2,2)))\n",
        "\n",
        "# 3rd conv layer\n",
        "model.add(Conv2D(384, (3,3), strides = (1,1), padding = 'same', activation = 'relu'))\n",
        "\n",
        "# 4th conv layer\n",
        "model.add(Conv2D(384, (3,3), strides = (1,1), padding = 'same', activation = 'relu'))\n",
        "\n",
        "# 5th conv layer\n",
        "model.add(Conv2D(256, (3,3), strides = (1,1), padding = 'same', activation = 'relu'))\n",
        "model.add(MaxPooling2D(pool_size = (3,3), strides = (2,2)))\n",
        "\n",
        "# 1st fully connected layer\n",
        "model.add(Flatten()) # N*9216 형태로 3차원 데이터 flatten \n",
        "model.add(Dense(4096, activation = 'relu'))\n",
        "\n",
        "# 2nd fully connected layer\n",
        "model.add(Dense(4096,activation = 'relu'))\n",
        "\n",
        "# 3rd fully connected layer\n",
        "model.add(Dense(n_classes, activation = 'softmax')) # n_classes 에 맞추어 출력 \n",
        "\n",
        "\n",
        "\n",
        "#######################################\n",
        "\n",
        "# keras summary\n",
        "model.summary() # summary code 추가\n",
        "\n",
        "# parameters 과제에서 수기로 계산한 값들과 동일하다는 것을 확인할 수 있다"
      ],
      "execution_count": 1,
      "outputs": [
        {
          "output_type": "stream",
          "text": [
            "Model: \"sequential\"\n",
            "_________________________________________________________________\n",
            "Layer (type)                 Output Shape              Param #   \n",
            "=================================================================\n",
            "conv2d (Conv2D)              (None, 55, 55, 96)        34944     \n",
            "_________________________________________________________________\n",
            "max_pooling2d (MaxPooling2D) (None, 27, 27, 96)        0         \n",
            "_________________________________________________________________\n",
            "conv2d_1 (Conv2D)            (None, 27, 27, 256)       614656    \n",
            "_________________________________________________________________\n",
            "max_pooling2d_1 (MaxPooling2 (None, 13, 13, 256)       0         \n",
            "_________________________________________________________________\n",
            "conv2d_2 (Conv2D)            (None, 13, 13, 384)       885120    \n",
            "_________________________________________________________________\n",
            "conv2d_3 (Conv2D)            (None, 13, 13, 384)       1327488   \n",
            "_________________________________________________________________\n",
            "conv2d_4 (Conv2D)            (None, 13, 13, 256)       884992    \n",
            "_________________________________________________________________\n",
            "max_pooling2d_2 (MaxPooling2 (None, 6, 6, 256)         0         \n",
            "_________________________________________________________________\n",
            "flatten (Flatten)            (None, 9216)              0         \n",
            "_________________________________________________________________\n",
            "dense (Dense)                (None, 4096)              37752832  \n",
            "_________________________________________________________________\n",
            "dense_1 (Dense)              (None, 4096)              16781312  \n",
            "_________________________________________________________________\n",
            "dense_2 (Dense)              (None, 1000)              4097000   \n",
            "=================================================================\n",
            "Total params: 62,378,344\n",
            "Trainable params: 62,378,344\n",
            "Non-trainable params: 0\n",
            "_________________________________________________________________\n"
          ],
          "name": "stdout"
        }
      ]
    },
    {
      "cell_type": "code",
      "metadata": {
        "id": "VTYcsSGREN1P"
      },
      "source": [
        ""
      ],
      "execution_count": null,
      "outputs": []
    }
  ]
}
{
 "cells": [
  {
   "cell_type": "markdown",
   "metadata": {
    "colab_type": "text",
    "id": "8HyMvTfrPTEU"
   },
   "source": [
    "#### TOBIG'S 15기 정규세션 4주차 SVM \n",
    "### ASSIGNMENT1. Multiclass SVM 구현"
   ]
  },
  {
   "cell_type": "code",
   "execution_count": 36,
   "metadata": {
    "colab": {},
    "colab_type": "code",
    "id": "lMqxwjbRNX6u",
    "outputId": "f7b6519f-9521-446b-a107-044a7113bc08"
   },
   "outputs": [
    {
     "output_type": "stream",
     "name": "stdout",
     "text": [
      "0         setosa\n1         setosa\n2         setosa\n3         setosa\n4         setosa\n         ...    \n145    virginica\n146    virginica\n147    virginica\n148    virginica\n149    virginica\nName: species, Length: 150, dtype: object\n"
     ]
    }
   ],
   "source": [
    "import numpy as np\n",
    "import pandas as pd\n",
    "import matplotlib.pyplot as plt\n",
    "import seaborn as sns\n",
    "from sklearn.svm import SVC\n",
    "from sklearn.model_selection import train_test_split\n",
    "from sklearn.pipeline import Pipeline\n",
    "from sklearn.preprocessing import StandardScaler\n",
    "\n",
    "#IRIS 데이터 로드\n",
    "iris =  sns.load_dataset('iris') \n",
    "X= iris.iloc[:,:4] #학습할데이터\n",
    "y = iris.iloc[:,-1] #타겟\n",
    "print(y)"
   ]
  },
  {
   "cell_type": "code",
   "execution_count": 37,
   "metadata": {
    "colab": {},
    "colab_type": "code",
    "id": "tm8gpfVSNX67"
   },
   "outputs": [],
   "source": [
    "scal = StandardScaler() #scaling\n",
    "X = scal.fit_transform(X)"
   ]
  },
  {
   "cell_type": "code",
   "execution_count": 38,
   "metadata": {
    "colab": {},
    "colab_type": "code",
    "id": "laRcz10bNX7C",
    "outputId": "66f6f6c2-38fb-4da2-bb76-560838244c24"
   },
   "outputs": [
    {
     "output_type": "stream",
     "name": "stdout",
     "text": [
      "0         setosa\n1         setosa\n2         setosa\n3         setosa\n4         setosa\n         ...    \n145    virginica\n146    virginica\n147    virginica\n148    virginica\n149    virginica\nName: species, Length: 150, dtype: object\n"
     ]
    }
   ],
   "source": [
    "print(y)"
   ]
  },
  {
   "cell_type": "code",
   "execution_count": 39,
   "metadata": {
    "colab": {},
    "colab_type": "code",
    "id": "d7VgXR-SNX7K"
   },
   "outputs": [],
   "source": [
    "# One VS Rest 구현을 위해 1) class가 0 or not 2)class가 1 or not을 구분하기 위한 머신 등을 미리 만들어주자\n",
    "svm_1 = SVC(kernel ='rbf', C = 5, gamma = 5)\n",
    "svm_2 = SVC(kernel ='rbf', C = 5, gamma = 5)\n",
    "svm_3 = SVC(kernel ='rbf', C = 5, gamma = 5)"
   ]
  },
  {
   "cell_type": "code",
   "execution_count": 40,
   "metadata": {
    "colab": {},
    "colab_type": "code",
    "id": "pyMSHOFHNX7R"
   },
   "outputs": [],
   "source": [
    "from sklearn.model_selection import train_test_split #test/train 데이터로 분리\n",
    "X_train, X_test, y_train, y_test = train_test_split(X, y, test_size=0.2, random_state=48)"
   ]
  },
  {
   "cell_type": "code",
   "execution_count": 41,
   "metadata": {
    "colab": {},
    "colab_type": "code",
    "id": "5KnlaqAJNX7X"
   },
   "outputs": [],
   "source": [
    "y_train = pd.get_dummies(y_train) #one hot encoding"
   ]
  },
  {
   "cell_type": "code",
   "execution_count": 42,
   "metadata": {},
   "outputs": [
    {
     "output_type": "execute_result",
     "data": {
      "text/plain": [
       "     setosa  versicolor  virginica\n",
       "110       0           0          1\n",
       "69        0           1          0\n",
       "148       0           0          1\n",
       "39        1           0          0\n",
       "53        0           1          0\n",
       "..      ...         ...        ...\n",
       "64        0           1          0\n",
       "91        0           1          0\n",
       "81        0           1          0\n",
       "51        0           1          0\n",
       "0         1           0          0\n",
       "\n",
       "[120 rows x 3 columns]"
      ],
      "text/html": "<div>\n<style scoped>\n    .dataframe tbody tr th:only-of-type {\n        vertical-align: middle;\n    }\n\n    .dataframe tbody tr th {\n        vertical-align: top;\n    }\n\n    .dataframe thead th {\n        text-align: right;\n    }\n</style>\n<table border=\"1\" class=\"dataframe\">\n  <thead>\n    <tr style=\"text-align: right;\">\n      <th></th>\n      <th>setosa</th>\n      <th>versicolor</th>\n      <th>virginica</th>\n    </tr>\n  </thead>\n  <tbody>\n    <tr>\n      <th>110</th>\n      <td>0</td>\n      <td>0</td>\n      <td>1</td>\n    </tr>\n    <tr>\n      <th>69</th>\n      <td>0</td>\n      <td>1</td>\n      <td>0</td>\n    </tr>\n    <tr>\n      <th>148</th>\n      <td>0</td>\n      <td>0</td>\n      <td>1</td>\n    </tr>\n    <tr>\n      <th>39</th>\n      <td>1</td>\n      <td>0</td>\n      <td>0</td>\n    </tr>\n    <tr>\n      <th>53</th>\n      <td>0</td>\n      <td>1</td>\n      <td>0</td>\n    </tr>\n    <tr>\n      <th>...</th>\n      <td>...</td>\n      <td>...</td>\n      <td>...</td>\n    </tr>\n    <tr>\n      <th>64</th>\n      <td>0</td>\n      <td>1</td>\n      <td>0</td>\n    </tr>\n    <tr>\n      <th>91</th>\n      <td>0</td>\n      <td>1</td>\n      <td>0</td>\n    </tr>\n    <tr>\n      <th>81</th>\n      <td>0</td>\n      <td>1</td>\n      <td>0</td>\n    </tr>\n    <tr>\n      <th>51</th>\n      <td>0</td>\n      <td>1</td>\n      <td>0</td>\n    </tr>\n    <tr>\n      <th>0</th>\n      <td>1</td>\n      <td>0</td>\n      <td>0</td>\n    </tr>\n  </tbody>\n</table>\n<p>120 rows × 3 columns</p>\n</div>"
     },
     "metadata": {},
     "execution_count": 42
    }
   ],
   "source": [
    "y_train"
   ]
  },
  {
   "cell_type": "code",
   "execution_count": 45,
   "metadata": {},
   "outputs": [
    {
     "output_type": "stream",
     "name": "stdout",
     "text": [
      "[0 0 0 0 0 0 1 0 1 0 0 1 1 0 0 0 1 0 0 0 1 0 0 0 0 1 1 0 0 0]\n[-1.12470845 -0.86326953 -0.65281099 -0.50248821 -0.76284323 -0.87465573\n  1.07709345 -0.99281647  0.47441336 -0.99842743 -0.83989348  0.15633457\n  0.32871788 -0.97965464 -0.72385083 -0.92638376  1.28322481 -0.56240455\n -0.72719892 -0.99509775  0.43166724 -0.96451557 -0.82991366 -1.03020581\n -0.75166835  1.13461335  0.39943974 -1.04194106 -0.93376548 -1.06133798]\n"
     ]
    }
   ],
   "source": [
    "svm_1.fit(X_train,y_train.iloc[:,0]) # 데이터 클레스가 0 or not 구분해주는 머신\n",
    "svm_2.fit(X_train,y_train.iloc[:,1]) # 데이터 클레스가 1 or not 구분해주는 머신\n",
    "svm_3.fit(X_train,y_train.iloc[:,2]) # 데이터 클레스가 2 or not 구분해주는 머신\n",
    "print(svm_1.predict(X_test)) #데이터 클래스가 0 or not을 구분해주는 애를 통해서 테스트 데이터의 클래스가 0인지, 0이 아닌인지 예측해보자\n",
    "\n",
    "print(svm_1.decision_function(X_test)) #decision_function hyperplane과의 거리를 구하는 방법(필요하다면 활용해주세요!)"
   ]
  },
  {
   "cell_type": "code",
   "execution_count": 46,
   "metadata": {
    "colab": {},
    "colab_type": "code",
    "id": "sCR46aMrNX7p",
    "outputId": "ec7adcec-d0e8-4dd8-f2df-4cd063a19867"
   },
   "outputs": [
    {
     "output_type": "stream",
     "name": "stdout",
     "text": [
      "3\n17\n18\n"
     ]
    }
   ],
   "source": [
    "# 부호가 모든 같은 경우가 있는가? > 모두 동점인 경우가 생길 것\n",
    "for i in range(len(X_test)):\n",
    "    # ~. decision_function을 이용하면 해당 데이터가 하이퍼플레인으로부터 얼마나 떨어져있는지 '거리'가 나온다!\n",
    "    # 다음은 그 값의 부호를 이용해 모두가 동점인 경우가 있는지 출력하는 함수 \n",
    "    if (np.sign(svm_1.decision_function(X_test)[i]) == np.sign(svm_2.decision_function(X_test)[i]))\\\n",
    "    and (np.sign(svm_2.decision_function(X_test)[i]) == np.sign(svm_3.decision_function(X_test)[i])):\n",
    "        print(i)"
   ]
  },
  {
   "cell_type": "code",
   "execution_count": 44,
   "metadata": {
    "colab": {},
    "colab_type": "code",
    "id": "VkAo03i-NX7v",
    "outputId": "25c3ce22-2796-4415-8946-7577e2442259"
   },
   "outputs": [],
   "source": [
    "## Case 1 : One vs Rest SVM을 이부분에 구현해주세요 위 결과들을 이용해서 multi class SVM을 직접 구현해주세요! 하드코딩이 하시기 편할겁니다.\n"
   ]
  },
  {
   "cell_type": "code",
   "execution_count": 26,
   "metadata": {},
   "outputs": [],
   "source": [
    "result1 = svm_1.decision_function(X_test)   #setosa\n",
    "result2 = svm_2.decision_function(X_test)   #versicolor\n",
    "result3 = svm_3.decision_function(X_test)   #virginica"
   ]
  },
  {
   "cell_type": "code",
   "execution_count": 27,
   "metadata": {},
   "outputs": [
    {
     "output_type": "execute_result",
     "data": {
      "text/plain": [
       "array([-1.12470845, -0.86326953, -0.65281099, -0.50248821, -0.76284323,\n",
       "       -0.87465573,  1.07709345, -0.99281647,  0.47441336, -0.99842743,\n",
       "       -0.83989348,  0.15633457,  0.32871788, -0.97965464, -0.72385083,\n",
       "       -0.92638376,  1.28322481, -0.56240455, -0.72719892, -0.99509775,\n",
       "        0.43166724, -0.96451557, -0.82991366, -1.03020581, -0.75166835,\n",
       "        1.13461335,  0.39943974, -1.04194106, -0.93376548, -1.06133798])"
      ]
     },
     "metadata": {},
     "execution_count": 27
    }
   ],
   "source": [
    "result1"
   ]
  },
  {
   "cell_type": "code",
   "execution_count": 28,
   "metadata": {},
   "outputs": [
    {
     "output_type": "execute_result",
     "data": {
      "text/plain": [
       "array([ 1.36054602,  0.62859488,  0.0580828 , -0.36987093, -0.25686625,\n",
       "       -0.79229874, -1.03195247, -0.87132049, -0.77957234,  0.99327762,\n",
       "       -0.73309581, -0.64607768, -0.71843897, -0.80882458,  0.47748663,\n",
       "        0.69953462, -1.11879121, -0.1870504 , -0.24458236, -0.99337352,\n",
       "       -0.76149141, -0.96812018,  0.11310267,  1.06892719, -0.56749692,\n",
       "       -1.05639624, -0.74817515, -1.0537858 , -0.89721836,  1.17126024])"
      ]
     },
     "metadata": {},
     "execution_count": 28
    }
   ],
   "source": [
    "result2"
   ]
  },
  {
   "cell_type": "code",
   "execution_count": 29,
   "metadata": {},
   "outputs": [
    {
     "output_type": "execute_result",
     "data": {
      "text/plain": [
       "array([-1.26277651, -0.77964936, -0.40539105, -0.13070947,  0.02643314,\n",
       "        0.57365649, -1.04443118,  0.88027844, -0.69605517, -0.99074328,\n",
       "        0.52442024, -0.51171892, -0.61157919,  0.78148257, -0.75517707,\n",
       "       -0.76905925, -1.16380018, -0.25333938, -0.0251979 ,  0.98843144,\n",
       "       -0.67129528,  0.89577306, -0.30363489, -1.03647008,  0.31622662,\n",
       "       -1.07758405, -0.65251719,  1.09632055,  0.85541707, -1.11042784])"
      ]
     },
     "metadata": {},
     "execution_count": 29
    }
   ],
   "source": [
    "result3"
   ]
  },
  {
   "cell_type": "code",
   "execution_count": 30,
   "metadata": {},
   "outputs": [],
   "source": [
    "result = [] #결과값 저장할 list\n",
    "for i in range(X_test.shape[0]):\n",
    "    if result1[i]==max(result1[i], result2[i], result3[i]):\n",
    "        result.append('setosa')\n",
    "    elif result2[i]==max(result1[i], result2[i], result3[i]):\n",
    "        result.append('versicolor')\n",
    "    elif result3[i]==max(result1[i], result2[i], result3[i]):\n",
    "        result.append('virginica')"
   ]
  },
  {
   "cell_type": "code",
   "execution_count": 31,
   "metadata": {},
   "outputs": [
    {
     "output_type": "execute_result",
     "data": {
      "text/plain": [
       "['versicolor',\n",
       " 'versicolor',\n",
       " 'versicolor',\n",
       " 'virginica',\n",
       " 'virginica',\n",
       " 'virginica',\n",
       " 'setosa',\n",
       " 'virginica',\n",
       " 'setosa',\n",
       " 'versicolor',\n",
       " 'virginica',\n",
       " 'setosa',\n",
       " 'setosa',\n",
       " 'virginica',\n",
       " 'versicolor',\n",
       " 'versicolor',\n",
       " 'setosa',\n",
       " 'versicolor',\n",
       " 'virginica',\n",
       " 'virginica',\n",
       " 'setosa',\n",
       " 'virginica',\n",
       " 'versicolor',\n",
       " 'versicolor',\n",
       " 'virginica',\n",
       " 'setosa',\n",
       " 'setosa',\n",
       " 'virginica',\n",
       " 'virginica',\n",
       " 'versicolor']"
      ]
     },
     "metadata": {},
     "execution_count": 31
    }
   ],
   "source": [
    "result"
   ]
  },
  {
   "cell_type": "code",
   "execution_count": 47,
   "metadata": {},
   "outputs": [
    {
     "output_type": "stream",
     "name": "stdout",
     "text": [
      "accuracy:  0.8666666666666667\n"
     ]
    }
   ],
   "source": [
    "from sklearn.metrics import accuracy_score\n",
    "print(\"accuracy: \",accuracy_score(y_test, result))"
   ]
  },
  {
   "cell_type": "code",
   "execution_count": null,
   "metadata": {},
   "outputs": [],
   "source": []
  },
  {
   "cell_type": "code",
   "execution_count": null,
   "metadata": {
    "colab": {},
    "colab_type": "code",
    "id": "gZ71EIvQNX71",
    "outputId": "4caa84f8-979e-43d8-87fd-5f7c97d9d440"
   },
   "outputs": [
    {
     "name": "stdout",
     "output_type": "stream",
     "text": [
      "['versicolor', 'versicolor', 'versicolor', 'virginica', 'virginica', 'virginica', 'setosa', 'virginica', 'setosa', 'versicolor', 'virginica', 'setosa', 'setosa', 'virginica', 'versicolor', 'versicolor', 'setosa', 'versicolor', 'virginica', 'virginica', 'setosa', 'virginica', 'versicolor', 'versicolor', 'virginica', 'setosa', 'setosa', 'virginica', 'virginica', 'versicolor']\n"
     ]
    },
    {
     "data": {
      "text/plain": [
       "0.8666666666666667"
      ]
     },
     "execution_count": 10,
     "metadata": {
      "tags": []
     },
     "output_type": "execute_result"
    }
   ],
   "source": [
    "# Case 2 : One vs One SVM을 이 부분에 구현해주세요. (선택사항)\n"
   ]
  },
  {
   "cell_type": "code",
   "execution_count": 49,
   "metadata": {
    "colab": {},
    "colab_type": "code",
    "id": "LlVlC9l9NX77",
    "outputId": "46f7603d-a673-498e-8a9e-a0cb79cc9468"
   },
   "outputs": [
    {
     "output_type": "execute_result",
     "data": {
      "text/plain": [
       "0.8333333333333334"
      ]
     },
     "metadata": {},
     "execution_count": 49
    }
   ],
   "source": [
    "# 원래 라이브러리가 제공하는 multi class SVM과 여러분이 구현한 multiclass SVM 결과를 비교해주세요\n",
    "from sklearn.model_selection import train_test_split #데이터셋 분리\n",
    "from sklearn import metrics\n",
    "X_train_2, X_test_2, y_train_2, y_test_2 = train_test_split(X, y, test_size=0.2, random_state=48)\n",
    "\n",
    "svm_4 = SVC(kernel ='rbf', C = 5, gamma = 5)\n",
    "svm_4.fit(X_train_2, y_train_2)\n",
    "y_pred = svm_4.predict(X_test_2)\n",
    "\n",
    "metrics.accuracy_score(y_test_2,y_pred)"
   ]
  },
  {
   "cell_type": "code",
   "execution_count": null,
   "metadata": {},
   "outputs": [],
   "source": []
  }
 ],
 "metadata": {
  "colab": {
   "name": "assignment_1.ipynb",
   "provenance": []
  },
  "file_extension": ".py",
  "kernelspec": {
   "display_name": "Python 3",
   "language": "python",
   "name": "python3"
  },
  "language_info": {
   "codemirror_mode": {
    "name": "ipython",
    "version": 3
   },
   "file_extension": ".py",
   "mimetype": "text/x-python",
   "name": "python",
   "nbconvert_exporter": "python",
   "pygments_lexer": "ipython3",
   "version": "3.8.5-final"
  },
  "mimetype": "text/x-python",
  "name": "python",
  "npconvert_exporter": "python",
  "pygments_lexer": "ipython3",
  "version": 3
 },
 "nbformat": 4,
 "nbformat_minor": 1
}